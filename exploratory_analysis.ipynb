{
  "nbformat": 4,
  "nbformat_minor": 0,
  "metadata": {
    "colab": {
      "name": "exploratory_analysis.ipynb",
      "provenance": [],
      "collapsed_sections": [],
      "mount_file_id": "https://github.com/david-garza/final_project/blob/exploratory/exploratory_analysis.ipynb",
      "authorship_tag": "ABX9TyOllP50RvwPzn1koJyW9aE9",
      "include_colab_link": true
    },
    "kernelspec": {
      "name": "python3",
      "display_name": "Python 3"
    },
    "language_info": {
      "name": "python"
    }
  },
  "cells": [
    {
      "cell_type": "markdown",
      "metadata": {
        "id": "view-in-github",
        "colab_type": "text"
      },
      "source": [
        "<a href=\"https://colab.research.google.com/github/david-garza/final_project/blob/exploratory/exploratory_analysis.ipynb\" target=\"_parent\"><img src=\"https://colab.research.google.com/assets/colab-badge.svg\" alt=\"Open In Colab\"/></a>"
      ]
    },
    {
      "cell_type": "markdown",
      "source": [
        "# Quick Analysis of CSV Data from BEACON and National Weather Service"
      ],
      "metadata": {
        "id": "yyb5obJayxMt"
      }
    },
    {
      "cell_type": "markdown",
      "source": [
        "## Beach Attributes File"
      ],
      "metadata": {
        "id": "Hts9j5WR7InX"
      }
    },
    {
      "cell_type": "code",
      "execution_count": 3,
      "metadata": {
        "id": "X4eydd8cyXsy"
      },
      "outputs": [],
      "source": [
        "import pandas as pd"
      ]
    },
    {
      "cell_type": "code",
      "source": [
        "beach_attr_df = pd.read_csv(\"/content/drive/MyDrive/Project/Data/Beach/Beach_Attributes.csv\")"
      ],
      "metadata": {
        "id": "5m84moZPzOEe"
      },
      "execution_count": 26,
      "outputs": []
    },
    {
      "cell_type": "code",
      "source": [
        "beach_attr_df.head()"
      ],
      "metadata": {
        "colab": {
          "base_uri": "https://localhost:8080/",
          "height": 354
        },
        "id": "P1-aAkCh0D9F",
        "outputId": "06081baa-e3bc-4c71-8981-5cc103c5f52f"
      },
      "execution_count": 5,
      "outputs": [
        {
          "output_type": "execute_result",
          "data": {
            "text/plain": [
              "  State  Year  Beach ID   Beach Name     County  \\\n",
              "0    TX  2022  TX710697     25th St.  GALVESTON   \n",
              "1    TX  2022  TX214299     45th St.  GALVESTON   \n",
              "2    TX  2022  TX486021     61st St.  GALVESTON   \n",
              "3    TX  2022  TX327206  Appfel Park  GALVESTON   \n",
              "4    TX  2022  TX940700       Caplen  GALVESTON   \n",
              "\n",
              "  Beach Ownership/Beach Accessibility   BeachLength (Mi)  Tier  \\\n",
              "0                        Public/Public              1.80     1   \n",
              "1                        Public/Public              1.55     1   \n",
              "2                        Public/Public              1.04     1   \n",
              "3                        Public/Public              2.06     1   \n",
              "4                        Public/Public              1.46     2   \n",
              "\n",
              "   Start Latitude  Start Longitude  End Latitude  End Longitude  \\\n",
              "0       29.298146       -94.777565     29.284662     -94.794776   \n",
              "1       29.284667       -94.794770     29.271917     -94.815865   \n",
              "2       29.271922       -94.815859     29.264091     -94.830244   \n",
              "3       29.337451       -94.733010     29.324250     -94.739129   \n",
              "4       29.503046       -94.510477     29.494188     -94.532478   \n",
              "\n",
              "   Waterbody Name Waterbody Type  AdvisoryReportingFrequency(to EPA)  \\\n",
              "0  Gulf of Mexico     Open Coast                                 1.0   \n",
              "1  Gulf of Mexico     Open Coast                                 1.0   \n",
              "2  Gulf of Mexico     Open Coast                                 1.0   \n",
              "3  Gulf of Mexico     Open Coast                                 1.0   \n",
              "4  Gulf of Mexico     Open Coast                                 1.0   \n",
              "\n",
              "  AdvisoryReportingFrequencyUnits  \n",
              "0                        PER_YEAR  \n",
              "1                        PER_YEAR  \n",
              "2                        PER_YEAR  \n",
              "3                        PER_YEAR  \n",
              "4                        PER_YEAR  "
            ],
            "text/html": [
              "\n",
              "  <div id=\"df-54f0c579-72bc-42cb-b006-b4ef25a5032c\">\n",
              "    <div class=\"colab-df-container\">\n",
              "      <div>\n",
              "<style scoped>\n",
              "    .dataframe tbody tr th:only-of-type {\n",
              "        vertical-align: middle;\n",
              "    }\n",
              "\n",
              "    .dataframe tbody tr th {\n",
              "        vertical-align: top;\n",
              "    }\n",
              "\n",
              "    .dataframe thead th {\n",
              "        text-align: right;\n",
              "    }\n",
              "</style>\n",
              "<table border=\"1\" class=\"dataframe\">\n",
              "  <thead>\n",
              "    <tr style=\"text-align: right;\">\n",
              "      <th></th>\n",
              "      <th>State</th>\n",
              "      <th>Year</th>\n",
              "      <th>Beach ID</th>\n",
              "      <th>Beach Name</th>\n",
              "      <th>County</th>\n",
              "      <th>Beach Ownership/Beach Accessibility</th>\n",
              "      <th>BeachLength (Mi)</th>\n",
              "      <th>Tier</th>\n",
              "      <th>Start Latitude</th>\n",
              "      <th>Start Longitude</th>\n",
              "      <th>End Latitude</th>\n",
              "      <th>End Longitude</th>\n",
              "      <th>Waterbody Name</th>\n",
              "      <th>Waterbody Type</th>\n",
              "      <th>AdvisoryReportingFrequency(to EPA)</th>\n",
              "      <th>AdvisoryReportingFrequencyUnits</th>\n",
              "    </tr>\n",
              "  </thead>\n",
              "  <tbody>\n",
              "    <tr>\n",
              "      <th>0</th>\n",
              "      <td>TX</td>\n",
              "      <td>2022</td>\n",
              "      <td>TX710697</td>\n",
              "      <td>25th St.</td>\n",
              "      <td>GALVESTON</td>\n",
              "      <td>Public/Public</td>\n",
              "      <td>1.80</td>\n",
              "      <td>1</td>\n",
              "      <td>29.298146</td>\n",
              "      <td>-94.777565</td>\n",
              "      <td>29.284662</td>\n",
              "      <td>-94.794776</td>\n",
              "      <td>Gulf of Mexico</td>\n",
              "      <td>Open Coast</td>\n",
              "      <td>1.0</td>\n",
              "      <td>PER_YEAR</td>\n",
              "    </tr>\n",
              "    <tr>\n",
              "      <th>1</th>\n",
              "      <td>TX</td>\n",
              "      <td>2022</td>\n",
              "      <td>TX214299</td>\n",
              "      <td>45th St.</td>\n",
              "      <td>GALVESTON</td>\n",
              "      <td>Public/Public</td>\n",
              "      <td>1.55</td>\n",
              "      <td>1</td>\n",
              "      <td>29.284667</td>\n",
              "      <td>-94.794770</td>\n",
              "      <td>29.271917</td>\n",
              "      <td>-94.815865</td>\n",
              "      <td>Gulf of Mexico</td>\n",
              "      <td>Open Coast</td>\n",
              "      <td>1.0</td>\n",
              "      <td>PER_YEAR</td>\n",
              "    </tr>\n",
              "    <tr>\n",
              "      <th>2</th>\n",
              "      <td>TX</td>\n",
              "      <td>2022</td>\n",
              "      <td>TX486021</td>\n",
              "      <td>61st St.</td>\n",
              "      <td>GALVESTON</td>\n",
              "      <td>Public/Public</td>\n",
              "      <td>1.04</td>\n",
              "      <td>1</td>\n",
              "      <td>29.271922</td>\n",
              "      <td>-94.815859</td>\n",
              "      <td>29.264091</td>\n",
              "      <td>-94.830244</td>\n",
              "      <td>Gulf of Mexico</td>\n",
              "      <td>Open Coast</td>\n",
              "      <td>1.0</td>\n",
              "      <td>PER_YEAR</td>\n",
              "    </tr>\n",
              "    <tr>\n",
              "      <th>3</th>\n",
              "      <td>TX</td>\n",
              "      <td>2022</td>\n",
              "      <td>TX327206</td>\n",
              "      <td>Appfel Park</td>\n",
              "      <td>GALVESTON</td>\n",
              "      <td>Public/Public</td>\n",
              "      <td>2.06</td>\n",
              "      <td>1</td>\n",
              "      <td>29.337451</td>\n",
              "      <td>-94.733010</td>\n",
              "      <td>29.324250</td>\n",
              "      <td>-94.739129</td>\n",
              "      <td>Gulf of Mexico</td>\n",
              "      <td>Open Coast</td>\n",
              "      <td>1.0</td>\n",
              "      <td>PER_YEAR</td>\n",
              "    </tr>\n",
              "    <tr>\n",
              "      <th>4</th>\n",
              "      <td>TX</td>\n",
              "      <td>2022</td>\n",
              "      <td>TX940700</td>\n",
              "      <td>Caplen</td>\n",
              "      <td>GALVESTON</td>\n",
              "      <td>Public/Public</td>\n",
              "      <td>1.46</td>\n",
              "      <td>2</td>\n",
              "      <td>29.503046</td>\n",
              "      <td>-94.510477</td>\n",
              "      <td>29.494188</td>\n",
              "      <td>-94.532478</td>\n",
              "      <td>Gulf of Mexico</td>\n",
              "      <td>Open Coast</td>\n",
              "      <td>1.0</td>\n",
              "      <td>PER_YEAR</td>\n",
              "    </tr>\n",
              "  </tbody>\n",
              "</table>\n",
              "</div>\n",
              "      <button class=\"colab-df-convert\" onclick=\"convertToInteractive('df-54f0c579-72bc-42cb-b006-b4ef25a5032c')\"\n",
              "              title=\"Convert this dataframe to an interactive table.\"\n",
              "              style=\"display:none;\">\n",
              "        \n",
              "  <svg xmlns=\"http://www.w3.org/2000/svg\" height=\"24px\"viewBox=\"0 0 24 24\"\n",
              "       width=\"24px\">\n",
              "    <path d=\"M0 0h24v24H0V0z\" fill=\"none\"/>\n",
              "    <path d=\"M18.56 5.44l.94 2.06.94-2.06 2.06-.94-2.06-.94-.94-2.06-.94 2.06-2.06.94zm-11 1L8.5 8.5l.94-2.06 2.06-.94-2.06-.94L8.5 2.5l-.94 2.06-2.06.94zm10 10l.94 2.06.94-2.06 2.06-.94-2.06-.94-.94-2.06-.94 2.06-2.06.94z\"/><path d=\"M17.41 7.96l-1.37-1.37c-.4-.4-.92-.59-1.43-.59-.52 0-1.04.2-1.43.59L10.3 9.45l-7.72 7.72c-.78.78-.78 2.05 0 2.83L4 21.41c.39.39.9.59 1.41.59.51 0 1.02-.2 1.41-.59l7.78-7.78 2.81-2.81c.8-.78.8-2.07 0-2.86zM5.41 20L4 18.59l7.72-7.72 1.47 1.35L5.41 20z\"/>\n",
              "  </svg>\n",
              "      </button>\n",
              "      \n",
              "  <style>\n",
              "    .colab-df-container {\n",
              "      display:flex;\n",
              "      flex-wrap:wrap;\n",
              "      gap: 12px;\n",
              "    }\n",
              "\n",
              "    .colab-df-convert {\n",
              "      background-color: #E8F0FE;\n",
              "      border: none;\n",
              "      border-radius: 50%;\n",
              "      cursor: pointer;\n",
              "      display: none;\n",
              "      fill: #1967D2;\n",
              "      height: 32px;\n",
              "      padding: 0 0 0 0;\n",
              "      width: 32px;\n",
              "    }\n",
              "\n",
              "    .colab-df-convert:hover {\n",
              "      background-color: #E2EBFA;\n",
              "      box-shadow: 0px 1px 2px rgba(60, 64, 67, 0.3), 0px 1px 3px 1px rgba(60, 64, 67, 0.15);\n",
              "      fill: #174EA6;\n",
              "    }\n",
              "\n",
              "    [theme=dark] .colab-df-convert {\n",
              "      background-color: #3B4455;\n",
              "      fill: #D2E3FC;\n",
              "    }\n",
              "\n",
              "    [theme=dark] .colab-df-convert:hover {\n",
              "      background-color: #434B5C;\n",
              "      box-shadow: 0px 1px 3px 1px rgba(0, 0, 0, 0.15);\n",
              "      filter: drop-shadow(0px 1px 2px rgba(0, 0, 0, 0.3));\n",
              "      fill: #FFFFFF;\n",
              "    }\n",
              "  </style>\n",
              "\n",
              "      <script>\n",
              "        const buttonEl =\n",
              "          document.querySelector('#df-54f0c579-72bc-42cb-b006-b4ef25a5032c button.colab-df-convert');\n",
              "        buttonEl.style.display =\n",
              "          google.colab.kernel.accessAllowed ? 'block' : 'none';\n",
              "\n",
              "        async function convertToInteractive(key) {\n",
              "          const element = document.querySelector('#df-54f0c579-72bc-42cb-b006-b4ef25a5032c');\n",
              "          const dataTable =\n",
              "            await google.colab.kernel.invokeFunction('convertToInteractive',\n",
              "                                                     [key], {});\n",
              "          if (!dataTable) return;\n",
              "\n",
              "          const docLinkHtml = 'Like what you see? Visit the ' +\n",
              "            '<a target=\"_blank\" href=https://colab.research.google.com/notebooks/data_table.ipynb>data table notebook</a>'\n",
              "            + ' to learn more about interactive tables.';\n",
              "          element.innerHTML = '';\n",
              "          dataTable['output_type'] = 'display_data';\n",
              "          await google.colab.output.renderOutput(dataTable, element);\n",
              "          const docLink = document.createElement('div');\n",
              "          docLink.innerHTML = docLinkHtml;\n",
              "          element.appendChild(docLink);\n",
              "        }\n",
              "      </script>\n",
              "    </div>\n",
              "  </div>\n",
              "  "
            ]
          },
          "metadata": {},
          "execution_count": 5
        }
      ]
    },
    {
      "cell_type": "code",
      "source": [
        "beach_attr_df.nunique()"
      ],
      "metadata": {
        "colab": {
          "base_uri": "https://localhost:8080/"
        },
        "id": "_fdhiaKr0GQf",
        "outputId": "ffc53ce0-b779-47ae-ba0c-05122a2e05cd"
      },
      "execution_count": 6,
      "outputs": [
        {
          "output_type": "execute_result",
          "data": {
            "text/plain": [
              "State                                    1\n",
              "Year                                    16\n",
              "Beach ID                                36\n",
              "Beach Name                              36\n",
              "County                                   1\n",
              "Beach Ownership/Beach Accessibility      1\n",
              "BeachLength (Mi)                        69\n",
              "Tier                                     3\n",
              "Start Latitude                          36\n",
              "Start Longitude                         36\n",
              "End Latitude                            36\n",
              "End Longitude                           36\n",
              "Waterbody Name                           1\n",
              "Waterbody Type                           2\n",
              "AdvisoryReportingFrequency(to EPA)       1\n",
              "AdvisoryReportingFrequencyUnits          1\n",
              "dtype: int64"
            ]
          },
          "metadata": {},
          "execution_count": 6
        }
      ]
    },
    {
      "cell_type": "code",
      "source": [
        "beach_attr_df[\"Beach Name\"].unique()"
      ],
      "metadata": {
        "colab": {
          "base_uri": "https://localhost:8080/"
        },
        "id": "yBGbMx0o0Siw",
        "outputId": "6ed27fa7-1739-4dd6-97ed-161b3730b801"
      },
      "execution_count": 7,
      "outputs": [
        {
          "output_type": "execute_result",
          "data": {
            "text/plain": [
              "array(['25th St.', '45th St.', '61st St.', 'Appfel Park', 'Caplen',\n",
              "       'Caplen/Crystal Beach', 'Clara St.', 'Dellanera Park',\n",
              "       'East Beach', 'Erman Pilsner Boat Ramp', 'Frank Carmona Beach',\n",
              "       'Galveston Island State Park',\n",
              "       'Galveston Island State Park Backside', 'Gilchrist East',\n",
              "       'Gilchrist West', 'Gulf Shores', 'Haney Park', 'High Island East',\n",
              "       'High Island West', 'Holiday', 'Indian Beach', 'Jamaica Beach',\n",
              "       \"O'Neil Rd.\", 'Pirates Beach', 'Rettilon Road',\n",
              "       'Rollover Pass East', 'Rollover Pass West', 'San Luis Pass',\n",
              "       'Sea Isle', 'Seadrift', 'Skyline Drive', 'Skyline Park',\n",
              "       'Spanish Grant/Bermuda Beach', 'Stewart Beach', 'Texas City Dike',\n",
              "       'West End'], dtype=object)"
            ]
          },
          "metadata": {},
          "execution_count": 7
        }
      ]
    },
    {
      "cell_type": "code",
      "source": [
        "beach_attr_df[\"Waterbody Type\"].value_counts()"
      ],
      "metadata": {
        "colab": {
          "base_uri": "https://localhost:8080/"
        },
        "id": "OnVSnz-z0iIw",
        "outputId": "8028156e-6d5a-4aa9-f98f-8eb3f98a1223"
      },
      "execution_count": 8,
      "outputs": [
        {
          "output_type": "execute_result",
          "data": {
            "text/plain": [
              "Open Coast              469\n",
              "Sound, Bay, or Inlet     75\n",
              "Name: Waterbody Type, dtype: int64"
            ]
          },
          "metadata": {},
          "execution_count": 8
        }
      ]
    },
    {
      "cell_type": "code",
      "source": [
        "beach_attr_df[\"Year\"].unique()"
      ],
      "metadata": {
        "colab": {
          "base_uri": "https://localhost:8080/"
        },
        "id": "ac_kTXQ309Ah",
        "outputId": "4318557c-ecda-4cb3-81b8-8daddb161b78"
      },
      "execution_count": 9,
      "outputs": [
        {
          "output_type": "execute_result",
          "data": {
            "text/plain": [
              "array([2022, 2021, 2020, 2019, 2018, 2017, 2016, 2015, 2014, 2013, 2012,\n",
              "       2011, 2010, 2009, 2008, 2007])"
            ]
          },
          "metadata": {},
          "execution_count": 9
        }
      ]
    },
    {
      "cell_type": "code",
      "source": [
        "beach_attr_columns = beach_attr_df.nunique()[beach_attr_df.nunique()==1].index\n",
        "beach_attr_columns"
      ],
      "metadata": {
        "colab": {
          "base_uri": "https://localhost:8080/"
        },
        "id": "hQtHgjW91foB",
        "outputId": "399e1861-eedd-439f-c5ad-4b2c31d34a4c"
      },
      "execution_count": 10,
      "outputs": [
        {
          "output_type": "execute_result",
          "data": {
            "text/plain": [
              "Index(['State', 'County', 'Beach Ownership/Beach Accessibility ',\n",
              "       'Waterbody Name', 'AdvisoryReportingFrequency(to EPA)',\n",
              "       'AdvisoryReportingFrequencyUnits'],\n",
              "      dtype='object')"
            ]
          },
          "metadata": {},
          "execution_count": 10
        }
      ]
    },
    {
      "cell_type": "code",
      "source": [
        "beach_attr_df.drop(beach_attr_columns,1,inplace=True)\n",
        "beach_attr_df.head()"
      ],
      "metadata": {
        "colab": {
          "base_uri": "https://localhost:8080/",
          "height": 241
        },
        "id": "-0tLfEAK2ls4",
        "outputId": "bdc04f9c-a1ea-413d-e63a-01462c586842"
      },
      "execution_count": 11,
      "outputs": [
        {
          "output_type": "stream",
          "name": "stderr",
          "text": [
            "/usr/local/lib/python3.7/dist-packages/ipykernel_launcher.py:1: FutureWarning: In a future version of pandas all arguments of DataFrame.drop except for the argument 'labels' will be keyword-only\n",
            "  \"\"\"Entry point for launching an IPython kernel.\n"
          ]
        },
        {
          "output_type": "execute_result",
          "data": {
            "text/plain": [
              "   Year  Beach ID   Beach Name  BeachLength (Mi)  Tier  Start Latitude  \\\n",
              "0  2022  TX710697     25th St.              1.80     1       29.298146   \n",
              "1  2022  TX214299     45th St.              1.55     1       29.284667   \n",
              "2  2022  TX486021     61st St.              1.04     1       29.271922   \n",
              "3  2022  TX327206  Appfel Park              2.06     1       29.337451   \n",
              "4  2022  TX940700       Caplen              1.46     2       29.503046   \n",
              "\n",
              "   Start Longitude  End Latitude  End Longitude Waterbody Type  \n",
              "0       -94.777565     29.284662     -94.794776     Open Coast  \n",
              "1       -94.794770     29.271917     -94.815865     Open Coast  \n",
              "2       -94.815859     29.264091     -94.830244     Open Coast  \n",
              "3       -94.733010     29.324250     -94.739129     Open Coast  \n",
              "4       -94.510477     29.494188     -94.532478     Open Coast  "
            ],
            "text/html": [
              "\n",
              "  <div id=\"df-1f8da67a-a93b-4d6e-80bc-9db503f0b12b\">\n",
              "    <div class=\"colab-df-container\">\n",
              "      <div>\n",
              "<style scoped>\n",
              "    .dataframe tbody tr th:only-of-type {\n",
              "        vertical-align: middle;\n",
              "    }\n",
              "\n",
              "    .dataframe tbody tr th {\n",
              "        vertical-align: top;\n",
              "    }\n",
              "\n",
              "    .dataframe thead th {\n",
              "        text-align: right;\n",
              "    }\n",
              "</style>\n",
              "<table border=\"1\" class=\"dataframe\">\n",
              "  <thead>\n",
              "    <tr style=\"text-align: right;\">\n",
              "      <th></th>\n",
              "      <th>Year</th>\n",
              "      <th>Beach ID</th>\n",
              "      <th>Beach Name</th>\n",
              "      <th>BeachLength (Mi)</th>\n",
              "      <th>Tier</th>\n",
              "      <th>Start Latitude</th>\n",
              "      <th>Start Longitude</th>\n",
              "      <th>End Latitude</th>\n",
              "      <th>End Longitude</th>\n",
              "      <th>Waterbody Type</th>\n",
              "    </tr>\n",
              "  </thead>\n",
              "  <tbody>\n",
              "    <tr>\n",
              "      <th>0</th>\n",
              "      <td>2022</td>\n",
              "      <td>TX710697</td>\n",
              "      <td>25th St.</td>\n",
              "      <td>1.80</td>\n",
              "      <td>1</td>\n",
              "      <td>29.298146</td>\n",
              "      <td>-94.777565</td>\n",
              "      <td>29.284662</td>\n",
              "      <td>-94.794776</td>\n",
              "      <td>Open Coast</td>\n",
              "    </tr>\n",
              "    <tr>\n",
              "      <th>1</th>\n",
              "      <td>2022</td>\n",
              "      <td>TX214299</td>\n",
              "      <td>45th St.</td>\n",
              "      <td>1.55</td>\n",
              "      <td>1</td>\n",
              "      <td>29.284667</td>\n",
              "      <td>-94.794770</td>\n",
              "      <td>29.271917</td>\n",
              "      <td>-94.815865</td>\n",
              "      <td>Open Coast</td>\n",
              "    </tr>\n",
              "    <tr>\n",
              "      <th>2</th>\n",
              "      <td>2022</td>\n",
              "      <td>TX486021</td>\n",
              "      <td>61st St.</td>\n",
              "      <td>1.04</td>\n",
              "      <td>1</td>\n",
              "      <td>29.271922</td>\n",
              "      <td>-94.815859</td>\n",
              "      <td>29.264091</td>\n",
              "      <td>-94.830244</td>\n",
              "      <td>Open Coast</td>\n",
              "    </tr>\n",
              "    <tr>\n",
              "      <th>3</th>\n",
              "      <td>2022</td>\n",
              "      <td>TX327206</td>\n",
              "      <td>Appfel Park</td>\n",
              "      <td>2.06</td>\n",
              "      <td>1</td>\n",
              "      <td>29.337451</td>\n",
              "      <td>-94.733010</td>\n",
              "      <td>29.324250</td>\n",
              "      <td>-94.739129</td>\n",
              "      <td>Open Coast</td>\n",
              "    </tr>\n",
              "    <tr>\n",
              "      <th>4</th>\n",
              "      <td>2022</td>\n",
              "      <td>TX940700</td>\n",
              "      <td>Caplen</td>\n",
              "      <td>1.46</td>\n",
              "      <td>2</td>\n",
              "      <td>29.503046</td>\n",
              "      <td>-94.510477</td>\n",
              "      <td>29.494188</td>\n",
              "      <td>-94.532478</td>\n",
              "      <td>Open Coast</td>\n",
              "    </tr>\n",
              "  </tbody>\n",
              "</table>\n",
              "</div>\n",
              "      <button class=\"colab-df-convert\" onclick=\"convertToInteractive('df-1f8da67a-a93b-4d6e-80bc-9db503f0b12b')\"\n",
              "              title=\"Convert this dataframe to an interactive table.\"\n",
              "              style=\"display:none;\">\n",
              "        \n",
              "  <svg xmlns=\"http://www.w3.org/2000/svg\" height=\"24px\"viewBox=\"0 0 24 24\"\n",
              "       width=\"24px\">\n",
              "    <path d=\"M0 0h24v24H0V0z\" fill=\"none\"/>\n",
              "    <path d=\"M18.56 5.44l.94 2.06.94-2.06 2.06-.94-2.06-.94-.94-2.06-.94 2.06-2.06.94zm-11 1L8.5 8.5l.94-2.06 2.06-.94-2.06-.94L8.5 2.5l-.94 2.06-2.06.94zm10 10l.94 2.06.94-2.06 2.06-.94-2.06-.94-.94-2.06-.94 2.06-2.06.94z\"/><path d=\"M17.41 7.96l-1.37-1.37c-.4-.4-.92-.59-1.43-.59-.52 0-1.04.2-1.43.59L10.3 9.45l-7.72 7.72c-.78.78-.78 2.05 0 2.83L4 21.41c.39.39.9.59 1.41.59.51 0 1.02-.2 1.41-.59l7.78-7.78 2.81-2.81c.8-.78.8-2.07 0-2.86zM5.41 20L4 18.59l7.72-7.72 1.47 1.35L5.41 20z\"/>\n",
              "  </svg>\n",
              "      </button>\n",
              "      \n",
              "  <style>\n",
              "    .colab-df-container {\n",
              "      display:flex;\n",
              "      flex-wrap:wrap;\n",
              "      gap: 12px;\n",
              "    }\n",
              "\n",
              "    .colab-df-convert {\n",
              "      background-color: #E8F0FE;\n",
              "      border: none;\n",
              "      border-radius: 50%;\n",
              "      cursor: pointer;\n",
              "      display: none;\n",
              "      fill: #1967D2;\n",
              "      height: 32px;\n",
              "      padding: 0 0 0 0;\n",
              "      width: 32px;\n",
              "    }\n",
              "\n",
              "    .colab-df-convert:hover {\n",
              "      background-color: #E2EBFA;\n",
              "      box-shadow: 0px 1px 2px rgba(60, 64, 67, 0.3), 0px 1px 3px 1px rgba(60, 64, 67, 0.15);\n",
              "      fill: #174EA6;\n",
              "    }\n",
              "\n",
              "    [theme=dark] .colab-df-convert {\n",
              "      background-color: #3B4455;\n",
              "      fill: #D2E3FC;\n",
              "    }\n",
              "\n",
              "    [theme=dark] .colab-df-convert:hover {\n",
              "      background-color: #434B5C;\n",
              "      box-shadow: 0px 1px 3px 1px rgba(0, 0, 0, 0.15);\n",
              "      filter: drop-shadow(0px 1px 2px rgba(0, 0, 0, 0.3));\n",
              "      fill: #FFFFFF;\n",
              "    }\n",
              "  </style>\n",
              "\n",
              "      <script>\n",
              "        const buttonEl =\n",
              "          document.querySelector('#df-1f8da67a-a93b-4d6e-80bc-9db503f0b12b button.colab-df-convert');\n",
              "        buttonEl.style.display =\n",
              "          google.colab.kernel.accessAllowed ? 'block' : 'none';\n",
              "\n",
              "        async function convertToInteractive(key) {\n",
              "          const element = document.querySelector('#df-1f8da67a-a93b-4d6e-80bc-9db503f0b12b');\n",
              "          const dataTable =\n",
              "            await google.colab.kernel.invokeFunction('convertToInteractive',\n",
              "                                                     [key], {});\n",
              "          if (!dataTable) return;\n",
              "\n",
              "          const docLinkHtml = 'Like what you see? Visit the ' +\n",
              "            '<a target=\"_blank\" href=https://colab.research.google.com/notebooks/data_table.ipynb>data table notebook</a>'\n",
              "            + ' to learn more about interactive tables.';\n",
              "          element.innerHTML = '';\n",
              "          dataTable['output_type'] = 'display_data';\n",
              "          await google.colab.output.renderOutput(dataTable, element);\n",
              "          const docLink = document.createElement('div');\n",
              "          docLink.innerHTML = docLinkHtml;\n",
              "          element.appendChild(docLink);\n",
              "        }\n",
              "      </script>\n",
              "    </div>\n",
              "  </div>\n",
              "  "
            ]
          },
          "metadata": {},
          "execution_count": 11
        }
      ]
    },
    {
      "cell_type": "code",
      "source": [
        "beach_attr_df.drop(\"Year\",1,inplace=True)\n"
      ],
      "metadata": {
        "colab": {
          "base_uri": "https://localhost:8080/"
        },
        "id": "4QmfhXpl3NSf",
        "outputId": "93e9ba78-5041-49bf-8fa6-351b6e3b4447"
      },
      "execution_count": 12,
      "outputs": [
        {
          "output_type": "stream",
          "name": "stderr",
          "text": [
            "/usr/local/lib/python3.7/dist-packages/ipykernel_launcher.py:1: FutureWarning: In a future version of pandas all arguments of DataFrame.drop except for the argument 'labels' will be keyword-only\n",
            "  \"\"\"Entry point for launching an IPython kernel.\n"
          ]
        }
      ]
    },
    {
      "cell_type": "code",
      "source": [
        "print(beach_attr_df.shape)\n",
        "beach_attr_df.head()"
      ],
      "metadata": {
        "colab": {
          "base_uri": "https://localhost:8080/",
          "height": 224
        },
        "id": "X-2L3vUR3jBX",
        "outputId": "52c111c7-e244-4f9a-8821-7e25a8724587"
      },
      "execution_count": 13,
      "outputs": [
        {
          "output_type": "stream",
          "name": "stdout",
          "text": [
            "(544, 9)\n"
          ]
        },
        {
          "output_type": "execute_result",
          "data": {
            "text/plain": [
              "   Beach ID   Beach Name  BeachLength (Mi)  Tier  Start Latitude  \\\n",
              "0  TX710697     25th St.              1.80     1       29.298146   \n",
              "1  TX214299     45th St.              1.55     1       29.284667   \n",
              "2  TX486021     61st St.              1.04     1       29.271922   \n",
              "3  TX327206  Appfel Park              2.06     1       29.337451   \n",
              "4  TX940700       Caplen              1.46     2       29.503046   \n",
              "\n",
              "   Start Longitude  End Latitude  End Longitude Waterbody Type  \n",
              "0       -94.777565     29.284662     -94.794776     Open Coast  \n",
              "1       -94.794770     29.271917     -94.815865     Open Coast  \n",
              "2       -94.815859     29.264091     -94.830244     Open Coast  \n",
              "3       -94.733010     29.324250     -94.739129     Open Coast  \n",
              "4       -94.510477     29.494188     -94.532478     Open Coast  "
            ],
            "text/html": [
              "\n",
              "  <div id=\"df-2efc0a69-001e-4ee3-ada5-f8754de0eda1\">\n",
              "    <div class=\"colab-df-container\">\n",
              "      <div>\n",
              "<style scoped>\n",
              "    .dataframe tbody tr th:only-of-type {\n",
              "        vertical-align: middle;\n",
              "    }\n",
              "\n",
              "    .dataframe tbody tr th {\n",
              "        vertical-align: top;\n",
              "    }\n",
              "\n",
              "    .dataframe thead th {\n",
              "        text-align: right;\n",
              "    }\n",
              "</style>\n",
              "<table border=\"1\" class=\"dataframe\">\n",
              "  <thead>\n",
              "    <tr style=\"text-align: right;\">\n",
              "      <th></th>\n",
              "      <th>Beach ID</th>\n",
              "      <th>Beach Name</th>\n",
              "      <th>BeachLength (Mi)</th>\n",
              "      <th>Tier</th>\n",
              "      <th>Start Latitude</th>\n",
              "      <th>Start Longitude</th>\n",
              "      <th>End Latitude</th>\n",
              "      <th>End Longitude</th>\n",
              "      <th>Waterbody Type</th>\n",
              "    </tr>\n",
              "  </thead>\n",
              "  <tbody>\n",
              "    <tr>\n",
              "      <th>0</th>\n",
              "      <td>TX710697</td>\n",
              "      <td>25th St.</td>\n",
              "      <td>1.80</td>\n",
              "      <td>1</td>\n",
              "      <td>29.298146</td>\n",
              "      <td>-94.777565</td>\n",
              "      <td>29.284662</td>\n",
              "      <td>-94.794776</td>\n",
              "      <td>Open Coast</td>\n",
              "    </tr>\n",
              "    <tr>\n",
              "      <th>1</th>\n",
              "      <td>TX214299</td>\n",
              "      <td>45th St.</td>\n",
              "      <td>1.55</td>\n",
              "      <td>1</td>\n",
              "      <td>29.284667</td>\n",
              "      <td>-94.794770</td>\n",
              "      <td>29.271917</td>\n",
              "      <td>-94.815865</td>\n",
              "      <td>Open Coast</td>\n",
              "    </tr>\n",
              "    <tr>\n",
              "      <th>2</th>\n",
              "      <td>TX486021</td>\n",
              "      <td>61st St.</td>\n",
              "      <td>1.04</td>\n",
              "      <td>1</td>\n",
              "      <td>29.271922</td>\n",
              "      <td>-94.815859</td>\n",
              "      <td>29.264091</td>\n",
              "      <td>-94.830244</td>\n",
              "      <td>Open Coast</td>\n",
              "    </tr>\n",
              "    <tr>\n",
              "      <th>3</th>\n",
              "      <td>TX327206</td>\n",
              "      <td>Appfel Park</td>\n",
              "      <td>2.06</td>\n",
              "      <td>1</td>\n",
              "      <td>29.337451</td>\n",
              "      <td>-94.733010</td>\n",
              "      <td>29.324250</td>\n",
              "      <td>-94.739129</td>\n",
              "      <td>Open Coast</td>\n",
              "    </tr>\n",
              "    <tr>\n",
              "      <th>4</th>\n",
              "      <td>TX940700</td>\n",
              "      <td>Caplen</td>\n",
              "      <td>1.46</td>\n",
              "      <td>2</td>\n",
              "      <td>29.503046</td>\n",
              "      <td>-94.510477</td>\n",
              "      <td>29.494188</td>\n",
              "      <td>-94.532478</td>\n",
              "      <td>Open Coast</td>\n",
              "    </tr>\n",
              "  </tbody>\n",
              "</table>\n",
              "</div>\n",
              "      <button class=\"colab-df-convert\" onclick=\"convertToInteractive('df-2efc0a69-001e-4ee3-ada5-f8754de0eda1')\"\n",
              "              title=\"Convert this dataframe to an interactive table.\"\n",
              "              style=\"display:none;\">\n",
              "        \n",
              "  <svg xmlns=\"http://www.w3.org/2000/svg\" height=\"24px\"viewBox=\"0 0 24 24\"\n",
              "       width=\"24px\">\n",
              "    <path d=\"M0 0h24v24H0V0z\" fill=\"none\"/>\n",
              "    <path d=\"M18.56 5.44l.94 2.06.94-2.06 2.06-.94-2.06-.94-.94-2.06-.94 2.06-2.06.94zm-11 1L8.5 8.5l.94-2.06 2.06-.94-2.06-.94L8.5 2.5l-.94 2.06-2.06.94zm10 10l.94 2.06.94-2.06 2.06-.94-2.06-.94-.94-2.06-.94 2.06-2.06.94z\"/><path d=\"M17.41 7.96l-1.37-1.37c-.4-.4-.92-.59-1.43-.59-.52 0-1.04.2-1.43.59L10.3 9.45l-7.72 7.72c-.78.78-.78 2.05 0 2.83L4 21.41c.39.39.9.59 1.41.59.51 0 1.02-.2 1.41-.59l7.78-7.78 2.81-2.81c.8-.78.8-2.07 0-2.86zM5.41 20L4 18.59l7.72-7.72 1.47 1.35L5.41 20z\"/>\n",
              "  </svg>\n",
              "      </button>\n",
              "      \n",
              "  <style>\n",
              "    .colab-df-container {\n",
              "      display:flex;\n",
              "      flex-wrap:wrap;\n",
              "      gap: 12px;\n",
              "    }\n",
              "\n",
              "    .colab-df-convert {\n",
              "      background-color: #E8F0FE;\n",
              "      border: none;\n",
              "      border-radius: 50%;\n",
              "      cursor: pointer;\n",
              "      display: none;\n",
              "      fill: #1967D2;\n",
              "      height: 32px;\n",
              "      padding: 0 0 0 0;\n",
              "      width: 32px;\n",
              "    }\n",
              "\n",
              "    .colab-df-convert:hover {\n",
              "      background-color: #E2EBFA;\n",
              "      box-shadow: 0px 1px 2px rgba(60, 64, 67, 0.3), 0px 1px 3px 1px rgba(60, 64, 67, 0.15);\n",
              "      fill: #174EA6;\n",
              "    }\n",
              "\n",
              "    [theme=dark] .colab-df-convert {\n",
              "      background-color: #3B4455;\n",
              "      fill: #D2E3FC;\n",
              "    }\n",
              "\n",
              "    [theme=dark] .colab-df-convert:hover {\n",
              "      background-color: #434B5C;\n",
              "      box-shadow: 0px 1px 3px 1px rgba(0, 0, 0, 0.15);\n",
              "      filter: drop-shadow(0px 1px 2px rgba(0, 0, 0, 0.3));\n",
              "      fill: #FFFFFF;\n",
              "    }\n",
              "  </style>\n",
              "\n",
              "      <script>\n",
              "        const buttonEl =\n",
              "          document.querySelector('#df-2efc0a69-001e-4ee3-ada5-f8754de0eda1 button.colab-df-convert');\n",
              "        buttonEl.style.display =\n",
              "          google.colab.kernel.accessAllowed ? 'block' : 'none';\n",
              "\n",
              "        async function convertToInteractive(key) {\n",
              "          const element = document.querySelector('#df-2efc0a69-001e-4ee3-ada5-f8754de0eda1');\n",
              "          const dataTable =\n",
              "            await google.colab.kernel.invokeFunction('convertToInteractive',\n",
              "                                                     [key], {});\n",
              "          if (!dataTable) return;\n",
              "\n",
              "          const docLinkHtml = 'Like what you see? Visit the ' +\n",
              "            '<a target=\"_blank\" href=https://colab.research.google.com/notebooks/data_table.ipynb>data table notebook</a>'\n",
              "            + ' to learn more about interactive tables.';\n",
              "          element.innerHTML = '';\n",
              "          dataTable['output_type'] = 'display_data';\n",
              "          await google.colab.output.renderOutput(dataTable, element);\n",
              "          const docLink = document.createElement('div');\n",
              "          docLink.innerHTML = docLinkHtml;\n",
              "          element.appendChild(docLink);\n",
              "        }\n",
              "      </script>\n",
              "    </div>\n",
              "  </div>\n",
              "  "
            ]
          },
          "metadata": {},
          "execution_count": 13
        }
      ]
    },
    {
      "cell_type": "code",
      "source": [
        "beach_attr_df.drop_duplicates(inplace=True)\n",
        "beach_attr_df.shape"
      ],
      "metadata": {
        "colab": {
          "base_uri": "https://localhost:8080/"
        },
        "id": "DSig8dnd34w3",
        "outputId": "567d3171-5a06-4cfc-96b5-ef1696c1608c"
      },
      "execution_count": 14,
      "outputs": [
        {
          "output_type": "execute_result",
          "data": {
            "text/plain": [
              "(71, 9)"
            ]
          },
          "metadata": {},
          "execution_count": 14
        }
      ]
    },
    {
      "cell_type": "code",
      "source": [
        "len(beach_attr_df[\"Beach ID\"].unique())"
      ],
      "metadata": {
        "colab": {
          "base_uri": "https://localhost:8080/"
        },
        "id": "Y9Q0xoNZ4Co3",
        "outputId": "22a3ef40-9161-42b2-dba4-0d501aadb388"
      },
      "execution_count": 15,
      "outputs": [
        {
          "output_type": "execute_result",
          "data": {
            "text/plain": [
              "36"
            ]
          },
          "metadata": {},
          "execution_count": 15
        }
      ]
    },
    {
      "cell_type": "code",
      "source": [
        "beach_attr_df[\"Beach ID\"].value_counts()"
      ],
      "metadata": {
        "colab": {
          "base_uri": "https://localhost:8080/"
        },
        "id": "FelwNQAW4UE2",
        "outputId": "8dd067ee-637c-4aa5-98cc-aeaf3f2edabd"
      },
      "execution_count": 16,
      "outputs": [
        {
          "output_type": "execute_result",
          "data": {
            "text/plain": [
              "TX710697    2\n",
              "TX822495    2\n",
              "TX974690    2\n",
              "TX669225    2\n",
              "TX751320    2\n",
              "TX832087    2\n",
              "TX284256    2\n",
              "TX341767    2\n",
              "TX767833    2\n",
              "TX593160    2\n",
              "TX236175    2\n",
              "TX406100    2\n",
              "TX650612    2\n",
              "TX163187    2\n",
              "TX451421    2\n",
              "TX164090    2\n",
              "TX239942    2\n",
              "TX272864    2\n",
              "TX168454    2\n",
              "TX669733    2\n",
              "TX486021    2\n",
              "TX327206    2\n",
              "TX940700    2\n",
              "TX972853    2\n",
              "TX392019    2\n",
              "TX393353    2\n",
              "TX981462    2\n",
              "TX426780    2\n",
              "TX795287    2\n",
              "TX334226    2\n",
              "TX226514    2\n",
              "TX568423    2\n",
              "TX122528    2\n",
              "TX860495    2\n",
              "TX632189    2\n",
              "TX214299    1\n",
              "Name: Beach ID, dtype: int64"
            ]
          },
          "metadata": {},
          "execution_count": 16
        }
      ]
    },
    {
      "cell_type": "markdown",
      "source": [
        "Why is there duplicate beach IDs?"
      ],
      "metadata": {
        "id": "1tDG6VKg4rof"
      }
    },
    {
      "cell_type": "code",
      "source": [
        "beach_attr_df[beach_attr_df[\"Beach ID\"]==\"TX710697\"]"
      ],
      "metadata": {
        "colab": {
          "base_uri": "https://localhost:8080/",
          "height": 112
        },
        "id": "lDx8fYoL4ho3",
        "outputId": "a5b08009-330f-4ba4-d2f2-5dfb20d4118f"
      },
      "execution_count": 17,
      "outputs": [
        {
          "output_type": "execute_result",
          "data": {
            "text/plain": [
              "     Beach ID Beach Name  BeachLength (Mi)  Tier  Start Latitude  \\\n",
              "0    TX710697   25th St.             1.800     1       29.298146   \n",
              "468  TX710697   25th St.             1.396     1       29.298146   \n",
              "\n",
              "     Start Longitude  End Latitude  End Longitude Waterbody Type  \n",
              "0         -94.777565     29.284662     -94.794776     Open Coast  \n",
              "468       -94.777565     29.284662     -94.794776     Open Coast  "
            ],
            "text/html": [
              "\n",
              "  <div id=\"df-ed70504f-17e3-4925-ad20-8006134ef3f6\">\n",
              "    <div class=\"colab-df-container\">\n",
              "      <div>\n",
              "<style scoped>\n",
              "    .dataframe tbody tr th:only-of-type {\n",
              "        vertical-align: middle;\n",
              "    }\n",
              "\n",
              "    .dataframe tbody tr th {\n",
              "        vertical-align: top;\n",
              "    }\n",
              "\n",
              "    .dataframe thead th {\n",
              "        text-align: right;\n",
              "    }\n",
              "</style>\n",
              "<table border=\"1\" class=\"dataframe\">\n",
              "  <thead>\n",
              "    <tr style=\"text-align: right;\">\n",
              "      <th></th>\n",
              "      <th>Beach ID</th>\n",
              "      <th>Beach Name</th>\n",
              "      <th>BeachLength (Mi)</th>\n",
              "      <th>Tier</th>\n",
              "      <th>Start Latitude</th>\n",
              "      <th>Start Longitude</th>\n",
              "      <th>End Latitude</th>\n",
              "      <th>End Longitude</th>\n",
              "      <th>Waterbody Type</th>\n",
              "    </tr>\n",
              "  </thead>\n",
              "  <tbody>\n",
              "    <tr>\n",
              "      <th>0</th>\n",
              "      <td>TX710697</td>\n",
              "      <td>25th St.</td>\n",
              "      <td>1.800</td>\n",
              "      <td>1</td>\n",
              "      <td>29.298146</td>\n",
              "      <td>-94.777565</td>\n",
              "      <td>29.284662</td>\n",
              "      <td>-94.794776</td>\n",
              "      <td>Open Coast</td>\n",
              "    </tr>\n",
              "    <tr>\n",
              "      <th>468</th>\n",
              "      <td>TX710697</td>\n",
              "      <td>25th St.</td>\n",
              "      <td>1.396</td>\n",
              "      <td>1</td>\n",
              "      <td>29.298146</td>\n",
              "      <td>-94.777565</td>\n",
              "      <td>29.284662</td>\n",
              "      <td>-94.794776</td>\n",
              "      <td>Open Coast</td>\n",
              "    </tr>\n",
              "  </tbody>\n",
              "</table>\n",
              "</div>\n",
              "      <button class=\"colab-df-convert\" onclick=\"convertToInteractive('df-ed70504f-17e3-4925-ad20-8006134ef3f6')\"\n",
              "              title=\"Convert this dataframe to an interactive table.\"\n",
              "              style=\"display:none;\">\n",
              "        \n",
              "  <svg xmlns=\"http://www.w3.org/2000/svg\" height=\"24px\"viewBox=\"0 0 24 24\"\n",
              "       width=\"24px\">\n",
              "    <path d=\"M0 0h24v24H0V0z\" fill=\"none\"/>\n",
              "    <path d=\"M18.56 5.44l.94 2.06.94-2.06 2.06-.94-2.06-.94-.94-2.06-.94 2.06-2.06.94zm-11 1L8.5 8.5l.94-2.06 2.06-.94-2.06-.94L8.5 2.5l-.94 2.06-2.06.94zm10 10l.94 2.06.94-2.06 2.06-.94-2.06-.94-.94-2.06-.94 2.06-2.06.94z\"/><path d=\"M17.41 7.96l-1.37-1.37c-.4-.4-.92-.59-1.43-.59-.52 0-1.04.2-1.43.59L10.3 9.45l-7.72 7.72c-.78.78-.78 2.05 0 2.83L4 21.41c.39.39.9.59 1.41.59.51 0 1.02-.2 1.41-.59l7.78-7.78 2.81-2.81c.8-.78.8-2.07 0-2.86zM5.41 20L4 18.59l7.72-7.72 1.47 1.35L5.41 20z\"/>\n",
              "  </svg>\n",
              "      </button>\n",
              "      \n",
              "  <style>\n",
              "    .colab-df-container {\n",
              "      display:flex;\n",
              "      flex-wrap:wrap;\n",
              "      gap: 12px;\n",
              "    }\n",
              "\n",
              "    .colab-df-convert {\n",
              "      background-color: #E8F0FE;\n",
              "      border: none;\n",
              "      border-radius: 50%;\n",
              "      cursor: pointer;\n",
              "      display: none;\n",
              "      fill: #1967D2;\n",
              "      height: 32px;\n",
              "      padding: 0 0 0 0;\n",
              "      width: 32px;\n",
              "    }\n",
              "\n",
              "    .colab-df-convert:hover {\n",
              "      background-color: #E2EBFA;\n",
              "      box-shadow: 0px 1px 2px rgba(60, 64, 67, 0.3), 0px 1px 3px 1px rgba(60, 64, 67, 0.15);\n",
              "      fill: #174EA6;\n",
              "    }\n",
              "\n",
              "    [theme=dark] .colab-df-convert {\n",
              "      background-color: #3B4455;\n",
              "      fill: #D2E3FC;\n",
              "    }\n",
              "\n",
              "    [theme=dark] .colab-df-convert:hover {\n",
              "      background-color: #434B5C;\n",
              "      box-shadow: 0px 1px 3px 1px rgba(0, 0, 0, 0.15);\n",
              "      filter: drop-shadow(0px 1px 2px rgba(0, 0, 0, 0.3));\n",
              "      fill: #FFFFFF;\n",
              "    }\n",
              "  </style>\n",
              "\n",
              "      <script>\n",
              "        const buttonEl =\n",
              "          document.querySelector('#df-ed70504f-17e3-4925-ad20-8006134ef3f6 button.colab-df-convert');\n",
              "        buttonEl.style.display =\n",
              "          google.colab.kernel.accessAllowed ? 'block' : 'none';\n",
              "\n",
              "        async function convertToInteractive(key) {\n",
              "          const element = document.querySelector('#df-ed70504f-17e3-4925-ad20-8006134ef3f6');\n",
              "          const dataTable =\n",
              "            await google.colab.kernel.invokeFunction('convertToInteractive',\n",
              "                                                     [key], {});\n",
              "          if (!dataTable) return;\n",
              "\n",
              "          const docLinkHtml = 'Like what you see? Visit the ' +\n",
              "            '<a target=\"_blank\" href=https://colab.research.google.com/notebooks/data_table.ipynb>data table notebook</a>'\n",
              "            + ' to learn more about interactive tables.';\n",
              "          element.innerHTML = '';\n",
              "          dataTable['output_type'] = 'display_data';\n",
              "          await google.colab.output.renderOutput(dataTable, element);\n",
              "          const docLink = document.createElement('div');\n",
              "          docLink.innerHTML = docLinkHtml;\n",
              "          element.appendChild(docLink);\n",
              "        }\n",
              "      </script>\n",
              "    </div>\n",
              "  </div>\n",
              "  "
            ]
          },
          "metadata": {},
          "execution_count": 17
        }
      ]
    },
    {
      "cell_type": "markdown",
      "source": [
        "Beach length changes slightly from one recored to the next"
      ],
      "metadata": {
        "id": "K0pkvokc5GQL"
      }
    },
    {
      "cell_type": "code",
      "source": [
        "beach_attr_df.drop(\"BeachLength (Mi)\",1,inplace=True)"
      ],
      "metadata": {
        "colab": {
          "base_uri": "https://localhost:8080/"
        },
        "id": "V4RZgyXh46Q_",
        "outputId": "83b0a8a5-2517-487b-ae02-220498ccbc25"
      },
      "execution_count": 18,
      "outputs": [
        {
          "output_type": "stream",
          "name": "stderr",
          "text": [
            "/usr/local/lib/python3.7/dist-packages/ipykernel_launcher.py:1: FutureWarning: In a future version of pandas all arguments of DataFrame.drop except for the argument 'labels' will be keyword-only\n",
            "  \"\"\"Entry point for launching an IPython kernel.\n"
          ]
        }
      ]
    },
    {
      "cell_type": "code",
      "source": [
        "beach_attr_df.drop_duplicates(inplace=True)"
      ],
      "metadata": {
        "id": "nkfTzL5r5VHu"
      },
      "execution_count": 19,
      "outputs": []
    },
    {
      "cell_type": "markdown",
      "source": [
        "Verify that they are unique now"
      ],
      "metadata": {
        "id": "W06HBasm5zd7"
      }
    },
    {
      "cell_type": "code",
      "source": [
        "beach_attr_df[\"Beach ID\"].value_counts()"
      ],
      "metadata": {
        "colab": {
          "base_uri": "https://localhost:8080/"
        },
        "id": "AUzoyCy85rnX",
        "outputId": "ebf15879-2f5b-40cf-c6cc-61085ac81ff7"
      },
      "execution_count": 20,
      "outputs": [
        {
          "output_type": "execute_result",
          "data": {
            "text/plain": [
              "TX710697    1\n",
              "TX214299    1\n",
              "TX239942    1\n",
              "TX974690    1\n",
              "TX669225    1\n",
              "TX751320    1\n",
              "TX832087    1\n",
              "TX284256    1\n",
              "TX341767    1\n",
              "TX822495    1\n",
              "TX767833    1\n",
              "TX236175    1\n",
              "TX406100    1\n",
              "TX650612    1\n",
              "TX163187    1\n",
              "TX451421    1\n",
              "TX164090    1\n",
              "TX593160    1\n",
              "TX272864    1\n",
              "TX669733    1\n",
              "TX981462    1\n",
              "TX486021    1\n",
              "TX327206    1\n",
              "TX940700    1\n",
              "TX972853    1\n",
              "TX392019    1\n",
              "TX393353    1\n",
              "TX168454    1\n",
              "TX632189    1\n",
              "TX795287    1\n",
              "TX334226    1\n",
              "TX226514    1\n",
              "TX568423    1\n",
              "TX122528    1\n",
              "TX860495    1\n",
              "TX426780    1\n",
              "Name: Beach ID, dtype: int64"
            ]
          },
          "metadata": {},
          "execution_count": 20
        }
      ]
    },
    {
      "cell_type": "code",
      "source": [
        "beach_attr_df.nunique()"
      ],
      "metadata": {
        "colab": {
          "base_uri": "https://localhost:8080/"
        },
        "id": "YYwygiry6CL-",
        "outputId": "11474303-2462-4f15-9417-77f2c516ee5e"
      },
      "execution_count": 21,
      "outputs": [
        {
          "output_type": "execute_result",
          "data": {
            "text/plain": [
              "Beach ID           36\n",
              "Beach Name         36\n",
              "Tier                3\n",
              "Start Latitude     36\n",
              "Start Longitude    36\n",
              "End Latitude       36\n",
              "End Longitude      36\n",
              "Waterbody Type      2\n",
              "dtype: int64"
            ]
          },
          "metadata": {},
          "execution_count": 21
        }
      ]
    },
    {
      "cell_type": "code",
      "source": [
        "beach_attr_df[\"Tier\"].value_counts()"
      ],
      "metadata": {
        "colab": {
          "base_uri": "https://localhost:8080/"
        },
        "id": "CZEcvige6SKQ",
        "outputId": "a9fd5668-19c5-44c5-b0a0-c90f191f4af5"
      },
      "execution_count": 22,
      "outputs": [
        {
          "output_type": "execute_result",
          "data": {
            "text/plain": [
              "1    23\n",
              "2     7\n",
              "3     6\n",
              "Name: Tier, dtype: int64"
            ]
          },
          "metadata": {},
          "execution_count": 22
        }
      ]
    },
    {
      "cell_type": "code",
      "source": [
        "beach_attr_df[\"Waterbody Type\"].value_counts()"
      ],
      "metadata": {
        "colab": {
          "base_uri": "https://localhost:8080/"
        },
        "id": "1aiO8gn_6dQO",
        "outputId": "f489758f-ef58-4f21-d628-fbd4af1e2487"
      },
      "execution_count": 23,
      "outputs": [
        {
          "output_type": "execute_result",
          "data": {
            "text/plain": [
              "Open Coast              31\n",
              "Sound, Bay, or Inlet     5\n",
              "Name: Waterbody Type, dtype: int64"
            ]
          },
          "metadata": {},
          "execution_count": 23
        }
      ]
    },
    {
      "cell_type": "code",
      "source": [
        "beach_attr_df.head()"
      ],
      "metadata": {
        "colab": {
          "base_uri": "https://localhost:8080/",
          "height": 206
        },
        "id": "nKhANTpV7ai3",
        "outputId": "25343f12-edbf-4290-a577-9f0a89f76b24"
      },
      "execution_count": 24,
      "outputs": [
        {
          "output_type": "execute_result",
          "data": {
            "text/plain": [
              "   Beach ID   Beach Name  Tier  Start Latitude  Start Longitude  End Latitude  \\\n",
              "0  TX710697     25th St.     1       29.298146       -94.777565     29.284662   \n",
              "1  TX214299     45th St.     1       29.284667       -94.794770     29.271917   \n",
              "2  TX486021     61st St.     1       29.271922       -94.815859     29.264091   \n",
              "3  TX327206  Appfel Park     1       29.337451       -94.733010     29.324250   \n",
              "4  TX940700       Caplen     2       29.503046       -94.510477     29.494188   \n",
              "\n",
              "   End Longitude Waterbody Type  \n",
              "0     -94.794776     Open Coast  \n",
              "1     -94.815865     Open Coast  \n",
              "2     -94.830244     Open Coast  \n",
              "3     -94.739129     Open Coast  \n",
              "4     -94.532478     Open Coast  "
            ],
            "text/html": [
              "\n",
              "  <div id=\"df-ab24c6f4-9791-4409-8ee0-33fc6b7946c5\">\n",
              "    <div class=\"colab-df-container\">\n",
              "      <div>\n",
              "<style scoped>\n",
              "    .dataframe tbody tr th:only-of-type {\n",
              "        vertical-align: middle;\n",
              "    }\n",
              "\n",
              "    .dataframe tbody tr th {\n",
              "        vertical-align: top;\n",
              "    }\n",
              "\n",
              "    .dataframe thead th {\n",
              "        text-align: right;\n",
              "    }\n",
              "</style>\n",
              "<table border=\"1\" class=\"dataframe\">\n",
              "  <thead>\n",
              "    <tr style=\"text-align: right;\">\n",
              "      <th></th>\n",
              "      <th>Beach ID</th>\n",
              "      <th>Beach Name</th>\n",
              "      <th>Tier</th>\n",
              "      <th>Start Latitude</th>\n",
              "      <th>Start Longitude</th>\n",
              "      <th>End Latitude</th>\n",
              "      <th>End Longitude</th>\n",
              "      <th>Waterbody Type</th>\n",
              "    </tr>\n",
              "  </thead>\n",
              "  <tbody>\n",
              "    <tr>\n",
              "      <th>0</th>\n",
              "      <td>TX710697</td>\n",
              "      <td>25th St.</td>\n",
              "      <td>1</td>\n",
              "      <td>29.298146</td>\n",
              "      <td>-94.777565</td>\n",
              "      <td>29.284662</td>\n",
              "      <td>-94.794776</td>\n",
              "      <td>Open Coast</td>\n",
              "    </tr>\n",
              "    <tr>\n",
              "      <th>1</th>\n",
              "      <td>TX214299</td>\n",
              "      <td>45th St.</td>\n",
              "      <td>1</td>\n",
              "      <td>29.284667</td>\n",
              "      <td>-94.794770</td>\n",
              "      <td>29.271917</td>\n",
              "      <td>-94.815865</td>\n",
              "      <td>Open Coast</td>\n",
              "    </tr>\n",
              "    <tr>\n",
              "      <th>2</th>\n",
              "      <td>TX486021</td>\n",
              "      <td>61st St.</td>\n",
              "      <td>1</td>\n",
              "      <td>29.271922</td>\n",
              "      <td>-94.815859</td>\n",
              "      <td>29.264091</td>\n",
              "      <td>-94.830244</td>\n",
              "      <td>Open Coast</td>\n",
              "    </tr>\n",
              "    <tr>\n",
              "      <th>3</th>\n",
              "      <td>TX327206</td>\n",
              "      <td>Appfel Park</td>\n",
              "      <td>1</td>\n",
              "      <td>29.337451</td>\n",
              "      <td>-94.733010</td>\n",
              "      <td>29.324250</td>\n",
              "      <td>-94.739129</td>\n",
              "      <td>Open Coast</td>\n",
              "    </tr>\n",
              "    <tr>\n",
              "      <th>4</th>\n",
              "      <td>TX940700</td>\n",
              "      <td>Caplen</td>\n",
              "      <td>2</td>\n",
              "      <td>29.503046</td>\n",
              "      <td>-94.510477</td>\n",
              "      <td>29.494188</td>\n",
              "      <td>-94.532478</td>\n",
              "      <td>Open Coast</td>\n",
              "    </tr>\n",
              "  </tbody>\n",
              "</table>\n",
              "</div>\n",
              "      <button class=\"colab-df-convert\" onclick=\"convertToInteractive('df-ab24c6f4-9791-4409-8ee0-33fc6b7946c5')\"\n",
              "              title=\"Convert this dataframe to an interactive table.\"\n",
              "              style=\"display:none;\">\n",
              "        \n",
              "  <svg xmlns=\"http://www.w3.org/2000/svg\" height=\"24px\"viewBox=\"0 0 24 24\"\n",
              "       width=\"24px\">\n",
              "    <path d=\"M0 0h24v24H0V0z\" fill=\"none\"/>\n",
              "    <path d=\"M18.56 5.44l.94 2.06.94-2.06 2.06-.94-2.06-.94-.94-2.06-.94 2.06-2.06.94zm-11 1L8.5 8.5l.94-2.06 2.06-.94-2.06-.94L8.5 2.5l-.94 2.06-2.06.94zm10 10l.94 2.06.94-2.06 2.06-.94-2.06-.94-.94-2.06-.94 2.06-2.06.94z\"/><path d=\"M17.41 7.96l-1.37-1.37c-.4-.4-.92-.59-1.43-.59-.52 0-1.04.2-1.43.59L10.3 9.45l-7.72 7.72c-.78.78-.78 2.05 0 2.83L4 21.41c.39.39.9.59 1.41.59.51 0 1.02-.2 1.41-.59l7.78-7.78 2.81-2.81c.8-.78.8-2.07 0-2.86zM5.41 20L4 18.59l7.72-7.72 1.47 1.35L5.41 20z\"/>\n",
              "  </svg>\n",
              "      </button>\n",
              "      \n",
              "  <style>\n",
              "    .colab-df-container {\n",
              "      display:flex;\n",
              "      flex-wrap:wrap;\n",
              "      gap: 12px;\n",
              "    }\n",
              "\n",
              "    .colab-df-convert {\n",
              "      background-color: #E8F0FE;\n",
              "      border: none;\n",
              "      border-radius: 50%;\n",
              "      cursor: pointer;\n",
              "      display: none;\n",
              "      fill: #1967D2;\n",
              "      height: 32px;\n",
              "      padding: 0 0 0 0;\n",
              "      width: 32px;\n",
              "    }\n",
              "\n",
              "    .colab-df-convert:hover {\n",
              "      background-color: #E2EBFA;\n",
              "      box-shadow: 0px 1px 2px rgba(60, 64, 67, 0.3), 0px 1px 3px 1px rgba(60, 64, 67, 0.15);\n",
              "      fill: #174EA6;\n",
              "    }\n",
              "\n",
              "    [theme=dark] .colab-df-convert {\n",
              "      background-color: #3B4455;\n",
              "      fill: #D2E3FC;\n",
              "    }\n",
              "\n",
              "    [theme=dark] .colab-df-convert:hover {\n",
              "      background-color: #434B5C;\n",
              "      box-shadow: 0px 1px 3px 1px rgba(0, 0, 0, 0.15);\n",
              "      filter: drop-shadow(0px 1px 2px rgba(0, 0, 0, 0.3));\n",
              "      fill: #FFFFFF;\n",
              "    }\n",
              "  </style>\n",
              "\n",
              "      <script>\n",
              "        const buttonEl =\n",
              "          document.querySelector('#df-ab24c6f4-9791-4409-8ee0-33fc6b7946c5 button.colab-df-convert');\n",
              "        buttonEl.style.display =\n",
              "          google.colab.kernel.accessAllowed ? 'block' : 'none';\n",
              "\n",
              "        async function convertToInteractive(key) {\n",
              "          const element = document.querySelector('#df-ab24c6f4-9791-4409-8ee0-33fc6b7946c5');\n",
              "          const dataTable =\n",
              "            await google.colab.kernel.invokeFunction('convertToInteractive',\n",
              "                                                     [key], {});\n",
              "          if (!dataTable) return;\n",
              "\n",
              "          const docLinkHtml = 'Like what you see? Visit the ' +\n",
              "            '<a target=\"_blank\" href=https://colab.research.google.com/notebooks/data_table.ipynb>data table notebook</a>'\n",
              "            + ' to learn more about interactive tables.';\n",
              "          element.innerHTML = '';\n",
              "          dataTable['output_type'] = 'display_data';\n",
              "          await google.colab.output.renderOutput(dataTable, element);\n",
              "          const docLink = document.createElement('div');\n",
              "          docLink.innerHTML = docLinkHtml;\n",
              "          element.appendChild(docLink);\n",
              "        }\n",
              "      </script>\n",
              "    </div>\n",
              "  </div>\n",
              "  "
            ]
          },
          "metadata": {},
          "execution_count": 24
        }
      ]
    },
    {
      "cell_type": "code",
      "source": [
        "beach_attr_df.shape"
      ],
      "metadata": {
        "colab": {
          "base_uri": "https://localhost:8080/"
        },
        "id": "T4N1dUHR7gYS",
        "outputId": "e27b2d26-bd61-4192-fa32-0ced7442c917"
      },
      "execution_count": 25,
      "outputs": [
        {
          "output_type": "execute_result",
          "data": {
            "text/plain": [
              "(36, 8)"
            ]
          },
          "metadata": {},
          "execution_count": 25
        }
      ]
    },
    {
      "cell_type": "markdown",
      "source": [
        "## Water Quality File"
      ],
      "metadata": {
        "id": "BCNhLedZ7Rmq"
      }
    },
    {
      "cell_type": "code",
      "source": [
        "water_quality_df = pd.read_csv(\"/content/drive/MyDrive/Project/Data/Beach/Water_Quality_Report.csv\")\n",
        "water_quality_df.head()"
      ],
      "metadata": {
        "id": "5qN3Ik_76mAm",
        "outputId": "2c4fefbd-f1b0-46ea-cdc0-a3a5321aad24",
        "colab": {
          "base_uri": "https://localhost:8080/",
          "height": 560
        }
      },
      "execution_count": 27,
      "outputs": [
        {
          "output_type": "stream",
          "name": "stderr",
          "text": [
            "/usr/local/lib/python3.7/dist-packages/IPython/core/interactiveshell.py:2882: DtypeWarning: Columns (20) have mixed types.Specify dtype option on import or set low_memory=False.\n",
            "  exec(code_obj, self.user_global_ns, self.user_ns)\n"
          ]
        },
        {
          "output_type": "execute_result",
          "data": {
            "text/plain": [
              "  State Code  Year Beach ID(Def.) Beach Name(Def.) StationID(Def.)  \\\n",
              "0         TX  2021       TX974690    Jamaica Beach          GAL014   \n",
              "1         TX  2021       TX974690    Jamaica Beach          GAL014   \n",
              "2         TX  2021       TX974690    Jamaica Beach          GAL014   \n",
              "3         TX  2021       TX974690    Jamaica Beach          GAL014   \n",
              "4         TX  2021       TX974690    Jamaica Beach          GAL014   \n",
              "\n",
              "   Station Name (Def.) CountyName(Def.)       Identifier(Def.)  \\\n",
              "0  Jamaica Beach South        GALVESTON  GAL014_20211227_90752   \n",
              "1  Jamaica Beach South        GALVESTON  GAL014_20211227_90752   \n",
              "2  Jamaica Beach South        GALVESTON  GAL014_20211215_90599   \n",
              "3  Jamaica Beach South        GALVESTON  GAL014_20211215_90599   \n",
              "4  Jamaica Beach South        GALVESTON  GAL014_20211201_90435   \n",
              "\n",
              "  StartDate(Def.) StartTime(Def.)  ... ActivityDepthValue(Def.)  \\\n",
              "0       27-DEC-21     09:00:00 AM  ...                        2   \n",
              "1       27-DEC-21     09:00:00 AM  ...                        2   \n",
              "2       15-DEC-21     09:00:00 AM  ...                        2   \n",
              "3       15-DEC-21     09:00:00 AM  ...                        2   \n",
              "4       01-DEC-21     09:00:00 AM  ...                        2   \n",
              "\n",
              "  ActivityDepthUnitCode(Def.) ResultAnalyticalMethodIdentifier Context(Def.)  \\\n",
              "0                          ft                                        21TXBCH   \n",
              "1                          ft                                        21TXBCH   \n",
              "2                          ft                                        21TXBCH   \n",
              "3                          ft                                        21TXBCH   \n",
              "4                          ft                                        21TXBCH   \n",
              "\n",
              "   ResultAnalyticalMethodIdentifier(Def.)  ResultAnalyticalMethodName(Def.)  \\\n",
              "0                                   19299                        ENTEROLERT   \n",
              "1                                   19299                        ENTEROLERT   \n",
              "2                                   19299                        ENTEROLERT   \n",
              "3                                   19299                        ENTEROLERT   \n",
              "4                                   19299                        ENTEROLERT   \n",
              "\n",
              "  Sample CollectionMethod Identifier(Def.)  \\\n",
              "0                               SPL_WTRGRB   \n",
              "1                               SPL_WTRGRB   \n",
              "2                               SPL_WTRGRB   \n",
              "3                               SPL_WTRGRB   \n",
              "4                               SPL_WTRGRB   \n",
              "\n",
              "   Sample Collection Method Name(Def.)  Field Gear(Def.)  \\\n",
              "0                    Sample Water Grab      Water Bottle   \n",
              "1                    Sample Water Grab      Water Bottle   \n",
              "2                    Sample Water Grab      Water Bottle   \n",
              "3                    Sample Water Grab      Water Bottle   \n",
              "4                    Sample Water Grab      Water Bottle   \n",
              "\n",
              "  AnalysisDateTime(Def.) DetectionQuantitationLimit(Def.)  \n",
              "0                    NaN                                -  \n",
              "1                    NaN                                -  \n",
              "2                    NaN                                -  \n",
              "3                    NaN                                -  \n",
              "4                    NaN                                -  \n",
              "\n",
              "[5 rows x 27 columns]"
            ],
            "text/html": [
              "\n",
              "  <div id=\"df-54c59d6f-73fb-4643-9720-3afd34d7afef\">\n",
              "    <div class=\"colab-df-container\">\n",
              "      <div>\n",
              "<style scoped>\n",
              "    .dataframe tbody tr th:only-of-type {\n",
              "        vertical-align: middle;\n",
              "    }\n",
              "\n",
              "    .dataframe tbody tr th {\n",
              "        vertical-align: top;\n",
              "    }\n",
              "\n",
              "    .dataframe thead th {\n",
              "        text-align: right;\n",
              "    }\n",
              "</style>\n",
              "<table border=\"1\" class=\"dataframe\">\n",
              "  <thead>\n",
              "    <tr style=\"text-align: right;\">\n",
              "      <th></th>\n",
              "      <th>State Code</th>\n",
              "      <th>Year</th>\n",
              "      <th>Beach ID(Def.)</th>\n",
              "      <th>Beach Name(Def.)</th>\n",
              "      <th>StationID(Def.)</th>\n",
              "      <th>Station Name (Def.)</th>\n",
              "      <th>CountyName(Def.)</th>\n",
              "      <th>Identifier(Def.)</th>\n",
              "      <th>StartDate(Def.)</th>\n",
              "      <th>StartTime(Def.)</th>\n",
              "      <th>...</th>\n",
              "      <th>ActivityDepthValue(Def.)</th>\n",
              "      <th>ActivityDepthUnitCode(Def.)</th>\n",
              "      <th>ResultAnalyticalMethodIdentifier Context(Def.)</th>\n",
              "      <th>ResultAnalyticalMethodIdentifier(Def.)</th>\n",
              "      <th>ResultAnalyticalMethodName(Def.)</th>\n",
              "      <th>Sample CollectionMethod Identifier(Def.)</th>\n",
              "      <th>Sample Collection Method Name(Def.)</th>\n",
              "      <th>Field Gear(Def.)</th>\n",
              "      <th>AnalysisDateTime(Def.)</th>\n",
              "      <th>DetectionQuantitationLimit(Def.)</th>\n",
              "    </tr>\n",
              "  </thead>\n",
              "  <tbody>\n",
              "    <tr>\n",
              "      <th>0</th>\n",
              "      <td>TX</td>\n",
              "      <td>2021</td>\n",
              "      <td>TX974690</td>\n",
              "      <td>Jamaica Beach</td>\n",
              "      <td>GAL014</td>\n",
              "      <td>Jamaica Beach South</td>\n",
              "      <td>GALVESTON</td>\n",
              "      <td>GAL014_20211227_90752</td>\n",
              "      <td>27-DEC-21</td>\n",
              "      <td>09:00:00 AM</td>\n",
              "      <td>...</td>\n",
              "      <td>2</td>\n",
              "      <td>ft</td>\n",
              "      <td>21TXBCH</td>\n",
              "      <td>19299</td>\n",
              "      <td>ENTEROLERT</td>\n",
              "      <td>SPL_WTRGRB</td>\n",
              "      <td>Sample Water Grab</td>\n",
              "      <td>Water Bottle</td>\n",
              "      <td>NaN</td>\n",
              "      <td>-</td>\n",
              "    </tr>\n",
              "    <tr>\n",
              "      <th>1</th>\n",
              "      <td>TX</td>\n",
              "      <td>2021</td>\n",
              "      <td>TX974690</td>\n",
              "      <td>Jamaica Beach</td>\n",
              "      <td>GAL014</td>\n",
              "      <td>Jamaica Beach South</td>\n",
              "      <td>GALVESTON</td>\n",
              "      <td>GAL014_20211227_90752</td>\n",
              "      <td>27-DEC-21</td>\n",
              "      <td>09:00:00 AM</td>\n",
              "      <td>...</td>\n",
              "      <td>2</td>\n",
              "      <td>ft</td>\n",
              "      <td>21TXBCH</td>\n",
              "      <td>19299</td>\n",
              "      <td>ENTEROLERT</td>\n",
              "      <td>SPL_WTRGRB</td>\n",
              "      <td>Sample Water Grab</td>\n",
              "      <td>Water Bottle</td>\n",
              "      <td>NaN</td>\n",
              "      <td>-</td>\n",
              "    </tr>\n",
              "    <tr>\n",
              "      <th>2</th>\n",
              "      <td>TX</td>\n",
              "      <td>2021</td>\n",
              "      <td>TX974690</td>\n",
              "      <td>Jamaica Beach</td>\n",
              "      <td>GAL014</td>\n",
              "      <td>Jamaica Beach South</td>\n",
              "      <td>GALVESTON</td>\n",
              "      <td>GAL014_20211215_90599</td>\n",
              "      <td>15-DEC-21</td>\n",
              "      <td>09:00:00 AM</td>\n",
              "      <td>...</td>\n",
              "      <td>2</td>\n",
              "      <td>ft</td>\n",
              "      <td>21TXBCH</td>\n",
              "      <td>19299</td>\n",
              "      <td>ENTEROLERT</td>\n",
              "      <td>SPL_WTRGRB</td>\n",
              "      <td>Sample Water Grab</td>\n",
              "      <td>Water Bottle</td>\n",
              "      <td>NaN</td>\n",
              "      <td>-</td>\n",
              "    </tr>\n",
              "    <tr>\n",
              "      <th>3</th>\n",
              "      <td>TX</td>\n",
              "      <td>2021</td>\n",
              "      <td>TX974690</td>\n",
              "      <td>Jamaica Beach</td>\n",
              "      <td>GAL014</td>\n",
              "      <td>Jamaica Beach South</td>\n",
              "      <td>GALVESTON</td>\n",
              "      <td>GAL014_20211215_90599</td>\n",
              "      <td>15-DEC-21</td>\n",
              "      <td>09:00:00 AM</td>\n",
              "      <td>...</td>\n",
              "      <td>2</td>\n",
              "      <td>ft</td>\n",
              "      <td>21TXBCH</td>\n",
              "      <td>19299</td>\n",
              "      <td>ENTEROLERT</td>\n",
              "      <td>SPL_WTRGRB</td>\n",
              "      <td>Sample Water Grab</td>\n",
              "      <td>Water Bottle</td>\n",
              "      <td>NaN</td>\n",
              "      <td>-</td>\n",
              "    </tr>\n",
              "    <tr>\n",
              "      <th>4</th>\n",
              "      <td>TX</td>\n",
              "      <td>2021</td>\n",
              "      <td>TX974690</td>\n",
              "      <td>Jamaica Beach</td>\n",
              "      <td>GAL014</td>\n",
              "      <td>Jamaica Beach South</td>\n",
              "      <td>GALVESTON</td>\n",
              "      <td>GAL014_20211201_90435</td>\n",
              "      <td>01-DEC-21</td>\n",
              "      <td>09:00:00 AM</td>\n",
              "      <td>...</td>\n",
              "      <td>2</td>\n",
              "      <td>ft</td>\n",
              "      <td>21TXBCH</td>\n",
              "      <td>19299</td>\n",
              "      <td>ENTEROLERT</td>\n",
              "      <td>SPL_WTRGRB</td>\n",
              "      <td>Sample Water Grab</td>\n",
              "      <td>Water Bottle</td>\n",
              "      <td>NaN</td>\n",
              "      <td>-</td>\n",
              "    </tr>\n",
              "  </tbody>\n",
              "</table>\n",
              "<p>5 rows × 27 columns</p>\n",
              "</div>\n",
              "      <button class=\"colab-df-convert\" onclick=\"convertToInteractive('df-54c59d6f-73fb-4643-9720-3afd34d7afef')\"\n",
              "              title=\"Convert this dataframe to an interactive table.\"\n",
              "              style=\"display:none;\">\n",
              "        \n",
              "  <svg xmlns=\"http://www.w3.org/2000/svg\" height=\"24px\"viewBox=\"0 0 24 24\"\n",
              "       width=\"24px\">\n",
              "    <path d=\"M0 0h24v24H0V0z\" fill=\"none\"/>\n",
              "    <path d=\"M18.56 5.44l.94 2.06.94-2.06 2.06-.94-2.06-.94-.94-2.06-.94 2.06-2.06.94zm-11 1L8.5 8.5l.94-2.06 2.06-.94-2.06-.94L8.5 2.5l-.94 2.06-2.06.94zm10 10l.94 2.06.94-2.06 2.06-.94-2.06-.94-.94-2.06-.94 2.06-2.06.94z\"/><path d=\"M17.41 7.96l-1.37-1.37c-.4-.4-.92-.59-1.43-.59-.52 0-1.04.2-1.43.59L10.3 9.45l-7.72 7.72c-.78.78-.78 2.05 0 2.83L4 21.41c.39.39.9.59 1.41.59.51 0 1.02-.2 1.41-.59l7.78-7.78 2.81-2.81c.8-.78.8-2.07 0-2.86zM5.41 20L4 18.59l7.72-7.72 1.47 1.35L5.41 20z\"/>\n",
              "  </svg>\n",
              "      </button>\n",
              "      \n",
              "  <style>\n",
              "    .colab-df-container {\n",
              "      display:flex;\n",
              "      flex-wrap:wrap;\n",
              "      gap: 12px;\n",
              "    }\n",
              "\n",
              "    .colab-df-convert {\n",
              "      background-color: #E8F0FE;\n",
              "      border: none;\n",
              "      border-radius: 50%;\n",
              "      cursor: pointer;\n",
              "      display: none;\n",
              "      fill: #1967D2;\n",
              "      height: 32px;\n",
              "      padding: 0 0 0 0;\n",
              "      width: 32px;\n",
              "    }\n",
              "\n",
              "    .colab-df-convert:hover {\n",
              "      background-color: #E2EBFA;\n",
              "      box-shadow: 0px 1px 2px rgba(60, 64, 67, 0.3), 0px 1px 3px 1px rgba(60, 64, 67, 0.15);\n",
              "      fill: #174EA6;\n",
              "    }\n",
              "\n",
              "    [theme=dark] .colab-df-convert {\n",
              "      background-color: #3B4455;\n",
              "      fill: #D2E3FC;\n",
              "    }\n",
              "\n",
              "    [theme=dark] .colab-df-convert:hover {\n",
              "      background-color: #434B5C;\n",
              "      box-shadow: 0px 1px 3px 1px rgba(0, 0, 0, 0.15);\n",
              "      filter: drop-shadow(0px 1px 2px rgba(0, 0, 0, 0.3));\n",
              "      fill: #FFFFFF;\n",
              "    }\n",
              "  </style>\n",
              "\n",
              "      <script>\n",
              "        const buttonEl =\n",
              "          document.querySelector('#df-54c59d6f-73fb-4643-9720-3afd34d7afef button.colab-df-convert');\n",
              "        buttonEl.style.display =\n",
              "          google.colab.kernel.accessAllowed ? 'block' : 'none';\n",
              "\n",
              "        async function convertToInteractive(key) {\n",
              "          const element = document.querySelector('#df-54c59d6f-73fb-4643-9720-3afd34d7afef');\n",
              "          const dataTable =\n",
              "            await google.colab.kernel.invokeFunction('convertToInteractive',\n",
              "                                                     [key], {});\n",
              "          if (!dataTable) return;\n",
              "\n",
              "          const docLinkHtml = 'Like what you see? Visit the ' +\n",
              "            '<a target=\"_blank\" href=https://colab.research.google.com/notebooks/data_table.ipynb>data table notebook</a>'\n",
              "            + ' to learn more about interactive tables.';\n",
              "          element.innerHTML = '';\n",
              "          dataTable['output_type'] = 'display_data';\n",
              "          await google.colab.output.renderOutput(dataTable, element);\n",
              "          const docLink = document.createElement('div');\n",
              "          docLink.innerHTML = docLinkHtml;\n",
              "          element.appendChild(docLink);\n",
              "        }\n",
              "      </script>\n",
              "    </div>\n",
              "  </div>\n",
              "  "
            ]
          },
          "metadata": {},
          "execution_count": 27
        }
      ]
    },
    {
      "cell_type": "code",
      "source": [
        "water_quality_df.shape"
      ],
      "metadata": {
        "id": "u-lTSUtT9mTK",
        "outputId": "6bde78fc-d864-4017-ffde-12cb46388085",
        "colab": {
          "base_uri": "https://localhost:8080/"
        }
      },
      "execution_count": 29,
      "outputs": [
        {
          "output_type": "execute_result",
          "data": {
            "text/plain": [
              "(42540, 27)"
            ]
          },
          "metadata": {},
          "execution_count": 29
        }
      ]
    },
    {
      "cell_type": "code",
      "source": [
        "water_quality_df.nunique()"
      ],
      "metadata": {
        "id": "Oed3tS9s9Vxe",
        "outputId": "01147df1-1776-4876-a027-d69cb2ac5df2",
        "colab": {
          "base_uri": "https://localhost:8080/"
        }
      },
      "execution_count": 28,
      "outputs": [
        {
          "output_type": "execute_result",
          "data": {
            "text/plain": [
              "State Code                                            1\n",
              "Year                                                 15\n",
              "Beach ID(Def.)                                       23\n",
              "Beach Name(Def.)                                     23\n",
              "StationID(Def.)                                      52\n",
              "Station Name (Def.)                                  52\n",
              "CountyName(Def.)                                      1\n",
              "Identifier(Def.)                                  28575\n",
              "StartDate(Def.)                                    1988\n",
              "StartTime(Def.)                                      41\n",
              "ZoneCode(Def.)                                        2\n",
              "ActivityTypeCode(Def.)                                1\n",
              "CharacteristicName(Def.)                              1\n",
              "Result ValueText(Def.)                                0\n",
              "ResultValue(Def.)                                  3006\n",
              "ResultMeasureUnit                                     3\n",
              "Result Comment(Def.)                                  0\n",
              "ActivityDepthValue(Def.)                              1\n",
              "ActivityDepthUnitCode(Def.)                           1\n",
              "ResultAnalyticalMethodIdentifier Context(Def.)        1\n",
              "ResultAnalyticalMethodIdentifier(Def.)                5\n",
              "ResultAnalyticalMethodName(Def.)                      3\n",
              "Sample CollectionMethod Identifier(Def.)              1\n",
              "Sample Collection Method Name(Def.)                   1\n",
              "Field Gear(Def.)                                      1\n",
              "AnalysisDateTime(Def.)                                0\n",
              "DetectionQuantitationLimit(Def.)                      1\n",
              "dtype: int64"
            ]
          },
          "metadata": {},
          "execution_count": 28
        }
      ]
    },
    {
      "cell_type": "markdown",
      "source": [
        "Drop non unique columns"
      ],
      "metadata": {
        "id": "p2voDeBi976n"
      }
    },
    {
      "cell_type": "code",
      "source": [
        "water_quality_columns =water_quality_df.nunique()[(water_quality_df.nunique()==1) | (water_quality_df.nunique()==0)].index"
      ],
      "metadata": {
        "id": "U78k8f0T97qW"
      },
      "execution_count": 35,
      "outputs": []
    },
    {
      "cell_type": "code",
      "source": [
        "water_quality_df.drop(water_quality_columns,1,inplace=True)"
      ],
      "metadata": {
        "id": "-JFZFcKd9ak_",
        "outputId": "e6967b61-640a-4092-c03a-ff645d7c3ce9",
        "colab": {
          "base_uri": "https://localhost:8080/"
        }
      },
      "execution_count": 36,
      "outputs": [
        {
          "output_type": "stream",
          "name": "stderr",
          "text": [
            "/usr/local/lib/python3.7/dist-packages/ipykernel_launcher.py:1: FutureWarning: In a future version of pandas all arguments of DataFrame.drop except for the argument 'labels' will be keyword-only\n",
            "  \"\"\"Entry point for launching an IPython kernel.\n"
          ]
        }
      ]
    },
    {
      "cell_type": "code",
      "source": [
        "water_quality_df.head()"
      ],
      "metadata": {
        "id": "NHzfZO0l-y5d",
        "outputId": "894a1139-9e2a-404e-9d86-6f1e7b1f769c",
        "colab": {
          "base_uri": "https://localhost:8080/",
          "height": 478
        }
      },
      "execution_count": 37,
      "outputs": [
        {
          "output_type": "execute_result",
          "data": {
            "text/plain": [
              "   Year Beach ID(Def.) Beach Name(Def.) StationID(Def.)  Station Name (Def.)  \\\n",
              "0  2021       TX974690    Jamaica Beach          GAL014  Jamaica Beach South   \n",
              "1  2021       TX974690    Jamaica Beach          GAL014  Jamaica Beach South   \n",
              "2  2021       TX974690    Jamaica Beach          GAL014  Jamaica Beach South   \n",
              "3  2021       TX974690    Jamaica Beach          GAL014  Jamaica Beach South   \n",
              "4  2021       TX974690    Jamaica Beach          GAL014  Jamaica Beach South   \n",
              "\n",
              "        Identifier(Def.) StartDate(Def.) StartTime(Def.) ZoneCode(Def.)  \\\n",
              "0  GAL014_20211227_90752       27-DEC-21     09:00:00 AM            CDT   \n",
              "1  GAL014_20211227_90752       27-DEC-21     09:00:00 AM            CDT   \n",
              "2  GAL014_20211215_90599       15-DEC-21     09:00:00 AM            CDT   \n",
              "3  GAL014_20211215_90599       15-DEC-21     09:00:00 AM            CDT   \n",
              "4  GAL014_20211201_90435       01-DEC-21     09:00:00 AM            CDT   \n",
              "\n",
              "   ResultValue(Def.) ResultMeasureUnit ResultAnalyticalMethodIdentifier(Def.)  \\\n",
              "0               7.94         MPN/100ml                                  19299   \n",
              "1              20.00         MPN/100ml                                  19299   \n",
              "2               6.30         MPN/100ml                                  19299   \n",
              "3               5.00         MPN/100ml                                  19299   \n",
              "4               7.07         MPN/100ml                                  19299   \n",
              "\n",
              "  ResultAnalyticalMethodName(Def.)  \n",
              "0                       ENTEROLERT  \n",
              "1                       ENTEROLERT  \n",
              "2                       ENTEROLERT  \n",
              "3                       ENTEROLERT  \n",
              "4                       ENTEROLERT  "
            ],
            "text/html": [
              "\n",
              "  <div id=\"df-5f4827fd-00cb-48c3-9185-8111d94058e8\">\n",
              "    <div class=\"colab-df-container\">\n",
              "      <div>\n",
              "<style scoped>\n",
              "    .dataframe tbody tr th:only-of-type {\n",
              "        vertical-align: middle;\n",
              "    }\n",
              "\n",
              "    .dataframe tbody tr th {\n",
              "        vertical-align: top;\n",
              "    }\n",
              "\n",
              "    .dataframe thead th {\n",
              "        text-align: right;\n",
              "    }\n",
              "</style>\n",
              "<table border=\"1\" class=\"dataframe\">\n",
              "  <thead>\n",
              "    <tr style=\"text-align: right;\">\n",
              "      <th></th>\n",
              "      <th>Year</th>\n",
              "      <th>Beach ID(Def.)</th>\n",
              "      <th>Beach Name(Def.)</th>\n",
              "      <th>StationID(Def.)</th>\n",
              "      <th>Station Name (Def.)</th>\n",
              "      <th>Identifier(Def.)</th>\n",
              "      <th>StartDate(Def.)</th>\n",
              "      <th>StartTime(Def.)</th>\n",
              "      <th>ZoneCode(Def.)</th>\n",
              "      <th>ResultValue(Def.)</th>\n",
              "      <th>ResultMeasureUnit</th>\n",
              "      <th>ResultAnalyticalMethodIdentifier(Def.)</th>\n",
              "      <th>ResultAnalyticalMethodName(Def.)</th>\n",
              "    </tr>\n",
              "  </thead>\n",
              "  <tbody>\n",
              "    <tr>\n",
              "      <th>0</th>\n",
              "      <td>2021</td>\n",
              "      <td>TX974690</td>\n",
              "      <td>Jamaica Beach</td>\n",
              "      <td>GAL014</td>\n",
              "      <td>Jamaica Beach South</td>\n",
              "      <td>GAL014_20211227_90752</td>\n",
              "      <td>27-DEC-21</td>\n",
              "      <td>09:00:00 AM</td>\n",
              "      <td>CDT</td>\n",
              "      <td>7.94</td>\n",
              "      <td>MPN/100ml</td>\n",
              "      <td>19299</td>\n",
              "      <td>ENTEROLERT</td>\n",
              "    </tr>\n",
              "    <tr>\n",
              "      <th>1</th>\n",
              "      <td>2021</td>\n",
              "      <td>TX974690</td>\n",
              "      <td>Jamaica Beach</td>\n",
              "      <td>GAL014</td>\n",
              "      <td>Jamaica Beach South</td>\n",
              "      <td>GAL014_20211227_90752</td>\n",
              "      <td>27-DEC-21</td>\n",
              "      <td>09:00:00 AM</td>\n",
              "      <td>CDT</td>\n",
              "      <td>20.00</td>\n",
              "      <td>MPN/100ml</td>\n",
              "      <td>19299</td>\n",
              "      <td>ENTEROLERT</td>\n",
              "    </tr>\n",
              "    <tr>\n",
              "      <th>2</th>\n",
              "      <td>2021</td>\n",
              "      <td>TX974690</td>\n",
              "      <td>Jamaica Beach</td>\n",
              "      <td>GAL014</td>\n",
              "      <td>Jamaica Beach South</td>\n",
              "      <td>GAL014_20211215_90599</td>\n",
              "      <td>15-DEC-21</td>\n",
              "      <td>09:00:00 AM</td>\n",
              "      <td>CDT</td>\n",
              "      <td>6.30</td>\n",
              "      <td>MPN/100ml</td>\n",
              "      <td>19299</td>\n",
              "      <td>ENTEROLERT</td>\n",
              "    </tr>\n",
              "    <tr>\n",
              "      <th>3</th>\n",
              "      <td>2021</td>\n",
              "      <td>TX974690</td>\n",
              "      <td>Jamaica Beach</td>\n",
              "      <td>GAL014</td>\n",
              "      <td>Jamaica Beach South</td>\n",
              "      <td>GAL014_20211215_90599</td>\n",
              "      <td>15-DEC-21</td>\n",
              "      <td>09:00:00 AM</td>\n",
              "      <td>CDT</td>\n",
              "      <td>5.00</td>\n",
              "      <td>MPN/100ml</td>\n",
              "      <td>19299</td>\n",
              "      <td>ENTEROLERT</td>\n",
              "    </tr>\n",
              "    <tr>\n",
              "      <th>4</th>\n",
              "      <td>2021</td>\n",
              "      <td>TX974690</td>\n",
              "      <td>Jamaica Beach</td>\n",
              "      <td>GAL014</td>\n",
              "      <td>Jamaica Beach South</td>\n",
              "      <td>GAL014_20211201_90435</td>\n",
              "      <td>01-DEC-21</td>\n",
              "      <td>09:00:00 AM</td>\n",
              "      <td>CDT</td>\n",
              "      <td>7.07</td>\n",
              "      <td>MPN/100ml</td>\n",
              "      <td>19299</td>\n",
              "      <td>ENTEROLERT</td>\n",
              "    </tr>\n",
              "  </tbody>\n",
              "</table>\n",
              "</div>\n",
              "      <button class=\"colab-df-convert\" onclick=\"convertToInteractive('df-5f4827fd-00cb-48c3-9185-8111d94058e8')\"\n",
              "              title=\"Convert this dataframe to an interactive table.\"\n",
              "              style=\"display:none;\">\n",
              "        \n",
              "  <svg xmlns=\"http://www.w3.org/2000/svg\" height=\"24px\"viewBox=\"0 0 24 24\"\n",
              "       width=\"24px\">\n",
              "    <path d=\"M0 0h24v24H0V0z\" fill=\"none\"/>\n",
              "    <path d=\"M18.56 5.44l.94 2.06.94-2.06 2.06-.94-2.06-.94-.94-2.06-.94 2.06-2.06.94zm-11 1L8.5 8.5l.94-2.06 2.06-.94-2.06-.94L8.5 2.5l-.94 2.06-2.06.94zm10 10l.94 2.06.94-2.06 2.06-.94-2.06-.94-.94-2.06-.94 2.06-2.06.94z\"/><path d=\"M17.41 7.96l-1.37-1.37c-.4-.4-.92-.59-1.43-.59-.52 0-1.04.2-1.43.59L10.3 9.45l-7.72 7.72c-.78.78-.78 2.05 0 2.83L4 21.41c.39.39.9.59 1.41.59.51 0 1.02-.2 1.41-.59l7.78-7.78 2.81-2.81c.8-.78.8-2.07 0-2.86zM5.41 20L4 18.59l7.72-7.72 1.47 1.35L5.41 20z\"/>\n",
              "  </svg>\n",
              "      </button>\n",
              "      \n",
              "  <style>\n",
              "    .colab-df-container {\n",
              "      display:flex;\n",
              "      flex-wrap:wrap;\n",
              "      gap: 12px;\n",
              "    }\n",
              "\n",
              "    .colab-df-convert {\n",
              "      background-color: #E8F0FE;\n",
              "      border: none;\n",
              "      border-radius: 50%;\n",
              "      cursor: pointer;\n",
              "      display: none;\n",
              "      fill: #1967D2;\n",
              "      height: 32px;\n",
              "      padding: 0 0 0 0;\n",
              "      width: 32px;\n",
              "    }\n",
              "\n",
              "    .colab-df-convert:hover {\n",
              "      background-color: #E2EBFA;\n",
              "      box-shadow: 0px 1px 2px rgba(60, 64, 67, 0.3), 0px 1px 3px 1px rgba(60, 64, 67, 0.15);\n",
              "      fill: #174EA6;\n",
              "    }\n",
              "\n",
              "    [theme=dark] .colab-df-convert {\n",
              "      background-color: #3B4455;\n",
              "      fill: #D2E3FC;\n",
              "    }\n",
              "\n",
              "    [theme=dark] .colab-df-convert:hover {\n",
              "      background-color: #434B5C;\n",
              "      box-shadow: 0px 1px 3px 1px rgba(0, 0, 0, 0.15);\n",
              "      filter: drop-shadow(0px 1px 2px rgba(0, 0, 0, 0.3));\n",
              "      fill: #FFFFFF;\n",
              "    }\n",
              "  </style>\n",
              "\n",
              "      <script>\n",
              "        const buttonEl =\n",
              "          document.querySelector('#df-5f4827fd-00cb-48c3-9185-8111d94058e8 button.colab-df-convert');\n",
              "        buttonEl.style.display =\n",
              "          google.colab.kernel.accessAllowed ? 'block' : 'none';\n",
              "\n",
              "        async function convertToInteractive(key) {\n",
              "          const element = document.querySelector('#df-5f4827fd-00cb-48c3-9185-8111d94058e8');\n",
              "          const dataTable =\n",
              "            await google.colab.kernel.invokeFunction('convertToInteractive',\n",
              "                                                     [key], {});\n",
              "          if (!dataTable) return;\n",
              "\n",
              "          const docLinkHtml = 'Like what you see? Visit the ' +\n",
              "            '<a target=\"_blank\" href=https://colab.research.google.com/notebooks/data_table.ipynb>data table notebook</a>'\n",
              "            + ' to learn more about interactive tables.';\n",
              "          element.innerHTML = '';\n",
              "          dataTable['output_type'] = 'display_data';\n",
              "          await google.colab.output.renderOutput(dataTable, element);\n",
              "          const docLink = document.createElement('div');\n",
              "          docLink.innerHTML = docLinkHtml;\n",
              "          element.appendChild(docLink);\n",
              "        }\n",
              "      </script>\n",
              "    </div>\n",
              "  </div>\n",
              "  "
            ]
          },
          "metadata": {},
          "execution_count": 37
        }
      ]
    },
    {
      "cell_type": "code",
      "source": [
        "water_quality_df.shape"
      ],
      "metadata": {
        "id": "CrXacWu3_Ye6",
        "outputId": "bde25a85-f2e2-40cf-8f11-3c4a3bf3ef0c",
        "colab": {
          "base_uri": "https://localhost:8080/"
        }
      },
      "execution_count": 38,
      "outputs": [
        {
          "output_type": "execute_result",
          "data": {
            "text/plain": [
              "(42540, 13)"
            ]
          },
          "metadata": {},
          "execution_count": 38
        }
      ]
    },
    {
      "cell_type": "markdown",
      "source": [
        "Check unique values again"
      ],
      "metadata": {
        "id": "XXIww8vtAC3B"
      }
    },
    {
      "cell_type": "code",
      "source": [
        "water_quality_df.nunique()"
      ],
      "metadata": {
        "id": "IQvjBz1c_SdF",
        "outputId": "81959b6e-c34d-4867-fd5a-32ae6cf6d49e",
        "colab": {
          "base_uri": "https://localhost:8080/"
        }
      },
      "execution_count": 39,
      "outputs": [
        {
          "output_type": "execute_result",
          "data": {
            "text/plain": [
              "Year                                         15\n",
              "Beach ID(Def.)                               23\n",
              "Beach Name(Def.)                             23\n",
              "StationID(Def.)                              52\n",
              "Station Name (Def.)                          52\n",
              "Identifier(Def.)                          28575\n",
              "StartDate(Def.)                            1988\n",
              "StartTime(Def.)                              41\n",
              "ZoneCode(Def.)                                2\n",
              "ResultValue(Def.)                          3006\n",
              "ResultMeasureUnit                             3\n",
              "ResultAnalyticalMethodIdentifier(Def.)        5\n",
              "ResultAnalyticalMethodName(Def.)              3\n",
              "dtype: int64"
            ]
          },
          "metadata": {},
          "execution_count": 39
        }
      ]
    },
    {
      "cell_type": "code",
      "source": [
        "water_quality_df[\"ResultMeasureUnit\"].value_counts()"
      ],
      "metadata": {
        "id": "xkpz1F97AKeN",
        "outputId": "6cd16547-895b-4a76-ff84-f38e21749b39",
        "colab": {
          "base_uri": "https://localhost:8080/"
        }
      },
      "execution_count": 40,
      "outputs": [
        {
          "output_type": "execute_result",
          "data": {
            "text/plain": [
              "MPN/100ml    23186\n",
              "cfu/100ml    16175\n",
              "CFU           3179\n",
              "Name: ResultMeasureUnit, dtype: int64"
            ]
          },
          "metadata": {},
          "execution_count": 40
        }
      ]
    },
    {
      "cell_type": "markdown",
      "source": [
        "Note measurement units, they are the same units. https://www.researchgate.net/post/Is_there_a_way_to_convert_MPN_most_probable_number_to_CFU_colony_forming_unit#:~:text=The%20simple%20answer%20is%20that,is%20equal%20to%20one%20CFU."
      ],
      "metadata": {
        "id": "nIeTkIaxBiNt"
      }
    },
    {
      "cell_type": "code",
      "source": [
        "water_quality_df[\"ZoneCode(Def.)\"].value_counts()"
      ],
      "metadata": {
        "id": "YHr1X8eJBn2M",
        "outputId": "b17d40b6-2025-4d6f-88c0-5e13caf17fb2",
        "colab": {
          "base_uri": "https://localhost:8080/"
        }
      },
      "execution_count": 41,
      "outputs": [
        {
          "output_type": "execute_result",
          "data": {
            "text/plain": [
              "CDT    36100\n",
              "CST     6440\n",
              "Name: ZoneCode(Def.), dtype: int64"
            ]
          },
          "metadata": {},
          "execution_count": 41
        }
      ]
    },
    {
      "cell_type": "markdown",
      "source": [
        "### Water Quality Resuls Value Inspection"
      ],
      "metadata": {
        "id": "bkJjXOr1CZe7"
      }
    },
    {
      "cell_type": "code",
      "source": [
        ""
      ],
      "metadata": {
        "id": "Q6DUbfdPCeMV"
      },
      "execution_count": null,
      "outputs": []
    }
  ]
}