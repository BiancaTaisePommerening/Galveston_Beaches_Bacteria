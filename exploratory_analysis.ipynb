{
  "nbformat": 4,
  "nbformat_minor": 0,
  "metadata": {
    "colab": {
      "name": "exploratory_analysis.ipynb",
      "provenance": [],
      "collapsed_sections": [],
      "include_colab_link": true
    },
    "kernelspec": {
      "name": "python3",
      "display_name": "Python 3"
    },
    "language_info": {
      "name": "python"
    }
  },
  "cells": [
    {
      "cell_type": "markdown",
      "metadata": {
        "id": "view-in-github",
        "colab_type": "text"
      },
      "source": [
        "<a href=\"https://colab.research.google.com/github/david-garza/final_project/blob/bianca/exploratory_analysis.ipynb\" target=\"_parent\"><img src=\"https://colab.research.google.com/assets/colab-badge.svg\" alt=\"Open In Colab\"/></a>"
      ]
    },
    {
      "cell_type": "markdown",
      "source": [
        "# Quick Analysis of CSV Data from BEACON and National Weather Service"
      ],
      "metadata": {
        "id": "yyb5obJayxMt"
      }
    },
    {
      "cell_type": "markdown",
      "source": [
        "## Beach Attributes File"
      ],
      "metadata": {
        "id": "Hts9j5WR7InX"
      }
    },
    {
      "cell_type": "code",
      "execution_count": 10,
      "metadata": {
        "id": "X4eydd8cyXsy"
      },
      "outputs": [],
      "source": [
        "# Load pandas module\n",
        "import pandas as pd"
      ]
    },
    {
      "cell_type": "code",
      "source": [
        "# Read beach_attributes from local gdrive location, MUST BE CHANGED TO MATCH YOUR FILE LOCATION!!!\n",
        "#beach_attr_df = pd.read_csv(\"/content/drive/MyDrive/Project/Data/Beach/Beach_Attributes.csv\")\n",
        "\n",
        "# Read local file.\n",
        "from google.colab import files\n",
        "upload = files.upload()"
      ],
      "metadata": {
        "id": "5m84moZPzOEe",
        "colab": {
          "resources": {
            "http://localhost:8080/nbextensions/google.colab/files.js": {
              "data": "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",
              "ok": true,
              "headers": [
                [
                  "content-type",
                  "application/javascript"
                ]
              ],
              "status": 200,
              "status_text": ""
            }
          },
          "base_uri": "https://localhost:8080/",
          "height": 73
        },
        "outputId": "99944a85-b237-4342-e0c2-5c369158377d"
      },
      "execution_count": 11,
      "outputs": [
        {
          "output_type": "display_data",
          "data": {
            "text/plain": [
              "<IPython.core.display.HTML object>"
            ],
            "text/html": [
              "\n",
              "     <input type=\"file\" id=\"files-18d97653-54f5-4ef8-b799-9f740898f28b\" name=\"files[]\" multiple disabled\n",
              "        style=\"border:none\" />\n",
              "     <output id=\"result-18d97653-54f5-4ef8-b799-9f740898f28b\">\n",
              "      Upload widget is only available when the cell has been executed in the\n",
              "      current browser session. Please rerun this cell to enable.\n",
              "      </output>\n",
              "      <script src=\"/nbextensions/google.colab/files.js\"></script> "
            ]
          },
          "metadata": {}
        },
        {
          "output_type": "stream",
          "name": "stdout",
          "text": [
            "Saving Beach_Attributes.csv to Beach_Attributes (2).csv\n"
          ]
        }
      ]
    },
    {
      "cell_type": "code",
      "source": [
        "# Import and read the \"Beach_Attributes.csv\".\n",
        "import pandas as pd \n",
        "beach_attr_df = pd.read_csv(\"Beach_Attributes.csv\")\n",
        "pd.set_option('max_columns', None)\n",
        "beach_attr_df"
      ],
      "metadata": {
        "colab": {
          "base_uri": "https://localhost:8080/",
          "height": 696
        },
        "id": "P1-aAkCh0D9F",
        "outputId": "703a5581-2733-48c3-8d3b-b4415a7301cc"
      },
      "execution_count": 61,
      "outputs": [
        {
          "output_type": "execute_result",
          "data": {
            "text/plain": [
              "    State  Year  Beach ID     Beach Name     County  \\\n",
              "0      TX  2022  TX710697       25th St.  GALVESTON   \n",
              "1      TX  2022  TX214299       45th St.  GALVESTON   \n",
              "2      TX  2022  TX486021       61st St.  GALVESTON   \n",
              "3      TX  2022  TX327206    Appfel Park  GALVESTON   \n",
              "4      TX  2022  TX940700         Caplen  GALVESTON   \n",
              "..    ...   ...       ...            ...        ...   \n",
              "539    TX  2008  TX426780       West End  GALVESTON   \n",
              "540    TX  2007  TX974690  Jamaica Beach  GALVESTON   \n",
              "541    TX  2007  TX669225     O'Neil Rd.  GALVESTON   \n",
              "542    TX  2007  TX832087  Rettilon Road  GALVESTON   \n",
              "543    TX  2007  TX767833       Sea Isle  GALVESTON   \n",
              "\n",
              "    Beach Ownership/Beach Accessibility   BeachLength (Mi)  Tier  \\\n",
              "0                          Public/Public             1.800     1   \n",
              "1                          Public/Public             1.550     1   \n",
              "2                          Public/Public             1.040     1   \n",
              "3                          Public/Public             2.060     1   \n",
              "4                          Public/Public             1.460     2   \n",
              "..                                   ...               ...   ...   \n",
              "539                        Public/Public             3.408     1   \n",
              "540                        Public/Public             0.805     1   \n",
              "541                        Public/Public             1.128     1   \n",
              "542                        Public/Public             2.370     1   \n",
              "543                        Public/Public             3.757     1   \n",
              "\n",
              "     Start Latitude  Start Longitude  End Latitude  End Longitude  \\\n",
              "0         29.298146       -94.777565     29.284662     -94.794776   \n",
              "1         29.284667       -94.794770     29.271917     -94.815865   \n",
              "2         29.271922       -94.815859     29.264091     -94.830244   \n",
              "3         29.337451       -94.733010     29.324250     -94.739129   \n",
              "4         29.503046       -94.510477     29.494188     -94.532478   \n",
              "..              ...              ...           ...            ...   \n",
              "539       29.430352       -94.672240     29.396866     -94.713313   \n",
              "540       29.182981       -94.969426     29.176498     -94.980493   \n",
              "541       29.439180       -94.656532     29.430347     -94.672240   \n",
              "542       29.396868       -94.713310     29.367899     -94.732729   \n",
              "543       29.157639       -95.011542     29.125974     -95.062028   \n",
              "\n",
              "     Waterbody Name Waterbody Type  AdvisoryReportingFrequency(to EPA)  \\\n",
              "0    Gulf of Mexico     Open Coast                                 1.0   \n",
              "1    Gulf of Mexico     Open Coast                                 1.0   \n",
              "2    Gulf of Mexico     Open Coast                                 1.0   \n",
              "3    Gulf of Mexico     Open Coast                                 1.0   \n",
              "4    Gulf of Mexico     Open Coast                                 1.0   \n",
              "..              ...            ...                                 ...   \n",
              "539  Gulf of Mexico     Open Coast                                 NaN   \n",
              "540  Gulf of Mexico     Open Coast                                 NaN   \n",
              "541  Gulf of Mexico     Open Coast                                 NaN   \n",
              "542  Gulf of Mexico     Open Coast                                 NaN   \n",
              "543  Gulf of Mexico     Open Coast                                 NaN   \n",
              "\n",
              "    AdvisoryReportingFrequencyUnits  \n",
              "0                          PER_YEAR  \n",
              "1                          PER_YEAR  \n",
              "2                          PER_YEAR  \n",
              "3                          PER_YEAR  \n",
              "4                          PER_YEAR  \n",
              "..                              ...  \n",
              "539                             NaN  \n",
              "540                             NaN  \n",
              "541                             NaN  \n",
              "542                             NaN  \n",
              "543                             NaN  \n",
              "\n",
              "[544 rows x 16 columns]"
            ],
            "text/html": [
              "\n",
              "  <div id=\"df-56290d4a-37ae-4695-afe6-5361255fef8b\">\n",
              "    <div class=\"colab-df-container\">\n",
              "      <div>\n",
              "<style scoped>\n",
              "    .dataframe tbody tr th:only-of-type {\n",
              "        vertical-align: middle;\n",
              "    }\n",
              "\n",
              "    .dataframe tbody tr th {\n",
              "        vertical-align: top;\n",
              "    }\n",
              "\n",
              "    .dataframe thead th {\n",
              "        text-align: right;\n",
              "    }\n",
              "</style>\n",
              "<table border=\"1\" class=\"dataframe\">\n",
              "  <thead>\n",
              "    <tr style=\"text-align: right;\">\n",
              "      <th></th>\n",
              "      <th>State</th>\n",
              "      <th>Year</th>\n",
              "      <th>Beach ID</th>\n",
              "      <th>Beach Name</th>\n",
              "      <th>County</th>\n",
              "      <th>Beach Ownership/Beach Accessibility</th>\n",
              "      <th>BeachLength (Mi)</th>\n",
              "      <th>Tier</th>\n",
              "      <th>Start Latitude</th>\n",
              "      <th>Start Longitude</th>\n",
              "      <th>End Latitude</th>\n",
              "      <th>End Longitude</th>\n",
              "      <th>Waterbody Name</th>\n",
              "      <th>Waterbody Type</th>\n",
              "      <th>AdvisoryReportingFrequency(to EPA)</th>\n",
              "      <th>AdvisoryReportingFrequencyUnits</th>\n",
              "    </tr>\n",
              "  </thead>\n",
              "  <tbody>\n",
              "    <tr>\n",
              "      <th>0</th>\n",
              "      <td>TX</td>\n",
              "      <td>2022</td>\n",
              "      <td>TX710697</td>\n",
              "      <td>25th St.</td>\n",
              "      <td>GALVESTON</td>\n",
              "      <td>Public/Public</td>\n",
              "      <td>1.800</td>\n",
              "      <td>1</td>\n",
              "      <td>29.298146</td>\n",
              "      <td>-94.777565</td>\n",
              "      <td>29.284662</td>\n",
              "      <td>-94.794776</td>\n",
              "      <td>Gulf of Mexico</td>\n",
              "      <td>Open Coast</td>\n",
              "      <td>1.0</td>\n",
              "      <td>PER_YEAR</td>\n",
              "    </tr>\n",
              "    <tr>\n",
              "      <th>1</th>\n",
              "      <td>TX</td>\n",
              "      <td>2022</td>\n",
              "      <td>TX214299</td>\n",
              "      <td>45th St.</td>\n",
              "      <td>GALVESTON</td>\n",
              "      <td>Public/Public</td>\n",
              "      <td>1.550</td>\n",
              "      <td>1</td>\n",
              "      <td>29.284667</td>\n",
              "      <td>-94.794770</td>\n",
              "      <td>29.271917</td>\n",
              "      <td>-94.815865</td>\n",
              "      <td>Gulf of Mexico</td>\n",
              "      <td>Open Coast</td>\n",
              "      <td>1.0</td>\n",
              "      <td>PER_YEAR</td>\n",
              "    </tr>\n",
              "    <tr>\n",
              "      <th>2</th>\n",
              "      <td>TX</td>\n",
              "      <td>2022</td>\n",
              "      <td>TX486021</td>\n",
              "      <td>61st St.</td>\n",
              "      <td>GALVESTON</td>\n",
              "      <td>Public/Public</td>\n",
              "      <td>1.040</td>\n",
              "      <td>1</td>\n",
              "      <td>29.271922</td>\n",
              "      <td>-94.815859</td>\n",
              "      <td>29.264091</td>\n",
              "      <td>-94.830244</td>\n",
              "      <td>Gulf of Mexico</td>\n",
              "      <td>Open Coast</td>\n",
              "      <td>1.0</td>\n",
              "      <td>PER_YEAR</td>\n",
              "    </tr>\n",
              "    <tr>\n",
              "      <th>3</th>\n",
              "      <td>TX</td>\n",
              "      <td>2022</td>\n",
              "      <td>TX327206</td>\n",
              "      <td>Appfel Park</td>\n",
              "      <td>GALVESTON</td>\n",
              "      <td>Public/Public</td>\n",
              "      <td>2.060</td>\n",
              "      <td>1</td>\n",
              "      <td>29.337451</td>\n",
              "      <td>-94.733010</td>\n",
              "      <td>29.324250</td>\n",
              "      <td>-94.739129</td>\n",
              "      <td>Gulf of Mexico</td>\n",
              "      <td>Open Coast</td>\n",
              "      <td>1.0</td>\n",
              "      <td>PER_YEAR</td>\n",
              "    </tr>\n",
              "    <tr>\n",
              "      <th>4</th>\n",
              "      <td>TX</td>\n",
              "      <td>2022</td>\n",
              "      <td>TX940700</td>\n",
              "      <td>Caplen</td>\n",
              "      <td>GALVESTON</td>\n",
              "      <td>Public/Public</td>\n",
              "      <td>1.460</td>\n",
              "      <td>2</td>\n",
              "      <td>29.503046</td>\n",
              "      <td>-94.510477</td>\n",
              "      <td>29.494188</td>\n",
              "      <td>-94.532478</td>\n",
              "      <td>Gulf of Mexico</td>\n",
              "      <td>Open Coast</td>\n",
              "      <td>1.0</td>\n",
              "      <td>PER_YEAR</td>\n",
              "    </tr>\n",
              "    <tr>\n",
              "      <th>...</th>\n",
              "      <td>...</td>\n",
              "      <td>...</td>\n",
              "      <td>...</td>\n",
              "      <td>...</td>\n",
              "      <td>...</td>\n",
              "      <td>...</td>\n",
              "      <td>...</td>\n",
              "      <td>...</td>\n",
              "      <td>...</td>\n",
              "      <td>...</td>\n",
              "      <td>...</td>\n",
              "      <td>...</td>\n",
              "      <td>...</td>\n",
              "      <td>...</td>\n",
              "      <td>...</td>\n",
              "      <td>...</td>\n",
              "    </tr>\n",
              "    <tr>\n",
              "      <th>539</th>\n",
              "      <td>TX</td>\n",
              "      <td>2008</td>\n",
              "      <td>TX426780</td>\n",
              "      <td>West End</td>\n",
              "      <td>GALVESTON</td>\n",
              "      <td>Public/Public</td>\n",
              "      <td>3.408</td>\n",
              "      <td>1</td>\n",
              "      <td>29.430352</td>\n",
              "      <td>-94.672240</td>\n",
              "      <td>29.396866</td>\n",
              "      <td>-94.713313</td>\n",
              "      <td>Gulf of Mexico</td>\n",
              "      <td>Open Coast</td>\n",
              "      <td>NaN</td>\n",
              "      <td>NaN</td>\n",
              "    </tr>\n",
              "    <tr>\n",
              "      <th>540</th>\n",
              "      <td>TX</td>\n",
              "      <td>2007</td>\n",
              "      <td>TX974690</td>\n",
              "      <td>Jamaica Beach</td>\n",
              "      <td>GALVESTON</td>\n",
              "      <td>Public/Public</td>\n",
              "      <td>0.805</td>\n",
              "      <td>1</td>\n",
              "      <td>29.182981</td>\n",
              "      <td>-94.969426</td>\n",
              "      <td>29.176498</td>\n",
              "      <td>-94.980493</td>\n",
              "      <td>Gulf of Mexico</td>\n",
              "      <td>Open Coast</td>\n",
              "      <td>NaN</td>\n",
              "      <td>NaN</td>\n",
              "    </tr>\n",
              "    <tr>\n",
              "      <th>541</th>\n",
              "      <td>TX</td>\n",
              "      <td>2007</td>\n",
              "      <td>TX669225</td>\n",
              "      <td>O'Neil Rd.</td>\n",
              "      <td>GALVESTON</td>\n",
              "      <td>Public/Public</td>\n",
              "      <td>1.128</td>\n",
              "      <td>1</td>\n",
              "      <td>29.439180</td>\n",
              "      <td>-94.656532</td>\n",
              "      <td>29.430347</td>\n",
              "      <td>-94.672240</td>\n",
              "      <td>Gulf of Mexico</td>\n",
              "      <td>Open Coast</td>\n",
              "      <td>NaN</td>\n",
              "      <td>NaN</td>\n",
              "    </tr>\n",
              "    <tr>\n",
              "      <th>542</th>\n",
              "      <td>TX</td>\n",
              "      <td>2007</td>\n",
              "      <td>TX832087</td>\n",
              "      <td>Rettilon Road</td>\n",
              "      <td>GALVESTON</td>\n",
              "      <td>Public/Public</td>\n",
              "      <td>2.370</td>\n",
              "      <td>1</td>\n",
              "      <td>29.396868</td>\n",
              "      <td>-94.713310</td>\n",
              "      <td>29.367899</td>\n",
              "      <td>-94.732729</td>\n",
              "      <td>Gulf of Mexico</td>\n",
              "      <td>Open Coast</td>\n",
              "      <td>NaN</td>\n",
              "      <td>NaN</td>\n",
              "    </tr>\n",
              "    <tr>\n",
              "      <th>543</th>\n",
              "      <td>TX</td>\n",
              "      <td>2007</td>\n",
              "      <td>TX767833</td>\n",
              "      <td>Sea Isle</td>\n",
              "      <td>GALVESTON</td>\n",
              "      <td>Public/Public</td>\n",
              "      <td>3.757</td>\n",
              "      <td>1</td>\n",
              "      <td>29.157639</td>\n",
              "      <td>-95.011542</td>\n",
              "      <td>29.125974</td>\n",
              "      <td>-95.062028</td>\n",
              "      <td>Gulf of Mexico</td>\n",
              "      <td>Open Coast</td>\n",
              "      <td>NaN</td>\n",
              "      <td>NaN</td>\n",
              "    </tr>\n",
              "  </tbody>\n",
              "</table>\n",
              "<p>544 rows × 16 columns</p>\n",
              "</div>\n",
              "      <button class=\"colab-df-convert\" onclick=\"convertToInteractive('df-56290d4a-37ae-4695-afe6-5361255fef8b')\"\n",
              "              title=\"Convert this dataframe to an interactive table.\"\n",
              "              style=\"display:none;\">\n",
              "        \n",
              "  <svg xmlns=\"http://www.w3.org/2000/svg\" height=\"24px\"viewBox=\"0 0 24 24\"\n",
              "       width=\"24px\">\n",
              "    <path d=\"M0 0h24v24H0V0z\" fill=\"none\"/>\n",
              "    <path d=\"M18.56 5.44l.94 2.06.94-2.06 2.06-.94-2.06-.94-.94-2.06-.94 2.06-2.06.94zm-11 1L8.5 8.5l.94-2.06 2.06-.94-2.06-.94L8.5 2.5l-.94 2.06-2.06.94zm10 10l.94 2.06.94-2.06 2.06-.94-2.06-.94-.94-2.06-.94 2.06-2.06.94z\"/><path d=\"M17.41 7.96l-1.37-1.37c-.4-.4-.92-.59-1.43-.59-.52 0-1.04.2-1.43.59L10.3 9.45l-7.72 7.72c-.78.78-.78 2.05 0 2.83L4 21.41c.39.39.9.59 1.41.59.51 0 1.02-.2 1.41-.59l7.78-7.78 2.81-2.81c.8-.78.8-2.07 0-2.86zM5.41 20L4 18.59l7.72-7.72 1.47 1.35L5.41 20z\"/>\n",
              "  </svg>\n",
              "      </button>\n",
              "      \n",
              "  <style>\n",
              "    .colab-df-container {\n",
              "      display:flex;\n",
              "      flex-wrap:wrap;\n",
              "      gap: 12px;\n",
              "    }\n",
              "\n",
              "    .colab-df-convert {\n",
              "      background-color: #E8F0FE;\n",
              "      border: none;\n",
              "      border-radius: 50%;\n",
              "      cursor: pointer;\n",
              "      display: none;\n",
              "      fill: #1967D2;\n",
              "      height: 32px;\n",
              "      padding: 0 0 0 0;\n",
              "      width: 32px;\n",
              "    }\n",
              "\n",
              "    .colab-df-convert:hover {\n",
              "      background-color: #E2EBFA;\n",
              "      box-shadow: 0px 1px 2px rgba(60, 64, 67, 0.3), 0px 1px 3px 1px rgba(60, 64, 67, 0.15);\n",
              "      fill: #174EA6;\n",
              "    }\n",
              "\n",
              "    [theme=dark] .colab-df-convert {\n",
              "      background-color: #3B4455;\n",
              "      fill: #D2E3FC;\n",
              "    }\n",
              "\n",
              "    [theme=dark] .colab-df-convert:hover {\n",
              "      background-color: #434B5C;\n",
              "      box-shadow: 0px 1px 3px 1px rgba(0, 0, 0, 0.15);\n",
              "      filter: drop-shadow(0px 1px 2px rgba(0, 0, 0, 0.3));\n",
              "      fill: #FFFFFF;\n",
              "    }\n",
              "  </style>\n",
              "\n",
              "      <script>\n",
              "        const buttonEl =\n",
              "          document.querySelector('#df-56290d4a-37ae-4695-afe6-5361255fef8b button.colab-df-convert');\n",
              "        buttonEl.style.display =\n",
              "          google.colab.kernel.accessAllowed ? 'block' : 'none';\n",
              "\n",
              "        async function convertToInteractive(key) {\n",
              "          const element = document.querySelector('#df-56290d4a-37ae-4695-afe6-5361255fef8b');\n",
              "          const dataTable =\n",
              "            await google.colab.kernel.invokeFunction('convertToInteractive',\n",
              "                                                     [key], {});\n",
              "          if (!dataTable) return;\n",
              "\n",
              "          const docLinkHtml = 'Like what you see? Visit the ' +\n",
              "            '<a target=\"_blank\" href=https://colab.research.google.com/notebooks/data_table.ipynb>data table notebook</a>'\n",
              "            + ' to learn more about interactive tables.';\n",
              "          element.innerHTML = '';\n",
              "          dataTable['output_type'] = 'display_data';\n",
              "          await google.colab.output.renderOutput(dataTable, element);\n",
              "          const docLink = document.createElement('div');\n",
              "          docLink.innerHTML = docLinkHtml;\n",
              "          element.appendChild(docLink);\n",
              "        }\n",
              "      </script>\n",
              "    </div>\n",
              "  </div>\n",
              "  "
            ]
          },
          "metadata": {},
          "execution_count": 61
        }
      ]
    },
    {
      "cell_type": "code",
      "source": [
        "# Examen the number of unique beaches in the data set\n",
        "print(beach_attr_df[\"Beach Name\"].unique())\n",
        "\n",
        "# How many beaches are in galveston?\n",
        "print(len(beach_attr_df[\"Beach Name\"].unique()))"
      ],
      "metadata": {
        "colab": {
          "base_uri": "https://localhost:8080/"
        },
        "id": "yBGbMx0o0Siw",
        "outputId": "aa953321-ba6b-4b34-df49-807fc2f325cd"
      },
      "execution_count": 62,
      "outputs": [
        {
          "output_type": "stream",
          "name": "stdout",
          "text": [
            "['25th St.' '45th St.' '61st St.' 'Appfel Park' 'Caplen'\n",
            " 'Caplen/Crystal Beach' 'Clara St.' 'Dellanera Park' 'East Beach'\n",
            " 'Erman Pilsner Boat Ramp' 'Frank Carmona Beach'\n",
            " 'Galveston Island State Park' 'Galveston Island State Park Backside'\n",
            " 'Gilchrist East' 'Gilchrist West' 'Gulf Shores' 'Haney Park'\n",
            " 'High Island East' 'High Island West' 'Holiday' 'Indian Beach'\n",
            " 'Jamaica Beach' \"O'Neil Rd.\" 'Pirates Beach' 'Rettilon Road'\n",
            " 'Rollover Pass East' 'Rollover Pass West' 'San Luis Pass' 'Sea Isle'\n",
            " 'Seadrift' 'Skyline Drive' 'Skyline Park' 'Spanish Grant/Bermuda Beach'\n",
            " 'Stewart Beach' 'Texas City Dike' 'West End']\n",
            "36\n"
          ]
        }
      ]
    },
    {
      "cell_type": "code",
      "source": [
        "# Investigate the number of unique values for each data column, columns with 1 value provide no information and can be dropped\n",
        "beach_attr_df.nunique()"
      ],
      "metadata": {
        "colab": {
          "base_uri": "https://localhost:8080/"
        },
        "id": "_fdhiaKr0GQf",
        "outputId": "e42d6095-f813-4ffc-c411-56feab6142ef"
      },
      "execution_count": 63,
      "outputs": [
        {
          "output_type": "execute_result",
          "data": {
            "text/plain": [
              "State                                    1\n",
              "Year                                    16\n",
              "Beach ID                                36\n",
              "Beach Name                              36\n",
              "County                                   1\n",
              "Beach Ownership/Beach Accessibility      1\n",
              "BeachLength (Mi)                        69\n",
              "Tier                                     3\n",
              "Start Latitude                          36\n",
              "Start Longitude                         36\n",
              "End Latitude                            36\n",
              "End Longitude                           36\n",
              "Waterbody Name                           1\n",
              "Waterbody Type                           2\n",
              "AdvisoryReportingFrequency(to EPA)       1\n",
              "AdvisoryReportingFrequencyUnits          1\n",
              "dtype: int64"
            ]
          },
          "metadata": {},
          "execution_count": 63
        }
      ]
    },
    {
      "cell_type": "code",
      "source": [
        "# Investigate water type column, that is more then 36 beaches!\n",
        "beach_attr_df[\"Waterbody Type\"].value_counts()"
      ],
      "metadata": {
        "colab": {
          "base_uri": "https://localhost:8080/"
        },
        "id": "OnVSnz-z0iIw",
        "outputId": "7a85f98e-ec77-4a38-b28b-58079a607f75"
      },
      "execution_count": 64,
      "outputs": [
        {
          "output_type": "execute_result",
          "data": {
            "text/plain": [
              "Open Coast              469\n",
              "Sound, Bay, or Inlet     75\n",
              "Name: Waterbody Type, dtype: int64"
            ]
          },
          "metadata": {},
          "execution_count": 64
        }
      ]
    },
    {
      "cell_type": "code",
      "source": [
        "# Number of years that beaches were reported\n",
        "beach_attr_df[\"Year\"].unique()"
      ],
      "metadata": {
        "colab": {
          "base_uri": "https://localhost:8080/"
        },
        "id": "ac_kTXQ309Ah",
        "outputId": "557b4f30-5b25-4e94-d760-96bf8f12adef"
      },
      "execution_count": 65,
      "outputs": [
        {
          "output_type": "execute_result",
          "data": {
            "text/plain": [
              "array([2022, 2021, 2020, 2019, 2018, 2017, 2016, 2015, 2014, 2013, 2012,\n",
              "       2011, 2010, 2009, 2008, 2007])"
            ]
          },
          "metadata": {},
          "execution_count": 65
        }
      ]
    },
    {
      "cell_type": "code",
      "source": [
        "# Create a list of columns that should be dropped, columns that have the same value\n",
        "beach_attr_columns_to_drop = beach_attr_df.nunique()[beach_attr_df.nunique()==1].index\n",
        "beach_attr_columns_to_drop"
      ],
      "metadata": {
        "colab": {
          "base_uri": "https://localhost:8080/"
        },
        "id": "hQtHgjW91foB",
        "outputId": "1ca972a6-b56f-4495-bbfc-5136113a0f4a"
      },
      "execution_count": 66,
      "outputs": [
        {
          "output_type": "execute_result",
          "data": {
            "text/plain": [
              "Index(['State', 'County', 'Beach Ownership/Beach Accessibility ',\n",
              "       'Waterbody Name', 'AdvisoryReportingFrequency(to EPA)',\n",
              "       'AdvisoryReportingFrequencyUnits'],\n",
              "      dtype='object')"
            ]
          },
          "metadata": {},
          "execution_count": 66
        }
      ]
    },
    {
      "cell_type": "code",
      "source": [
        "# Drop the same value columns\n",
        "beach_attr_df.drop(beach_attr_columns_to_drop,1,inplace=True)\n",
        "beach_attr_df.head()"
      ],
      "metadata": {
        "colab": {
          "base_uri": "https://localhost:8080/",
          "height": 262
        },
        "id": "-0tLfEAK2ls4",
        "outputId": "c2e390c8-ee8d-483e-db34-0ea21f4376ce"
      },
      "execution_count": 67,
      "outputs": [
        {
          "output_type": "stream",
          "name": "stderr",
          "text": [
            "/usr/local/lib/python3.7/dist-packages/ipykernel_launcher.py:2: FutureWarning: In a future version of pandas all arguments of DataFrame.drop except for the argument 'labels' will be keyword-only\n",
            "  \n"
          ]
        },
        {
          "output_type": "execute_result",
          "data": {
            "text/plain": [
              "   Year  Beach ID   Beach Name  BeachLength (Mi)  Tier  Start Latitude  \\\n",
              "0  2022  TX710697     25th St.              1.80     1       29.298146   \n",
              "1  2022  TX214299     45th St.              1.55     1       29.284667   \n",
              "2  2022  TX486021     61st St.              1.04     1       29.271922   \n",
              "3  2022  TX327206  Appfel Park              2.06     1       29.337451   \n",
              "4  2022  TX940700       Caplen              1.46     2       29.503046   \n",
              "\n",
              "   Start Longitude  End Latitude  End Longitude Waterbody Type  \n",
              "0       -94.777565     29.284662     -94.794776     Open Coast  \n",
              "1       -94.794770     29.271917     -94.815865     Open Coast  \n",
              "2       -94.815859     29.264091     -94.830244     Open Coast  \n",
              "3       -94.733010     29.324250     -94.739129     Open Coast  \n",
              "4       -94.510477     29.494188     -94.532478     Open Coast  "
            ],
            "text/html": [
              "\n",
              "  <div id=\"df-049610cb-b470-4e7e-becd-4e1500be259c\">\n",
              "    <div class=\"colab-df-container\">\n",
              "      <div>\n",
              "<style scoped>\n",
              "    .dataframe tbody tr th:only-of-type {\n",
              "        vertical-align: middle;\n",
              "    }\n",
              "\n",
              "    .dataframe tbody tr th {\n",
              "        vertical-align: top;\n",
              "    }\n",
              "\n",
              "    .dataframe thead th {\n",
              "        text-align: right;\n",
              "    }\n",
              "</style>\n",
              "<table border=\"1\" class=\"dataframe\">\n",
              "  <thead>\n",
              "    <tr style=\"text-align: right;\">\n",
              "      <th></th>\n",
              "      <th>Year</th>\n",
              "      <th>Beach ID</th>\n",
              "      <th>Beach Name</th>\n",
              "      <th>BeachLength (Mi)</th>\n",
              "      <th>Tier</th>\n",
              "      <th>Start Latitude</th>\n",
              "      <th>Start Longitude</th>\n",
              "      <th>End Latitude</th>\n",
              "      <th>End Longitude</th>\n",
              "      <th>Waterbody Type</th>\n",
              "    </tr>\n",
              "  </thead>\n",
              "  <tbody>\n",
              "    <tr>\n",
              "      <th>0</th>\n",
              "      <td>2022</td>\n",
              "      <td>TX710697</td>\n",
              "      <td>25th St.</td>\n",
              "      <td>1.80</td>\n",
              "      <td>1</td>\n",
              "      <td>29.298146</td>\n",
              "      <td>-94.777565</td>\n",
              "      <td>29.284662</td>\n",
              "      <td>-94.794776</td>\n",
              "      <td>Open Coast</td>\n",
              "    </tr>\n",
              "    <tr>\n",
              "      <th>1</th>\n",
              "      <td>2022</td>\n",
              "      <td>TX214299</td>\n",
              "      <td>45th St.</td>\n",
              "      <td>1.55</td>\n",
              "      <td>1</td>\n",
              "      <td>29.284667</td>\n",
              "      <td>-94.794770</td>\n",
              "      <td>29.271917</td>\n",
              "      <td>-94.815865</td>\n",
              "      <td>Open Coast</td>\n",
              "    </tr>\n",
              "    <tr>\n",
              "      <th>2</th>\n",
              "      <td>2022</td>\n",
              "      <td>TX486021</td>\n",
              "      <td>61st St.</td>\n",
              "      <td>1.04</td>\n",
              "      <td>1</td>\n",
              "      <td>29.271922</td>\n",
              "      <td>-94.815859</td>\n",
              "      <td>29.264091</td>\n",
              "      <td>-94.830244</td>\n",
              "      <td>Open Coast</td>\n",
              "    </tr>\n",
              "    <tr>\n",
              "      <th>3</th>\n",
              "      <td>2022</td>\n",
              "      <td>TX327206</td>\n",
              "      <td>Appfel Park</td>\n",
              "      <td>2.06</td>\n",
              "      <td>1</td>\n",
              "      <td>29.337451</td>\n",
              "      <td>-94.733010</td>\n",
              "      <td>29.324250</td>\n",
              "      <td>-94.739129</td>\n",
              "      <td>Open Coast</td>\n",
              "    </tr>\n",
              "    <tr>\n",
              "      <th>4</th>\n",
              "      <td>2022</td>\n",
              "      <td>TX940700</td>\n",
              "      <td>Caplen</td>\n",
              "      <td>1.46</td>\n",
              "      <td>2</td>\n",
              "      <td>29.503046</td>\n",
              "      <td>-94.510477</td>\n",
              "      <td>29.494188</td>\n",
              "      <td>-94.532478</td>\n",
              "      <td>Open Coast</td>\n",
              "    </tr>\n",
              "  </tbody>\n",
              "</table>\n",
              "</div>\n",
              "      <button class=\"colab-df-convert\" onclick=\"convertToInteractive('df-049610cb-b470-4e7e-becd-4e1500be259c')\"\n",
              "              title=\"Convert this dataframe to an interactive table.\"\n",
              "              style=\"display:none;\">\n",
              "        \n",
              "  <svg xmlns=\"http://www.w3.org/2000/svg\" height=\"24px\"viewBox=\"0 0 24 24\"\n",
              "       width=\"24px\">\n",
              "    <path d=\"M0 0h24v24H0V0z\" fill=\"none\"/>\n",
              "    <path d=\"M18.56 5.44l.94 2.06.94-2.06 2.06-.94-2.06-.94-.94-2.06-.94 2.06-2.06.94zm-11 1L8.5 8.5l.94-2.06 2.06-.94-2.06-.94L8.5 2.5l-.94 2.06-2.06.94zm10 10l.94 2.06.94-2.06 2.06-.94-2.06-.94-.94-2.06-.94 2.06-2.06.94z\"/><path d=\"M17.41 7.96l-1.37-1.37c-.4-.4-.92-.59-1.43-.59-.52 0-1.04.2-1.43.59L10.3 9.45l-7.72 7.72c-.78.78-.78 2.05 0 2.83L4 21.41c.39.39.9.59 1.41.59.51 0 1.02-.2 1.41-.59l7.78-7.78 2.81-2.81c.8-.78.8-2.07 0-2.86zM5.41 20L4 18.59l7.72-7.72 1.47 1.35L5.41 20z\"/>\n",
              "  </svg>\n",
              "      </button>\n",
              "      \n",
              "  <style>\n",
              "    .colab-df-container {\n",
              "      display:flex;\n",
              "      flex-wrap:wrap;\n",
              "      gap: 12px;\n",
              "    }\n",
              "\n",
              "    .colab-df-convert {\n",
              "      background-color: #E8F0FE;\n",
              "      border: none;\n",
              "      border-radius: 50%;\n",
              "      cursor: pointer;\n",
              "      display: none;\n",
              "      fill: #1967D2;\n",
              "      height: 32px;\n",
              "      padding: 0 0 0 0;\n",
              "      width: 32px;\n",
              "    }\n",
              "\n",
              "    .colab-df-convert:hover {\n",
              "      background-color: #E2EBFA;\n",
              "      box-shadow: 0px 1px 2px rgba(60, 64, 67, 0.3), 0px 1px 3px 1px rgba(60, 64, 67, 0.15);\n",
              "      fill: #174EA6;\n",
              "    }\n",
              "\n",
              "    [theme=dark] .colab-df-convert {\n",
              "      background-color: #3B4455;\n",
              "      fill: #D2E3FC;\n",
              "    }\n",
              "\n",
              "    [theme=dark] .colab-df-convert:hover {\n",
              "      background-color: #434B5C;\n",
              "      box-shadow: 0px 1px 3px 1px rgba(0, 0, 0, 0.15);\n",
              "      filter: drop-shadow(0px 1px 2px rgba(0, 0, 0, 0.3));\n",
              "      fill: #FFFFFF;\n",
              "    }\n",
              "  </style>\n",
              "\n",
              "      <script>\n",
              "        const buttonEl =\n",
              "          document.querySelector('#df-049610cb-b470-4e7e-becd-4e1500be259c button.colab-df-convert');\n",
              "        buttonEl.style.display =\n",
              "          google.colab.kernel.accessAllowed ? 'block' : 'none';\n",
              "\n",
              "        async function convertToInteractive(key) {\n",
              "          const element = document.querySelector('#df-049610cb-b470-4e7e-becd-4e1500be259c');\n",
              "          const dataTable =\n",
              "            await google.colab.kernel.invokeFunction('convertToInteractive',\n",
              "                                                     [key], {});\n",
              "          if (!dataTable) return;\n",
              "\n",
              "          const docLinkHtml = 'Like what you see? Visit the ' +\n",
              "            '<a target=\"_blank\" href=https://colab.research.google.com/notebooks/data_table.ipynb>data table notebook</a>'\n",
              "            + ' to learn more about interactive tables.';\n",
              "          element.innerHTML = '';\n",
              "          dataTable['output_type'] = 'display_data';\n",
              "          await google.colab.output.renderOutput(dataTable, element);\n",
              "          const docLink = document.createElement('div');\n",
              "          docLink.innerHTML = docLinkHtml;\n",
              "          element.appendChild(docLink);\n",
              "        }\n",
              "      </script>\n",
              "    </div>\n",
              "  </div>\n",
              "  "
            ]
          },
          "metadata": {},
          "execution_count": 67
        }
      ]
    },
    {
      "cell_type": "code",
      "source": [
        "# Reporting beaches are added again each year, so drop year. we only care about the beach information\n",
        "beach_attr_df.drop(\"Year\",1,inplace=True)\n",
        "\n"
      ],
      "metadata": {
        "colab": {
          "base_uri": "https://localhost:8080/"
        },
        "id": "4QmfhXpl3NSf",
        "outputId": "d79e612f-83a8-4def-f477-4a0ee4da8979"
      },
      "execution_count": 68,
      "outputs": [
        {
          "output_type": "stream",
          "name": "stderr",
          "text": [
            "/usr/local/lib/python3.7/dist-packages/ipykernel_launcher.py:2: FutureWarning: In a future version of pandas all arguments of DataFrame.drop except for the argument 'labels' will be keyword-only\n",
            "  \n"
          ]
        }
      ]
    },
    {
      "cell_type": "code",
      "source": [
        "# Determine the size and shape of the current dataframe after the year drop\n",
        "print(beach_attr_df.shape)\n",
        "beach_attr_df.head()"
      ],
      "metadata": {
        "colab": {
          "base_uri": "https://localhost:8080/",
          "height": 224
        },
        "id": "X-2L3vUR3jBX",
        "outputId": "a38fdf38-62a2-4a81-b082-81b0f1768a73"
      },
      "execution_count": 69,
      "outputs": [
        {
          "output_type": "stream",
          "name": "stdout",
          "text": [
            "(544, 9)\n"
          ]
        },
        {
          "output_type": "execute_result",
          "data": {
            "text/plain": [
              "   Beach ID   Beach Name  BeachLength (Mi)  Tier  Start Latitude  \\\n",
              "0  TX710697     25th St.              1.80     1       29.298146   \n",
              "1  TX214299     45th St.              1.55     1       29.284667   \n",
              "2  TX486021     61st St.              1.04     1       29.271922   \n",
              "3  TX327206  Appfel Park              2.06     1       29.337451   \n",
              "4  TX940700       Caplen              1.46     2       29.503046   \n",
              "\n",
              "   Start Longitude  End Latitude  End Longitude Waterbody Type  \n",
              "0       -94.777565     29.284662     -94.794776     Open Coast  \n",
              "1       -94.794770     29.271917     -94.815865     Open Coast  \n",
              "2       -94.815859     29.264091     -94.830244     Open Coast  \n",
              "3       -94.733010     29.324250     -94.739129     Open Coast  \n",
              "4       -94.510477     29.494188     -94.532478     Open Coast  "
            ],
            "text/html": [
              "\n",
              "  <div id=\"df-625857b9-71aa-4d29-9fff-bcae441c0c1a\">\n",
              "    <div class=\"colab-df-container\">\n",
              "      <div>\n",
              "<style scoped>\n",
              "    .dataframe tbody tr th:only-of-type {\n",
              "        vertical-align: middle;\n",
              "    }\n",
              "\n",
              "    .dataframe tbody tr th {\n",
              "        vertical-align: top;\n",
              "    }\n",
              "\n",
              "    .dataframe thead th {\n",
              "        text-align: right;\n",
              "    }\n",
              "</style>\n",
              "<table border=\"1\" class=\"dataframe\">\n",
              "  <thead>\n",
              "    <tr style=\"text-align: right;\">\n",
              "      <th></th>\n",
              "      <th>Beach ID</th>\n",
              "      <th>Beach Name</th>\n",
              "      <th>BeachLength (Mi)</th>\n",
              "      <th>Tier</th>\n",
              "      <th>Start Latitude</th>\n",
              "      <th>Start Longitude</th>\n",
              "      <th>End Latitude</th>\n",
              "      <th>End Longitude</th>\n",
              "      <th>Waterbody Type</th>\n",
              "    </tr>\n",
              "  </thead>\n",
              "  <tbody>\n",
              "    <tr>\n",
              "      <th>0</th>\n",
              "      <td>TX710697</td>\n",
              "      <td>25th St.</td>\n",
              "      <td>1.80</td>\n",
              "      <td>1</td>\n",
              "      <td>29.298146</td>\n",
              "      <td>-94.777565</td>\n",
              "      <td>29.284662</td>\n",
              "      <td>-94.794776</td>\n",
              "      <td>Open Coast</td>\n",
              "    </tr>\n",
              "    <tr>\n",
              "      <th>1</th>\n",
              "      <td>TX214299</td>\n",
              "      <td>45th St.</td>\n",
              "      <td>1.55</td>\n",
              "      <td>1</td>\n",
              "      <td>29.284667</td>\n",
              "      <td>-94.794770</td>\n",
              "      <td>29.271917</td>\n",
              "      <td>-94.815865</td>\n",
              "      <td>Open Coast</td>\n",
              "    </tr>\n",
              "    <tr>\n",
              "      <th>2</th>\n",
              "      <td>TX486021</td>\n",
              "      <td>61st St.</td>\n",
              "      <td>1.04</td>\n",
              "      <td>1</td>\n",
              "      <td>29.271922</td>\n",
              "      <td>-94.815859</td>\n",
              "      <td>29.264091</td>\n",
              "      <td>-94.830244</td>\n",
              "      <td>Open Coast</td>\n",
              "    </tr>\n",
              "    <tr>\n",
              "      <th>3</th>\n",
              "      <td>TX327206</td>\n",
              "      <td>Appfel Park</td>\n",
              "      <td>2.06</td>\n",
              "      <td>1</td>\n",
              "      <td>29.337451</td>\n",
              "      <td>-94.733010</td>\n",
              "      <td>29.324250</td>\n",
              "      <td>-94.739129</td>\n",
              "      <td>Open Coast</td>\n",
              "    </tr>\n",
              "    <tr>\n",
              "      <th>4</th>\n",
              "      <td>TX940700</td>\n",
              "      <td>Caplen</td>\n",
              "      <td>1.46</td>\n",
              "      <td>2</td>\n",
              "      <td>29.503046</td>\n",
              "      <td>-94.510477</td>\n",
              "      <td>29.494188</td>\n",
              "      <td>-94.532478</td>\n",
              "      <td>Open Coast</td>\n",
              "    </tr>\n",
              "  </tbody>\n",
              "</table>\n",
              "</div>\n",
              "      <button class=\"colab-df-convert\" onclick=\"convertToInteractive('df-625857b9-71aa-4d29-9fff-bcae441c0c1a')\"\n",
              "              title=\"Convert this dataframe to an interactive table.\"\n",
              "              style=\"display:none;\">\n",
              "        \n",
              "  <svg xmlns=\"http://www.w3.org/2000/svg\" height=\"24px\"viewBox=\"0 0 24 24\"\n",
              "       width=\"24px\">\n",
              "    <path d=\"M0 0h24v24H0V0z\" fill=\"none\"/>\n",
              "    <path d=\"M18.56 5.44l.94 2.06.94-2.06 2.06-.94-2.06-.94-.94-2.06-.94 2.06-2.06.94zm-11 1L8.5 8.5l.94-2.06 2.06-.94-2.06-.94L8.5 2.5l-.94 2.06-2.06.94zm10 10l.94 2.06.94-2.06 2.06-.94-2.06-.94-.94-2.06-.94 2.06-2.06.94z\"/><path d=\"M17.41 7.96l-1.37-1.37c-.4-.4-.92-.59-1.43-.59-.52 0-1.04.2-1.43.59L10.3 9.45l-7.72 7.72c-.78.78-.78 2.05 0 2.83L4 21.41c.39.39.9.59 1.41.59.51 0 1.02-.2 1.41-.59l7.78-7.78 2.81-2.81c.8-.78.8-2.07 0-2.86zM5.41 20L4 18.59l7.72-7.72 1.47 1.35L5.41 20z\"/>\n",
              "  </svg>\n",
              "      </button>\n",
              "      \n",
              "  <style>\n",
              "    .colab-df-container {\n",
              "      display:flex;\n",
              "      flex-wrap:wrap;\n",
              "      gap: 12px;\n",
              "    }\n",
              "\n",
              "    .colab-df-convert {\n",
              "      background-color: #E8F0FE;\n",
              "      border: none;\n",
              "      border-radius: 50%;\n",
              "      cursor: pointer;\n",
              "      display: none;\n",
              "      fill: #1967D2;\n",
              "      height: 32px;\n",
              "      padding: 0 0 0 0;\n",
              "      width: 32px;\n",
              "    }\n",
              "\n",
              "    .colab-df-convert:hover {\n",
              "      background-color: #E2EBFA;\n",
              "      box-shadow: 0px 1px 2px rgba(60, 64, 67, 0.3), 0px 1px 3px 1px rgba(60, 64, 67, 0.15);\n",
              "      fill: #174EA6;\n",
              "    }\n",
              "\n",
              "    [theme=dark] .colab-df-convert {\n",
              "      background-color: #3B4455;\n",
              "      fill: #D2E3FC;\n",
              "    }\n",
              "\n",
              "    [theme=dark] .colab-df-convert:hover {\n",
              "      background-color: #434B5C;\n",
              "      box-shadow: 0px 1px 3px 1px rgba(0, 0, 0, 0.15);\n",
              "      filter: drop-shadow(0px 1px 2px rgba(0, 0, 0, 0.3));\n",
              "      fill: #FFFFFF;\n",
              "    }\n",
              "  </style>\n",
              "\n",
              "      <script>\n",
              "        const buttonEl =\n",
              "          document.querySelector('#df-625857b9-71aa-4d29-9fff-bcae441c0c1a button.colab-df-convert');\n",
              "        buttonEl.style.display =\n",
              "          google.colab.kernel.accessAllowed ? 'block' : 'none';\n",
              "\n",
              "        async function convertToInteractive(key) {\n",
              "          const element = document.querySelector('#df-625857b9-71aa-4d29-9fff-bcae441c0c1a');\n",
              "          const dataTable =\n",
              "            await google.colab.kernel.invokeFunction('convertToInteractive',\n",
              "                                                     [key], {});\n",
              "          if (!dataTable) return;\n",
              "\n",
              "          const docLinkHtml = 'Like what you see? Visit the ' +\n",
              "            '<a target=\"_blank\" href=https://colab.research.google.com/notebooks/data_table.ipynb>data table notebook</a>'\n",
              "            + ' to learn more about interactive tables.';\n",
              "          element.innerHTML = '';\n",
              "          dataTable['output_type'] = 'display_data';\n",
              "          await google.colab.output.renderOutput(dataTable, element);\n",
              "          const docLink = document.createElement('div');\n",
              "          docLink.innerHTML = docLinkHtml;\n",
              "          element.appendChild(docLink);\n",
              "        }\n",
              "      </script>\n",
              "    </div>\n",
              "  </div>\n",
              "  "
            ]
          },
          "metadata": {},
          "execution_count": 69
        }
      ]
    },
    {
      "cell_type": "code",
      "source": [
        "# Now that year is gone, we can drop the duplicate rows, and should only have the unique beaches left\n",
        "beach_attr_df.drop_duplicates(inplace=True)\n",
        "beach_attr_df.shape"
      ],
      "metadata": {
        "colab": {
          "base_uri": "https://localhost:8080/"
        },
        "id": "DSig8dnd34w3",
        "outputId": "0f949603-9d95-4571-8e8d-874a45fce63b"
      },
      "execution_count": 70,
      "outputs": [
        {
          "output_type": "execute_result",
          "data": {
            "text/plain": [
              "(71, 9)"
            ]
          },
          "metadata": {},
          "execution_count": 70
        }
      ]
    },
    {
      "cell_type": "code",
      "source": [
        "# There are 71 rows of data, but there are only 36 beaches on Galveston Island! Something is wrong!\n",
        "len(beach_attr_df[\"Beach ID\"].unique())"
      ],
      "metadata": {
        "colab": {
          "base_uri": "https://localhost:8080/"
        },
        "id": "Y9Q0xoNZ4Co3",
        "outputId": "86333af1-5a66-46d7-ab3e-6b80205315e4"
      },
      "execution_count": 71,
      "outputs": [
        {
          "output_type": "execute_result",
          "data": {
            "text/plain": [
              "36"
            ]
          },
          "metadata": {},
          "execution_count": 71
        }
      ]
    },
    {
      "cell_type": "code",
      "source": [
        "# Count how often a unique beach ID appears in the current data frame\n",
        "beach_attr_df[\"Beach ID\"].value_counts()"
      ],
      "metadata": {
        "colab": {
          "base_uri": "https://localhost:8080/"
        },
        "id": "FelwNQAW4UE2",
        "outputId": "073a501e-61fc-48cc-bceb-be8b0f8caac4"
      },
      "execution_count": 72,
      "outputs": [
        {
          "output_type": "execute_result",
          "data": {
            "text/plain": [
              "TX710697    2\n",
              "TX822495    2\n",
              "TX974690    2\n",
              "TX669225    2\n",
              "TX751320    2\n",
              "TX832087    2\n",
              "TX284256    2\n",
              "TX341767    2\n",
              "TX767833    2\n",
              "TX593160    2\n",
              "TX236175    2\n",
              "TX406100    2\n",
              "TX650612    2\n",
              "TX163187    2\n",
              "TX451421    2\n",
              "TX164090    2\n",
              "TX239942    2\n",
              "TX272864    2\n",
              "TX168454    2\n",
              "TX669733    2\n",
              "TX486021    2\n",
              "TX327206    2\n",
              "TX940700    2\n",
              "TX972853    2\n",
              "TX392019    2\n",
              "TX393353    2\n",
              "TX981462    2\n",
              "TX426780    2\n",
              "TX795287    2\n",
              "TX334226    2\n",
              "TX226514    2\n",
              "TX568423    2\n",
              "TX122528    2\n",
              "TX860495    2\n",
              "TX632189    2\n",
              "TX214299    1\n",
              "Name: Beach ID, dtype: int64"
            ]
          },
          "metadata": {},
          "execution_count": 72
        }
      ]
    },
    {
      "cell_type": "code",
      "source": [
        "# Many beaches are still appearing twice in the data, why? Filter and display one beach ID to determine what is going on\n",
        "beach_attr_df[beach_attr_df[\"Beach ID\"]==\"TX710697\"]"
      ],
      "metadata": {
        "colab": {
          "base_uri": "https://localhost:8080/",
          "height": 112
        },
        "id": "lDx8fYoL4ho3",
        "outputId": "81681533-9e98-473f-8627-827511493b6e"
      },
      "execution_count": 73,
      "outputs": [
        {
          "output_type": "execute_result",
          "data": {
            "text/plain": [
              "     Beach ID Beach Name  BeachLength (Mi)  Tier  Start Latitude  \\\n",
              "0    TX710697   25th St.             1.800     1       29.298146   \n",
              "468  TX710697   25th St.             1.396     1       29.298146   \n",
              "\n",
              "     Start Longitude  End Latitude  End Longitude Waterbody Type  \n",
              "0         -94.777565     29.284662     -94.794776     Open Coast  \n",
              "468       -94.777565     29.284662     -94.794776     Open Coast  "
            ],
            "text/html": [
              "\n",
              "  <div id=\"df-0376bd41-35a5-4d2a-ae4f-da4093d9237f\">\n",
              "    <div class=\"colab-df-container\">\n",
              "      <div>\n",
              "<style scoped>\n",
              "    .dataframe tbody tr th:only-of-type {\n",
              "        vertical-align: middle;\n",
              "    }\n",
              "\n",
              "    .dataframe tbody tr th {\n",
              "        vertical-align: top;\n",
              "    }\n",
              "\n",
              "    .dataframe thead th {\n",
              "        text-align: right;\n",
              "    }\n",
              "</style>\n",
              "<table border=\"1\" class=\"dataframe\">\n",
              "  <thead>\n",
              "    <tr style=\"text-align: right;\">\n",
              "      <th></th>\n",
              "      <th>Beach ID</th>\n",
              "      <th>Beach Name</th>\n",
              "      <th>BeachLength (Mi)</th>\n",
              "      <th>Tier</th>\n",
              "      <th>Start Latitude</th>\n",
              "      <th>Start Longitude</th>\n",
              "      <th>End Latitude</th>\n",
              "      <th>End Longitude</th>\n",
              "      <th>Waterbody Type</th>\n",
              "    </tr>\n",
              "  </thead>\n",
              "  <tbody>\n",
              "    <tr>\n",
              "      <th>0</th>\n",
              "      <td>TX710697</td>\n",
              "      <td>25th St.</td>\n",
              "      <td>1.800</td>\n",
              "      <td>1</td>\n",
              "      <td>29.298146</td>\n",
              "      <td>-94.777565</td>\n",
              "      <td>29.284662</td>\n",
              "      <td>-94.794776</td>\n",
              "      <td>Open Coast</td>\n",
              "    </tr>\n",
              "    <tr>\n",
              "      <th>468</th>\n",
              "      <td>TX710697</td>\n",
              "      <td>25th St.</td>\n",
              "      <td>1.396</td>\n",
              "      <td>1</td>\n",
              "      <td>29.298146</td>\n",
              "      <td>-94.777565</td>\n",
              "      <td>29.284662</td>\n",
              "      <td>-94.794776</td>\n",
              "      <td>Open Coast</td>\n",
              "    </tr>\n",
              "  </tbody>\n",
              "</table>\n",
              "</div>\n",
              "      <button class=\"colab-df-convert\" onclick=\"convertToInteractive('df-0376bd41-35a5-4d2a-ae4f-da4093d9237f')\"\n",
              "              title=\"Convert this dataframe to an interactive table.\"\n",
              "              style=\"display:none;\">\n",
              "        \n",
              "  <svg xmlns=\"http://www.w3.org/2000/svg\" height=\"24px\"viewBox=\"0 0 24 24\"\n",
              "       width=\"24px\">\n",
              "    <path d=\"M0 0h24v24H0V0z\" fill=\"none\"/>\n",
              "    <path d=\"M18.56 5.44l.94 2.06.94-2.06 2.06-.94-2.06-.94-.94-2.06-.94 2.06-2.06.94zm-11 1L8.5 8.5l.94-2.06 2.06-.94-2.06-.94L8.5 2.5l-.94 2.06-2.06.94zm10 10l.94 2.06.94-2.06 2.06-.94-2.06-.94-.94-2.06-.94 2.06-2.06.94z\"/><path d=\"M17.41 7.96l-1.37-1.37c-.4-.4-.92-.59-1.43-.59-.52 0-1.04.2-1.43.59L10.3 9.45l-7.72 7.72c-.78.78-.78 2.05 0 2.83L4 21.41c.39.39.9.59 1.41.59.51 0 1.02-.2 1.41-.59l7.78-7.78 2.81-2.81c.8-.78.8-2.07 0-2.86zM5.41 20L4 18.59l7.72-7.72 1.47 1.35L5.41 20z\"/>\n",
              "  </svg>\n",
              "      </button>\n",
              "      \n",
              "  <style>\n",
              "    .colab-df-container {\n",
              "      display:flex;\n",
              "      flex-wrap:wrap;\n",
              "      gap: 12px;\n",
              "    }\n",
              "\n",
              "    .colab-df-convert {\n",
              "      background-color: #E8F0FE;\n",
              "      border: none;\n",
              "      border-radius: 50%;\n",
              "      cursor: pointer;\n",
              "      display: none;\n",
              "      fill: #1967D2;\n",
              "      height: 32px;\n",
              "      padding: 0 0 0 0;\n",
              "      width: 32px;\n",
              "    }\n",
              "\n",
              "    .colab-df-convert:hover {\n",
              "      background-color: #E2EBFA;\n",
              "      box-shadow: 0px 1px 2px rgba(60, 64, 67, 0.3), 0px 1px 3px 1px rgba(60, 64, 67, 0.15);\n",
              "      fill: #174EA6;\n",
              "    }\n",
              "\n",
              "    [theme=dark] .colab-df-convert {\n",
              "      background-color: #3B4455;\n",
              "      fill: #D2E3FC;\n",
              "    }\n",
              "\n",
              "    [theme=dark] .colab-df-convert:hover {\n",
              "      background-color: #434B5C;\n",
              "      box-shadow: 0px 1px 3px 1px rgba(0, 0, 0, 0.15);\n",
              "      filter: drop-shadow(0px 1px 2px rgba(0, 0, 0, 0.3));\n",
              "      fill: #FFFFFF;\n",
              "    }\n",
              "  </style>\n",
              "\n",
              "      <script>\n",
              "        const buttonEl =\n",
              "          document.querySelector('#df-0376bd41-35a5-4d2a-ae4f-da4093d9237f button.colab-df-convert');\n",
              "        buttonEl.style.display =\n",
              "          google.colab.kernel.accessAllowed ? 'block' : 'none';\n",
              "\n",
              "        async function convertToInteractive(key) {\n",
              "          const element = document.querySelector('#df-0376bd41-35a5-4d2a-ae4f-da4093d9237f');\n",
              "          const dataTable =\n",
              "            await google.colab.kernel.invokeFunction('convertToInteractive',\n",
              "                                                     [key], {});\n",
              "          if (!dataTable) return;\n",
              "\n",
              "          const docLinkHtml = 'Like what you see? Visit the ' +\n",
              "            '<a target=\"_blank\" href=https://colab.research.google.com/notebooks/data_table.ipynb>data table notebook</a>'\n",
              "            + ' to learn more about interactive tables.';\n",
              "          element.innerHTML = '';\n",
              "          dataTable['output_type'] = 'display_data';\n",
              "          await google.colab.output.renderOutput(dataTable, element);\n",
              "          const docLink = document.createElement('div');\n",
              "          docLink.innerHTML = docLinkHtml;\n",
              "          element.appendChild(docLink);\n",
              "        }\n",
              "      </script>\n",
              "    </div>\n",
              "  </div>\n",
              "  "
            ]
          },
          "metadata": {},
          "execution_count": 73
        }
      ]
    },
    {
      "cell_type": "code",
      "source": [
        "# The beach that is returned is the beach on 25th Street. Upon inspection, all the data is the same except for the BeachLength column. Fix this by dropping the beachlengthy, beaches should be the same length year after year\n",
        "beach_attr_df.drop(\"BeachLength (Mi)\",1,inplace=True)"
      ],
      "metadata": {
        "colab": {
          "base_uri": "https://localhost:8080/"
        },
        "id": "V4RZgyXh46Q_",
        "outputId": "384cadcd-854d-4464-fd9c-eb1f41ab2f5b"
      },
      "execution_count": 74,
      "outputs": [
        {
          "output_type": "stream",
          "name": "stderr",
          "text": [
            "/usr/local/lib/python3.7/dist-packages/ipykernel_launcher.py:2: FutureWarning: In a future version of pandas all arguments of DataFrame.drop except for the argument 'labels' will be keyword-only\n",
            "  \n"
          ]
        }
      ]
    },
    {
      "cell_type": "code",
      "source": [
        "# Now that beachlength is dropped, the data should not have duplicates. Run drop_duplicates to remove the repeated rows of data\n",
        "beach_attr_df.drop_duplicates(inplace=True)"
      ],
      "metadata": {
        "id": "nkfTzL5r5VHu"
      },
      "execution_count": 75,
      "outputs": []
    },
    {
      "cell_type": "code",
      "source": [
        "# Now verify that each Beach ID only has one record\n",
        "beach_attr_df[\"Beach ID\"].value_counts()"
      ],
      "metadata": {
        "colab": {
          "base_uri": "https://localhost:8080/"
        },
        "id": "AUzoyCy85rnX",
        "outputId": "54740268-6b5a-41f3-a794-881b6a4e32df"
      },
      "execution_count": 76,
      "outputs": [
        {
          "output_type": "execute_result",
          "data": {
            "text/plain": [
              "TX710697    1\n",
              "TX214299    1\n",
              "TX239942    1\n",
              "TX974690    1\n",
              "TX669225    1\n",
              "TX751320    1\n",
              "TX832087    1\n",
              "TX284256    1\n",
              "TX341767    1\n",
              "TX822495    1\n",
              "TX767833    1\n",
              "TX236175    1\n",
              "TX406100    1\n",
              "TX650612    1\n",
              "TX163187    1\n",
              "TX451421    1\n",
              "TX164090    1\n",
              "TX593160    1\n",
              "TX272864    1\n",
              "TX669733    1\n",
              "TX981462    1\n",
              "TX486021    1\n",
              "TX327206    1\n",
              "TX940700    1\n",
              "TX972853    1\n",
              "TX392019    1\n",
              "TX393353    1\n",
              "TX168454    1\n",
              "TX632189    1\n",
              "TX795287    1\n",
              "TX334226    1\n",
              "TX226514    1\n",
              "TX568423    1\n",
              "TX122528    1\n",
              "TX860495    1\n",
              "TX426780    1\n",
              "Name: Beach ID, dtype: int64"
            ]
          },
          "metadata": {},
          "execution_count": 76
        }
      ]
    },
    {
      "cell_type": "code",
      "source": [
        "# Check uniqueness of remaining columns\n",
        "beach_attr_df.nunique()"
      ],
      "metadata": {
        "colab": {
          "base_uri": "https://localhost:8080/"
        },
        "id": "YYwygiry6CL-",
        "outputId": "4e2e49c1-e5ee-4781-8fdf-d59b79389dab"
      },
      "execution_count": 77,
      "outputs": [
        {
          "output_type": "execute_result",
          "data": {
            "text/plain": [
              "Beach ID           36\n",
              "Beach Name         36\n",
              "Tier                3\n",
              "Start Latitude     36\n",
              "Start Longitude    36\n",
              "End Latitude       36\n",
              "End Longitude      36\n",
              "Waterbody Type      2\n",
              "dtype: int64"
            ]
          },
          "metadata": {},
          "execution_count": 77
        }
      ]
    },
    {
      "cell_type": "code",
      "source": [
        "# Need to look up what is a Tier 1, 2, 3 beach. Print out the counts of the beach below\n",
        "beach_attr_df[\"Tier\"].value_counts()"
      ],
      "metadata": {
        "colab": {
          "base_uri": "https://localhost:8080/"
        },
        "id": "CZEcvige6SKQ",
        "outputId": "f7d5f66d-b7ed-40af-ea56-f8c31a2f37a3"
      },
      "execution_count": 78,
      "outputs": [
        {
          "output_type": "execute_result",
          "data": {
            "text/plain": [
              "1    23\n",
              "2     7\n",
              "3     6\n",
              "Name: Tier, dtype: int64"
            ]
          },
          "metadata": {},
          "execution_count": 78
        }
      ]
    },
    {
      "cell_type": "code",
      "source": [
        "# Check the number of different water types and what are they\n",
        "beach_attr_df[\"Waterbody Type\"].value_counts()"
      ],
      "metadata": {
        "colab": {
          "base_uri": "https://localhost:8080/"
        },
        "id": "1aiO8gn_6dQO",
        "outputId": "a7074936-32b7-4858-febd-3c2270467014"
      },
      "execution_count": 79,
      "outputs": [
        {
          "output_type": "execute_result",
          "data": {
            "text/plain": [
              "Open Coast              31\n",
              "Sound, Bay, or Inlet     5\n",
              "Name: Waterbody Type, dtype: int64"
            ]
          },
          "metadata": {},
          "execution_count": 79
        }
      ]
    },
    {
      "cell_type": "code",
      "source": [
        "# Final table for load into a database. For database load, change column names, check data types match SQL data types, load into database table\n",
        "beach_attr_df.head()"
      ],
      "metadata": {
        "colab": {
          "base_uri": "https://localhost:8080/",
          "height": 206
        },
        "id": "nKhANTpV7ai3",
        "outputId": "1e348d2e-c5ae-4505-a334-dbd222f26b90"
      },
      "execution_count": 80,
      "outputs": [
        {
          "output_type": "execute_result",
          "data": {
            "text/plain": [
              "   Beach ID   Beach Name  Tier  Start Latitude  Start Longitude  End Latitude  \\\n",
              "0  TX710697     25th St.     1       29.298146       -94.777565     29.284662   \n",
              "1  TX214299     45th St.     1       29.284667       -94.794770     29.271917   \n",
              "2  TX486021     61st St.     1       29.271922       -94.815859     29.264091   \n",
              "3  TX327206  Appfel Park     1       29.337451       -94.733010     29.324250   \n",
              "4  TX940700       Caplen     2       29.503046       -94.510477     29.494188   \n",
              "\n",
              "   End Longitude Waterbody Type  \n",
              "0     -94.794776     Open Coast  \n",
              "1     -94.815865     Open Coast  \n",
              "2     -94.830244     Open Coast  \n",
              "3     -94.739129     Open Coast  \n",
              "4     -94.532478     Open Coast  "
            ],
            "text/html": [
              "\n",
              "  <div id=\"df-11e2d948-e81e-4a9f-9638-e5e3c016b81c\">\n",
              "    <div class=\"colab-df-container\">\n",
              "      <div>\n",
              "<style scoped>\n",
              "    .dataframe tbody tr th:only-of-type {\n",
              "        vertical-align: middle;\n",
              "    }\n",
              "\n",
              "    .dataframe tbody tr th {\n",
              "        vertical-align: top;\n",
              "    }\n",
              "\n",
              "    .dataframe thead th {\n",
              "        text-align: right;\n",
              "    }\n",
              "</style>\n",
              "<table border=\"1\" class=\"dataframe\">\n",
              "  <thead>\n",
              "    <tr style=\"text-align: right;\">\n",
              "      <th></th>\n",
              "      <th>Beach ID</th>\n",
              "      <th>Beach Name</th>\n",
              "      <th>Tier</th>\n",
              "      <th>Start Latitude</th>\n",
              "      <th>Start Longitude</th>\n",
              "      <th>End Latitude</th>\n",
              "      <th>End Longitude</th>\n",
              "      <th>Waterbody Type</th>\n",
              "    </tr>\n",
              "  </thead>\n",
              "  <tbody>\n",
              "    <tr>\n",
              "      <th>0</th>\n",
              "      <td>TX710697</td>\n",
              "      <td>25th St.</td>\n",
              "      <td>1</td>\n",
              "      <td>29.298146</td>\n",
              "      <td>-94.777565</td>\n",
              "      <td>29.284662</td>\n",
              "      <td>-94.794776</td>\n",
              "      <td>Open Coast</td>\n",
              "    </tr>\n",
              "    <tr>\n",
              "      <th>1</th>\n",
              "      <td>TX214299</td>\n",
              "      <td>45th St.</td>\n",
              "      <td>1</td>\n",
              "      <td>29.284667</td>\n",
              "      <td>-94.794770</td>\n",
              "      <td>29.271917</td>\n",
              "      <td>-94.815865</td>\n",
              "      <td>Open Coast</td>\n",
              "    </tr>\n",
              "    <tr>\n",
              "      <th>2</th>\n",
              "      <td>TX486021</td>\n",
              "      <td>61st St.</td>\n",
              "      <td>1</td>\n",
              "      <td>29.271922</td>\n",
              "      <td>-94.815859</td>\n",
              "      <td>29.264091</td>\n",
              "      <td>-94.830244</td>\n",
              "      <td>Open Coast</td>\n",
              "    </tr>\n",
              "    <tr>\n",
              "      <th>3</th>\n",
              "      <td>TX327206</td>\n",
              "      <td>Appfel Park</td>\n",
              "      <td>1</td>\n",
              "      <td>29.337451</td>\n",
              "      <td>-94.733010</td>\n",
              "      <td>29.324250</td>\n",
              "      <td>-94.739129</td>\n",
              "      <td>Open Coast</td>\n",
              "    </tr>\n",
              "    <tr>\n",
              "      <th>4</th>\n",
              "      <td>TX940700</td>\n",
              "      <td>Caplen</td>\n",
              "      <td>2</td>\n",
              "      <td>29.503046</td>\n",
              "      <td>-94.510477</td>\n",
              "      <td>29.494188</td>\n",
              "      <td>-94.532478</td>\n",
              "      <td>Open Coast</td>\n",
              "    </tr>\n",
              "  </tbody>\n",
              "</table>\n",
              "</div>\n",
              "      <button class=\"colab-df-convert\" onclick=\"convertToInteractive('df-11e2d948-e81e-4a9f-9638-e5e3c016b81c')\"\n",
              "              title=\"Convert this dataframe to an interactive table.\"\n",
              "              style=\"display:none;\">\n",
              "        \n",
              "  <svg xmlns=\"http://www.w3.org/2000/svg\" height=\"24px\"viewBox=\"0 0 24 24\"\n",
              "       width=\"24px\">\n",
              "    <path d=\"M0 0h24v24H0V0z\" fill=\"none\"/>\n",
              "    <path d=\"M18.56 5.44l.94 2.06.94-2.06 2.06-.94-2.06-.94-.94-2.06-.94 2.06-2.06.94zm-11 1L8.5 8.5l.94-2.06 2.06-.94-2.06-.94L8.5 2.5l-.94 2.06-2.06.94zm10 10l.94 2.06.94-2.06 2.06-.94-2.06-.94-.94-2.06-.94 2.06-2.06.94z\"/><path d=\"M17.41 7.96l-1.37-1.37c-.4-.4-.92-.59-1.43-.59-.52 0-1.04.2-1.43.59L10.3 9.45l-7.72 7.72c-.78.78-.78 2.05 0 2.83L4 21.41c.39.39.9.59 1.41.59.51 0 1.02-.2 1.41-.59l7.78-7.78 2.81-2.81c.8-.78.8-2.07 0-2.86zM5.41 20L4 18.59l7.72-7.72 1.47 1.35L5.41 20z\"/>\n",
              "  </svg>\n",
              "      </button>\n",
              "      \n",
              "  <style>\n",
              "    .colab-df-container {\n",
              "      display:flex;\n",
              "      flex-wrap:wrap;\n",
              "      gap: 12px;\n",
              "    }\n",
              "\n",
              "    .colab-df-convert {\n",
              "      background-color: #E8F0FE;\n",
              "      border: none;\n",
              "      border-radius: 50%;\n",
              "      cursor: pointer;\n",
              "      display: none;\n",
              "      fill: #1967D2;\n",
              "      height: 32px;\n",
              "      padding: 0 0 0 0;\n",
              "      width: 32px;\n",
              "    }\n",
              "\n",
              "    .colab-df-convert:hover {\n",
              "      background-color: #E2EBFA;\n",
              "      box-shadow: 0px 1px 2px rgba(60, 64, 67, 0.3), 0px 1px 3px 1px rgba(60, 64, 67, 0.15);\n",
              "      fill: #174EA6;\n",
              "    }\n",
              "\n",
              "    [theme=dark] .colab-df-convert {\n",
              "      background-color: #3B4455;\n",
              "      fill: #D2E3FC;\n",
              "    }\n",
              "\n",
              "    [theme=dark] .colab-df-convert:hover {\n",
              "      background-color: #434B5C;\n",
              "      box-shadow: 0px 1px 3px 1px rgba(0, 0, 0, 0.15);\n",
              "      filter: drop-shadow(0px 1px 2px rgba(0, 0, 0, 0.3));\n",
              "      fill: #FFFFFF;\n",
              "    }\n",
              "  </style>\n",
              "\n",
              "      <script>\n",
              "        const buttonEl =\n",
              "          document.querySelector('#df-11e2d948-e81e-4a9f-9638-e5e3c016b81c button.colab-df-convert');\n",
              "        buttonEl.style.display =\n",
              "          google.colab.kernel.accessAllowed ? 'block' : 'none';\n",
              "\n",
              "        async function convertToInteractive(key) {\n",
              "          const element = document.querySelector('#df-11e2d948-e81e-4a9f-9638-e5e3c016b81c');\n",
              "          const dataTable =\n",
              "            await google.colab.kernel.invokeFunction('convertToInteractive',\n",
              "                                                     [key], {});\n",
              "          if (!dataTable) return;\n",
              "\n",
              "          const docLinkHtml = 'Like what you see? Visit the ' +\n",
              "            '<a target=\"_blank\" href=https://colab.research.google.com/notebooks/data_table.ipynb>data table notebook</a>'\n",
              "            + ' to learn more about interactive tables.';\n",
              "          element.innerHTML = '';\n",
              "          dataTable['output_type'] = 'display_data';\n",
              "          await google.colab.output.renderOutput(dataTable, element);\n",
              "          const docLink = document.createElement('div');\n",
              "          docLink.innerHTML = docLinkHtml;\n",
              "          element.appendChild(docLink);\n",
              "        }\n",
              "      </script>\n",
              "    </div>\n",
              "  </div>\n",
              "  "
            ]
          },
          "metadata": {},
          "execution_count": 80
        }
      ]
    },
    {
      "cell_type": "code",
      "source": [
        "# Final row and column count\n",
        "beach_attr_df.shape"
      ],
      "metadata": {
        "colab": {
          "base_uri": "https://localhost:8080/"
        },
        "id": "T4N1dUHR7gYS",
        "outputId": "b1a2a2e2-51fc-4853-af26-a7fa23757a7c"
      },
      "execution_count": 81,
      "outputs": [
        {
          "output_type": "execute_result",
          "data": {
            "text/plain": [
              "(36, 8)"
            ]
          },
          "metadata": {},
          "execution_count": 81
        }
      ]
    },
    {
      "cell_type": "code",
      "source": [
        "# check the datatypes\n",
        "beach_attr_df.dtypes"
      ],
      "metadata": {
        "colab": {
          "base_uri": "https://localhost:8080/"
        },
        "id": "XC1clAaNPIb3",
        "outputId": "c5eaf3dc-5f1b-4199-93b4-409ea1aa8728"
      },
      "execution_count": 157,
      "outputs": [
        {
          "output_type": "execute_result",
          "data": {
            "text/plain": [
              "Beach ID            object\n",
              "Beach Name          object\n",
              "Tier                 int64\n",
              "Start Latitude     float64\n",
              "Start Longitude    float64\n",
              "End Latitude       float64\n",
              "End Longitude      float64\n",
              "Waterbody Type      object\n",
              "dtype: object"
            ]
          },
          "metadata": {},
          "execution_count": 157
        }
      ]
    },
    {
      "cell_type": "markdown",
      "source": [
        "### ETL in preparation for loading the data into the Database"
      ],
      "metadata": {
        "id": "etpajB_TGtf7"
      }
    },
    {
      "cell_type": "code",
      "source": [
        ""
      ],
      "metadata": {
        "id": "NbqUDX83Gs2S"
      },
      "execution_count": 81,
      "outputs": []
    },
    {
      "cell_type": "markdown",
      "source": [
        "## Water Quality File"
      ],
      "metadata": {
        "id": "BCNhLedZ7Rmq"
      }
    },
    {
      "cell_type": "code",
      "source": [
        "# Load the Water_Quality_Report. CHANGE FINAL LOCATION TO MATCH YOUR FILE LOCATION!!!!\n",
        "# water_quality_df = pd.read_csv(\"/content/drive/MyDrive/Project/Data/Beach/Water_Quality_Report.csv\")\n",
        "# water_quality_df.head()"
      ],
      "metadata": {
        "id": "5qN3Ik_76mAm"
      },
      "execution_count": 82,
      "outputs": []
    },
    {
      "cell_type": "code",
      "source": [
        "# Load local file\n",
        "from google.colab import files\n",
        "uploaded = files.upload()"
      ],
      "metadata": {
        "colab": {
          "resources": {
            "http://localhost:8080/nbextensions/google.colab/files.js": {
              "data": "Ly8gQ29weXJpZ2h0IDIwMTcgR29vZ2xlIExMQwovLwovLyBMaWNlbnNlZCB1bmRlciB0aGUgQXBhY2hlIExpY2Vuc2UsIFZlcnNpb24gMi4wICh0aGUgIkxpY2Vuc2UiKTsKLy8geW91IG1heSBub3QgdXNlIHRoaXMgZmlsZSBleGNlcHQgaW4gY29tcGxpYW5jZSB3aXRoIHRoZSBMaWNlbnNlLgovLyBZb3UgbWF5IG9idGFpbiBhIGNvcHkgb2YgdGhlIExpY2Vuc2UgYXQKLy8KLy8gICAgICBodHRwOi8vd3d3LmFwYWNoZS5vcmcvbGljZW5zZXMvTElDRU5TRS0yLjAKLy8KLy8gVW5sZXNzIHJlcXVpcmVkIGJ5IGFwcGxpY2FibGUgbGF3IG9yIGFncmVlZCB0byBpbiB3cml0aW5nLCBzb2Z0d2FyZQovLyBkaXN0cmlidXRlZCB1bmRlciB0aGUgTGljZW5zZSBpcyBkaXN0cmlidXRlZCBvbiBhbiAiQVMgSVMiIEJBU0lTLAovLyBXSVRIT1VUIFdBUlJBTlRJRVMgT1IgQ09ORElUSU9OUyBPRiBBTlkgS0lORCwgZWl0aGVyIGV4cHJlc3Mgb3IgaW1wbGllZC4KLy8gU2VlIHRoZSBMaWNlbnNlIGZvciB0aGUgc3BlY2lmaWMgbGFuZ3VhZ2UgZ292ZXJuaW5nIHBlcm1pc3Npb25zIGFuZAovLyBsaW1pdGF0aW9ucyB1bmRlciB0aGUgTGljZW5zZS4KCi8qKgogKiBAZmlsZW92ZXJ2aWV3IEhlbHBlcnMgZm9yIGdvb2dsZS5jb2xhYiBQeXRob24gbW9kdWxlLgogKi8KKGZ1bmN0aW9uKHNjb3BlKSB7CmZ1bmN0aW9uIHNwYW4odGV4dCwgc3R5bGVBdHRyaWJ1dGVzID0ge30pIHsKICBjb25zdCBlbGVtZW50ID0gZG9jdW1lbnQuY3JlYXRlRWxlbWVudCgnc3BhbicpOwogIGVsZW1lbnQudGV4dENvbnRlbnQgPSB0ZXh0OwogIGZvciAoY29uc3Qga2V5IG9mIE9iamVjdC5rZXlzKHN0eWxlQXR0cmlidXRlcykpIHsKICAgIGVsZW1lbnQuc3R5bGVba2V5XSA9IHN0eWxlQXR0cmlidXRlc1trZXldOwogIH0KICByZXR1cm4gZWxlbWVudDsKfQoKLy8gTWF4IG51bWJlciBvZiBieXRlcyB3aGljaCB3aWxsIGJlIHVwbG9hZGVkIGF0IGEgdGltZS4KY29uc3QgTUFYX1BBWUxPQURfU0laRSA9IDEwMCAqIDEwMjQ7CgpmdW5jdGlvbiBfdXBsb2FkRmlsZXMoaW5wdXRJZCwgb3V0cHV0SWQpIHsKICBjb25zdCBzdGVwcyA9IHVwbG9hZEZpbGVzU3RlcChpbnB1dElkLCBvdXRwdXRJZCk7CiAgY29uc3Qgb3V0cHV0RWxlbWVudCA9IGRvY3VtZW50LmdldEVsZW1lbnRCeUlkKG91dHB1dElkKTsKICAvLyBDYWNoZSBzdGVwcyBvbiB0aGUgb3V0cHV0RWxlbWVudCB0byBtYWtlIGl0IGF2YWlsYWJsZSBmb3IgdGhlIG5leHQgY2FsbAogIC8vIHRvIHVwbG9hZEZpbGVzQ29udGludWUgZnJvbSBQeXRob24uCiAgb3V0cHV0RWxlbWVudC5zdGVwcyA9IHN0ZXBzOwoKICByZXR1cm4gX3VwbG9hZEZpbGVzQ29udGludWUob3V0cHV0SWQpOwp9CgovLyBUaGlzIGlzIHJvdWdobHkgYW4gYXN5bmMgZ2VuZXJhdG9yIChub3Qgc3VwcG9ydGVkIGluIHRoZSBicm93c2VyIHlldCksCi8vIHdoZXJlIHRoZXJlIGFyZSBtdWx0aXBsZSBhc3luY2hyb25vdXMgc3RlcHMgYW5kIHRoZSBQeXRob24gc2lkZSBpcyBnb2luZwovLyB0byBwb2xsIGZvciBjb21wbGV0aW9uIG9mIGVhY2ggc3RlcC4KLy8gVGhpcyB1c2VzIGEgUHJvbWlzZSB0byBibG9jayB0aGUgcHl0aG9uIHNpZGUgb24gY29tcGxldGlvbiBvZiBlYWNoIHN0ZXAsCi8vIHRoZW4gcGFzc2VzIHRoZSByZXN1bHQgb2YgdGhlIHByZXZpb3VzIHN0ZXAgYXMgdGhlIGlucHV0IHRvIHRoZSBuZXh0IHN0ZXAuCmZ1bmN0aW9uIF91cGxvYWRGaWxlc0NvbnRpbnVlKG91dHB1dElkKSB7CiAgY29uc3Qgb3V0cHV0RWxlbWVudCA9IGRvY3VtZW50LmdldEVsZW1lbnRCeUlkKG91dHB1dElkKTsKICBjb25zdCBzdGVwcyA9IG91dHB1dEVsZW1lbnQuc3RlcHM7CgogIGNvbnN0IG5leHQgPSBzdGVwcy5uZXh0KG91dHB1dEVsZW1lbnQubGFzdFByb21pc2VWYWx1ZSk7CiAgcmV0dXJuIFByb21pc2UucmVzb2x2ZShuZXh0LnZhbHVlLnByb21pc2UpLnRoZW4oKHZhbHVlKSA9PiB7CiAgICAvLyBDYWNoZSB0aGUgbGFzdCBwcm9taXNlIHZhbHVlIHRvIG1ha2UgaXQgYXZhaWxhYmxlIHRvIHRoZSBuZXh0CiAgICAvLyBzdGVwIG9mIHRoZSBnZW5lcmF0b3IuCiAgICBvdXRwdXRFbGVtZW50Lmxhc3RQcm9taXNlVmFsdWUgPSB2YWx1ZTsKICAgIHJldHVybiBuZXh0LnZhbHVlLnJlc3BvbnNlOwogIH0pOwp9CgovKioKICogR2VuZXJhdG9yIGZ1bmN0aW9uIHdoaWNoIGlzIGNhbGxlZCBiZXR3ZWVuIGVhY2ggYXN5bmMgc3RlcCBvZiB0aGUgdXBsb2FkCiAqIHByb2Nlc3MuCiAqIEBwYXJhbSB7c3RyaW5nfSBpbnB1dElkIEVsZW1lbnQgSUQgb2YgdGhlIGlucHV0IGZpbGUgcGlja2VyIGVsZW1lbnQuCiAqIEBwYXJhbSB7c3RyaW5nfSBvdXRwdXRJZCBFbGVtZW50IElEIG9mIHRoZSBvdXRwdXQgZGlzcGxheS4KICogQHJldHVybiB7IUl0ZXJhYmxlPCFPYmplY3Q+fSBJdGVyYWJsZSBvZiBuZXh0IHN0ZXBzLgogKi8KZnVuY3Rpb24qIHVwbG9hZEZpbGVzU3RlcChpbnB1dElkLCBvdXRwdXRJZCkgewogIGNvbnN0IGlucHV0RWxlbWVudCA9IGRvY3VtZW50LmdldEVsZW1lbnRCeUlkKGlucHV0SWQpOwogIGlucHV0RWxlbWVudC5kaXNhYmxlZCA9IGZhbHNlOwoKICBjb25zdCBvdXRwdXRFbGVtZW50ID0gZG9jdW1lbnQuZ2V0RWxlbWVudEJ5SWQob3V0cHV0SWQpOwogIG91dHB1dEVsZW1lbnQuaW5uZXJIVE1MID0gJyc7CgogIGNvbnN0IHBpY2tlZFByb21pc2UgPSBuZXcgUHJvbWlzZSgocmVzb2x2ZSkgPT4gewogICAgaW5wdXRFbGVtZW50LmFkZEV2ZW50TGlzdGVuZXIoJ2NoYW5nZScsIChlKSA9PiB7CiAgICAgIHJlc29sdmUoZS50YXJnZXQuZmlsZXMpOwogICAgfSk7CiAgfSk7CgogIGNvbnN0IGNhbmNlbCA9IGRvY3VtZW50LmNyZWF0ZUVsZW1lbnQoJ2J1dHRvbicpOwogIGlucHV0RWxlbWVudC5wYXJlbnRFbGVtZW50LmFwcGVuZENoaWxkKGNhbmNlbCk7CiAgY2FuY2VsLnRleHRDb250ZW50ID0gJ0NhbmNlbCB1cGxvYWQnOwogIGNvbnN0IGNhbmNlbFByb21pc2UgPSBuZXcgUHJvbWlzZSgocmVzb2x2ZSkgPT4gewogICAgY2FuY2VsLm9uY2xpY2sgPSAoKSA9PiB7CiAgICAgIHJlc29sdmUobnVsbCk7CiAgICB9OwogIH0pOwoKICAvLyBXYWl0IGZvciB0aGUgdXNlciB0byBwaWNrIHRoZSBmaWxlcy4KICBjb25zdCBmaWxlcyA9IHlpZWxkIHsKICAgIHByb21pc2U6IFByb21pc2UucmFjZShbcGlja2VkUHJvbWlzZSwgY2FuY2VsUHJvbWlzZV0pLAogICAgcmVzcG9uc2U6IHsKICAgICAgYWN0aW9uOiAnc3RhcnRpbmcnLAogICAgfQogIH07CgogIGNhbmNlbC5yZW1vdmUoKTsKCiAgLy8gRGlzYWJsZSB0aGUgaW5wdXQgZWxlbWVudCBzaW5jZSBmdXJ0aGVyIHBpY2tzIGFyZSBub3QgYWxsb3dlZC4KICBpbnB1dEVsZW1lbnQuZGlzYWJsZWQgPSB0cnVlOwoKICBpZiAoIWZpbGVzKSB7CiAgICByZXR1cm4gewogICAgICByZXNwb25zZTogewogICAgICAgIGFjdGlvbjogJ2NvbXBsZXRlJywKICAgICAgfQogICAgfTsKICB9CgogIGZvciAoY29uc3QgZmlsZSBvZiBmaWxlcykgewogICAgY29uc3QgbGkgPSBkb2N1bWVudC5jcmVhdGVFbGVtZW50KCdsaScpOwogICAgbGkuYXBwZW5kKHNwYW4oZmlsZS5uYW1lLCB7Zm9udFdlaWdodDogJ2JvbGQnfSkpOwogICAgbGkuYXBwZW5kKHNwYW4oCiAgICAgICAgYCgke2ZpbGUudHlwZSB8fCAnbi9hJ30pIC0gJHtmaWxlLnNpemV9IGJ5dGVzLCBgICsKICAgICAgICBgbGFzdCBtb2RpZmllZDogJHsKICAgICAgICAgICAgZmlsZS5sYXN0TW9kaWZpZWREYXRlID8gZmlsZS5sYXN0TW9kaWZpZWREYXRlLnRvTG9jYWxlRGF0ZVN0cmluZygpIDoKICAgICAgICAgICAgICAgICAgICAgICAgICAgICAgICAgICAgJ24vYSd9IC0gYCkpOwogICAgY29uc3QgcGVyY2VudCA9IHNwYW4oJzAlIGRvbmUnKTsKICAgIGxpLmFwcGVuZENoaWxkKHBlcmNlbnQpOwoKICAgIG91dHB1dEVsZW1lbnQuYXBwZW5kQ2hpbGQobGkpOwoKICAgIGNvbnN0IGZpbGVEYXRhUHJvbWlzZSA9IG5ldyBQcm9taXNlKChyZXNvbHZlKSA9PiB7CiAgICAgIGNvbnN0IHJlYWRlciA9IG5ldyBGaWxlUmVhZGVyKCk7CiAgICAgIHJlYWRlci5vbmxvYWQgPSAoZSkgPT4gewogICAgICAgIHJlc29sdmUoZS50YXJnZXQucmVzdWx0KTsKICAgICAgfTsKICAgICAgcmVhZGVyLnJlYWRBc0FycmF5QnVmZmVyKGZpbGUpOwogICAgfSk7CiAgICAvLyBXYWl0IGZvciB0aGUgZGF0YSB0byBiZSByZWFkeS4KICAgIGxldCBmaWxlRGF0YSA9IHlpZWxkIHsKICAgICAgcHJvbWlzZTogZmlsZURhdGFQcm9taXNlLAogICAgICByZXNwb25zZTogewogICAgICAgIGFjdGlvbjogJ2NvbnRpbnVlJywKICAgICAgfQogICAgfTsKCiAgICAvLyBVc2UgYSBjaHVua2VkIHNlbmRpbmcgdG8gYXZvaWQgbWVzc2FnZSBzaXplIGxpbWl0cy4gU2VlIGIvNjIxMTU2NjAuCiAgICBsZXQgcG9zaXRpb24gPSAwOwogICAgZG8gewogICAgICBjb25zdCBsZW5ndGggPSBNYXRoLm1pbihmaWxlRGF0YS5ieXRlTGVuZ3RoIC0gcG9zaXRpb24sIE1BWF9QQVlMT0FEX1NJWkUpOwogICAgICBjb25zdCBjaHVuayA9IG5ldyBVaW50OEFycmF5KGZpbGVEYXRhLCBwb3NpdGlvbiwgbGVuZ3RoKTsKICAgICAgcG9zaXRpb24gKz0gbGVuZ3RoOwoKICAgICAgY29uc3QgYmFzZTY0ID0gYnRvYShTdHJpbmcuZnJvbUNoYXJDb2RlLmFwcGx5KG51bGwsIGNodW5rKSk7CiAgICAgIHlpZWxkIHsKICAgICAgICByZXNwb25zZTogewogICAgICAgICAgYWN0aW9uOiAnYXBwZW5kJywKICAgICAgICAgIGZpbGU6IGZpbGUubmFtZSwKICAgICAgICAgIGRhdGE6IGJhc2U2NCwKICAgICAgICB9LAogICAgICB9OwoKICAgICAgbGV0IHBlcmNlbnREb25lID0gZmlsZURhdGEuYnl0ZUxlbmd0aCA9PT0gMCA/CiAgICAgICAgICAxMDAgOgogICAgICAgICAgTWF0aC5yb3VuZCgocG9zaXRpb24gLyBmaWxlRGF0YS5ieXRlTGVuZ3RoKSAqIDEwMCk7CiAgICAgIHBlcmNlbnQudGV4dENvbnRlbnQgPSBgJHtwZXJjZW50RG9uZX0lIGRvbmVgOwoKICAgIH0gd2hpbGUgKHBvc2l0aW9uIDwgZmlsZURhdGEuYnl0ZUxlbmd0aCk7CiAgfQoKICAvLyBBbGwgZG9uZS4KICB5aWVsZCB7CiAgICByZXNwb25zZTogewogICAgICBhY3Rpb246ICdjb21wbGV0ZScsCiAgICB9CiAgfTsKfQoKc2NvcGUuZ29vZ2xlID0gc2NvcGUuZ29vZ2xlIHx8IHt9OwpzY29wZS5nb29nbGUuY29sYWIgPSBzY29wZS5nb29nbGUuY29sYWIgfHwge307CnNjb3BlLmdvb2dsZS5jb2xhYi5fZmlsZXMgPSB7CiAgX3VwbG9hZEZpbGVzLAogIF91cGxvYWRGaWxlc0NvbnRpbnVlLAp9Owp9KShzZWxmKTsK",
              "ok": true,
              "headers": [
                [
                  "content-type",
                  "application/javascript"
                ]
              ],
              "status": 200,
              "status_text": ""
            }
          },
          "base_uri": "https://localhost:8080/",
          "height": 73
        },
        "id": "UQgCdHBXKKd0",
        "outputId": "9e4f36b0-d406-4b3b-fea0-6a78b9ddc7b4"
      },
      "execution_count": 83,
      "outputs": [
        {
          "output_type": "display_data",
          "data": {
            "text/plain": [
              "<IPython.core.display.HTML object>"
            ],
            "text/html": [
              "\n",
              "     <input type=\"file\" id=\"files-797a33d3-6544-4719-96de-3667d4f91db3\" name=\"files[]\" multiple disabled\n",
              "        style=\"border:none\" />\n",
              "     <output id=\"result-797a33d3-6544-4719-96de-3667d4f91db3\">\n",
              "      Upload widget is only available when the cell has been executed in the\n",
              "      current browser session. Please rerun this cell to enable.\n",
              "      </output>\n",
              "      <script src=\"/nbextensions/google.colab/files.js\"></script> "
            ]
          },
          "metadata": {}
        },
        {
          "output_type": "stream",
          "name": "stdout",
          "text": [
            "Saving water_quality_report.csv to water_quality_report (1).csv\n"
          ]
        }
      ]
    },
    {
      "cell_type": "code",
      "source": [
        "# Import and read the \"Water Quality Report.csv\".\n",
        "import pandas as pd \n",
        "water_quality_df = pd.read_csv(\"water_quality_report.csv\")\n",
        "pd.set_option('max_columns', None)\n",
        "water_quality_df"
      ],
      "metadata": {
        "colab": {
          "base_uri": "https://localhost:8080/",
          "height": 974
        },
        "id": "-HRiwNJfKMjs",
        "outputId": "f2b509cd-a2d0-499c-c613-a0f5506a0fcf"
      },
      "execution_count": 132,
      "outputs": [
        {
          "output_type": "stream",
          "name": "stderr",
          "text": [
            "/usr/local/lib/python3.7/dist-packages/IPython/core/interactiveshell.py:2882: DtypeWarning: Columns (18) have mixed types.Specify dtype option on import or set low_memory=False.\n",
            "  exec(code_obj, self.user_global_ns, self.user_ns)\n"
          ]
        },
        {
          "output_type": "execute_result",
          "data": {
            "text/plain": [
              "      State Code  Year Beach ID(Def.)               Beach Name(Def.)  \\\n",
              "0             MA  2012       MA788803   Hideaway Village Association   \n",
              "1             MA  2012       MA851889               Tabor Park South   \n",
              "2             MA  2012       MA284631  Plum Island - end of island 2   \n",
              "3             MA  2011       MA862437                    Rock Harbor   \n",
              "4             MA  2011       MA585360       Sea Street (East Dennis)   \n",
              "...          ...   ...            ...                            ...   \n",
              "49995         NH  2016       NH233349          SUNAPEE LAKE DEWEY TB   \n",
              "49996         NH  2016       NH233349          SUNAPEE LAKE DEWEY TB   \n",
              "49997         NH  2016       NH233349          SUNAPEE LAKE DEWEY TB   \n",
              "49998         NH  2016       NH233349          SUNAPEE LAKE DEWEY TB   \n",
              "49999         NH  2016       NH233349          SUNAPEE LAKE DEWEY TB   \n",
              "\n",
              "      StationID(Def.)           Station Name (Def.) CountyName(Def.)  \\\n",
              "0            MA788803  Hideaway Village Association       BARNSTABLE   \n",
              "1            MA851889              Tabor Park South          BRISTOL   \n",
              "2            MA284631                   Plum Island            ESSEX   \n",
              "3            MA862437                   Rock Harbor       BARNSTABLE   \n",
              "4            MA585360      Sea Street (East Dennis)       BARNSTABLE   \n",
              "...               ...                           ...              ...   \n",
              "49995     BCHDEWSUNLF    LAKE SUNAPEE DEWEY TB-LEFT         SULLIVAN   \n",
              "49996     BCHDEWSUNLF    LAKE SUNAPEE DEWEY TB-LEFT         SULLIVAN   \n",
              "49997     BCHDEWSUNLF    LAKE SUNAPEE DEWEY TB-LEFT         SULLIVAN   \n",
              "49998     BCHDEWSUNLF    LAKE SUNAPEE DEWEY TB-LEFT         SULLIVAN   \n",
              "49999     BCHDEWSUNLF    LAKE SUNAPEE DEWEY TB-LEFT         SULLIVAN   \n",
              "\n",
              "      Identifier(Def.) StartDate(Def.) StartTime(Def.) ZoneCode(Def.)  \\\n",
              "0      MA7888032072012       25-JUL-12     10:05:00 AM            EDT   \n",
              "1      MA8518891582012       06-JUN-12     11:29:00 AM            EDT   \n",
              "2      MA2846312132012       31-JUL-12     11:20:00 AM            EDT   \n",
              "3      MA8624371732011       22-JUN-11     07:05:00 AM            EDT   \n",
              "4      MA5853602212011       09-AUG-11     08:23:00 AM            EDT   \n",
              "...                ...             ...             ...            ...   \n",
              "49995       B605103001       05-JUL-16     11:21:00 AM            EDT   \n",
              "49996       B605103001       05-JUL-16     11:21:00 AM            EDT   \n",
              "49997       B605103001       05-JUL-16     11:21:00 AM            EDT   \n",
              "49998       B605103001       05-JUL-16     11:21:00 AM            EDT   \n",
              "49999       B605103001       05-JUL-16     11:21:00 AM            EDT   \n",
              "\n",
              "      ActivityTypeCode(Def.)    CharacteristicName(Def.)  \\\n",
              "0             Sample-Routine                Enterococcus   \n",
              "1             Sample-Routine                Enterococcus   \n",
              "2             Sample-Routine                Enterococcus   \n",
              "3             Sample-Routine                Enterococcus   \n",
              "4             Sample-Routine                Enterococcus   \n",
              "...                      ...                         ...   \n",
              "49995         Sample-Routine            Escherichia coli   \n",
              "49996         Sample-Routine          Temperature, water   \n",
              "49997         Sample-Routine  General observation (text)   \n",
              "49998         Sample-Routine  General observation (text)   \n",
              "49999         Sample-Routine  General observation (text)   \n",
              "\n",
              "      Result ValueText(Def.)  ResultValue(Def.) ResultMeasureUnit  \\\n",
              "0                        NaN                NaN         cfu/100ml   \n",
              "1                        NaN                NaN         cfu/100ml   \n",
              "2                        NaN                NaN         cfu/100ml   \n",
              "3                        NaN              134.0         cfu/100ml   \n",
              "4                        NaN               18.0         cfu/100ml   \n",
              "...                      ...                ...               ...   \n",
              "49995                    NaN                2.0         MPN/100ml   \n",
              "49996                    NaN               23.3             deg C   \n",
              "49997                    NaN                0.0             count   \n",
              "49998                    NaN                0.0             count   \n",
              "49999                    NaN                2.0             count   \n",
              "\n",
              "      Result Comment(Def.)  ActivityDepthValue(Def.)  \\\n",
              "0                      NaN                       3.0   \n",
              "1                      NaN                       3.0   \n",
              "2                      NaN                       3.0   \n",
              "3                      NaN                       3.0   \n",
              "4                      NaN                       3.0   \n",
              "...                    ...                       ...   \n",
              "49995                  NaN                       NaN   \n",
              "49996                  NaN                       NaN   \n",
              "49997                  NaN                       NaN   \n",
              "49998                  NaN                       NaN   \n",
              "49999                  NaN                       NaN   \n",
              "\n",
              "      ActivityDepthUnitCode(Def.)  \\\n",
              "0                              ft   \n",
              "1                              ft   \n",
              "2                              ft   \n",
              "3                              ft   \n",
              "4                              ft   \n",
              "...                           ...   \n",
              "49995                         NaN   \n",
              "49996                         NaN   \n",
              "49997                         NaN   \n",
              "49998                         NaN   \n",
              "49999                         NaN   \n",
              "\n",
              "      ResultAnalyticalMethodIdentifier Context(Def.)  \\\n",
              "0                                                NaN   \n",
              "1                                                NaN   \n",
              "2                                                NaN   \n",
              "3                                                NaN   \n",
              "4                                                NaN   \n",
              "...                                              ...   \n",
              "49995                                           APHA   \n",
              "49996                                           APHA   \n",
              "49997                                       11113300   \n",
              "49998                                       11113300   \n",
              "49999                                       11113300   \n",
              "\n",
              "      ResultAnalyticalMethodIdentifier(Def.)  \\\n",
              "0                                        NaN   \n",
              "1                                        NaN   \n",
              "2                                        NaN   \n",
              "3                                        NaN   \n",
              "4                                        NaN   \n",
              "...                                      ...   \n",
              "49995                                 9223-B   \n",
              "49996                                   2550   \n",
              "49997                                   NONE   \n",
              "49998                                   NONE   \n",
              "49999                                   NONE   \n",
              "\n",
              "                        ResultAnalyticalMethodName(Def.)  \\\n",
              "0                                                    NaN   \n",
              "1                                                    NaN   \n",
              "2                                                    NaN   \n",
              "3                                                    NaN   \n",
              "4                                                    NaN   \n",
              "...                                                  ...   \n",
              "49995  9223 B ~ Enzyme substrate assay for measuring ...   \n",
              "49996                Temperature of Water by Thermometer   \n",
              "49997              NO ANALYTICAL METHOD. NOT APPLICABLE.   \n",
              "49998              NO ANALYTICAL METHOD. NOT APPLICABLE.   \n",
              "49999              NO ANALYTICAL METHOD. NOT APPLICABLE.   \n",
              "\n",
              "      Sample CollectionMethod Identifier(Def.)  \\\n",
              "0                                      ROUTINE   \n",
              "1                                      ROUTINE   \n",
              "2                                      ROUTINE   \n",
              "3                                      ROUTINE   \n",
              "4                                      ROUTINE   \n",
              "...                                        ...   \n",
              "49995                                BEACHTRIP   \n",
              "49996                                BEACHTRIP   \n",
              "49997                                BEACHTRIP   \n",
              "49998                                BEACHTRIP   \n",
              "49999                                BEACHTRIP   \n",
              "\n",
              "      Sample Collection Method Name(Def.) Field Gear(Def.)  \\\n",
              "0                          Routine Sample     Water Bottle   \n",
              "1                          Routine Sample     Water Bottle   \n",
              "2                          Routine Sample     Water Bottle   \n",
              "3                          Routine Sample     Water Bottle   \n",
              "4                          Routine Sample     Water Bottle   \n",
              "...                                   ...              ...   \n",
              "49995   BEACH PROGRAM SAMPLING PROCEDURES     Water Bottle   \n",
              "49996   BEACH PROGRAM SAMPLING PROCEDURES     Water Bottle   \n",
              "49997   BEACH PROGRAM SAMPLING PROCEDURES     Water Bottle   \n",
              "49998   BEACH PROGRAM SAMPLING PROCEDURES     Water Bottle   \n",
              "49999   BEACH PROGRAM SAMPLING PROCEDURES     Water Bottle   \n",
              "\n",
              "      AnalysisDateTime(Def.) DetectionQuantitationLimit(Def.)  \n",
              "0                        NaN                                -  \n",
              "1                        NaN                                -  \n",
              "2                        NaN                                -  \n",
              "3                        NaN                                -  \n",
              "4                        NaN                                -  \n",
              "...                      ...                              ...  \n",
              "49995             07-06-2016                                -  \n",
              "49996                    NaN                                -  \n",
              "49997                    NaN                                -  \n",
              "49998                    NaN                                -  \n",
              "49999                    NaN                                -  \n",
              "\n",
              "[50000 rows x 27 columns]"
            ],
            "text/html": [
              "\n",
              "  <div id=\"df-acaf2c6a-6f4f-4e27-8786-739fa77975a2\">\n",
              "    <div class=\"colab-df-container\">\n",
              "      <div>\n",
              "<style scoped>\n",
              "    .dataframe tbody tr th:only-of-type {\n",
              "        vertical-align: middle;\n",
              "    }\n",
              "\n",
              "    .dataframe tbody tr th {\n",
              "        vertical-align: top;\n",
              "    }\n",
              "\n",
              "    .dataframe thead th {\n",
              "        text-align: right;\n",
              "    }\n",
              "</style>\n",
              "<table border=\"1\" class=\"dataframe\">\n",
              "  <thead>\n",
              "    <tr style=\"text-align: right;\">\n",
              "      <th></th>\n",
              "      <th>State Code</th>\n",
              "      <th>Year</th>\n",
              "      <th>Beach ID(Def.)</th>\n",
              "      <th>Beach Name(Def.)</th>\n",
              "      <th>StationID(Def.)</th>\n",
              "      <th>Station Name (Def.)</th>\n",
              "      <th>CountyName(Def.)</th>\n",
              "      <th>Identifier(Def.)</th>\n",
              "      <th>StartDate(Def.)</th>\n",
              "      <th>StartTime(Def.)</th>\n",
              "      <th>ZoneCode(Def.)</th>\n",
              "      <th>ActivityTypeCode(Def.)</th>\n",
              "      <th>CharacteristicName(Def.)</th>\n",
              "      <th>Result ValueText(Def.)</th>\n",
              "      <th>ResultValue(Def.)</th>\n",
              "      <th>ResultMeasureUnit</th>\n",
              "      <th>Result Comment(Def.)</th>\n",
              "      <th>ActivityDepthValue(Def.)</th>\n",
              "      <th>ActivityDepthUnitCode(Def.)</th>\n",
              "      <th>ResultAnalyticalMethodIdentifier Context(Def.)</th>\n",
              "      <th>ResultAnalyticalMethodIdentifier(Def.)</th>\n",
              "      <th>ResultAnalyticalMethodName(Def.)</th>\n",
              "      <th>Sample CollectionMethod Identifier(Def.)</th>\n",
              "      <th>Sample Collection Method Name(Def.)</th>\n",
              "      <th>Field Gear(Def.)</th>\n",
              "      <th>AnalysisDateTime(Def.)</th>\n",
              "      <th>DetectionQuantitationLimit(Def.)</th>\n",
              "    </tr>\n",
              "  </thead>\n",
              "  <tbody>\n",
              "    <tr>\n",
              "      <th>0</th>\n",
              "      <td>MA</td>\n",
              "      <td>2012</td>\n",
              "      <td>MA788803</td>\n",
              "      <td>Hideaway Village Association</td>\n",
              "      <td>MA788803</td>\n",
              "      <td>Hideaway Village Association</td>\n",
              "      <td>BARNSTABLE</td>\n",
              "      <td>MA7888032072012</td>\n",
              "      <td>25-JUL-12</td>\n",
              "      <td>10:05:00 AM</td>\n",
              "      <td>EDT</td>\n",
              "      <td>Sample-Routine</td>\n",
              "      <td>Enterococcus</td>\n",
              "      <td>NaN</td>\n",
              "      <td>NaN</td>\n",
              "      <td>cfu/100ml</td>\n",
              "      <td>NaN</td>\n",
              "      <td>3.0</td>\n",
              "      <td>ft</td>\n",
              "      <td>NaN</td>\n",
              "      <td>NaN</td>\n",
              "      <td>NaN</td>\n",
              "      <td>ROUTINE</td>\n",
              "      <td>Routine Sample</td>\n",
              "      <td>Water Bottle</td>\n",
              "      <td>NaN</td>\n",
              "      <td>-</td>\n",
              "    </tr>\n",
              "    <tr>\n",
              "      <th>1</th>\n",
              "      <td>MA</td>\n",
              "      <td>2012</td>\n",
              "      <td>MA851889</td>\n",
              "      <td>Tabor Park South</td>\n",
              "      <td>MA851889</td>\n",
              "      <td>Tabor Park South</td>\n",
              "      <td>BRISTOL</td>\n",
              "      <td>MA8518891582012</td>\n",
              "      <td>06-JUN-12</td>\n",
              "      <td>11:29:00 AM</td>\n",
              "      <td>EDT</td>\n",
              "      <td>Sample-Routine</td>\n",
              "      <td>Enterococcus</td>\n",
              "      <td>NaN</td>\n",
              "      <td>NaN</td>\n",
              "      <td>cfu/100ml</td>\n",
              "      <td>NaN</td>\n",
              "      <td>3.0</td>\n",
              "      <td>ft</td>\n",
              "      <td>NaN</td>\n",
              "      <td>NaN</td>\n",
              "      <td>NaN</td>\n",
              "      <td>ROUTINE</td>\n",
              "      <td>Routine Sample</td>\n",
              "      <td>Water Bottle</td>\n",
              "      <td>NaN</td>\n",
              "      <td>-</td>\n",
              "    </tr>\n",
              "    <tr>\n",
              "      <th>2</th>\n",
              "      <td>MA</td>\n",
              "      <td>2012</td>\n",
              "      <td>MA284631</td>\n",
              "      <td>Plum Island - end of island 2</td>\n",
              "      <td>MA284631</td>\n",
              "      <td>Plum Island</td>\n",
              "      <td>ESSEX</td>\n",
              "      <td>MA2846312132012</td>\n",
              "      <td>31-JUL-12</td>\n",
              "      <td>11:20:00 AM</td>\n",
              "      <td>EDT</td>\n",
              "      <td>Sample-Routine</td>\n",
              "      <td>Enterococcus</td>\n",
              "      <td>NaN</td>\n",
              "      <td>NaN</td>\n",
              "      <td>cfu/100ml</td>\n",
              "      <td>NaN</td>\n",
              "      <td>3.0</td>\n",
              "      <td>ft</td>\n",
              "      <td>NaN</td>\n",
              "      <td>NaN</td>\n",
              "      <td>NaN</td>\n",
              "      <td>ROUTINE</td>\n",
              "      <td>Routine Sample</td>\n",
              "      <td>Water Bottle</td>\n",
              "      <td>NaN</td>\n",
              "      <td>-</td>\n",
              "    </tr>\n",
              "    <tr>\n",
              "      <th>3</th>\n",
              "      <td>MA</td>\n",
              "      <td>2011</td>\n",
              "      <td>MA862437</td>\n",
              "      <td>Rock Harbor</td>\n",
              "      <td>MA862437</td>\n",
              "      <td>Rock Harbor</td>\n",
              "      <td>BARNSTABLE</td>\n",
              "      <td>MA8624371732011</td>\n",
              "      <td>22-JUN-11</td>\n",
              "      <td>07:05:00 AM</td>\n",
              "      <td>EDT</td>\n",
              "      <td>Sample-Routine</td>\n",
              "      <td>Enterococcus</td>\n",
              "      <td>NaN</td>\n",
              "      <td>134.0</td>\n",
              "      <td>cfu/100ml</td>\n",
              "      <td>NaN</td>\n",
              "      <td>3.0</td>\n",
              "      <td>ft</td>\n",
              "      <td>NaN</td>\n",
              "      <td>NaN</td>\n",
              "      <td>NaN</td>\n",
              "      <td>ROUTINE</td>\n",
              "      <td>Routine Sample</td>\n",
              "      <td>Water Bottle</td>\n",
              "      <td>NaN</td>\n",
              "      <td>-</td>\n",
              "    </tr>\n",
              "    <tr>\n",
              "      <th>4</th>\n",
              "      <td>MA</td>\n",
              "      <td>2011</td>\n",
              "      <td>MA585360</td>\n",
              "      <td>Sea Street (East Dennis)</td>\n",
              "      <td>MA585360</td>\n",
              "      <td>Sea Street (East Dennis)</td>\n",
              "      <td>BARNSTABLE</td>\n",
              "      <td>MA5853602212011</td>\n",
              "      <td>09-AUG-11</td>\n",
              "      <td>08:23:00 AM</td>\n",
              "      <td>EDT</td>\n",
              "      <td>Sample-Routine</td>\n",
              "      <td>Enterococcus</td>\n",
              "      <td>NaN</td>\n",
              "      <td>18.0</td>\n",
              "      <td>cfu/100ml</td>\n",
              "      <td>NaN</td>\n",
              "      <td>3.0</td>\n",
              "      <td>ft</td>\n",
              "      <td>NaN</td>\n",
              "      <td>NaN</td>\n",
              "      <td>NaN</td>\n",
              "      <td>ROUTINE</td>\n",
              "      <td>Routine Sample</td>\n",
              "      <td>Water Bottle</td>\n",
              "      <td>NaN</td>\n",
              "      <td>-</td>\n",
              "    </tr>\n",
              "    <tr>\n",
              "      <th>...</th>\n",
              "      <td>...</td>\n",
              "      <td>...</td>\n",
              "      <td>...</td>\n",
              "      <td>...</td>\n",
              "      <td>...</td>\n",
              "      <td>...</td>\n",
              "      <td>...</td>\n",
              "      <td>...</td>\n",
              "      <td>...</td>\n",
              "      <td>...</td>\n",
              "      <td>...</td>\n",
              "      <td>...</td>\n",
              "      <td>...</td>\n",
              "      <td>...</td>\n",
              "      <td>...</td>\n",
              "      <td>...</td>\n",
              "      <td>...</td>\n",
              "      <td>...</td>\n",
              "      <td>...</td>\n",
              "      <td>...</td>\n",
              "      <td>...</td>\n",
              "      <td>...</td>\n",
              "      <td>...</td>\n",
              "      <td>...</td>\n",
              "      <td>...</td>\n",
              "      <td>...</td>\n",
              "      <td>...</td>\n",
              "    </tr>\n",
              "    <tr>\n",
              "      <th>49995</th>\n",
              "      <td>NH</td>\n",
              "      <td>2016</td>\n",
              "      <td>NH233349</td>\n",
              "      <td>SUNAPEE LAKE DEWEY TB</td>\n",
              "      <td>BCHDEWSUNLF</td>\n",
              "      <td>LAKE SUNAPEE DEWEY TB-LEFT</td>\n",
              "      <td>SULLIVAN</td>\n",
              "      <td>B605103001</td>\n",
              "      <td>05-JUL-16</td>\n",
              "      <td>11:21:00 AM</td>\n",
              "      <td>EDT</td>\n",
              "      <td>Sample-Routine</td>\n",
              "      <td>Escherichia coli</td>\n",
              "      <td>NaN</td>\n",
              "      <td>2.0</td>\n",
              "      <td>MPN/100ml</td>\n",
              "      <td>NaN</td>\n",
              "      <td>NaN</td>\n",
              "      <td>NaN</td>\n",
              "      <td>APHA</td>\n",
              "      <td>9223-B</td>\n",
              "      <td>9223 B ~ Enzyme substrate assay for measuring ...</td>\n",
              "      <td>BEACHTRIP</td>\n",
              "      <td>BEACH PROGRAM SAMPLING PROCEDURES</td>\n",
              "      <td>Water Bottle</td>\n",
              "      <td>07-06-2016</td>\n",
              "      <td>-</td>\n",
              "    </tr>\n",
              "    <tr>\n",
              "      <th>49996</th>\n",
              "      <td>NH</td>\n",
              "      <td>2016</td>\n",
              "      <td>NH233349</td>\n",
              "      <td>SUNAPEE LAKE DEWEY TB</td>\n",
              "      <td>BCHDEWSUNLF</td>\n",
              "      <td>LAKE SUNAPEE DEWEY TB-LEFT</td>\n",
              "      <td>SULLIVAN</td>\n",
              "      <td>B605103001</td>\n",
              "      <td>05-JUL-16</td>\n",
              "      <td>11:21:00 AM</td>\n",
              "      <td>EDT</td>\n",
              "      <td>Sample-Routine</td>\n",
              "      <td>Temperature, water</td>\n",
              "      <td>NaN</td>\n",
              "      <td>23.3</td>\n",
              "      <td>deg C</td>\n",
              "      <td>NaN</td>\n",
              "      <td>NaN</td>\n",
              "      <td>NaN</td>\n",
              "      <td>APHA</td>\n",
              "      <td>2550</td>\n",
              "      <td>Temperature of Water by Thermometer</td>\n",
              "      <td>BEACHTRIP</td>\n",
              "      <td>BEACH PROGRAM SAMPLING PROCEDURES</td>\n",
              "      <td>Water Bottle</td>\n",
              "      <td>NaN</td>\n",
              "      <td>-</td>\n",
              "    </tr>\n",
              "    <tr>\n",
              "      <th>49997</th>\n",
              "      <td>NH</td>\n",
              "      <td>2016</td>\n",
              "      <td>NH233349</td>\n",
              "      <td>SUNAPEE LAKE DEWEY TB</td>\n",
              "      <td>BCHDEWSUNLF</td>\n",
              "      <td>LAKE SUNAPEE DEWEY TB-LEFT</td>\n",
              "      <td>SULLIVAN</td>\n",
              "      <td>B605103001</td>\n",
              "      <td>05-JUL-16</td>\n",
              "      <td>11:21:00 AM</td>\n",
              "      <td>EDT</td>\n",
              "      <td>Sample-Routine</td>\n",
              "      <td>General observation (text)</td>\n",
              "      <td>NaN</td>\n",
              "      <td>0.0</td>\n",
              "      <td>count</td>\n",
              "      <td>NaN</td>\n",
              "      <td>NaN</td>\n",
              "      <td>NaN</td>\n",
              "      <td>11113300</td>\n",
              "      <td>NONE</td>\n",
              "      <td>NO ANALYTICAL METHOD. NOT APPLICABLE.</td>\n",
              "      <td>BEACHTRIP</td>\n",
              "      <td>BEACH PROGRAM SAMPLING PROCEDURES</td>\n",
              "      <td>Water Bottle</td>\n",
              "      <td>NaN</td>\n",
              "      <td>-</td>\n",
              "    </tr>\n",
              "    <tr>\n",
              "      <th>49998</th>\n",
              "      <td>NH</td>\n",
              "      <td>2016</td>\n",
              "      <td>NH233349</td>\n",
              "      <td>SUNAPEE LAKE DEWEY TB</td>\n",
              "      <td>BCHDEWSUNLF</td>\n",
              "      <td>LAKE SUNAPEE DEWEY TB-LEFT</td>\n",
              "      <td>SULLIVAN</td>\n",
              "      <td>B605103001</td>\n",
              "      <td>05-JUL-16</td>\n",
              "      <td>11:21:00 AM</td>\n",
              "      <td>EDT</td>\n",
              "      <td>Sample-Routine</td>\n",
              "      <td>General observation (text)</td>\n",
              "      <td>NaN</td>\n",
              "      <td>0.0</td>\n",
              "      <td>count</td>\n",
              "      <td>NaN</td>\n",
              "      <td>NaN</td>\n",
              "      <td>NaN</td>\n",
              "      <td>11113300</td>\n",
              "      <td>NONE</td>\n",
              "      <td>NO ANALYTICAL METHOD. NOT APPLICABLE.</td>\n",
              "      <td>BEACHTRIP</td>\n",
              "      <td>BEACH PROGRAM SAMPLING PROCEDURES</td>\n",
              "      <td>Water Bottle</td>\n",
              "      <td>NaN</td>\n",
              "      <td>-</td>\n",
              "    </tr>\n",
              "    <tr>\n",
              "      <th>49999</th>\n",
              "      <td>NH</td>\n",
              "      <td>2016</td>\n",
              "      <td>NH233349</td>\n",
              "      <td>SUNAPEE LAKE DEWEY TB</td>\n",
              "      <td>BCHDEWSUNLF</td>\n",
              "      <td>LAKE SUNAPEE DEWEY TB-LEFT</td>\n",
              "      <td>SULLIVAN</td>\n",
              "      <td>B605103001</td>\n",
              "      <td>05-JUL-16</td>\n",
              "      <td>11:21:00 AM</td>\n",
              "      <td>EDT</td>\n",
              "      <td>Sample-Routine</td>\n",
              "      <td>General observation (text)</td>\n",
              "      <td>NaN</td>\n",
              "      <td>2.0</td>\n",
              "      <td>count</td>\n",
              "      <td>NaN</td>\n",
              "      <td>NaN</td>\n",
              "      <td>NaN</td>\n",
              "      <td>11113300</td>\n",
              "      <td>NONE</td>\n",
              "      <td>NO ANALYTICAL METHOD. NOT APPLICABLE.</td>\n",
              "      <td>BEACHTRIP</td>\n",
              "      <td>BEACH PROGRAM SAMPLING PROCEDURES</td>\n",
              "      <td>Water Bottle</td>\n",
              "      <td>NaN</td>\n",
              "      <td>-</td>\n",
              "    </tr>\n",
              "  </tbody>\n",
              "</table>\n",
              "<p>50000 rows × 27 columns</p>\n",
              "</div>\n",
              "      <button class=\"colab-df-convert\" onclick=\"convertToInteractive('df-acaf2c6a-6f4f-4e27-8786-739fa77975a2')\"\n",
              "              title=\"Convert this dataframe to an interactive table.\"\n",
              "              style=\"display:none;\">\n",
              "        \n",
              "  <svg xmlns=\"http://www.w3.org/2000/svg\" height=\"24px\"viewBox=\"0 0 24 24\"\n",
              "       width=\"24px\">\n",
              "    <path d=\"M0 0h24v24H0V0z\" fill=\"none\"/>\n",
              "    <path d=\"M18.56 5.44l.94 2.06.94-2.06 2.06-.94-2.06-.94-.94-2.06-.94 2.06-2.06.94zm-11 1L8.5 8.5l.94-2.06 2.06-.94-2.06-.94L8.5 2.5l-.94 2.06-2.06.94zm10 10l.94 2.06.94-2.06 2.06-.94-2.06-.94-.94-2.06-.94 2.06-2.06.94z\"/><path d=\"M17.41 7.96l-1.37-1.37c-.4-.4-.92-.59-1.43-.59-.52 0-1.04.2-1.43.59L10.3 9.45l-7.72 7.72c-.78.78-.78 2.05 0 2.83L4 21.41c.39.39.9.59 1.41.59.51 0 1.02-.2 1.41-.59l7.78-7.78 2.81-2.81c.8-.78.8-2.07 0-2.86zM5.41 20L4 18.59l7.72-7.72 1.47 1.35L5.41 20z\"/>\n",
              "  </svg>\n",
              "      </button>\n",
              "      \n",
              "  <style>\n",
              "    .colab-df-container {\n",
              "      display:flex;\n",
              "      flex-wrap:wrap;\n",
              "      gap: 12px;\n",
              "    }\n",
              "\n",
              "    .colab-df-convert {\n",
              "      background-color: #E8F0FE;\n",
              "      border: none;\n",
              "      border-radius: 50%;\n",
              "      cursor: pointer;\n",
              "      display: none;\n",
              "      fill: #1967D2;\n",
              "      height: 32px;\n",
              "      padding: 0 0 0 0;\n",
              "      width: 32px;\n",
              "    }\n",
              "\n",
              "    .colab-df-convert:hover {\n",
              "      background-color: #E2EBFA;\n",
              "      box-shadow: 0px 1px 2px rgba(60, 64, 67, 0.3), 0px 1px 3px 1px rgba(60, 64, 67, 0.15);\n",
              "      fill: #174EA6;\n",
              "    }\n",
              "\n",
              "    [theme=dark] .colab-df-convert {\n",
              "      background-color: #3B4455;\n",
              "      fill: #D2E3FC;\n",
              "    }\n",
              "\n",
              "    [theme=dark] .colab-df-convert:hover {\n",
              "      background-color: #434B5C;\n",
              "      box-shadow: 0px 1px 3px 1px rgba(0, 0, 0, 0.15);\n",
              "      filter: drop-shadow(0px 1px 2px rgba(0, 0, 0, 0.3));\n",
              "      fill: #FFFFFF;\n",
              "    }\n",
              "  </style>\n",
              "\n",
              "      <script>\n",
              "        const buttonEl =\n",
              "          document.querySelector('#df-acaf2c6a-6f4f-4e27-8786-739fa77975a2 button.colab-df-convert');\n",
              "        buttonEl.style.display =\n",
              "          google.colab.kernel.accessAllowed ? 'block' : 'none';\n",
              "\n",
              "        async function convertToInteractive(key) {\n",
              "          const element = document.querySelector('#df-acaf2c6a-6f4f-4e27-8786-739fa77975a2');\n",
              "          const dataTable =\n",
              "            await google.colab.kernel.invokeFunction('convertToInteractive',\n",
              "                                                     [key], {});\n",
              "          if (!dataTable) return;\n",
              "\n",
              "          const docLinkHtml = 'Like what you see? Visit the ' +\n",
              "            '<a target=\"_blank\" href=https://colab.research.google.com/notebooks/data_table.ipynb>data table notebook</a>'\n",
              "            + ' to learn more about interactive tables.';\n",
              "          element.innerHTML = '';\n",
              "          dataTable['output_type'] = 'display_data';\n",
              "          await google.colab.output.renderOutput(dataTable, element);\n",
              "          const docLink = document.createElement('div');\n",
              "          docLink.innerHTML = docLinkHtml;\n",
              "          element.appendChild(docLink);\n",
              "        }\n",
              "      </script>\n",
              "    </div>\n",
              "  </div>\n",
              "  "
            ]
          },
          "metadata": {},
          "execution_count": 132
        }
      ]
    },
    {
      "cell_type": "code",
      "source": [
        "# Calculate number of rows and columns of raw data frame\n",
        "water_quality_df.shape"
      ],
      "metadata": {
        "colab": {
          "base_uri": "https://localhost:8080/"
        },
        "id": "u-lTSUtT9mTK",
        "outputId": "1e07ae9d-1314-403e-a1bb-431ad9e6ed76"
      },
      "execution_count": 133,
      "outputs": [
        {
          "output_type": "execute_result",
          "data": {
            "text/plain": [
              "(50000, 27)"
            ]
          },
          "metadata": {},
          "execution_count": 133
        }
      ]
    },
    {
      "cell_type": "code",
      "source": [
        "# Deterine which columns have no data, same value, no values, etc\n",
        "water_quality_df.nunique()"
      ],
      "metadata": {
        "colab": {
          "base_uri": "https://localhost:8080/"
        },
        "id": "Oed3tS9s9Vxe",
        "outputId": "8190270c-11b0-48c9-8ac3-8b69f3f4a44a"
      },
      "execution_count": 134,
      "outputs": [
        {
          "output_type": "execute_result",
          "data": {
            "text/plain": [
              "State Code                                            3\n",
              "Year                                                 11\n",
              "Beach ID(Def.)                                      236\n",
              "Beach Name(Def.)                                    231\n",
              "StationID(Def.)                                     537\n",
              "Station Name (Def.)                                 527\n",
              "CountyName(Def.)                                     15\n",
              "Identifier(Def.)                                  11214\n",
              "StartDate(Def.)                                     399\n",
              "StartTime(Def.)                                     434\n",
              "ZoneCode(Def.)                                        3\n",
              "ActivityTypeCode(Def.)                                3\n",
              "CharacteristicName(Def.)                             12\n",
              "Result ValueText(Def.)                                2\n",
              "ResultValue(Def.)                                   834\n",
              "ResultMeasureUnit                                     9\n",
              "Result Comment(Def.)                                499\n",
              "ActivityDepthValue(Def.)                              1\n",
              "ActivityDepthUnitCode(Def.)                           1\n",
              "ResultAnalyticalMethodIdentifier Context(Def.)        5\n",
              "ResultAnalyticalMethodIdentifier(Def.)               10\n",
              "ResultAnalyticalMethodName(Def.)                     10\n",
              "Sample CollectionMethod Identifier(Def.)              6\n",
              "Sample Collection Method Name(Def.)                   4\n",
              "Field Gear(Def.)                                      5\n",
              "AnalysisDateTime(Def.)                              351\n",
              "DetectionQuantitationLimit(Def.)                     12\n",
              "dtype: int64"
            ]
          },
          "metadata": {},
          "execution_count": 134
        }
      ]
    },
    {
      "cell_type": "code",
      "source": [
        "# Create a list of the columns that have no useful data\n",
        "water_quality_columns_to_drop =water_quality_df.nunique()[(water_quality_df.nunique()==1) | (water_quality_df.nunique()==0)].index"
      ],
      "metadata": {
        "id": "U78k8f0T97qW"
      },
      "execution_count": 135,
      "outputs": []
    },
    {
      "cell_type": "code",
      "source": [
        "# Drop the useless data columns from the data frame\n",
        "water_quality_df.drop(water_quality_columns_to_drop,1,inplace=True)"
      ],
      "metadata": {
        "colab": {
          "base_uri": "https://localhost:8080/"
        },
        "id": "-JFZFcKd9ak_",
        "outputId": "3ee965d3-313c-4fc3-bb4c-13ce77bbc4a4"
      },
      "execution_count": 136,
      "outputs": [
        {
          "output_type": "stream",
          "name": "stderr",
          "text": [
            "/usr/local/lib/python3.7/dist-packages/ipykernel_launcher.py:2: FutureWarning: In a future version of pandas all arguments of DataFrame.drop except for the argument 'labels' will be keyword-only\n",
            "  \n"
          ]
        }
      ]
    },
    {
      "cell_type": "code",
      "source": [
        "# REview the new data frame. This is the data frame to load into database. Still needs, update column names, format StartDate to standard format.\n",
        "water_quality_df.head()"
      ],
      "metadata": {
        "colab": {
          "base_uri": "https://localhost:8080/",
          "height": 461
        },
        "id": "NHzfZO0l-y5d",
        "outputId": "7a9017db-7355-423a-8cba-7a7ce2daabfa"
      },
      "execution_count": 137,
      "outputs": [
        {
          "output_type": "execute_result",
          "data": {
            "text/plain": [
              "  State Code  Year Beach ID(Def.)               Beach Name(Def.)  \\\n",
              "0         MA  2012       MA788803   Hideaway Village Association   \n",
              "1         MA  2012       MA851889               Tabor Park South   \n",
              "2         MA  2012       MA284631  Plum Island - end of island 2   \n",
              "3         MA  2011       MA862437                    Rock Harbor   \n",
              "4         MA  2011       MA585360       Sea Street (East Dennis)   \n",
              "\n",
              "  StationID(Def.)           Station Name (Def.) CountyName(Def.)  \\\n",
              "0        MA788803  Hideaway Village Association       BARNSTABLE   \n",
              "1        MA851889              Tabor Park South          BRISTOL   \n",
              "2        MA284631                   Plum Island            ESSEX   \n",
              "3        MA862437                   Rock Harbor       BARNSTABLE   \n",
              "4        MA585360      Sea Street (East Dennis)       BARNSTABLE   \n",
              "\n",
              "  Identifier(Def.) StartDate(Def.) StartTime(Def.) ZoneCode(Def.)  \\\n",
              "0  MA7888032072012       25-JUL-12     10:05:00 AM            EDT   \n",
              "1  MA8518891582012       06-JUN-12     11:29:00 AM            EDT   \n",
              "2  MA2846312132012       31-JUL-12     11:20:00 AM            EDT   \n",
              "3  MA8624371732011       22-JUN-11     07:05:00 AM            EDT   \n",
              "4  MA5853602212011       09-AUG-11     08:23:00 AM            EDT   \n",
              "\n",
              "  ActivityTypeCode(Def.) CharacteristicName(Def.) Result ValueText(Def.)  \\\n",
              "0         Sample-Routine             Enterococcus                    NaN   \n",
              "1         Sample-Routine             Enterococcus                    NaN   \n",
              "2         Sample-Routine             Enterococcus                    NaN   \n",
              "3         Sample-Routine             Enterococcus                    NaN   \n",
              "4         Sample-Routine             Enterococcus                    NaN   \n",
              "\n",
              "   ResultValue(Def.) ResultMeasureUnit Result Comment(Def.)  \\\n",
              "0                NaN         cfu/100ml                  NaN   \n",
              "1                NaN         cfu/100ml                  NaN   \n",
              "2                NaN         cfu/100ml                  NaN   \n",
              "3              134.0         cfu/100ml                  NaN   \n",
              "4               18.0         cfu/100ml                  NaN   \n",
              "\n",
              "  ResultAnalyticalMethodIdentifier Context(Def.)  \\\n",
              "0                                            NaN   \n",
              "1                                            NaN   \n",
              "2                                            NaN   \n",
              "3                                            NaN   \n",
              "4                                            NaN   \n",
              "\n",
              "  ResultAnalyticalMethodIdentifier(Def.) ResultAnalyticalMethodName(Def.)  \\\n",
              "0                                    NaN                              NaN   \n",
              "1                                    NaN                              NaN   \n",
              "2                                    NaN                              NaN   \n",
              "3                                    NaN                              NaN   \n",
              "4                                    NaN                              NaN   \n",
              "\n",
              "  Sample CollectionMethod Identifier(Def.)  \\\n",
              "0                                  ROUTINE   \n",
              "1                                  ROUTINE   \n",
              "2                                  ROUTINE   \n",
              "3                                  ROUTINE   \n",
              "4                                  ROUTINE   \n",
              "\n",
              "  Sample Collection Method Name(Def.) Field Gear(Def.) AnalysisDateTime(Def.)  \\\n",
              "0                      Routine Sample     Water Bottle                    NaN   \n",
              "1                      Routine Sample     Water Bottle                    NaN   \n",
              "2                      Routine Sample     Water Bottle                    NaN   \n",
              "3                      Routine Sample     Water Bottle                    NaN   \n",
              "4                      Routine Sample     Water Bottle                    NaN   \n",
              "\n",
              "  DetectionQuantitationLimit(Def.)  \n",
              "0                                -  \n",
              "1                                -  \n",
              "2                                -  \n",
              "3                                -  \n",
              "4                                -  "
            ],
            "text/html": [
              "\n",
              "  <div id=\"df-e0a02bb6-cdba-4dcf-a922-97b9684022c4\">\n",
              "    <div class=\"colab-df-container\">\n",
              "      <div>\n",
              "<style scoped>\n",
              "    .dataframe tbody tr th:only-of-type {\n",
              "        vertical-align: middle;\n",
              "    }\n",
              "\n",
              "    .dataframe tbody tr th {\n",
              "        vertical-align: top;\n",
              "    }\n",
              "\n",
              "    .dataframe thead th {\n",
              "        text-align: right;\n",
              "    }\n",
              "</style>\n",
              "<table border=\"1\" class=\"dataframe\">\n",
              "  <thead>\n",
              "    <tr style=\"text-align: right;\">\n",
              "      <th></th>\n",
              "      <th>State Code</th>\n",
              "      <th>Year</th>\n",
              "      <th>Beach ID(Def.)</th>\n",
              "      <th>Beach Name(Def.)</th>\n",
              "      <th>StationID(Def.)</th>\n",
              "      <th>Station Name (Def.)</th>\n",
              "      <th>CountyName(Def.)</th>\n",
              "      <th>Identifier(Def.)</th>\n",
              "      <th>StartDate(Def.)</th>\n",
              "      <th>StartTime(Def.)</th>\n",
              "      <th>ZoneCode(Def.)</th>\n",
              "      <th>ActivityTypeCode(Def.)</th>\n",
              "      <th>CharacteristicName(Def.)</th>\n",
              "      <th>Result ValueText(Def.)</th>\n",
              "      <th>ResultValue(Def.)</th>\n",
              "      <th>ResultMeasureUnit</th>\n",
              "      <th>Result Comment(Def.)</th>\n",
              "      <th>ResultAnalyticalMethodIdentifier Context(Def.)</th>\n",
              "      <th>ResultAnalyticalMethodIdentifier(Def.)</th>\n",
              "      <th>ResultAnalyticalMethodName(Def.)</th>\n",
              "      <th>Sample CollectionMethod Identifier(Def.)</th>\n",
              "      <th>Sample Collection Method Name(Def.)</th>\n",
              "      <th>Field Gear(Def.)</th>\n",
              "      <th>AnalysisDateTime(Def.)</th>\n",
              "      <th>DetectionQuantitationLimit(Def.)</th>\n",
              "    </tr>\n",
              "  </thead>\n",
              "  <tbody>\n",
              "    <tr>\n",
              "      <th>0</th>\n",
              "      <td>MA</td>\n",
              "      <td>2012</td>\n",
              "      <td>MA788803</td>\n",
              "      <td>Hideaway Village Association</td>\n",
              "      <td>MA788803</td>\n",
              "      <td>Hideaway Village Association</td>\n",
              "      <td>BARNSTABLE</td>\n",
              "      <td>MA7888032072012</td>\n",
              "      <td>25-JUL-12</td>\n",
              "      <td>10:05:00 AM</td>\n",
              "      <td>EDT</td>\n",
              "      <td>Sample-Routine</td>\n",
              "      <td>Enterococcus</td>\n",
              "      <td>NaN</td>\n",
              "      <td>NaN</td>\n",
              "      <td>cfu/100ml</td>\n",
              "      <td>NaN</td>\n",
              "      <td>NaN</td>\n",
              "      <td>NaN</td>\n",
              "      <td>NaN</td>\n",
              "      <td>ROUTINE</td>\n",
              "      <td>Routine Sample</td>\n",
              "      <td>Water Bottle</td>\n",
              "      <td>NaN</td>\n",
              "      <td>-</td>\n",
              "    </tr>\n",
              "    <tr>\n",
              "      <th>1</th>\n",
              "      <td>MA</td>\n",
              "      <td>2012</td>\n",
              "      <td>MA851889</td>\n",
              "      <td>Tabor Park South</td>\n",
              "      <td>MA851889</td>\n",
              "      <td>Tabor Park South</td>\n",
              "      <td>BRISTOL</td>\n",
              "      <td>MA8518891582012</td>\n",
              "      <td>06-JUN-12</td>\n",
              "      <td>11:29:00 AM</td>\n",
              "      <td>EDT</td>\n",
              "      <td>Sample-Routine</td>\n",
              "      <td>Enterococcus</td>\n",
              "      <td>NaN</td>\n",
              "      <td>NaN</td>\n",
              "      <td>cfu/100ml</td>\n",
              "      <td>NaN</td>\n",
              "      <td>NaN</td>\n",
              "      <td>NaN</td>\n",
              "      <td>NaN</td>\n",
              "      <td>ROUTINE</td>\n",
              "      <td>Routine Sample</td>\n",
              "      <td>Water Bottle</td>\n",
              "      <td>NaN</td>\n",
              "      <td>-</td>\n",
              "    </tr>\n",
              "    <tr>\n",
              "      <th>2</th>\n",
              "      <td>MA</td>\n",
              "      <td>2012</td>\n",
              "      <td>MA284631</td>\n",
              "      <td>Plum Island - end of island 2</td>\n",
              "      <td>MA284631</td>\n",
              "      <td>Plum Island</td>\n",
              "      <td>ESSEX</td>\n",
              "      <td>MA2846312132012</td>\n",
              "      <td>31-JUL-12</td>\n",
              "      <td>11:20:00 AM</td>\n",
              "      <td>EDT</td>\n",
              "      <td>Sample-Routine</td>\n",
              "      <td>Enterococcus</td>\n",
              "      <td>NaN</td>\n",
              "      <td>NaN</td>\n",
              "      <td>cfu/100ml</td>\n",
              "      <td>NaN</td>\n",
              "      <td>NaN</td>\n",
              "      <td>NaN</td>\n",
              "      <td>NaN</td>\n",
              "      <td>ROUTINE</td>\n",
              "      <td>Routine Sample</td>\n",
              "      <td>Water Bottle</td>\n",
              "      <td>NaN</td>\n",
              "      <td>-</td>\n",
              "    </tr>\n",
              "    <tr>\n",
              "      <th>3</th>\n",
              "      <td>MA</td>\n",
              "      <td>2011</td>\n",
              "      <td>MA862437</td>\n",
              "      <td>Rock Harbor</td>\n",
              "      <td>MA862437</td>\n",
              "      <td>Rock Harbor</td>\n",
              "      <td>BARNSTABLE</td>\n",
              "      <td>MA8624371732011</td>\n",
              "      <td>22-JUN-11</td>\n",
              "      <td>07:05:00 AM</td>\n",
              "      <td>EDT</td>\n",
              "      <td>Sample-Routine</td>\n",
              "      <td>Enterococcus</td>\n",
              "      <td>NaN</td>\n",
              "      <td>134.0</td>\n",
              "      <td>cfu/100ml</td>\n",
              "      <td>NaN</td>\n",
              "      <td>NaN</td>\n",
              "      <td>NaN</td>\n",
              "      <td>NaN</td>\n",
              "      <td>ROUTINE</td>\n",
              "      <td>Routine Sample</td>\n",
              "      <td>Water Bottle</td>\n",
              "      <td>NaN</td>\n",
              "      <td>-</td>\n",
              "    </tr>\n",
              "    <tr>\n",
              "      <th>4</th>\n",
              "      <td>MA</td>\n",
              "      <td>2011</td>\n",
              "      <td>MA585360</td>\n",
              "      <td>Sea Street (East Dennis)</td>\n",
              "      <td>MA585360</td>\n",
              "      <td>Sea Street (East Dennis)</td>\n",
              "      <td>BARNSTABLE</td>\n",
              "      <td>MA5853602212011</td>\n",
              "      <td>09-AUG-11</td>\n",
              "      <td>08:23:00 AM</td>\n",
              "      <td>EDT</td>\n",
              "      <td>Sample-Routine</td>\n",
              "      <td>Enterococcus</td>\n",
              "      <td>NaN</td>\n",
              "      <td>18.0</td>\n",
              "      <td>cfu/100ml</td>\n",
              "      <td>NaN</td>\n",
              "      <td>NaN</td>\n",
              "      <td>NaN</td>\n",
              "      <td>NaN</td>\n",
              "      <td>ROUTINE</td>\n",
              "      <td>Routine Sample</td>\n",
              "      <td>Water Bottle</td>\n",
              "      <td>NaN</td>\n",
              "      <td>-</td>\n",
              "    </tr>\n",
              "  </tbody>\n",
              "</table>\n",
              "</div>\n",
              "      <button class=\"colab-df-convert\" onclick=\"convertToInteractive('df-e0a02bb6-cdba-4dcf-a922-97b9684022c4')\"\n",
              "              title=\"Convert this dataframe to an interactive table.\"\n",
              "              style=\"display:none;\">\n",
              "        \n",
              "  <svg xmlns=\"http://www.w3.org/2000/svg\" height=\"24px\"viewBox=\"0 0 24 24\"\n",
              "       width=\"24px\">\n",
              "    <path d=\"M0 0h24v24H0V0z\" fill=\"none\"/>\n",
              "    <path d=\"M18.56 5.44l.94 2.06.94-2.06 2.06-.94-2.06-.94-.94-2.06-.94 2.06-2.06.94zm-11 1L8.5 8.5l.94-2.06 2.06-.94-2.06-.94L8.5 2.5l-.94 2.06-2.06.94zm10 10l.94 2.06.94-2.06 2.06-.94-2.06-.94-.94-2.06-.94 2.06-2.06.94z\"/><path d=\"M17.41 7.96l-1.37-1.37c-.4-.4-.92-.59-1.43-.59-.52 0-1.04.2-1.43.59L10.3 9.45l-7.72 7.72c-.78.78-.78 2.05 0 2.83L4 21.41c.39.39.9.59 1.41.59.51 0 1.02-.2 1.41-.59l7.78-7.78 2.81-2.81c.8-.78.8-2.07 0-2.86zM5.41 20L4 18.59l7.72-7.72 1.47 1.35L5.41 20z\"/>\n",
              "  </svg>\n",
              "      </button>\n",
              "      \n",
              "  <style>\n",
              "    .colab-df-container {\n",
              "      display:flex;\n",
              "      flex-wrap:wrap;\n",
              "      gap: 12px;\n",
              "    }\n",
              "\n",
              "    .colab-df-convert {\n",
              "      background-color: #E8F0FE;\n",
              "      border: none;\n",
              "      border-radius: 50%;\n",
              "      cursor: pointer;\n",
              "      display: none;\n",
              "      fill: #1967D2;\n",
              "      height: 32px;\n",
              "      padding: 0 0 0 0;\n",
              "      width: 32px;\n",
              "    }\n",
              "\n",
              "    .colab-df-convert:hover {\n",
              "      background-color: #E2EBFA;\n",
              "      box-shadow: 0px 1px 2px rgba(60, 64, 67, 0.3), 0px 1px 3px 1px rgba(60, 64, 67, 0.15);\n",
              "      fill: #174EA6;\n",
              "    }\n",
              "\n",
              "    [theme=dark] .colab-df-convert {\n",
              "      background-color: #3B4455;\n",
              "      fill: #D2E3FC;\n",
              "    }\n",
              "\n",
              "    [theme=dark] .colab-df-convert:hover {\n",
              "      background-color: #434B5C;\n",
              "      box-shadow: 0px 1px 3px 1px rgba(0, 0, 0, 0.15);\n",
              "      filter: drop-shadow(0px 1px 2px rgba(0, 0, 0, 0.3));\n",
              "      fill: #FFFFFF;\n",
              "    }\n",
              "  </style>\n",
              "\n",
              "      <script>\n",
              "        const buttonEl =\n",
              "          document.querySelector('#df-e0a02bb6-cdba-4dcf-a922-97b9684022c4 button.colab-df-convert');\n",
              "        buttonEl.style.display =\n",
              "          google.colab.kernel.accessAllowed ? 'block' : 'none';\n",
              "\n",
              "        async function convertToInteractive(key) {\n",
              "          const element = document.querySelector('#df-e0a02bb6-cdba-4dcf-a922-97b9684022c4');\n",
              "          const dataTable =\n",
              "            await google.colab.kernel.invokeFunction('convertToInteractive',\n",
              "                                                     [key], {});\n",
              "          if (!dataTable) return;\n",
              "\n",
              "          const docLinkHtml = 'Like what you see? Visit the ' +\n",
              "            '<a target=\"_blank\" href=https://colab.research.google.com/notebooks/data_table.ipynb>data table notebook</a>'\n",
              "            + ' to learn more about interactive tables.';\n",
              "          element.innerHTML = '';\n",
              "          dataTable['output_type'] = 'display_data';\n",
              "          await google.colab.output.renderOutput(dataTable, element);\n",
              "          const docLink = document.createElement('div');\n",
              "          docLink.innerHTML = docLinkHtml;\n",
              "          element.appendChild(docLink);\n",
              "        }\n",
              "      </script>\n",
              "    </div>\n",
              "  </div>\n",
              "  "
            ]
          },
          "metadata": {},
          "execution_count": 137
        }
      ]
    },
    {
      "cell_type": "code",
      "source": [
        "# Check the number of rows and columns of the \"cleaned\" data frame\n",
        "water_quality_df.shape"
      ],
      "metadata": {
        "colab": {
          "base_uri": "https://localhost:8080/"
        },
        "id": "CrXacWu3_Ye6",
        "outputId": "9c76a554-ac98-493c-8844-618249dbf6fc"
      },
      "execution_count": 138,
      "outputs": [
        {
          "output_type": "execute_result",
          "data": {
            "text/plain": [
              "(50000, 25)"
            ]
          },
          "metadata": {},
          "execution_count": 138
        }
      ]
    },
    {
      "cell_type": "code",
      "source": [
        "# Inspect the number of unique values for each remaining column, inspect any that might be weird, shouldn't be unique etc.\n",
        "water_quality_df.nunique()"
      ],
      "metadata": {
        "colab": {
          "base_uri": "https://localhost:8080/"
        },
        "id": "IQvjBz1c_SdF",
        "outputId": "a7c15c08-4391-4056-d8af-4ad2ea3df56d"
      },
      "execution_count": 139,
      "outputs": [
        {
          "output_type": "execute_result",
          "data": {
            "text/plain": [
              "State Code                                            3\n",
              "Year                                                 11\n",
              "Beach ID(Def.)                                      236\n",
              "Beach Name(Def.)                                    231\n",
              "StationID(Def.)                                     537\n",
              "Station Name (Def.)                                 527\n",
              "CountyName(Def.)                                     15\n",
              "Identifier(Def.)                                  11214\n",
              "StartDate(Def.)                                     399\n",
              "StartTime(Def.)                                     434\n",
              "ZoneCode(Def.)                                        3\n",
              "ActivityTypeCode(Def.)                                3\n",
              "CharacteristicName(Def.)                             12\n",
              "Result ValueText(Def.)                                2\n",
              "ResultValue(Def.)                                   834\n",
              "ResultMeasureUnit                                     9\n",
              "Result Comment(Def.)                                499\n",
              "ResultAnalyticalMethodIdentifier Context(Def.)        5\n",
              "ResultAnalyticalMethodIdentifier(Def.)               10\n",
              "ResultAnalyticalMethodName(Def.)                     10\n",
              "Sample CollectionMethod Identifier(Def.)              6\n",
              "Sample Collection Method Name(Def.)                   4\n",
              "Field Gear(Def.)                                      5\n",
              "AnalysisDateTime(Def.)                              351\n",
              "DetectionQuantitationLimit(Def.)                     12\n",
              "dtype: int64"
            ]
          },
          "metadata": {},
          "execution_count": 139
        }
      ]
    },
    {
      "cell_type": "code",
      "source": [
        "# Examen start times.\n",
        "water_quality_df[\"StartTime(Def.)\"].value_counts()"
      ],
      "metadata": {
        "colab": {
          "base_uri": "https://localhost:8080/"
        },
        "id": "fGKhIzXvKzmY",
        "outputId": "430f4e11-6be1-4d87-fff7-4373aed6d5bf"
      },
      "execution_count": 140,
      "outputs": [
        {
          "output_type": "execute_result",
          "data": {
            "text/plain": [
              "10:00:00 AM    959\n",
              "09:40:00 AM    957\n",
              "10:30:00 AM    896\n",
              "10:20:00 AM    893\n",
              "09:50:00 AM    854\n",
              "              ... \n",
              "04:11:00 PM      1\n",
              "06:57:00 AM      1\n",
              "06:47:00 AM      1\n",
              "05:00:00 PM      1\n",
              "12:16:00 AM      1\n",
              "Name: StartTime(Def.), Length: 434, dtype: int64"
            ]
          },
          "metadata": {},
          "execution_count": 140
        }
      ]
    },
    {
      "cell_type": "code",
      "source": [
        "# These units need to be all the same. They many not be needed for model training. Keep for our records. Units are the same unit, see website in the next markdown cell for more information\n",
        "water_quality_df[\"ResultMeasureUnit\"].value_counts()"
      ],
      "metadata": {
        "colab": {
          "base_uri": "https://localhost:8080/"
        },
        "id": "xkpz1F97AKeN",
        "outputId": "9db347d0-de6b-473b-9cb2-6e6658e89b88"
      },
      "execution_count": 141,
      "outputs": [
        {
          "output_type": "execute_result",
          "data": {
            "text/plain": [
              "count        19727\n",
              "None         10005\n",
              "MPN/100ml     9633\n",
              "deg C         6414\n",
              "PSS           2528\n",
              "cfu/100ml      231\n",
              "#/100ml        229\n",
              "%                2\n",
              "ppth             1\n",
              "Name: ResultMeasureUnit, dtype: int64"
            ]
          },
          "metadata": {},
          "execution_count": 141
        }
      ]
    },
    {
      "cell_type": "markdown",
      "source": [
        "Note measurement units, they are the same units. https://www.researchgate.net/post/Is_there_a_way_to_convert_MPN_most_probable_number_to_CFU_colony_forming_unit#:~:text=The%20simple%20answer%20is%20that,is%20equal%20to%20one%20CFU."
      ],
      "metadata": {
        "id": "nIeTkIaxBiNt"
      }
    },
    {
      "cell_type": "code",
      "source": [
        "# what is zoneCode? Appears to indicate if time is winter or summer time\n",
        "water_quality_df[\"ZoneCode(Def.)\"].value_counts()"
      ],
      "metadata": {
        "colab": {
          "base_uri": "https://localhost:8080/"
        },
        "id": "YHr1X8eJBn2M",
        "outputId": "1412d24d-9ba9-4fb7-d62a-8745af0e34d0"
      },
      "execution_count": 142,
      "outputs": [
        {
          "output_type": "execute_result",
          "data": {
            "text/plain": [
              "EDT    49172\n",
              "EST       38\n",
              "UTC        7\n",
              "Name: ZoneCode(Def.), dtype: int64"
            ]
          },
          "metadata": {},
          "execution_count": 142
        }
      ]
    },
    {
      "cell_type": "markdown",
      "source": [
        "### Water Quality Exploratory Analysis, not needed for data cleaning or loading into the database"
      ],
      "metadata": {
        "id": "bkJjXOr1CZe7"
      }
    },
    {
      "cell_type": "code",
      "source": [
        "# Every bacteria count row has data in it\n",
        "water_quality_df[\"ResultValue(Def.)\"].isnull().sum()"
      ],
      "metadata": {
        "colab": {
          "base_uri": "https://localhost:8080/"
        },
        "id": "Q6DUbfdPCeMV",
        "outputId": "30d35918-bd8b-4510-f65c-fcb31fa42fec"
      },
      "execution_count": 143,
      "outputs": [
        {
          "output_type": "execute_result",
          "data": {
            "text/plain": [
              "14029"
            ]
          },
          "metadata": {},
          "execution_count": 143
        }
      ]
    },
    {
      "cell_type": "code",
      "source": [
        "# Verify that all data in the bacteria column is a number\n",
        "water_quality_df[\"ResultValue(Def.)\"].dtype"
      ],
      "metadata": {
        "colab": {
          "base_uri": "https://localhost:8080/"
        },
        "id": "xKF1aZcYECda",
        "outputId": "4bd1fb04-830b-4e25-e524-c4fbe82e0df4"
      },
      "execution_count": 144,
      "outputs": [
        {
          "output_type": "execute_result",
          "data": {
            "text/plain": [
              "dtype('float64')"
            ]
          },
          "metadata": {},
          "execution_count": 144
        }
      ]
    },
    {
      "cell_type": "markdown",
      "source": [
        "## Water Quality Exploratory Plots"
      ],
      "metadata": {
        "id": "MWmwg1yQEfmp"
      }
    },
    {
      "cell_type": "markdown",
      "source": [
        "### Sample Counts"
      ],
      "metadata": {
        "id": "euH96CiLHH34"
      }
    },
    {
      "cell_type": "code",
      "source": [
        "# Number of samples per year\n",
        "water_quality_df[\"Year\"].value_counts().plot.bar()"
      ],
      "metadata": {
        "colab": {
          "base_uri": "https://localhost:8080/",
          "height": 299
        },
        "id": "pg0HmOdTELik",
        "outputId": "33eceafa-98bf-4ad9-aade-d8809b49a214"
      },
      "execution_count": 145,
      "outputs": [
        {
          "output_type": "execute_result",
          "data": {
            "text/plain": [
              "<matplotlib.axes._subplots.AxesSubplot at 0x7f33eef22e90>"
            ]
          },
          "metadata": {},
          "execution_count": 145
        },
        {
          "output_type": "display_data",
          "data": {
            "text/plain": [
              "<Figure size 432x288 with 1 Axes>"
            ],
            "image/png": "[encoded data removed]"
          },
          "metadata": {
            "needs_background": "light"
          }
        }
      ]
    },
    {
      "cell_type": "code",
      "source": [
        "# Number of samples per beach\n",
        "water_quality_df[\"Beach ID(Def.)\"].value_counts().plot.bar()"
      ],
      "metadata": {
        "colab": {
          "base_uri": "https://localhost:8080/",
          "height": 327
        },
        "id": "dFnv0NkUFX4r",
        "outputId": "2408a0c5-d1d3-47cf-ff80-75ec26328583"
      },
      "execution_count": 146,
      "outputs": [
        {
          "output_type": "execute_result",
          "data": {
            "text/plain": [
              "<matplotlib.axes._subplots.AxesSubplot at 0x7f33eed4e710>"
            ]
          },
          "metadata": {},
          "execution_count": 146
        },
        {
          "output_type": "display_data",
          "data": {
            "text/plain": [
              "<Figure size 432x288 with 1 Axes>"
            ],
            "image/png": "[encoded data removed]"
          },
          "metadata": {
            "needs_background": "light"
          }
        }
      ]
    },
    {
      "cell_type": "markdown",
      "source": [
        "### Bacteria Counts Summary"
      ],
      "metadata": {
        "id": "PF-kawj_HOCM"
      }
    },
    {
      "cell_type": "code",
      "source": [
        "# Bacteria count summary\n",
        "water_quality_df[\"ResultValue(Def.)\"].describe()"
      ],
      "metadata": {
        "id": "oN-91Q3vLjEg",
        "outputId": "98fcc199-3be8-4506-b706-eca8a9844a5b",
        "colab": {
          "base_uri": "https://localhost:8080/"
        }
      },
      "execution_count": 147,
      "outputs": [
        {
          "output_type": "execute_result",
          "data": {
            "text/plain": [
              "count    35971.000000\n",
              "mean        21.943407\n",
              "std        114.845746\n",
              "min          0.000000\n",
              "25%          0.000000\n",
              "50%          3.000000\n",
              "75%         20.000000\n",
              "max       6131.000000\n",
              "Name: ResultValue(Def.), dtype: float64"
            ]
          },
          "metadata": {},
          "execution_count": 147
        }
      ]
    },
    {
      "cell_type": "code",
      "source": [
        "# Boxplot the bacteria count column\n",
        "water_quality_df.boxplot(column=\"ResultValue(Def.)\")"
      ],
      "metadata": {
        "id": "-E1Vtc0rL6Kr",
        "outputId": "29eb60a8-7845-4856-90fe-562e6f74eec6",
        "colab": {
          "base_uri": "https://localhost:8080/",
          "height": 283
        }
      },
      "execution_count": 148,
      "outputs": [
        {
          "output_type": "execute_result",
          "data": {
            "text/plain": [
              "<matplotlib.axes._subplots.AxesSubplot at 0x7f33ee77f390>"
            ]
          },
          "metadata": {},
          "execution_count": 148
        },
        {
          "output_type": "display_data",
          "data": {
            "text/plain": [
              "<Figure size 432x288 with 1 Axes>"
            ],
            "image/png": "[encoded data removed]"
          },
          "metadata": {
            "needs_background": "light"
          }
        }
      ]
    },
    {
      "cell_type": "code",
      "source": [
        "# histogram of the bacteria counts. Many samples have very low counts of bacteria. But a few have very high counts of bacteria\n",
        "water_quality_df.hist(column=\"ResultValue(Def.)\",bins=50)"
      ],
      "metadata": {
        "colab": {
          "base_uri": "https://localhost:8080/",
          "height": 316
        },
        "id": "utpXqJpkMjWF",
        "outputId": "9e2a19d8-7b64-4866-a084-38e2be61d1fd"
      },
      "execution_count": 149,
      "outputs": [
        {
          "output_type": "execute_result",
          "data": {
            "text/plain": [
              "array([[<matplotlib.axes._subplots.AxesSubplot object at 0x7f33ee6ff210>]],\n",
              "      dtype=object)"
            ]
          },
          "metadata": {},
          "execution_count": 149
        },
        {
          "output_type": "display_data",
          "data": {
            "text/plain": [
              "<Figure size 432x288 with 1 Axes>"
            ],
            "image/png": "[encoded data removed]"
          },
          "metadata": {
            "needs_background": "light"
          }
        }
      ]
    },
    {
      "cell_type": "code",
      "source": [
        "# Average bacteria counts per beach\n",
        "bacteria_beach_df = water_quality_df.groupby(by=\"Beach ID(Def.)\").mean()\n",
        "bacteria_beach_df.plot.bar(y=\"ResultValue(Def.)\")"
      ],
      "metadata": {
        "colab": {
          "base_uri": "https://localhost:8080/",
          "height": 341
        },
        "id": "NY8t25pMGaRh",
        "outputId": "1004887c-1108-4783-c943-719c50bf60bb"
      },
      "execution_count": 150,
      "outputs": [
        {
          "output_type": "execute_result",
          "data": {
            "text/plain": [
              "<matplotlib.axes._subplots.AxesSubplot at 0x7f33ee6691d0>"
            ]
          },
          "metadata": {},
          "execution_count": 150
        },
        {
          "output_type": "display_data",
          "data": {
            "text/plain": [
              "<Figure size 432x288 with 1 Axes>"
            ],
            "image/png": "[encoded data removed]"
          },
          "metadata": {
            "needs_background": "light"
          }
        }
      ]
    },
    {
      "cell_type": "code",
      "source": [
        "# boxplot of bacteria counts by beach\n",
        "water_quality_df.boxplot(column=\"ResultValue(Def.)\",by=\"Beach ID(Def.)\")"
      ],
      "metadata": {
        "id": "cSgvDse7KvpQ",
        "outputId": "4c2b1fd2-bd12-46ff-d09a-5899dd634253",
        "colab": {
          "base_uri": "https://localhost:8080/",
          "height": 374
        }
      },
      "execution_count": 151,
      "outputs": [
        {
          "output_type": "stream",
          "name": "stderr",
          "text": [
            "/usr/local/lib/python3.7/dist-packages/matplotlib/cbook/__init__.py:1376: VisibleDeprecationWarning: Creating an ndarray from ragged nested sequences (which is a list-or-tuple of lists-or-tuples-or ndarrays with different lengths or shapes) is deprecated. If you meant to do this, you must specify 'dtype=object' when creating the ndarray.\n",
            "  X = np.atleast_1d(X.T if isinstance(X, np.ndarray) else np.asarray(X))\n"
          ]
        },
        {
          "output_type": "execute_result",
          "data": {
            "text/plain": [
              "<matplotlib.axes._subplots.AxesSubplot at 0x7f33ee167450>"
            ]
          },
          "metadata": {},
          "execution_count": 151
        },
        {
          "output_type": "display_data",
          "data": {
            "text/plain": [
              "<Figure size 432x288 with 1 Axes>"
            ],
            "image/png": "[encoded data removed]"
          },
          "metadata": {
            "needs_background": "light"
          }
        }
      ]
    },
    {
      "cell_type": "code",
      "source": [
        "# Average bacteria counts grouped by year\n",
        "bacteria_year_df = water_quality_df.groupby(by=\"Year\").mean()"
      ],
      "metadata": {
        "id": "rpVMphS5Ioo7"
      },
      "execution_count": 152,
      "outputs": []
    },
    {
      "cell_type": "code",
      "source": [
        "bacteria_year_df.plot(y=\"ResultValue(Def.)\")"
      ],
      "metadata": {
        "id": "sCsX2V4qJomQ",
        "outputId": "d6baeb79-285d-4140-b010-f7666120be28",
        "colab": {
          "base_uri": "https://localhost:8080/",
          "height": 297
        }
      },
      "execution_count": 153,
      "outputs": [
        {
          "output_type": "execute_result",
          "data": {
            "text/plain": [
              "<matplotlib.axes._subplots.AxesSubplot at 0x7f33ec860a10>"
            ]
          },
          "metadata": {},
          "execution_count": 153
        },
        {
          "output_type": "display_data",
          "data": {
            "text/plain": [
              "<Figure size 432x288 with 1 Axes>"
            ],
            "image/png": "[encoded data removed]"
          },
          "metadata": {
            "needs_background": "light"
          }
        }
      ]
    },
    {
      "cell_type": "code",
      "source": [
        "# bactera count box plots by year\n",
        "water_quality_df.boxplot(column=\"ResultValue(Def.)\",by=\"Year\")"
      ],
      "metadata": {
        "id": "woobMBfLLOC9",
        "outputId": "3bae0ed6-8bc3-4b5a-82c9-2bcd26c218d3",
        "colab": {
          "base_uri": "https://localhost:8080/",
          "height": 374
        }
      },
      "execution_count": 154,
      "outputs": [
        {
          "output_type": "stream",
          "name": "stderr",
          "text": [
            "/usr/local/lib/python3.7/dist-packages/matplotlib/cbook/__init__.py:1376: VisibleDeprecationWarning: Creating an ndarray from ragged nested sequences (which is a list-or-tuple of lists-or-tuples-or ndarrays with different lengths or shapes) is deprecated. If you meant to do this, you must specify 'dtype=object' when creating the ndarray.\n",
            "  X = np.atleast_1d(X.T if isinstance(X, np.ndarray) else np.asarray(X))\n"
          ]
        },
        {
          "output_type": "execute_result",
          "data": {
            "text/plain": [
              "<matplotlib.axes._subplots.AxesSubplot at 0x7f33ec823a10>"
            ]
          },
          "metadata": {},
          "execution_count": 154
        },
        {
          "output_type": "display_data",
          "data": {
            "text/plain": [
              "<Figure size 432x288 with 1 Axes>"
            ],
            "image/png": "[encoded data removed]"
          },
          "metadata": {
            "needs_background": "light"
          }
        }
      ]
    },
    {
      "cell_type": "markdown",
      "source": [
        "### Converting necessary Datatypes "
      ],
      "metadata": {
        "id": "IMk-sf8AM7P5"
      }
    },
    {
      "cell_type": "code",
      "source": [
        "# Convert the column 'StartDate(Def.)' from object to datetime.\n",
        "water_quality_df['Date'] = pd.to_datetime(water_quality_df['StartDate(Def.)'])\n",
        "\n",
        "# Shift column \"Date\" to first position\n",
        "first_column = water_quality_df.pop('Date')\n",
        "  \n",
        "# Insert column using insert(position,column_name,first_column) function\n",
        "water_quality_df.insert(0, 'Date', first_column)\n",
        "\n",
        "# Drop the old column \"StartDate(Def.)\", which is now replaced by the column \"Date\".\n",
        "water_quality_df = water_quality_df.drop(columns=['StartDate(Def.)'])\n",
        "\n",
        "\n",
        "# Convert the column 'AnalysisDateTime(Def.)' from object to datetime.\n",
        "water_quality_df['Analysis_Date'] = pd.to_datetime(water_quality_df['AnalysisDateTime(Def.)'])\n",
        "\n",
        "# Drop the old column 'AnalysisDateTime(Def.)', which is now replaced by the column 'Analysis_Date'.\n",
        "water_quality_df = water_quality_df.drop(columns=['AnalysisDateTime(Def.)'])\n",
        "\n",
        "water_quality_df"
      ],
      "metadata": {
        "colab": {
          "base_uri": "https://localhost:8080/",
          "height": 939
        },
        "id": "WgiE5cErIdF1",
        "outputId": "cdd98832-330e-4da2-8322-f11d3b1a9b9f"
      },
      "execution_count": 155,
      "outputs": [
        {
          "output_type": "execute_result",
          "data": {
            "text/plain": [
              "            Date State Code  Year Beach ID(Def.)  \\\n",
              "0     2012-07-25         MA  2012       MA788803   \n",
              "1     2012-06-06         MA  2012       MA851889   \n",
              "2     2012-07-31         MA  2012       MA284631   \n",
              "3     2011-06-22         MA  2011       MA862437   \n",
              "4     2011-08-09         MA  2011       MA585360   \n",
              "...          ...        ...   ...            ...   \n",
              "49995 2016-07-05         NH  2016       NH233349   \n",
              "49996 2016-07-05         NH  2016       NH233349   \n",
              "49997 2016-07-05         NH  2016       NH233349   \n",
              "49998 2016-07-05         NH  2016       NH233349   \n",
              "49999 2016-07-05         NH  2016       NH233349   \n",
              "\n",
              "                    Beach Name(Def.) StationID(Def.)  \\\n",
              "0       Hideaway Village Association        MA788803   \n",
              "1                   Tabor Park South        MA851889   \n",
              "2      Plum Island - end of island 2        MA284631   \n",
              "3                        Rock Harbor        MA862437   \n",
              "4           Sea Street (East Dennis)        MA585360   \n",
              "...                              ...             ...   \n",
              "49995          SUNAPEE LAKE DEWEY TB     BCHDEWSUNLF   \n",
              "49996          SUNAPEE LAKE DEWEY TB     BCHDEWSUNLF   \n",
              "49997          SUNAPEE LAKE DEWEY TB     BCHDEWSUNLF   \n",
              "49998          SUNAPEE LAKE DEWEY TB     BCHDEWSUNLF   \n",
              "49999          SUNAPEE LAKE DEWEY TB     BCHDEWSUNLF   \n",
              "\n",
              "                Station Name (Def.) CountyName(Def.) Identifier(Def.)  \\\n",
              "0      Hideaway Village Association       BARNSTABLE  MA7888032072012   \n",
              "1                  Tabor Park South          BRISTOL  MA8518891582012   \n",
              "2                       Plum Island            ESSEX  MA2846312132012   \n",
              "3                       Rock Harbor       BARNSTABLE  MA8624371732011   \n",
              "4          Sea Street (East Dennis)       BARNSTABLE  MA5853602212011   \n",
              "...                             ...              ...              ...   \n",
              "49995    LAKE SUNAPEE DEWEY TB-LEFT         SULLIVAN       B605103001   \n",
              "49996    LAKE SUNAPEE DEWEY TB-LEFT         SULLIVAN       B605103001   \n",
              "49997    LAKE SUNAPEE DEWEY TB-LEFT         SULLIVAN       B605103001   \n",
              "49998    LAKE SUNAPEE DEWEY TB-LEFT         SULLIVAN       B605103001   \n",
              "49999    LAKE SUNAPEE DEWEY TB-LEFT         SULLIVAN       B605103001   \n",
              "\n",
              "      StartTime(Def.) ZoneCode(Def.) ActivityTypeCode(Def.)  \\\n",
              "0         10:05:00 AM            EDT         Sample-Routine   \n",
              "1         11:29:00 AM            EDT         Sample-Routine   \n",
              "2         11:20:00 AM            EDT         Sample-Routine   \n",
              "3         07:05:00 AM            EDT         Sample-Routine   \n",
              "4         08:23:00 AM            EDT         Sample-Routine   \n",
              "...               ...            ...                    ...   \n",
              "49995     11:21:00 AM            EDT         Sample-Routine   \n",
              "49996     11:21:00 AM            EDT         Sample-Routine   \n",
              "49997     11:21:00 AM            EDT         Sample-Routine   \n",
              "49998     11:21:00 AM            EDT         Sample-Routine   \n",
              "49999     11:21:00 AM            EDT         Sample-Routine   \n",
              "\n",
              "         CharacteristicName(Def.) Result ValueText(Def.)  ResultValue(Def.)  \\\n",
              "0                    Enterococcus                    NaN                NaN   \n",
              "1                    Enterococcus                    NaN                NaN   \n",
              "2                    Enterococcus                    NaN                NaN   \n",
              "3                    Enterococcus                    NaN              134.0   \n",
              "4                    Enterococcus                    NaN               18.0   \n",
              "...                           ...                    ...                ...   \n",
              "49995            Escherichia coli                    NaN                2.0   \n",
              "49996          Temperature, water                    NaN               23.3   \n",
              "49997  General observation (text)                    NaN                0.0   \n",
              "49998  General observation (text)                    NaN                0.0   \n",
              "49999  General observation (text)                    NaN                2.0   \n",
              "\n",
              "      ResultMeasureUnit Result Comment(Def.)  \\\n",
              "0             cfu/100ml                  NaN   \n",
              "1             cfu/100ml                  NaN   \n",
              "2             cfu/100ml                  NaN   \n",
              "3             cfu/100ml                  NaN   \n",
              "4             cfu/100ml                  NaN   \n",
              "...                 ...                  ...   \n",
              "49995         MPN/100ml                  NaN   \n",
              "49996             deg C                  NaN   \n",
              "49997             count                  NaN   \n",
              "49998             count                  NaN   \n",
              "49999             count                  NaN   \n",
              "\n",
              "      ResultAnalyticalMethodIdentifier Context(Def.)  \\\n",
              "0                                                NaN   \n",
              "1                                                NaN   \n",
              "2                                                NaN   \n",
              "3                                                NaN   \n",
              "4                                                NaN   \n",
              "...                                              ...   \n",
              "49995                                           APHA   \n",
              "49996                                           APHA   \n",
              "49997                                       11113300   \n",
              "49998                                       11113300   \n",
              "49999                                       11113300   \n",
              "\n",
              "      ResultAnalyticalMethodIdentifier(Def.)  \\\n",
              "0                                        NaN   \n",
              "1                                        NaN   \n",
              "2                                        NaN   \n",
              "3                                        NaN   \n",
              "4                                        NaN   \n",
              "...                                      ...   \n",
              "49995                                 9223-B   \n",
              "49996                                   2550   \n",
              "49997                                   NONE   \n",
              "49998                                   NONE   \n",
              "49999                                   NONE   \n",
              "\n",
              "                        ResultAnalyticalMethodName(Def.)  \\\n",
              "0                                                    NaN   \n",
              "1                                                    NaN   \n",
              "2                                                    NaN   \n",
              "3                                                    NaN   \n",
              "4                                                    NaN   \n",
              "...                                                  ...   \n",
              "49995  9223 B ~ Enzyme substrate assay for measuring ...   \n",
              "49996                Temperature of Water by Thermometer   \n",
              "49997              NO ANALYTICAL METHOD. NOT APPLICABLE.   \n",
              "49998              NO ANALYTICAL METHOD. NOT APPLICABLE.   \n",
              "49999              NO ANALYTICAL METHOD. NOT APPLICABLE.   \n",
              "\n",
              "      Sample CollectionMethod Identifier(Def.)  \\\n",
              "0                                      ROUTINE   \n",
              "1                                      ROUTINE   \n",
              "2                                      ROUTINE   \n",
              "3                                      ROUTINE   \n",
              "4                                      ROUTINE   \n",
              "...                                        ...   \n",
              "49995                                BEACHTRIP   \n",
              "49996                                BEACHTRIP   \n",
              "49997                                BEACHTRIP   \n",
              "49998                                BEACHTRIP   \n",
              "49999                                BEACHTRIP   \n",
              "\n",
              "      Sample Collection Method Name(Def.) Field Gear(Def.)  \\\n",
              "0                          Routine Sample     Water Bottle   \n",
              "1                          Routine Sample     Water Bottle   \n",
              "2                          Routine Sample     Water Bottle   \n",
              "3                          Routine Sample     Water Bottle   \n",
              "4                          Routine Sample     Water Bottle   \n",
              "...                                   ...              ...   \n",
              "49995   BEACH PROGRAM SAMPLING PROCEDURES     Water Bottle   \n",
              "49996   BEACH PROGRAM SAMPLING PROCEDURES     Water Bottle   \n",
              "49997   BEACH PROGRAM SAMPLING PROCEDURES     Water Bottle   \n",
              "49998   BEACH PROGRAM SAMPLING PROCEDURES     Water Bottle   \n",
              "49999   BEACH PROGRAM SAMPLING PROCEDURES     Water Bottle   \n",
              "\n",
              "      DetectionQuantitationLimit(Def.) Analysis_Date  \n",
              "0                                    -           NaT  \n",
              "1                                    -           NaT  \n",
              "2                                    -           NaT  \n",
              "3                                    -           NaT  \n",
              "4                                    -           NaT  \n",
              "...                                ...           ...  \n",
              "49995                                -    2016-07-06  \n",
              "49996                                -           NaT  \n",
              "49997                                -           NaT  \n",
              "49998                                -           NaT  \n",
              "49999                                -           NaT  \n",
              "\n",
              "[50000 rows x 25 columns]"
            ],
            "text/html": [
              "\n",
              "  <div id=\"df-07b0e07b-f381-4cc6-9651-c7cbb91e5d4b\">\n",
              "    <div class=\"colab-df-container\">\n",
              "      <div>\n",
              "<style scoped>\n",
              "    .dataframe tbody tr th:only-of-type {\n",
              "        vertical-align: middle;\n",
              "    }\n",
              "\n",
              "    .dataframe tbody tr th {\n",
              "        vertical-align: top;\n",
              "    }\n",
              "\n",
              "    .dataframe thead th {\n",
              "        text-align: right;\n",
              "    }\n",
              "</style>\n",
              "<table border=\"1\" class=\"dataframe\">\n",
              "  <thead>\n",
              "    <tr style=\"text-align: right;\">\n",
              "      <th></th>\n",
              "      <th>Date</th>\n",
              "      <th>State Code</th>\n",
              "      <th>Year</th>\n",
              "      <th>Beach ID(Def.)</th>\n",
              "      <th>Beach Name(Def.)</th>\n",
              "      <th>StationID(Def.)</th>\n",
              "      <th>Station Name (Def.)</th>\n",
              "      <th>CountyName(Def.)</th>\n",
              "      <th>Identifier(Def.)</th>\n",
              "      <th>StartTime(Def.)</th>\n",
              "      <th>ZoneCode(Def.)</th>\n",
              "      <th>ActivityTypeCode(Def.)</th>\n",
              "      <th>CharacteristicName(Def.)</th>\n",
              "      <th>Result ValueText(Def.)</th>\n",
              "      <th>ResultValue(Def.)</th>\n",
              "      <th>ResultMeasureUnit</th>\n",
              "      <th>Result Comment(Def.)</th>\n",
              "      <th>ResultAnalyticalMethodIdentifier Context(Def.)</th>\n",
              "      <th>ResultAnalyticalMethodIdentifier(Def.)</th>\n",
              "      <th>ResultAnalyticalMethodName(Def.)</th>\n",
              "      <th>Sample CollectionMethod Identifier(Def.)</th>\n",
              "      <th>Sample Collection Method Name(Def.)</th>\n",
              "      <th>Field Gear(Def.)</th>\n",
              "      <th>DetectionQuantitationLimit(Def.)</th>\n",
              "      <th>Analysis_Date</th>\n",
              "    </tr>\n",
              "  </thead>\n",
              "  <tbody>\n",
              "    <tr>\n",
              "      <th>0</th>\n",
              "      <td>2012-07-25</td>\n",
              "      <td>MA</td>\n",
              "      <td>2012</td>\n",
              "      <td>MA788803</td>\n",
              "      <td>Hideaway Village Association</td>\n",
              "      <td>MA788803</td>\n",
              "      <td>Hideaway Village Association</td>\n",
              "      <td>BARNSTABLE</td>\n",
              "      <td>MA7888032072012</td>\n",
              "      <td>10:05:00 AM</td>\n",
              "      <td>EDT</td>\n",
              "      <td>Sample-Routine</td>\n",
              "      <td>Enterococcus</td>\n",
              "      <td>NaN</td>\n",
              "      <td>NaN</td>\n",
              "      <td>cfu/100ml</td>\n",
              "      <td>NaN</td>\n",
              "      <td>NaN</td>\n",
              "      <td>NaN</td>\n",
              "      <td>NaN</td>\n",
              "      <td>ROUTINE</td>\n",
              "      <td>Routine Sample</td>\n",
              "      <td>Water Bottle</td>\n",
              "      <td>-</td>\n",
              "      <td>NaT</td>\n",
              "    </tr>\n",
              "    <tr>\n",
              "      <th>1</th>\n",
              "      <td>2012-06-06</td>\n",
              "      <td>MA</td>\n",
              "      <td>2012</td>\n",
              "      <td>MA851889</td>\n",
              "      <td>Tabor Park South</td>\n",
              "      <td>MA851889</td>\n",
              "      <td>Tabor Park South</td>\n",
              "      <td>BRISTOL</td>\n",
              "      <td>MA8518891582012</td>\n",
              "      <td>11:29:00 AM</td>\n",
              "      <td>EDT</td>\n",
              "      <td>Sample-Routine</td>\n",
              "      <td>Enterococcus</td>\n",
              "      <td>NaN</td>\n",
              "      <td>NaN</td>\n",
              "      <td>cfu/100ml</td>\n",
              "      <td>NaN</td>\n",
              "      <td>NaN</td>\n",
              "      <td>NaN</td>\n",
              "      <td>NaN</td>\n",
              "      <td>ROUTINE</td>\n",
              "      <td>Routine Sample</td>\n",
              "      <td>Water Bottle</td>\n",
              "      <td>-</td>\n",
              "      <td>NaT</td>\n",
              "    </tr>\n",
              "    <tr>\n",
              "      <th>2</th>\n",
              "      <td>2012-07-31</td>\n",
              "      <td>MA</td>\n",
              "      <td>2012</td>\n",
              "      <td>MA284631</td>\n",
              "      <td>Plum Island - end of island 2</td>\n",
              "      <td>MA284631</td>\n",
              "      <td>Plum Island</td>\n",
              "      <td>ESSEX</td>\n",
              "      <td>MA2846312132012</td>\n",
              "      <td>11:20:00 AM</td>\n",
              "      <td>EDT</td>\n",
              "      <td>Sample-Routine</td>\n",
              "      <td>Enterococcus</td>\n",
              "      <td>NaN</td>\n",
              "      <td>NaN</td>\n",
              "      <td>cfu/100ml</td>\n",
              "      <td>NaN</td>\n",
              "      <td>NaN</td>\n",
              "      <td>NaN</td>\n",
              "      <td>NaN</td>\n",
              "      <td>ROUTINE</td>\n",
              "      <td>Routine Sample</td>\n",
              "      <td>Water Bottle</td>\n",
              "      <td>-</td>\n",
              "      <td>NaT</td>\n",
              "    </tr>\n",
              "    <tr>\n",
              "      <th>3</th>\n",
              "      <td>2011-06-22</td>\n",
              "      <td>MA</td>\n",
              "      <td>2011</td>\n",
              "      <td>MA862437</td>\n",
              "      <td>Rock Harbor</td>\n",
              "      <td>MA862437</td>\n",
              "      <td>Rock Harbor</td>\n",
              "      <td>BARNSTABLE</td>\n",
              "      <td>MA8624371732011</td>\n",
              "      <td>07:05:00 AM</td>\n",
              "      <td>EDT</td>\n",
              "      <td>Sample-Routine</td>\n",
              "      <td>Enterococcus</td>\n",
              "      <td>NaN</td>\n",
              "      <td>134.0</td>\n",
              "      <td>cfu/100ml</td>\n",
              "      <td>NaN</td>\n",
              "      <td>NaN</td>\n",
              "      <td>NaN</td>\n",
              "      <td>NaN</td>\n",
              "      <td>ROUTINE</td>\n",
              "      <td>Routine Sample</td>\n",
              "      <td>Water Bottle</td>\n",
              "      <td>-</td>\n",
              "      <td>NaT</td>\n",
              "    </tr>\n",
              "    <tr>\n",
              "      <th>4</th>\n",
              "      <td>2011-08-09</td>\n",
              "      <td>MA</td>\n",
              "      <td>2011</td>\n",
              "      <td>MA585360</td>\n",
              "      <td>Sea Street (East Dennis)</td>\n",
              "      <td>MA585360</td>\n",
              "      <td>Sea Street (East Dennis)</td>\n",
              "      <td>BARNSTABLE</td>\n",
              "      <td>MA5853602212011</td>\n",
              "      <td>08:23:00 AM</td>\n",
              "      <td>EDT</td>\n",
              "      <td>Sample-Routine</td>\n",
              "      <td>Enterococcus</td>\n",
              "      <td>NaN</td>\n",
              "      <td>18.0</td>\n",
              "      <td>cfu/100ml</td>\n",
              "      <td>NaN</td>\n",
              "      <td>NaN</td>\n",
              "      <td>NaN</td>\n",
              "      <td>NaN</td>\n",
              "      <td>ROUTINE</td>\n",
              "      <td>Routine Sample</td>\n",
              "      <td>Water Bottle</td>\n",
              "      <td>-</td>\n",
              "      <td>NaT</td>\n",
              "    </tr>\n",
              "    <tr>\n",
              "      <th>...</th>\n",
              "      <td>...</td>\n",
              "      <td>...</td>\n",
              "      <td>...</td>\n",
              "      <td>...</td>\n",
              "      <td>...</td>\n",
              "      <td>...</td>\n",
              "      <td>...</td>\n",
              "      <td>...</td>\n",
              "      <td>...</td>\n",
              "      <td>...</td>\n",
              "      <td>...</td>\n",
              "      <td>...</td>\n",
              "      <td>...</td>\n",
              "      <td>...</td>\n",
              "      <td>...</td>\n",
              "      <td>...</td>\n",
              "      <td>...</td>\n",
              "      <td>...</td>\n",
              "      <td>...</td>\n",
              "      <td>...</td>\n",
              "      <td>...</td>\n",
              "      <td>...</td>\n",
              "      <td>...</td>\n",
              "      <td>...</td>\n",
              "      <td>...</td>\n",
              "    </tr>\n",
              "    <tr>\n",
              "      <th>49995</th>\n",
              "      <td>2016-07-05</td>\n",
              "      <td>NH</td>\n",
              "      <td>2016</td>\n",
              "      <td>NH233349</td>\n",
              "      <td>SUNAPEE LAKE DEWEY TB</td>\n",
              "      <td>BCHDEWSUNLF</td>\n",
              "      <td>LAKE SUNAPEE DEWEY TB-LEFT</td>\n",
              "      <td>SULLIVAN</td>\n",
              "      <td>B605103001</td>\n",
              "      <td>11:21:00 AM</td>\n",
              "      <td>EDT</td>\n",
              "      <td>Sample-Routine</td>\n",
              "      <td>Escherichia coli</td>\n",
              "      <td>NaN</td>\n",
              "      <td>2.0</td>\n",
              "      <td>MPN/100ml</td>\n",
              "      <td>NaN</td>\n",
              "      <td>APHA</td>\n",
              "      <td>9223-B</td>\n",
              "      <td>9223 B ~ Enzyme substrate assay for measuring ...</td>\n",
              "      <td>BEACHTRIP</td>\n",
              "      <td>BEACH PROGRAM SAMPLING PROCEDURES</td>\n",
              "      <td>Water Bottle</td>\n",
              "      <td>-</td>\n",
              "      <td>2016-07-06</td>\n",
              "    </tr>\n",
              "    <tr>\n",
              "      <th>49996</th>\n",
              "      <td>2016-07-05</td>\n",
              "      <td>NH</td>\n",
              "      <td>2016</td>\n",
              "      <td>NH233349</td>\n",
              "      <td>SUNAPEE LAKE DEWEY TB</td>\n",
              "      <td>BCHDEWSUNLF</td>\n",
              "      <td>LAKE SUNAPEE DEWEY TB-LEFT</td>\n",
              "      <td>SULLIVAN</td>\n",
              "      <td>B605103001</td>\n",
              "      <td>11:21:00 AM</td>\n",
              "      <td>EDT</td>\n",
              "      <td>Sample-Routine</td>\n",
              "      <td>Temperature, water</td>\n",
              "      <td>NaN</td>\n",
              "      <td>23.3</td>\n",
              "      <td>deg C</td>\n",
              "      <td>NaN</td>\n",
              "      <td>APHA</td>\n",
              "      <td>2550</td>\n",
              "      <td>Temperature of Water by Thermometer</td>\n",
              "      <td>BEACHTRIP</td>\n",
              "      <td>BEACH PROGRAM SAMPLING PROCEDURES</td>\n",
              "      <td>Water Bottle</td>\n",
              "      <td>-</td>\n",
              "      <td>NaT</td>\n",
              "    </tr>\n",
              "    <tr>\n",
              "      <th>49997</th>\n",
              "      <td>2016-07-05</td>\n",
              "      <td>NH</td>\n",
              "      <td>2016</td>\n",
              "      <td>NH233349</td>\n",
              "      <td>SUNAPEE LAKE DEWEY TB</td>\n",
              "      <td>BCHDEWSUNLF</td>\n",
              "      <td>LAKE SUNAPEE DEWEY TB-LEFT</td>\n",
              "      <td>SULLIVAN</td>\n",
              "      <td>B605103001</td>\n",
              "      <td>11:21:00 AM</td>\n",
              "      <td>EDT</td>\n",
              "      <td>Sample-Routine</td>\n",
              "      <td>General observation (text)</td>\n",
              "      <td>NaN</td>\n",
              "      <td>0.0</td>\n",
              "      <td>count</td>\n",
              "      <td>NaN</td>\n",
              "      <td>11113300</td>\n",
              "      <td>NONE</td>\n",
              "      <td>NO ANALYTICAL METHOD. NOT APPLICABLE.</td>\n",
              "      <td>BEACHTRIP</td>\n",
              "      <td>BEACH PROGRAM SAMPLING PROCEDURES</td>\n",
              "      <td>Water Bottle</td>\n",
              "      <td>-</td>\n",
              "      <td>NaT</td>\n",
              "    </tr>\n",
              "    <tr>\n",
              "      <th>49998</th>\n",
              "      <td>2016-07-05</td>\n",
              "      <td>NH</td>\n",
              "      <td>2016</td>\n",
              "      <td>NH233349</td>\n",
              "      <td>SUNAPEE LAKE DEWEY TB</td>\n",
              "      <td>BCHDEWSUNLF</td>\n",
              "      <td>LAKE SUNAPEE DEWEY TB-LEFT</td>\n",
              "      <td>SULLIVAN</td>\n",
              "      <td>B605103001</td>\n",
              "      <td>11:21:00 AM</td>\n",
              "      <td>EDT</td>\n",
              "      <td>Sample-Routine</td>\n",
              "      <td>General observation (text)</td>\n",
              "      <td>NaN</td>\n",
              "      <td>0.0</td>\n",
              "      <td>count</td>\n",
              "      <td>NaN</td>\n",
              "      <td>11113300</td>\n",
              "      <td>NONE</td>\n",
              "      <td>NO ANALYTICAL METHOD. NOT APPLICABLE.</td>\n",
              "      <td>BEACHTRIP</td>\n",
              "      <td>BEACH PROGRAM SAMPLING PROCEDURES</td>\n",
              "      <td>Water Bottle</td>\n",
              "      <td>-</td>\n",
              "      <td>NaT</td>\n",
              "    </tr>\n",
              "    <tr>\n",
              "      <th>49999</th>\n",
              "      <td>2016-07-05</td>\n",
              "      <td>NH</td>\n",
              "      <td>2016</td>\n",
              "      <td>NH233349</td>\n",
              "      <td>SUNAPEE LAKE DEWEY TB</td>\n",
              "      <td>BCHDEWSUNLF</td>\n",
              "      <td>LAKE SUNAPEE DEWEY TB-LEFT</td>\n",
              "      <td>SULLIVAN</td>\n",
              "      <td>B605103001</td>\n",
              "      <td>11:21:00 AM</td>\n",
              "      <td>EDT</td>\n",
              "      <td>Sample-Routine</td>\n",
              "      <td>General observation (text)</td>\n",
              "      <td>NaN</td>\n",
              "      <td>2.0</td>\n",
              "      <td>count</td>\n",
              "      <td>NaN</td>\n",
              "      <td>11113300</td>\n",
              "      <td>NONE</td>\n",
              "      <td>NO ANALYTICAL METHOD. NOT APPLICABLE.</td>\n",
              "      <td>BEACHTRIP</td>\n",
              "      <td>BEACH PROGRAM SAMPLING PROCEDURES</td>\n",
              "      <td>Water Bottle</td>\n",
              "      <td>-</td>\n",
              "      <td>NaT</td>\n",
              "    </tr>\n",
              "  </tbody>\n",
              "</table>\n",
              "<p>50000 rows × 25 columns</p>\n",
              "</div>\n",
              "      <button class=\"colab-df-convert\" onclick=\"convertToInteractive('df-07b0e07b-f381-4cc6-9651-c7cbb91e5d4b')\"\n",
              "              title=\"Convert this dataframe to an interactive table.\"\n",
              "              style=\"display:none;\">\n",
              "        \n",
              "  <svg xmlns=\"http://www.w3.org/2000/svg\" height=\"24px\"viewBox=\"0 0 24 24\"\n",
              "       width=\"24px\">\n",
              "    <path d=\"M0 0h24v24H0V0z\" fill=\"none\"/>\n",
              "    <path d=\"M18.56 5.44l.94 2.06.94-2.06 2.06-.94-2.06-.94-.94-2.06-.94 2.06-2.06.94zm-11 1L8.5 8.5l.94-2.06 2.06-.94-2.06-.94L8.5 2.5l-.94 2.06-2.06.94zm10 10l.94 2.06.94-2.06 2.06-.94-2.06-.94-.94-2.06-.94 2.06-2.06.94z\"/><path d=\"M17.41 7.96l-1.37-1.37c-.4-.4-.92-.59-1.43-.59-.52 0-1.04.2-1.43.59L10.3 9.45l-7.72 7.72c-.78.78-.78 2.05 0 2.83L4 21.41c.39.39.9.59 1.41.59.51 0 1.02-.2 1.41-.59l7.78-7.78 2.81-2.81c.8-.78.8-2.07 0-2.86zM5.41 20L4 18.59l7.72-7.72 1.47 1.35L5.41 20z\"/>\n",
              "  </svg>\n",
              "      </button>\n",
              "      \n",
              "  <style>\n",
              "    .colab-df-container {\n",
              "      display:flex;\n",
              "      flex-wrap:wrap;\n",
              "      gap: 12px;\n",
              "    }\n",
              "\n",
              "    .colab-df-convert {\n",
              "      background-color: #E8F0FE;\n",
              "      border: none;\n",
              "      border-radius: 50%;\n",
              "      cursor: pointer;\n",
              "      display: none;\n",
              "      fill: #1967D2;\n",
              "      height: 32px;\n",
              "      padding: 0 0 0 0;\n",
              "      width: 32px;\n",
              "    }\n",
              "\n",
              "    .colab-df-convert:hover {\n",
              "      background-color: #E2EBFA;\n",
              "      box-shadow: 0px 1px 2px rgba(60, 64, 67, 0.3), 0px 1px 3px 1px rgba(60, 64, 67, 0.15);\n",
              "      fill: #174EA6;\n",
              "    }\n",
              "\n",
              "    [theme=dark] .colab-df-convert {\n",
              "      background-color: #3B4455;\n",
              "      fill: #D2E3FC;\n",
              "    }\n",
              "\n",
              "    [theme=dark] .colab-df-convert:hover {\n",
              "      background-color: #434B5C;\n",
              "      box-shadow: 0px 1px 3px 1px rgba(0, 0, 0, 0.15);\n",
              "      filter: drop-shadow(0px 1px 2px rgba(0, 0, 0, 0.3));\n",
              "      fill: #FFFFFF;\n",
              "    }\n",
              "  </style>\n",
              "\n",
              "      <script>\n",
              "        const buttonEl =\n",
              "          document.querySelector('#df-07b0e07b-f381-4cc6-9651-c7cbb91e5d4b button.colab-df-convert');\n",
              "        buttonEl.style.display =\n",
              "          google.colab.kernel.accessAllowed ? 'block' : 'none';\n",
              "\n",
              "        async function convertToInteractive(key) {\n",
              "          const element = document.querySelector('#df-07b0e07b-f381-4cc6-9651-c7cbb91e5d4b');\n",
              "          const dataTable =\n",
              "            await google.colab.kernel.invokeFunction('convertToInteractive',\n",
              "                                                     [key], {});\n",
              "          if (!dataTable) return;\n",
              "\n",
              "          const docLinkHtml = 'Like what you see? Visit the ' +\n",
              "            '<a target=\"_blank\" href=https://colab.research.google.com/notebooks/data_table.ipynb>data table notebook</a>'\n",
              "            + ' to learn more about interactive tables.';\n",
              "          element.innerHTML = '';\n",
              "          dataTable['output_type'] = 'display_data';\n",
              "          await google.colab.output.renderOutput(dataTable, element);\n",
              "          const docLink = document.createElement('div');\n",
              "          docLink.innerHTML = docLinkHtml;\n",
              "          element.appendChild(docLink);\n",
              "        }\n",
              "      </script>\n",
              "    </div>\n",
              "  </div>\n",
              "  "
            ]
          },
          "metadata": {},
          "execution_count": 155
        }
      ]
    },
    {
      "cell_type": "markdown",
      "source": [
        "### Renaming Columns to match database schema."
      ],
      "metadata": {
        "id": "U0Cn9I2IOW12"
      }
    },
    {
      "cell_type": "code",
      "source": [
        "\n",
        "#df.rename(columns={\"A\": \"a\", \"B\": \"c\"})"
      ],
      "metadata": {
        "id": "BZS6tSFqOeV1"
      },
      "execution_count": null,
      "outputs": []
    }
  ]
}