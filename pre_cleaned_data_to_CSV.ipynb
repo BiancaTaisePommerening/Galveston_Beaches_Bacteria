{
  "nbformat": 4,
  "nbformat_minor": 0,
  "metadata": {
    "colab": {
      "name": "pre_cleaned_data_to CSV.ipynb",
      "provenance": [],
      "collapsed_sections": [],
      "include_colab_link": true
    },
    "kernelspec": {
      "name": "python3",
      "display_name": "Python 3"
    },
    "language_info": {
      "name": "python"
    }
  },
  "cells": [
    {
      "cell_type": "markdown",
      "metadata": {
        "id": "view-in-github",
        "colab_type": "text"
      },
      "source": [
        "<a href=\"https://colab.research.google.com/github/david-garza/final_project/blob/bianca_1/pre_cleaned_data_to_CSV.ipynb\" target=\"_parent\"><img src=\"https://colab.research.google.com/assets/colab-badge.svg\" alt=\"Open In Colab\"/></a>"
      ]
    },
    {
      "cell_type": "markdown",
      "source": [
        "# ETL and Save to CSV \n",
        "In order to have some pre cleaned data to work with on Tableau."
      ],
      "metadata": {
        "id": "Q2vOkG1Vtkms"
      }
    },
    {
      "cell_type": "markdown",
      "source": [
        "# ETL"
      ],
      "metadata": {
        "id": "yyb5obJayxMt"
      }
    },
    {
      "cell_type": "markdown",
      "source": [
        "## Beach Attributes File"
      ],
      "metadata": {
        "id": "Hts9j5WR7InX"
      }
    },
    {
      "cell_type": "code",
      "execution_count": 1,
      "metadata": {
        "id": "X4eydd8cyXsy",
        "colab": {
          "base_uri": "https://localhost:8080/"
        },
        "outputId": "d0a0647d-629d-4ac5-8d51-0203ff3127ad"
      },
      "outputs": [
        {
          "output_type": "stream",
          "name": "stderr",
          "text": [
            "/usr/local/lib/python3.7/dist-packages/psycopg2/__init__.py:144: UserWarning: The psycopg2 wheel package will be renamed from release 2.8; in order to keep installing from binary please use \"pip install psycopg2-binary\" instead. For details see: <http://initd.org/psycopg/docs/install.html#binary-install-from-pypi>.\n",
            "  \"\"\")\n"
          ]
        }
      ],
      "source": [
        "# Import dependencies\n",
        "import pandas as pd\n",
        "import numpy as np\n",
        "from sqlalchemy import create_engine\n",
        "import psycopg2\n",
        "from datetime import datetime\n",
        "from getpass import getpass\n",
        "import time"
      ]
    },
    {
      "cell_type": "code",
      "source": [
        "from google.colab import drive\n",
        "drive.mount('/content/drive')"
      ],
      "metadata": {
        "colab": {
          "base_uri": "https://localhost:8080/"
        },
        "id": "ET7cW-N2iDUZ",
        "outputId": "e9f34ad3-b284-4d87-db70-308b1d96120e"
      },
      "execution_count": 2,
      "outputs": [
        {
          "output_type": "stream",
          "name": "stdout",
          "text": [
            "Mounted at /content/drive\n"
          ]
        }
      ]
    },
    {
      "cell_type": "code",
      "source": [
        "# Bianca's path - Read beach_attributes from local gdrive location, MUST BE CHANGED TO MATCH YOUR FILE LOCATION!!!\n",
        "beach_attr_df = pd.read_csv(\"/content/drive/MyDrive/Data/Beach/Beach_Attributes.csv\")"
      ],
      "metadata": {
        "id": "5m84moZPzOEe"
      },
      "execution_count": 3,
      "outputs": []
    },
    {
      "cell_type": "code",
      "source": [
        "# Examen the number of unique beaches in the data set\n",
        "print(beach_attr_df[\"Beach Name\"].unique())\n",
        "\n",
        "# How many beaches are in galveston?\n",
        "print(len(beach_attr_df[\"Beach Name\"].unique()))"
      ],
      "metadata": {
        "colab": {
          "base_uri": "https://localhost:8080/"
        },
        "id": "yBGbMx0o0Siw",
        "outputId": "659caa6c-6f25-4b08-d106-27553967a805"
      },
      "execution_count": 4,
      "outputs": [
        {
          "output_type": "stream",
          "name": "stdout",
          "text": [
            "['25th St.' '45th St.' '61st St.' 'Appfel Park' 'Caplen'\n",
            " 'Caplen/Crystal Beach' 'Clara St.' 'Dellanera Park' 'East Beach'\n",
            " 'Erman Pilsner Boat Ramp' 'Frank Carmona Beach'\n",
            " 'Galveston Island State Park' 'Galveston Island State Park Backside'\n",
            " 'Gilchrist East' 'Gilchrist West' 'Gulf Shores' 'Haney Park'\n",
            " 'High Island East' 'High Island West' 'Holiday' 'Indian Beach'\n",
            " 'Jamaica Beach' \"O'Neil Rd.\" 'Pirates Beach' 'Rettilon Road'\n",
            " 'Rollover Pass East' 'Rollover Pass West' 'San Luis Pass' 'Sea Isle'\n",
            " 'Seadrift' 'Skyline Drive' 'Skyline Park' 'Spanish Grant/Bermuda Beach'\n",
            " 'Stewart Beach' 'Texas City Dike' 'West End']\n",
            "36\n"
          ]
        }
      ]
    },
    {
      "cell_type": "code",
      "source": [
        "# Investigate the number of unique values for each data column, columns with 1 value provide no information and can be dropped\n",
        "beach_attr_df.nunique()"
      ],
      "metadata": {
        "colab": {
          "base_uri": "https://localhost:8080/"
        },
        "id": "_fdhiaKr0GQf",
        "outputId": "99923f83-e5aa-447a-dc81-0e00a07b794f"
      },
      "execution_count": 5,
      "outputs": [
        {
          "output_type": "execute_result",
          "data": {
            "text/plain": [
              "State                                    1\n",
              "Year                                    16\n",
              "Beach ID                                36\n",
              "Beach Name                              36\n",
              "County                                   1\n",
              "Beach Ownership/Beach Accessibility      1\n",
              "BeachLength (Mi)                        69\n",
              "Tier                                     3\n",
              "Start Latitude                          36\n",
              "Start Longitude                         36\n",
              "End Latitude                            36\n",
              "End Longitude                           36\n",
              "Waterbody Name                           1\n",
              "Waterbody Type                           2\n",
              "AdvisoryReportingFrequency(to EPA)       1\n",
              "AdvisoryReportingFrequencyUnits          1\n",
              "dtype: int64"
            ]
          },
          "metadata": {},
          "execution_count": 5
        }
      ]
    },
    {
      "cell_type": "code",
      "source": [
        "# Investigate water type column, that is more then 36 beaches!\n",
        "beach_attr_df[\"Waterbody Type\"].value_counts()"
      ],
      "metadata": {
        "colab": {
          "base_uri": "https://localhost:8080/"
        },
        "id": "OnVSnz-z0iIw",
        "outputId": "578ec157-e6b7-488a-893d-94f8ea9dbe98"
      },
      "execution_count": 6,
      "outputs": [
        {
          "output_type": "execute_result",
          "data": {
            "text/plain": [
              "Open Coast              469\n",
              "Sound, Bay, or Inlet     75\n",
              "Name: Waterbody Type, dtype: int64"
            ]
          },
          "metadata": {},
          "execution_count": 6
        }
      ]
    },
    {
      "cell_type": "code",
      "source": [
        "# Number of years that beaches were reported\n",
        "beach_attr_df[\"Year\"].unique()"
      ],
      "metadata": {
        "colab": {
          "base_uri": "https://localhost:8080/"
        },
        "id": "ac_kTXQ309Ah",
        "outputId": "53c63d52-27d9-46c6-8bc0-1c1508e6adef"
      },
      "execution_count": 7,
      "outputs": [
        {
          "output_type": "execute_result",
          "data": {
            "text/plain": [
              "array([2022, 2021, 2020, 2019, 2018, 2017, 2016, 2015, 2014, 2013, 2012,\n",
              "       2011, 2010, 2009, 2008, 2007])"
            ]
          },
          "metadata": {},
          "execution_count": 7
        }
      ]
    },
    {
      "cell_type": "code",
      "source": [
        "# Create a list of columns that should be dropped, columns that have the same value\n",
        "beach_attr_columns_to_drop = beach_attr_df.nunique()[beach_attr_df.nunique()==1].index\n",
        "beach_attr_columns_to_drop"
      ],
      "metadata": {
        "colab": {
          "base_uri": "https://localhost:8080/"
        },
        "id": "hQtHgjW91foB",
        "outputId": "90f3b29e-d5fb-4d60-a091-1b9bdccf86ce"
      },
      "execution_count": 8,
      "outputs": [
        {
          "output_type": "execute_result",
          "data": {
            "text/plain": [
              "Index(['State', 'County', 'Beach Ownership/Beach Accessibility ',\n",
              "       'Waterbody Name', 'AdvisoryReportingFrequency(to EPA)',\n",
              "       'AdvisoryReportingFrequencyUnits'],\n",
              "      dtype='object')"
            ]
          },
          "metadata": {},
          "execution_count": 8
        }
      ]
    },
    {
      "cell_type": "code",
      "source": [
        "# Drop the same value columns\n",
        "beach_attr_df.drop(beach_attr_columns_to_drop,1,inplace=True)\n",
        "beach_attr_df.head(2)"
      ],
      "metadata": {
        "colab": {
          "base_uri": "https://localhost:8080/",
          "height": 168
        },
        "id": "-0tLfEAK2ls4",
        "outputId": "ae3f61ce-5aef-4417-80a7-53fd733eb49b"
      },
      "execution_count": 9,
      "outputs": [
        {
          "output_type": "stream",
          "name": "stderr",
          "text": [
            "/usr/local/lib/python3.7/dist-packages/ipykernel_launcher.py:2: FutureWarning: In a future version of pandas all arguments of DataFrame.drop except for the argument 'labels' will be keyword-only\n",
            "  \n"
          ]
        },
        {
          "output_type": "execute_result",
          "data": {
            "text/plain": [
              "   Year  Beach ID Beach Name  BeachLength (Mi)  Tier  Start Latitude  \\\n",
              "0  2022  TX710697   25th St.              1.80     1       29.298146   \n",
              "1  2022  TX214299   45th St.              1.55     1       29.284667   \n",
              "\n",
              "   Start Longitude  End Latitude  End Longitude Waterbody Type  \n",
              "0       -94.777565     29.284662     -94.794776     Open Coast  \n",
              "1       -94.794770     29.271917     -94.815865     Open Coast  "
            ],
            "text/html": [
              "\n",
              "  <div id=\"df-a494e2be-cd09-4aeb-bb25-7b62bdb51492\">\n",
              "    <div class=\"colab-df-container\">\n",
              "      <div>\n",
              "<style scoped>\n",
              "    .dataframe tbody tr th:only-of-type {\n",
              "        vertical-align: middle;\n",
              "    }\n",
              "\n",
              "    .dataframe tbody tr th {\n",
              "        vertical-align: top;\n",
              "    }\n",
              "\n",
              "    .dataframe thead th {\n",
              "        text-align: right;\n",
              "    }\n",
              "</style>\n",
              "<table border=\"1\" class=\"dataframe\">\n",
              "  <thead>\n",
              "    <tr style=\"text-align: right;\">\n",
              "      <th></th>\n",
              "      <th>Year</th>\n",
              "      <th>Beach ID</th>\n",
              "      <th>Beach Name</th>\n",
              "      <th>BeachLength (Mi)</th>\n",
              "      <th>Tier</th>\n",
              "      <th>Start Latitude</th>\n",
              "      <th>Start Longitude</th>\n",
              "      <th>End Latitude</th>\n",
              "      <th>End Longitude</th>\n",
              "      <th>Waterbody Type</th>\n",
              "    </tr>\n",
              "  </thead>\n",
              "  <tbody>\n",
              "    <tr>\n",
              "      <th>0</th>\n",
              "      <td>2022</td>\n",
              "      <td>TX710697</td>\n",
              "      <td>25th St.</td>\n",
              "      <td>1.80</td>\n",
              "      <td>1</td>\n",
              "      <td>29.298146</td>\n",
              "      <td>-94.777565</td>\n",
              "      <td>29.284662</td>\n",
              "      <td>-94.794776</td>\n",
              "      <td>Open Coast</td>\n",
              "    </tr>\n",
              "    <tr>\n",
              "      <th>1</th>\n",
              "      <td>2022</td>\n",
              "      <td>TX214299</td>\n",
              "      <td>45th St.</td>\n",
              "      <td>1.55</td>\n",
              "      <td>1</td>\n",
              "      <td>29.284667</td>\n",
              "      <td>-94.794770</td>\n",
              "      <td>29.271917</td>\n",
              "      <td>-94.815865</td>\n",
              "      <td>Open Coast</td>\n",
              "    </tr>\n",
              "  </tbody>\n",
              "</table>\n",
              "</div>\n",
              "      <button class=\"colab-df-convert\" onclick=\"convertToInteractive('df-a494e2be-cd09-4aeb-bb25-7b62bdb51492')\"\n",
              "              title=\"Convert this dataframe to an interactive table.\"\n",
              "              style=\"display:none;\">\n",
              "        \n",
              "  <svg xmlns=\"http://www.w3.org/2000/svg\" height=\"24px\"viewBox=\"0 0 24 24\"\n",
              "       width=\"24px\">\n",
              "    <path d=\"M0 0h24v24H0V0z\" fill=\"none\"/>\n",
              "    <path d=\"M18.56 5.44l.94 2.06.94-2.06 2.06-.94-2.06-.94-.94-2.06-.94 2.06-2.06.94zm-11 1L8.5 8.5l.94-2.06 2.06-.94-2.06-.94L8.5 2.5l-.94 2.06-2.06.94zm10 10l.94 2.06.94-2.06 2.06-.94-2.06-.94-.94-2.06-.94 2.06-2.06.94z\"/><path d=\"M17.41 7.96l-1.37-1.37c-.4-.4-.92-.59-1.43-.59-.52 0-1.04.2-1.43.59L10.3 9.45l-7.72 7.72c-.78.78-.78 2.05 0 2.83L4 21.41c.39.39.9.59 1.41.59.51 0 1.02-.2 1.41-.59l7.78-7.78 2.81-2.81c.8-.78.8-2.07 0-2.86zM5.41 20L4 18.59l7.72-7.72 1.47 1.35L5.41 20z\"/>\n",
              "  </svg>\n",
              "      </button>\n",
              "      \n",
              "  <style>\n",
              "    .colab-df-container {\n",
              "      display:flex;\n",
              "      flex-wrap:wrap;\n",
              "      gap: 12px;\n",
              "    }\n",
              "\n",
              "    .colab-df-convert {\n",
              "      background-color: #E8F0FE;\n",
              "      border: none;\n",
              "      border-radius: 50%;\n",
              "      cursor: pointer;\n",
              "      display: none;\n",
              "      fill: #1967D2;\n",
              "      height: 32px;\n",
              "      padding: 0 0 0 0;\n",
              "      width: 32px;\n",
              "    }\n",
              "\n",
              "    .colab-df-convert:hover {\n",
              "      background-color: #E2EBFA;\n",
              "      box-shadow: 0px 1px 2px rgba(60, 64, 67, 0.3), 0px 1px 3px 1px rgba(60, 64, 67, 0.15);\n",
              "      fill: #174EA6;\n",
              "    }\n",
              "\n",
              "    [theme=dark] .colab-df-convert {\n",
              "      background-color: #3B4455;\n",
              "      fill: #D2E3FC;\n",
              "    }\n",
              "\n",
              "    [theme=dark] .colab-df-convert:hover {\n",
              "      background-color: #434B5C;\n",
              "      box-shadow: 0px 1px 3px 1px rgba(0, 0, 0, 0.15);\n",
              "      filter: drop-shadow(0px 1px 2px rgba(0, 0, 0, 0.3));\n",
              "      fill: #FFFFFF;\n",
              "    }\n",
              "  </style>\n",
              "\n",
              "      <script>\n",
              "        const buttonEl =\n",
              "          document.querySelector('#df-a494e2be-cd09-4aeb-bb25-7b62bdb51492 button.colab-df-convert');\n",
              "        buttonEl.style.display =\n",
              "          google.colab.kernel.accessAllowed ? 'block' : 'none';\n",
              "\n",
              "        async function convertToInteractive(key) {\n",
              "          const element = document.querySelector('#df-a494e2be-cd09-4aeb-bb25-7b62bdb51492');\n",
              "          const dataTable =\n",
              "            await google.colab.kernel.invokeFunction('convertToInteractive',\n",
              "                                                     [key], {});\n",
              "          if (!dataTable) return;\n",
              "\n",
              "          const docLinkHtml = 'Like what you see? Visit the ' +\n",
              "            '<a target=\"_blank\" href=https://colab.research.google.com/notebooks/data_table.ipynb>data table notebook</a>'\n",
              "            + ' to learn more about interactive tables.';\n",
              "          element.innerHTML = '';\n",
              "          dataTable['output_type'] = 'display_data';\n",
              "          await google.colab.output.renderOutput(dataTable, element);\n",
              "          const docLink = document.createElement('div');\n",
              "          docLink.innerHTML = docLinkHtml;\n",
              "          element.appendChild(docLink);\n",
              "        }\n",
              "      </script>\n",
              "    </div>\n",
              "  </div>\n",
              "  "
            ]
          },
          "metadata": {},
          "execution_count": 9
        }
      ]
    },
    {
      "cell_type": "code",
      "source": [
        "# Reporting beaches are added again each year, so drop year. we only care about the beach information\n",
        "beach_attr_df.drop(\"Year\",1,inplace=True)\n",
        "\n"
      ],
      "metadata": {
        "colab": {
          "base_uri": "https://localhost:8080/"
        },
        "id": "4QmfhXpl3NSf",
        "outputId": "21bc0c77-7a9f-427a-9fe3-53efd1bfdc59"
      },
      "execution_count": 10,
      "outputs": [
        {
          "output_type": "stream",
          "name": "stderr",
          "text": [
            "/usr/local/lib/python3.7/dist-packages/ipykernel_launcher.py:2: FutureWarning: In a future version of pandas all arguments of DataFrame.drop except for the argument 'labels' will be keyword-only\n",
            "  \n"
          ]
        }
      ]
    },
    {
      "cell_type": "code",
      "source": [
        "# Determine the size and shape of the current dataframe after the year drop\n",
        "print(beach_attr_df.shape)\n",
        "beach_attr_df.head(2)"
      ],
      "metadata": {
        "colab": {
          "base_uri": "https://localhost:8080/",
          "height": 130
        },
        "id": "X-2L3vUR3jBX",
        "outputId": "849662ae-bf36-46f2-d409-e542239ac684"
      },
      "execution_count": 11,
      "outputs": [
        {
          "output_type": "stream",
          "name": "stdout",
          "text": [
            "(544, 9)\n"
          ]
        },
        {
          "output_type": "execute_result",
          "data": {
            "text/plain": [
              "   Beach ID Beach Name  BeachLength (Mi)  Tier  Start Latitude  \\\n",
              "0  TX710697   25th St.              1.80     1       29.298146   \n",
              "1  TX214299   45th St.              1.55     1       29.284667   \n",
              "\n",
              "   Start Longitude  End Latitude  End Longitude Waterbody Type  \n",
              "0       -94.777565     29.284662     -94.794776     Open Coast  \n",
              "1       -94.794770     29.271917     -94.815865     Open Coast  "
            ],
            "text/html": [
              "\n",
              "  <div id=\"df-77a0ae54-1f55-4155-8c3e-f8cae4ecc019\">\n",
              "    <div class=\"colab-df-container\">\n",
              "      <div>\n",
              "<style scoped>\n",
              "    .dataframe tbody tr th:only-of-type {\n",
              "        vertical-align: middle;\n",
              "    }\n",
              "\n",
              "    .dataframe tbody tr th {\n",
              "        vertical-align: top;\n",
              "    }\n",
              "\n",
              "    .dataframe thead th {\n",
              "        text-align: right;\n",
              "    }\n",
              "</style>\n",
              "<table border=\"1\" class=\"dataframe\">\n",
              "  <thead>\n",
              "    <tr style=\"text-align: right;\">\n",
              "      <th></th>\n",
              "      <th>Beach ID</th>\n",
              "      <th>Beach Name</th>\n",
              "      <th>BeachLength (Mi)</th>\n",
              "      <th>Tier</th>\n",
              "      <th>Start Latitude</th>\n",
              "      <th>Start Longitude</th>\n",
              "      <th>End Latitude</th>\n",
              "      <th>End Longitude</th>\n",
              "      <th>Waterbody Type</th>\n",
              "    </tr>\n",
              "  </thead>\n",
              "  <tbody>\n",
              "    <tr>\n",
              "      <th>0</th>\n",
              "      <td>TX710697</td>\n",
              "      <td>25th St.</td>\n",
              "      <td>1.80</td>\n",
              "      <td>1</td>\n",
              "      <td>29.298146</td>\n",
              "      <td>-94.777565</td>\n",
              "      <td>29.284662</td>\n",
              "      <td>-94.794776</td>\n",
              "      <td>Open Coast</td>\n",
              "    </tr>\n",
              "    <tr>\n",
              "      <th>1</th>\n",
              "      <td>TX214299</td>\n",
              "      <td>45th St.</td>\n",
              "      <td>1.55</td>\n",
              "      <td>1</td>\n",
              "      <td>29.284667</td>\n",
              "      <td>-94.794770</td>\n",
              "      <td>29.271917</td>\n",
              "      <td>-94.815865</td>\n",
              "      <td>Open Coast</td>\n",
              "    </tr>\n",
              "  </tbody>\n",
              "</table>\n",
              "</div>\n",
              "      <button class=\"colab-df-convert\" onclick=\"convertToInteractive('df-77a0ae54-1f55-4155-8c3e-f8cae4ecc019')\"\n",
              "              title=\"Convert this dataframe to an interactive table.\"\n",
              "              style=\"display:none;\">\n",
              "        \n",
              "  <svg xmlns=\"http://www.w3.org/2000/svg\" height=\"24px\"viewBox=\"0 0 24 24\"\n",
              "       width=\"24px\">\n",
              "    <path d=\"M0 0h24v24H0V0z\" fill=\"none\"/>\n",
              "    <path d=\"M18.56 5.44l.94 2.06.94-2.06 2.06-.94-2.06-.94-.94-2.06-.94 2.06-2.06.94zm-11 1L8.5 8.5l.94-2.06 2.06-.94-2.06-.94L8.5 2.5l-.94 2.06-2.06.94zm10 10l.94 2.06.94-2.06 2.06-.94-2.06-.94-.94-2.06-.94 2.06-2.06.94z\"/><path d=\"M17.41 7.96l-1.37-1.37c-.4-.4-.92-.59-1.43-.59-.52 0-1.04.2-1.43.59L10.3 9.45l-7.72 7.72c-.78.78-.78 2.05 0 2.83L4 21.41c.39.39.9.59 1.41.59.51 0 1.02-.2 1.41-.59l7.78-7.78 2.81-2.81c.8-.78.8-2.07 0-2.86zM5.41 20L4 18.59l7.72-7.72 1.47 1.35L5.41 20z\"/>\n",
              "  </svg>\n",
              "      </button>\n",
              "      \n",
              "  <style>\n",
              "    .colab-df-container {\n",
              "      display:flex;\n",
              "      flex-wrap:wrap;\n",
              "      gap: 12px;\n",
              "    }\n",
              "\n",
              "    .colab-df-convert {\n",
              "      background-color: #E8F0FE;\n",
              "      border: none;\n",
              "      border-radius: 50%;\n",
              "      cursor: pointer;\n",
              "      display: none;\n",
              "      fill: #1967D2;\n",
              "      height: 32px;\n",
              "      padding: 0 0 0 0;\n",
              "      width: 32px;\n",
              "    }\n",
              "\n",
              "    .colab-df-convert:hover {\n",
              "      background-color: #E2EBFA;\n",
              "      box-shadow: 0px 1px 2px rgba(60, 64, 67, 0.3), 0px 1px 3px 1px rgba(60, 64, 67, 0.15);\n",
              "      fill: #174EA6;\n",
              "    }\n",
              "\n",
              "    [theme=dark] .colab-df-convert {\n",
              "      background-color: #3B4455;\n",
              "      fill: #D2E3FC;\n",
              "    }\n",
              "\n",
              "    [theme=dark] .colab-df-convert:hover {\n",
              "      background-color: #434B5C;\n",
              "      box-shadow: 0px 1px 3px 1px rgba(0, 0, 0, 0.15);\n",
              "      filter: drop-shadow(0px 1px 2px rgba(0, 0, 0, 0.3));\n",
              "      fill: #FFFFFF;\n",
              "    }\n",
              "  </style>\n",
              "\n",
              "      <script>\n",
              "        const buttonEl =\n",
              "          document.querySelector('#df-77a0ae54-1f55-4155-8c3e-f8cae4ecc019 button.colab-df-convert');\n",
              "        buttonEl.style.display =\n",
              "          google.colab.kernel.accessAllowed ? 'block' : 'none';\n",
              "\n",
              "        async function convertToInteractive(key) {\n",
              "          const element = document.querySelector('#df-77a0ae54-1f55-4155-8c3e-f8cae4ecc019');\n",
              "          const dataTable =\n",
              "            await google.colab.kernel.invokeFunction('convertToInteractive',\n",
              "                                                     [key], {});\n",
              "          if (!dataTable) return;\n",
              "\n",
              "          const docLinkHtml = 'Like what you see? Visit the ' +\n",
              "            '<a target=\"_blank\" href=https://colab.research.google.com/notebooks/data_table.ipynb>data table notebook</a>'\n",
              "            + ' to learn more about interactive tables.';\n",
              "          element.innerHTML = '';\n",
              "          dataTable['output_type'] = 'display_data';\n",
              "          await google.colab.output.renderOutput(dataTable, element);\n",
              "          const docLink = document.createElement('div');\n",
              "          docLink.innerHTML = docLinkHtml;\n",
              "          element.appendChild(docLink);\n",
              "        }\n",
              "      </script>\n",
              "    </div>\n",
              "  </div>\n",
              "  "
            ]
          },
          "metadata": {},
          "execution_count": 11
        }
      ]
    },
    {
      "cell_type": "code",
      "source": [
        "# Now that year is gone, we can drop the duplicate rows, and should only have the unique beaches left\n",
        "beach_attr_df.drop_duplicates(inplace=True)\n",
        "beach_attr_df.shape"
      ],
      "metadata": {
        "colab": {
          "base_uri": "https://localhost:8080/"
        },
        "id": "DSig8dnd34w3",
        "outputId": "5f3cb961-398e-42e9-98b6-2f7955c53b8c"
      },
      "execution_count": 12,
      "outputs": [
        {
          "output_type": "execute_result",
          "data": {
            "text/plain": [
              "(71, 9)"
            ]
          },
          "metadata": {},
          "execution_count": 12
        }
      ]
    },
    {
      "cell_type": "code",
      "source": [
        "# There are 71 rows of data, but there are only 36 beaches on Galveston Island! Something is wrong!\n",
        "len(beach_attr_df[\"Beach ID\"].unique())"
      ],
      "metadata": {
        "colab": {
          "base_uri": "https://localhost:8080/"
        },
        "id": "Y9Q0xoNZ4Co3",
        "outputId": "e3b7ac87-d7d1-4682-e4e5-f26bebf1e5f2"
      },
      "execution_count": 13,
      "outputs": [
        {
          "output_type": "execute_result",
          "data": {
            "text/plain": [
              "36"
            ]
          },
          "metadata": {},
          "execution_count": 13
        }
      ]
    },
    {
      "cell_type": "code",
      "source": [
        "# Count how often a unique beach ID appears in the current data frame\n",
        "beach_attr_df[\"Beach ID\"].value_counts()"
      ],
      "metadata": {
        "colab": {
          "base_uri": "https://localhost:8080/"
        },
        "id": "FelwNQAW4UE2",
        "outputId": "522b5324-a636-4fc1-8d42-41d783aa27af"
      },
      "execution_count": 14,
      "outputs": [
        {
          "output_type": "execute_result",
          "data": {
            "text/plain": [
              "TX710697    2\n",
              "TX822495    2\n",
              "TX974690    2\n",
              "TX669225    2\n",
              "TX751320    2\n",
              "TX832087    2\n",
              "TX284256    2\n",
              "TX341767    2\n",
              "TX767833    2\n",
              "TX593160    2\n",
              "TX236175    2\n",
              "TX406100    2\n",
              "TX650612    2\n",
              "TX163187    2\n",
              "TX451421    2\n",
              "TX164090    2\n",
              "TX239942    2\n",
              "TX272864    2\n",
              "TX168454    2\n",
              "TX669733    2\n",
              "TX486021    2\n",
              "TX327206    2\n",
              "TX940700    2\n",
              "TX972853    2\n",
              "TX392019    2\n",
              "TX393353    2\n",
              "TX981462    2\n",
              "TX426780    2\n",
              "TX795287    2\n",
              "TX334226    2\n",
              "TX226514    2\n",
              "TX568423    2\n",
              "TX122528    2\n",
              "TX860495    2\n",
              "TX632189    2\n",
              "TX214299    1\n",
              "Name: Beach ID, dtype: int64"
            ]
          },
          "metadata": {},
          "execution_count": 14
        }
      ]
    },
    {
      "cell_type": "code",
      "source": [
        "# Many beaches are still appearing twice in the data, why? Filter and display one beach ID to determine what is going on\n",
        "beach_attr_df[beach_attr_df[\"Beach ID\"]==\"TX710697\"]"
      ],
      "metadata": {
        "colab": {
          "base_uri": "https://localhost:8080/",
          "height": 112
        },
        "id": "lDx8fYoL4ho3",
        "outputId": "2b6ad701-f69e-4eea-cff0-1927afa957c5"
      },
      "execution_count": 15,
      "outputs": [
        {
          "output_type": "execute_result",
          "data": {
            "text/plain": [
              "     Beach ID Beach Name  BeachLength (Mi)  Tier  Start Latitude  \\\n",
              "0    TX710697   25th St.             1.800     1       29.298146   \n",
              "468  TX710697   25th St.             1.396     1       29.298146   \n",
              "\n",
              "     Start Longitude  End Latitude  End Longitude Waterbody Type  \n",
              "0         -94.777565     29.284662     -94.794776     Open Coast  \n",
              "468       -94.777565     29.284662     -94.794776     Open Coast  "
            ],
            "text/html": [
              "\n",
              "  <div id=\"df-46ce9f23-45eb-4d65-8bb9-bc6fd146050a\">\n",
              "    <div class=\"colab-df-container\">\n",
              "      <div>\n",
              "<style scoped>\n",
              "    .dataframe tbody tr th:only-of-type {\n",
              "        vertical-align: middle;\n",
              "    }\n",
              "\n",
              "    .dataframe tbody tr th {\n",
              "        vertical-align: top;\n",
              "    }\n",
              "\n",
              "    .dataframe thead th {\n",
              "        text-align: right;\n",
              "    }\n",
              "</style>\n",
              "<table border=\"1\" class=\"dataframe\">\n",
              "  <thead>\n",
              "    <tr style=\"text-align: right;\">\n",
              "      <th></th>\n",
              "      <th>Beach ID</th>\n",
              "      <th>Beach Name</th>\n",
              "      <th>BeachLength (Mi)</th>\n",
              "      <th>Tier</th>\n",
              "      <th>Start Latitude</th>\n",
              "      <th>Start Longitude</th>\n",
              "      <th>End Latitude</th>\n",
              "      <th>End Longitude</th>\n",
              "      <th>Waterbody Type</th>\n",
              "    </tr>\n",
              "  </thead>\n",
              "  <tbody>\n",
              "    <tr>\n",
              "      <th>0</th>\n",
              "      <td>TX710697</td>\n",
              "      <td>25th St.</td>\n",
              "      <td>1.800</td>\n",
              "      <td>1</td>\n",
              "      <td>29.298146</td>\n",
              "      <td>-94.777565</td>\n",
              "      <td>29.284662</td>\n",
              "      <td>-94.794776</td>\n",
              "      <td>Open Coast</td>\n",
              "    </tr>\n",
              "    <tr>\n",
              "      <th>468</th>\n",
              "      <td>TX710697</td>\n",
              "      <td>25th St.</td>\n",
              "      <td>1.396</td>\n",
              "      <td>1</td>\n",
              "      <td>29.298146</td>\n",
              "      <td>-94.777565</td>\n",
              "      <td>29.284662</td>\n",
              "      <td>-94.794776</td>\n",
              "      <td>Open Coast</td>\n",
              "    </tr>\n",
              "  </tbody>\n",
              "</table>\n",
              "</div>\n",
              "      <button class=\"colab-df-convert\" onclick=\"convertToInteractive('df-46ce9f23-45eb-4d65-8bb9-bc6fd146050a')\"\n",
              "              title=\"Convert this dataframe to an interactive table.\"\n",
              "              style=\"display:none;\">\n",
              "        \n",
              "  <svg xmlns=\"http://www.w3.org/2000/svg\" height=\"24px\"viewBox=\"0 0 24 24\"\n",
              "       width=\"24px\">\n",
              "    <path d=\"M0 0h24v24H0V0z\" fill=\"none\"/>\n",
              "    <path d=\"M18.56 5.44l.94 2.06.94-2.06 2.06-.94-2.06-.94-.94-2.06-.94 2.06-2.06.94zm-11 1L8.5 8.5l.94-2.06 2.06-.94-2.06-.94L8.5 2.5l-.94 2.06-2.06.94zm10 10l.94 2.06.94-2.06 2.06-.94-2.06-.94-.94-2.06-.94 2.06-2.06.94z\"/><path d=\"M17.41 7.96l-1.37-1.37c-.4-.4-.92-.59-1.43-.59-.52 0-1.04.2-1.43.59L10.3 9.45l-7.72 7.72c-.78.78-.78 2.05 0 2.83L4 21.41c.39.39.9.59 1.41.59.51 0 1.02-.2 1.41-.59l7.78-7.78 2.81-2.81c.8-.78.8-2.07 0-2.86zM5.41 20L4 18.59l7.72-7.72 1.47 1.35L5.41 20z\"/>\n",
              "  </svg>\n",
              "      </button>\n",
              "      \n",
              "  <style>\n",
              "    .colab-df-container {\n",
              "      display:flex;\n",
              "      flex-wrap:wrap;\n",
              "      gap: 12px;\n",
              "    }\n",
              "\n",
              "    .colab-df-convert {\n",
              "      background-color: #E8F0FE;\n",
              "      border: none;\n",
              "      border-radius: 50%;\n",
              "      cursor: pointer;\n",
              "      display: none;\n",
              "      fill: #1967D2;\n",
              "      height: 32px;\n",
              "      padding: 0 0 0 0;\n",
              "      width: 32px;\n",
              "    }\n",
              "\n",
              "    .colab-df-convert:hover {\n",
              "      background-color: #E2EBFA;\n",
              "      box-shadow: 0px 1px 2px rgba(60, 64, 67, 0.3), 0px 1px 3px 1px rgba(60, 64, 67, 0.15);\n",
              "      fill: #174EA6;\n",
              "    }\n",
              "\n",
              "    [theme=dark] .colab-df-convert {\n",
              "      background-color: #3B4455;\n",
              "      fill: #D2E3FC;\n",
              "    }\n",
              "\n",
              "    [theme=dark] .colab-df-convert:hover {\n",
              "      background-color: #434B5C;\n",
              "      box-shadow: 0px 1px 3px 1px rgba(0, 0, 0, 0.15);\n",
              "      filter: drop-shadow(0px 1px 2px rgba(0, 0, 0, 0.3));\n",
              "      fill: #FFFFFF;\n",
              "    }\n",
              "  </style>\n",
              "\n",
              "      <script>\n",
              "        const buttonEl =\n",
              "          document.querySelector('#df-46ce9f23-45eb-4d65-8bb9-bc6fd146050a button.colab-df-convert');\n",
              "        buttonEl.style.display =\n",
              "          google.colab.kernel.accessAllowed ? 'block' : 'none';\n",
              "\n",
              "        async function convertToInteractive(key) {\n",
              "          const element = document.querySelector('#df-46ce9f23-45eb-4d65-8bb9-bc6fd146050a');\n",
              "          const dataTable =\n",
              "            await google.colab.kernel.invokeFunction('convertToInteractive',\n",
              "                                                     [key], {});\n",
              "          if (!dataTable) return;\n",
              "\n",
              "          const docLinkHtml = 'Like what you see? Visit the ' +\n",
              "            '<a target=\"_blank\" href=https://colab.research.google.com/notebooks/data_table.ipynb>data table notebook</a>'\n",
              "            + ' to learn more about interactive tables.';\n",
              "          element.innerHTML = '';\n",
              "          dataTable['output_type'] = 'display_data';\n",
              "          await google.colab.output.renderOutput(dataTable, element);\n",
              "          const docLink = document.createElement('div');\n",
              "          docLink.innerHTML = docLinkHtml;\n",
              "          element.appendChild(docLink);\n",
              "        }\n",
              "      </script>\n",
              "    </div>\n",
              "  </div>\n",
              "  "
            ]
          },
          "metadata": {},
          "execution_count": 15
        }
      ]
    },
    {
      "cell_type": "code",
      "source": [
        "# The beach that is returned is the beach on 25th Street. Upon inspection, all the data is the same except for the BeachLength column. Fix this by dropping the beachlengthy, beaches should be the same length year after year\n",
        "beach_attr_df.drop(\"BeachLength (Mi)\",1,inplace=True)"
      ],
      "metadata": {
        "colab": {
          "base_uri": "https://localhost:8080/"
        },
        "id": "V4RZgyXh46Q_",
        "outputId": "100b3c78-5313-4a9f-8273-f590a5edcafb"
      },
      "execution_count": 16,
      "outputs": [
        {
          "output_type": "stream",
          "name": "stderr",
          "text": [
            "/usr/local/lib/python3.7/dist-packages/ipykernel_launcher.py:2: FutureWarning: In a future version of pandas all arguments of DataFrame.drop except for the argument 'labels' will be keyword-only\n",
            "  \n"
          ]
        }
      ]
    },
    {
      "cell_type": "code",
      "source": [
        "# Now that beachlength is dropped, the data should not have duplicates. Run drop_duplicates to remove the repeated rows of data\n",
        "beach_attr_df.drop_duplicates(inplace=True)"
      ],
      "metadata": {
        "id": "nkfTzL5r5VHu"
      },
      "execution_count": 17,
      "outputs": []
    },
    {
      "cell_type": "code",
      "source": [
        "# Now verify that each Beach ID only has one record\n",
        "beach_attr_df[\"Beach ID\"].value_counts()"
      ],
      "metadata": {
        "colab": {
          "base_uri": "https://localhost:8080/"
        },
        "id": "AUzoyCy85rnX",
        "outputId": "644646bc-441b-40dd-b688-f21c234acd8c"
      },
      "execution_count": 18,
      "outputs": [
        {
          "output_type": "execute_result",
          "data": {
            "text/plain": [
              "TX710697    1\n",
              "TX214299    1\n",
              "TX239942    1\n",
              "TX974690    1\n",
              "TX669225    1\n",
              "TX751320    1\n",
              "TX832087    1\n",
              "TX284256    1\n",
              "TX341767    1\n",
              "TX822495    1\n",
              "TX767833    1\n",
              "TX236175    1\n",
              "TX406100    1\n",
              "TX650612    1\n",
              "TX163187    1\n",
              "TX451421    1\n",
              "TX164090    1\n",
              "TX593160    1\n",
              "TX272864    1\n",
              "TX669733    1\n",
              "TX981462    1\n",
              "TX486021    1\n",
              "TX327206    1\n",
              "TX940700    1\n",
              "TX972853    1\n",
              "TX392019    1\n",
              "TX393353    1\n",
              "TX168454    1\n",
              "TX632189    1\n",
              "TX795287    1\n",
              "TX334226    1\n",
              "TX226514    1\n",
              "TX568423    1\n",
              "TX122528    1\n",
              "TX860495    1\n",
              "TX426780    1\n",
              "Name: Beach ID, dtype: int64"
            ]
          },
          "metadata": {},
          "execution_count": 18
        }
      ]
    },
    {
      "cell_type": "code",
      "source": [
        "# Check uniqueness of remaining columns\n",
        "beach_attr_df.nunique()"
      ],
      "metadata": {
        "colab": {
          "base_uri": "https://localhost:8080/"
        },
        "id": "YYwygiry6CL-",
        "outputId": "33ea668a-c058-4d79-e61b-41e747fb68ef"
      },
      "execution_count": 19,
      "outputs": [
        {
          "output_type": "execute_result",
          "data": {
            "text/plain": [
              "Beach ID           36\n",
              "Beach Name         36\n",
              "Tier                3\n",
              "Start Latitude     36\n",
              "Start Longitude    36\n",
              "End Latitude       36\n",
              "End Longitude      36\n",
              "Waterbody Type      2\n",
              "dtype: int64"
            ]
          },
          "metadata": {},
          "execution_count": 19
        }
      ]
    },
    {
      "cell_type": "code",
      "source": [
        "# Need to look up what is a Tier 1, 2, 3 beach. Print out the counts of the beach below\n",
        "beach_attr_df[\"Tier\"].value_counts()"
      ],
      "metadata": {
        "colab": {
          "base_uri": "https://localhost:8080/"
        },
        "id": "CZEcvige6SKQ",
        "outputId": "0f6f3be8-c3b1-4c75-b461-331171a33a4a"
      },
      "execution_count": 20,
      "outputs": [
        {
          "output_type": "execute_result",
          "data": {
            "text/plain": [
              "1    23\n",
              "2     7\n",
              "3     6\n",
              "Name: Tier, dtype: int64"
            ]
          },
          "metadata": {},
          "execution_count": 20
        }
      ]
    },
    {
      "cell_type": "code",
      "source": [
        "# Check the number of different water types and what are they\n",
        "beach_attr_df[\"Waterbody Type\"].value_counts()"
      ],
      "metadata": {
        "colab": {
          "base_uri": "https://localhost:8080/"
        },
        "id": "1aiO8gn_6dQO",
        "outputId": "4ba7f8e4-8fdf-40e3-e42e-93b2260d3e10"
      },
      "execution_count": 21,
      "outputs": [
        {
          "output_type": "execute_result",
          "data": {
            "text/plain": [
              "Open Coast              31\n",
              "Sound, Bay, or Inlet     5\n",
              "Name: Waterbody Type, dtype: int64"
            ]
          },
          "metadata": {},
          "execution_count": 21
        }
      ]
    },
    {
      "cell_type": "code",
      "source": [
        "# Final table for load into a database. For database load, change column names, check data types match SQL data types, load into database table\n",
        "beach_attr_df.head(2)"
      ],
      "metadata": {
        "colab": {
          "base_uri": "https://localhost:8080/",
          "height": 112
        },
        "id": "nKhANTpV7ai3",
        "outputId": "e3a0eb5a-902a-47a9-9d45-81d9030da232"
      },
      "execution_count": 22,
      "outputs": [
        {
          "output_type": "execute_result",
          "data": {
            "text/plain": [
              "   Beach ID Beach Name  Tier  Start Latitude  Start Longitude  End Latitude  \\\n",
              "0  TX710697   25th St.     1       29.298146       -94.777565     29.284662   \n",
              "1  TX214299   45th St.     1       29.284667       -94.794770     29.271917   \n",
              "\n",
              "   End Longitude Waterbody Type  \n",
              "0     -94.794776     Open Coast  \n",
              "1     -94.815865     Open Coast  "
            ],
            "text/html": [
              "\n",
              "  <div id=\"df-a84a075c-31e7-41cc-b72b-55f1441112ad\">\n",
              "    <div class=\"colab-df-container\">\n",
              "      <div>\n",
              "<style scoped>\n",
              "    .dataframe tbody tr th:only-of-type {\n",
              "        vertical-align: middle;\n",
              "    }\n",
              "\n",
              "    .dataframe tbody tr th {\n",
              "        vertical-align: top;\n",
              "    }\n",
              "\n",
              "    .dataframe thead th {\n",
              "        text-align: right;\n",
              "    }\n",
              "</style>\n",
              "<table border=\"1\" class=\"dataframe\">\n",
              "  <thead>\n",
              "    <tr style=\"text-align: right;\">\n",
              "      <th></th>\n",
              "      <th>Beach ID</th>\n",
              "      <th>Beach Name</th>\n",
              "      <th>Tier</th>\n",
              "      <th>Start Latitude</th>\n",
              "      <th>Start Longitude</th>\n",
              "      <th>End Latitude</th>\n",
              "      <th>End Longitude</th>\n",
              "      <th>Waterbody Type</th>\n",
              "    </tr>\n",
              "  </thead>\n",
              "  <tbody>\n",
              "    <tr>\n",
              "      <th>0</th>\n",
              "      <td>TX710697</td>\n",
              "      <td>25th St.</td>\n",
              "      <td>1</td>\n",
              "      <td>29.298146</td>\n",
              "      <td>-94.777565</td>\n",
              "      <td>29.284662</td>\n",
              "      <td>-94.794776</td>\n",
              "      <td>Open Coast</td>\n",
              "    </tr>\n",
              "    <tr>\n",
              "      <th>1</th>\n",
              "      <td>TX214299</td>\n",
              "      <td>45th St.</td>\n",
              "      <td>1</td>\n",
              "      <td>29.284667</td>\n",
              "      <td>-94.794770</td>\n",
              "      <td>29.271917</td>\n",
              "      <td>-94.815865</td>\n",
              "      <td>Open Coast</td>\n",
              "    </tr>\n",
              "  </tbody>\n",
              "</table>\n",
              "</div>\n",
              "      <button class=\"colab-df-convert\" onclick=\"convertToInteractive('df-a84a075c-31e7-41cc-b72b-55f1441112ad')\"\n",
              "              title=\"Convert this dataframe to an interactive table.\"\n",
              "              style=\"display:none;\">\n",
              "        \n",
              "  <svg xmlns=\"http://www.w3.org/2000/svg\" height=\"24px\"viewBox=\"0 0 24 24\"\n",
              "       width=\"24px\">\n",
              "    <path d=\"M0 0h24v24H0V0z\" fill=\"none\"/>\n",
              "    <path d=\"M18.56 5.44l.94 2.06.94-2.06 2.06-.94-2.06-.94-.94-2.06-.94 2.06-2.06.94zm-11 1L8.5 8.5l.94-2.06 2.06-.94-2.06-.94L8.5 2.5l-.94 2.06-2.06.94zm10 10l.94 2.06.94-2.06 2.06-.94-2.06-.94-.94-2.06-.94 2.06-2.06.94z\"/><path d=\"M17.41 7.96l-1.37-1.37c-.4-.4-.92-.59-1.43-.59-.52 0-1.04.2-1.43.59L10.3 9.45l-7.72 7.72c-.78.78-.78 2.05 0 2.83L4 21.41c.39.39.9.59 1.41.59.51 0 1.02-.2 1.41-.59l7.78-7.78 2.81-2.81c.8-.78.8-2.07 0-2.86zM5.41 20L4 18.59l7.72-7.72 1.47 1.35L5.41 20z\"/>\n",
              "  </svg>\n",
              "      </button>\n",
              "      \n",
              "  <style>\n",
              "    .colab-df-container {\n",
              "      display:flex;\n",
              "      flex-wrap:wrap;\n",
              "      gap: 12px;\n",
              "    }\n",
              "\n",
              "    .colab-df-convert {\n",
              "      background-color: #E8F0FE;\n",
              "      border: none;\n",
              "      border-radius: 50%;\n",
              "      cursor: pointer;\n",
              "      display: none;\n",
              "      fill: #1967D2;\n",
              "      height: 32px;\n",
              "      padding: 0 0 0 0;\n",
              "      width: 32px;\n",
              "    }\n",
              "\n",
              "    .colab-df-convert:hover {\n",
              "      background-color: #E2EBFA;\n",
              "      box-shadow: 0px 1px 2px rgba(60, 64, 67, 0.3), 0px 1px 3px 1px rgba(60, 64, 67, 0.15);\n",
              "      fill: #174EA6;\n",
              "    }\n",
              "\n",
              "    [theme=dark] .colab-df-convert {\n",
              "      background-color: #3B4455;\n",
              "      fill: #D2E3FC;\n",
              "    }\n",
              "\n",
              "    [theme=dark] .colab-df-convert:hover {\n",
              "      background-color: #434B5C;\n",
              "      box-shadow: 0px 1px 3px 1px rgba(0, 0, 0, 0.15);\n",
              "      filter: drop-shadow(0px 1px 2px rgba(0, 0, 0, 0.3));\n",
              "      fill: #FFFFFF;\n",
              "    }\n",
              "  </style>\n",
              "\n",
              "      <script>\n",
              "        const buttonEl =\n",
              "          document.querySelector('#df-a84a075c-31e7-41cc-b72b-55f1441112ad button.colab-df-convert');\n",
              "        buttonEl.style.display =\n",
              "          google.colab.kernel.accessAllowed ? 'block' : 'none';\n",
              "\n",
              "        async function convertToInteractive(key) {\n",
              "          const element = document.querySelector('#df-a84a075c-31e7-41cc-b72b-55f1441112ad');\n",
              "          const dataTable =\n",
              "            await google.colab.kernel.invokeFunction('convertToInteractive',\n",
              "                                                     [key], {});\n",
              "          if (!dataTable) return;\n",
              "\n",
              "          const docLinkHtml = 'Like what you see? Visit the ' +\n",
              "            '<a target=\"_blank\" href=https://colab.research.google.com/notebooks/data_table.ipynb>data table notebook</a>'\n",
              "            + ' to learn more about interactive tables.';\n",
              "          element.innerHTML = '';\n",
              "          dataTable['output_type'] = 'display_data';\n",
              "          await google.colab.output.renderOutput(dataTable, element);\n",
              "          const docLink = document.createElement('div');\n",
              "          docLink.innerHTML = docLinkHtml;\n",
              "          element.appendChild(docLink);\n",
              "        }\n",
              "      </script>\n",
              "    </div>\n",
              "  </div>\n",
              "  "
            ]
          },
          "metadata": {},
          "execution_count": 22
        }
      ]
    },
    {
      "cell_type": "code",
      "source": [
        "# Final row and column count\n",
        "beach_attr_df.shape"
      ],
      "metadata": {
        "colab": {
          "base_uri": "https://localhost:8080/"
        },
        "id": "T4N1dUHR7gYS",
        "outputId": "2f7f299e-8096-42d7-fa56-d287095badae"
      },
      "execution_count": 23,
      "outputs": [
        {
          "output_type": "execute_result",
          "data": {
            "text/plain": [
              "(36, 8)"
            ]
          },
          "metadata": {},
          "execution_count": 23
        }
      ]
    },
    {
      "cell_type": "code",
      "source": [
        "# check the datatypes\n",
        "beach_attr_df.dtypes"
      ],
      "metadata": {
        "colab": {
          "base_uri": "https://localhost:8080/"
        },
        "id": "XC1clAaNPIb3",
        "outputId": "ccfc7c67-8ae7-48b1-c472-b57d26a65a49"
      },
      "execution_count": 24,
      "outputs": [
        {
          "output_type": "execute_result",
          "data": {
            "text/plain": [
              "Beach ID            object\n",
              "Beach Name          object\n",
              "Tier                 int64\n",
              "Start Latitude     float64\n",
              "Start Longitude    float64\n",
              "End Latitude       float64\n",
              "End Longitude      float64\n",
              "Waterbody Type      object\n",
              "dtype: object"
            ]
          },
          "metadata": {},
          "execution_count": 24
        }
      ]
    },
    {
      "cell_type": "markdown",
      "source": [
        "### ETL in preparation for loading the data into the Database"
      ],
      "metadata": {
        "id": "etpajB_TGtf7"
      }
    },
    {
      "cell_type": "code",
      "source": [
        "# Renaming the columns to match the database schema.\n",
        "renamed_beach_attr_df = beach_attr_df.rename(columns={\"Beach ID\": \"beach_id\", \"Beach Name\":\"beach_name\", \"Tier\":\"tier\", \"Start Latitude\": \"start_lat\",\n",
        "                                                      \"Start Longitude\": \"start_long\", \"End Latitude\":\"end_lat\", \"End Longitude\":\"end_long\", \"Waterbody Type\":\"waterbody_type\"})\n",
        "\n",
        "renamed_beach_attr_df.head(2)"
      ],
      "metadata": {
        "colab": {
          "base_uri": "https://localhost:8080/",
          "height": 112
        },
        "id": "NbqUDX83Gs2S",
        "outputId": "6860e8df-17e3-4198-e24d-67eb4474a3c4"
      },
      "execution_count": 25,
      "outputs": [
        {
          "output_type": "execute_result",
          "data": {
            "text/plain": [
              "   beach_id beach_name  tier  start_lat  start_long    end_lat   end_long  \\\n",
              "0  TX710697   25th St.     1  29.298146  -94.777565  29.284662 -94.794776   \n",
              "1  TX214299   45th St.     1  29.284667  -94.794770  29.271917 -94.815865   \n",
              "\n",
              "  waterbody_type  \n",
              "0     Open Coast  \n",
              "1     Open Coast  "
            ],
            "text/html": [
              "\n",
              "  <div id=\"df-6fcb3927-6f6e-4e43-96d8-3c2741ea1426\">\n",
              "    <div class=\"colab-df-container\">\n",
              "      <div>\n",
              "<style scoped>\n",
              "    .dataframe tbody tr th:only-of-type {\n",
              "        vertical-align: middle;\n",
              "    }\n",
              "\n",
              "    .dataframe tbody tr th {\n",
              "        vertical-align: top;\n",
              "    }\n",
              "\n",
              "    .dataframe thead th {\n",
              "        text-align: right;\n",
              "    }\n",
              "</style>\n",
              "<table border=\"1\" class=\"dataframe\">\n",
              "  <thead>\n",
              "    <tr style=\"text-align: right;\">\n",
              "      <th></th>\n",
              "      <th>beach_id</th>\n",
              "      <th>beach_name</th>\n",
              "      <th>tier</th>\n",
              "      <th>start_lat</th>\n",
              "      <th>start_long</th>\n",
              "      <th>end_lat</th>\n",
              "      <th>end_long</th>\n",
              "      <th>waterbody_type</th>\n",
              "    </tr>\n",
              "  </thead>\n",
              "  <tbody>\n",
              "    <tr>\n",
              "      <th>0</th>\n",
              "      <td>TX710697</td>\n",
              "      <td>25th St.</td>\n",
              "      <td>1</td>\n",
              "      <td>29.298146</td>\n",
              "      <td>-94.777565</td>\n",
              "      <td>29.284662</td>\n",
              "      <td>-94.794776</td>\n",
              "      <td>Open Coast</td>\n",
              "    </tr>\n",
              "    <tr>\n",
              "      <th>1</th>\n",
              "      <td>TX214299</td>\n",
              "      <td>45th St.</td>\n",
              "      <td>1</td>\n",
              "      <td>29.284667</td>\n",
              "      <td>-94.794770</td>\n",
              "      <td>29.271917</td>\n",
              "      <td>-94.815865</td>\n",
              "      <td>Open Coast</td>\n",
              "    </tr>\n",
              "  </tbody>\n",
              "</table>\n",
              "</div>\n",
              "      <button class=\"colab-df-convert\" onclick=\"convertToInteractive('df-6fcb3927-6f6e-4e43-96d8-3c2741ea1426')\"\n",
              "              title=\"Convert this dataframe to an interactive table.\"\n",
              "              style=\"display:none;\">\n",
              "        \n",
              "  <svg xmlns=\"http://www.w3.org/2000/svg\" height=\"24px\"viewBox=\"0 0 24 24\"\n",
              "       width=\"24px\">\n",
              "    <path d=\"M0 0h24v24H0V0z\" fill=\"none\"/>\n",
              "    <path d=\"M18.56 5.44l.94 2.06.94-2.06 2.06-.94-2.06-.94-.94-2.06-.94 2.06-2.06.94zm-11 1L8.5 8.5l.94-2.06 2.06-.94-2.06-.94L8.5 2.5l-.94 2.06-2.06.94zm10 10l.94 2.06.94-2.06 2.06-.94-2.06-.94-.94-2.06-.94 2.06-2.06.94z\"/><path d=\"M17.41 7.96l-1.37-1.37c-.4-.4-.92-.59-1.43-.59-.52 0-1.04.2-1.43.59L10.3 9.45l-7.72 7.72c-.78.78-.78 2.05 0 2.83L4 21.41c.39.39.9.59 1.41.59.51 0 1.02-.2 1.41-.59l7.78-7.78 2.81-2.81c.8-.78.8-2.07 0-2.86zM5.41 20L4 18.59l7.72-7.72 1.47 1.35L5.41 20z\"/>\n",
              "  </svg>\n",
              "      </button>\n",
              "      \n",
              "  <style>\n",
              "    .colab-df-container {\n",
              "      display:flex;\n",
              "      flex-wrap:wrap;\n",
              "      gap: 12px;\n",
              "    }\n",
              "\n",
              "    .colab-df-convert {\n",
              "      background-color: #E8F0FE;\n",
              "      border: none;\n",
              "      border-radius: 50%;\n",
              "      cursor: pointer;\n",
              "      display: none;\n",
              "      fill: #1967D2;\n",
              "      height: 32px;\n",
              "      padding: 0 0 0 0;\n",
              "      width: 32px;\n",
              "    }\n",
              "\n",
              "    .colab-df-convert:hover {\n",
              "      background-color: #E2EBFA;\n",
              "      box-shadow: 0px 1px 2px rgba(60, 64, 67, 0.3), 0px 1px 3px 1px rgba(60, 64, 67, 0.15);\n",
              "      fill: #174EA6;\n",
              "    }\n",
              "\n",
              "    [theme=dark] .colab-df-convert {\n",
              "      background-color: #3B4455;\n",
              "      fill: #D2E3FC;\n",
              "    }\n",
              "\n",
              "    [theme=dark] .colab-df-convert:hover {\n",
              "      background-color: #434B5C;\n",
              "      box-shadow: 0px 1px 3px 1px rgba(0, 0, 0, 0.15);\n",
              "      filter: drop-shadow(0px 1px 2px rgba(0, 0, 0, 0.3));\n",
              "      fill: #FFFFFF;\n",
              "    }\n",
              "  </style>\n",
              "\n",
              "      <script>\n",
              "        const buttonEl =\n",
              "          document.querySelector('#df-6fcb3927-6f6e-4e43-96d8-3c2741ea1426 button.colab-df-convert');\n",
              "        buttonEl.style.display =\n",
              "          google.colab.kernel.accessAllowed ? 'block' : 'none';\n",
              "\n",
              "        async function convertToInteractive(key) {\n",
              "          const element = document.querySelector('#df-6fcb3927-6f6e-4e43-96d8-3c2741ea1426');\n",
              "          const dataTable =\n",
              "            await google.colab.kernel.invokeFunction('convertToInteractive',\n",
              "                                                     [key], {});\n",
              "          if (!dataTable) return;\n",
              "\n",
              "          const docLinkHtml = 'Like what you see? Visit the ' +\n",
              "            '<a target=\"_blank\" href=https://colab.research.google.com/notebooks/data_table.ipynb>data table notebook</a>'\n",
              "            + ' to learn more about interactive tables.';\n",
              "          element.innerHTML = '';\n",
              "          dataTable['output_type'] = 'display_data';\n",
              "          await google.colab.output.renderOutput(dataTable, element);\n",
              "          const docLink = document.createElement('div');\n",
              "          docLink.innerHTML = docLinkHtml;\n",
              "          element.appendChild(docLink);\n",
              "        }\n",
              "      </script>\n",
              "    </div>\n",
              "  </div>\n",
              "  "
            ]
          },
          "metadata": {},
          "execution_count": 25
        }
      ]
    },
    {
      "cell_type": "markdown",
      "source": [
        "## Water Quality File"
      ],
      "metadata": {
        "id": "BCNhLedZ7Rmq"
      }
    },
    {
      "cell_type": "code",
      "source": [
        "# Bianca's path loading the data.\n",
        "water_quality_df = pd.read_csv(\"/content/drive/MyDrive/Data/Beach/Water_Quality_Report.csv\")\n",
        "water_quality_df.head(2)\n"
      ],
      "metadata": {
        "id": "5qN3Ik_76mAm",
        "colab": {
          "base_uri": "https://localhost:8080/",
          "height": 362
        },
        "outputId": "9ea0a739-12ba-4f5c-fecd-52e5c087a5bd"
      },
      "execution_count": 26,
      "outputs": [
        {
          "output_type": "stream",
          "name": "stderr",
          "text": [
            "/usr/local/lib/python3.7/dist-packages/IPython/core/interactiveshell.py:2882: DtypeWarning: Columns (20) have mixed types.Specify dtype option on import or set low_memory=False.\n",
            "  exec(code_obj, self.user_global_ns, self.user_ns)\n"
          ]
        },
        {
          "output_type": "execute_result",
          "data": {
            "text/plain": [
              "  State Code  Year Beach ID(Def.) Beach Name(Def.) StationID(Def.)  \\\n",
              "0         TX  2021       TX974690    Jamaica Beach          GAL014   \n",
              "1         TX  2021       TX974690    Jamaica Beach          GAL014   \n",
              "\n",
              "   Station Name (Def.) CountyName(Def.)       Identifier(Def.)  \\\n",
              "0  Jamaica Beach South        GALVESTON  GAL014_20211227_90752   \n",
              "1  Jamaica Beach South        GALVESTON  GAL014_20211227_90752   \n",
              "\n",
              "  StartDate(Def.) StartTime(Def.)  ... ActivityDepthValue(Def.)  \\\n",
              "0       27-DEC-21     09:00:00 AM  ...                        2   \n",
              "1       27-DEC-21     09:00:00 AM  ...                        2   \n",
              "\n",
              "  ActivityDepthUnitCode(Def.) ResultAnalyticalMethodIdentifier Context(Def.)  \\\n",
              "0                          ft                                        21TXBCH   \n",
              "1                          ft                                        21TXBCH   \n",
              "\n",
              "   ResultAnalyticalMethodIdentifier(Def.)  ResultAnalyticalMethodName(Def.)  \\\n",
              "0                                   19299                        ENTEROLERT   \n",
              "1                                   19299                        ENTEROLERT   \n",
              "\n",
              "  Sample CollectionMethod Identifier(Def.)  \\\n",
              "0                               SPL_WTRGRB   \n",
              "1                               SPL_WTRGRB   \n",
              "\n",
              "   Sample Collection Method Name(Def.)  Field Gear(Def.)  \\\n",
              "0                    Sample Water Grab      Water Bottle   \n",
              "1                    Sample Water Grab      Water Bottle   \n",
              "\n",
              "  AnalysisDateTime(Def.) DetectionQuantitationLimit(Def.)  \n",
              "0                    NaN                                -  \n",
              "1                    NaN                                -  \n",
              "\n",
              "[2 rows x 27 columns]"
            ],
            "text/html": [
              "\n",
              "  <div id=\"df-45c219e5-8003-4a3d-9e5d-3f7054dae672\">\n",
              "    <div class=\"colab-df-container\">\n",
              "      <div>\n",
              "<style scoped>\n",
              "    .dataframe tbody tr th:only-of-type {\n",
              "        vertical-align: middle;\n",
              "    }\n",
              "\n",
              "    .dataframe tbody tr th {\n",
              "        vertical-align: top;\n",
              "    }\n",
              "\n",
              "    .dataframe thead th {\n",
              "        text-align: right;\n",
              "    }\n",
              "</style>\n",
              "<table border=\"1\" class=\"dataframe\">\n",
              "  <thead>\n",
              "    <tr style=\"text-align: right;\">\n",
              "      <th></th>\n",
              "      <th>State Code</th>\n",
              "      <th>Year</th>\n",
              "      <th>Beach ID(Def.)</th>\n",
              "      <th>Beach Name(Def.)</th>\n",
              "      <th>StationID(Def.)</th>\n",
              "      <th>Station Name (Def.)</th>\n",
              "      <th>CountyName(Def.)</th>\n",
              "      <th>Identifier(Def.)</th>\n",
              "      <th>StartDate(Def.)</th>\n",
              "      <th>StartTime(Def.)</th>\n",
              "      <th>...</th>\n",
              "      <th>ActivityDepthValue(Def.)</th>\n",
              "      <th>ActivityDepthUnitCode(Def.)</th>\n",
              "      <th>ResultAnalyticalMethodIdentifier Context(Def.)</th>\n",
              "      <th>ResultAnalyticalMethodIdentifier(Def.)</th>\n",
              "      <th>ResultAnalyticalMethodName(Def.)</th>\n",
              "      <th>Sample CollectionMethod Identifier(Def.)</th>\n",
              "      <th>Sample Collection Method Name(Def.)</th>\n",
              "      <th>Field Gear(Def.)</th>\n",
              "      <th>AnalysisDateTime(Def.)</th>\n",
              "      <th>DetectionQuantitationLimit(Def.)</th>\n",
              "    </tr>\n",
              "  </thead>\n",
              "  <tbody>\n",
              "    <tr>\n",
              "      <th>0</th>\n",
              "      <td>TX</td>\n",
              "      <td>2021</td>\n",
              "      <td>TX974690</td>\n",
              "      <td>Jamaica Beach</td>\n",
              "      <td>GAL014</td>\n",
              "      <td>Jamaica Beach South</td>\n",
              "      <td>GALVESTON</td>\n",
              "      <td>GAL014_20211227_90752</td>\n",
              "      <td>27-DEC-21</td>\n",
              "      <td>09:00:00 AM</td>\n",
              "      <td>...</td>\n",
              "      <td>2</td>\n",
              "      <td>ft</td>\n",
              "      <td>21TXBCH</td>\n",
              "      <td>19299</td>\n",
              "      <td>ENTEROLERT</td>\n",
              "      <td>SPL_WTRGRB</td>\n",
              "      <td>Sample Water Grab</td>\n",
              "      <td>Water Bottle</td>\n",
              "      <td>NaN</td>\n",
              "      <td>-</td>\n",
              "    </tr>\n",
              "    <tr>\n",
              "      <th>1</th>\n",
              "      <td>TX</td>\n",
              "      <td>2021</td>\n",
              "      <td>TX974690</td>\n",
              "      <td>Jamaica Beach</td>\n",
              "      <td>GAL014</td>\n",
              "      <td>Jamaica Beach South</td>\n",
              "      <td>GALVESTON</td>\n",
              "      <td>GAL014_20211227_90752</td>\n",
              "      <td>27-DEC-21</td>\n",
              "      <td>09:00:00 AM</td>\n",
              "      <td>...</td>\n",
              "      <td>2</td>\n",
              "      <td>ft</td>\n",
              "      <td>21TXBCH</td>\n",
              "      <td>19299</td>\n",
              "      <td>ENTEROLERT</td>\n",
              "      <td>SPL_WTRGRB</td>\n",
              "      <td>Sample Water Grab</td>\n",
              "      <td>Water Bottle</td>\n",
              "      <td>NaN</td>\n",
              "      <td>-</td>\n",
              "    </tr>\n",
              "  </tbody>\n",
              "</table>\n",
              "<p>2 rows × 27 columns</p>\n",
              "</div>\n",
              "      <button class=\"colab-df-convert\" onclick=\"convertToInteractive('df-45c219e5-8003-4a3d-9e5d-3f7054dae672')\"\n",
              "              title=\"Convert this dataframe to an interactive table.\"\n",
              "              style=\"display:none;\">\n",
              "        \n",
              "  <svg xmlns=\"http://www.w3.org/2000/svg\" height=\"24px\"viewBox=\"0 0 24 24\"\n",
              "       width=\"24px\">\n",
              "    <path d=\"M0 0h24v24H0V0z\" fill=\"none\"/>\n",
              "    <path d=\"M18.56 5.44l.94 2.06.94-2.06 2.06-.94-2.06-.94-.94-2.06-.94 2.06-2.06.94zm-11 1L8.5 8.5l.94-2.06 2.06-.94-2.06-.94L8.5 2.5l-.94 2.06-2.06.94zm10 10l.94 2.06.94-2.06 2.06-.94-2.06-.94-.94-2.06-.94 2.06-2.06.94z\"/><path d=\"M17.41 7.96l-1.37-1.37c-.4-.4-.92-.59-1.43-.59-.52 0-1.04.2-1.43.59L10.3 9.45l-7.72 7.72c-.78.78-.78 2.05 0 2.83L4 21.41c.39.39.9.59 1.41.59.51 0 1.02-.2 1.41-.59l7.78-7.78 2.81-2.81c.8-.78.8-2.07 0-2.86zM5.41 20L4 18.59l7.72-7.72 1.47 1.35L5.41 20z\"/>\n",
              "  </svg>\n",
              "      </button>\n",
              "      \n",
              "  <style>\n",
              "    .colab-df-container {\n",
              "      display:flex;\n",
              "      flex-wrap:wrap;\n",
              "      gap: 12px;\n",
              "    }\n",
              "\n",
              "    .colab-df-convert {\n",
              "      background-color: #E8F0FE;\n",
              "      border: none;\n",
              "      border-radius: 50%;\n",
              "      cursor: pointer;\n",
              "      display: none;\n",
              "      fill: #1967D2;\n",
              "      height: 32px;\n",
              "      padding: 0 0 0 0;\n",
              "      width: 32px;\n",
              "    }\n",
              "\n",
              "    .colab-df-convert:hover {\n",
              "      background-color: #E2EBFA;\n",
              "      box-shadow: 0px 1px 2px rgba(60, 64, 67, 0.3), 0px 1px 3px 1px rgba(60, 64, 67, 0.15);\n",
              "      fill: #174EA6;\n",
              "    }\n",
              "\n",
              "    [theme=dark] .colab-df-convert {\n",
              "      background-color: #3B4455;\n",
              "      fill: #D2E3FC;\n",
              "    }\n",
              "\n",
              "    [theme=dark] .colab-df-convert:hover {\n",
              "      background-color: #434B5C;\n",
              "      box-shadow: 0px 1px 3px 1px rgba(0, 0, 0, 0.15);\n",
              "      filter: drop-shadow(0px 1px 2px rgba(0, 0, 0, 0.3));\n",
              "      fill: #FFFFFF;\n",
              "    }\n",
              "  </style>\n",
              "\n",
              "      <script>\n",
              "        const buttonEl =\n",
              "          document.querySelector('#df-45c219e5-8003-4a3d-9e5d-3f7054dae672 button.colab-df-convert');\n",
              "        buttonEl.style.display =\n",
              "          google.colab.kernel.accessAllowed ? 'block' : 'none';\n",
              "\n",
              "        async function convertToInteractive(key) {\n",
              "          const element = document.querySelector('#df-45c219e5-8003-4a3d-9e5d-3f7054dae672');\n",
              "          const dataTable =\n",
              "            await google.colab.kernel.invokeFunction('convertToInteractive',\n",
              "                                                     [key], {});\n",
              "          if (!dataTable) return;\n",
              "\n",
              "          const docLinkHtml = 'Like what you see? Visit the ' +\n",
              "            '<a target=\"_blank\" href=https://colab.research.google.com/notebooks/data_table.ipynb>data table notebook</a>'\n",
              "            + ' to learn more about interactive tables.';\n",
              "          element.innerHTML = '';\n",
              "          dataTable['output_type'] = 'display_data';\n",
              "          await google.colab.output.renderOutput(dataTable, element);\n",
              "          const docLink = document.createElement('div');\n",
              "          docLink.innerHTML = docLinkHtml;\n",
              "          element.appendChild(docLink);\n",
              "        }\n",
              "      </script>\n",
              "    </div>\n",
              "  </div>\n",
              "  "
            ]
          },
          "metadata": {},
          "execution_count": 26
        }
      ]
    },
    {
      "cell_type": "code",
      "source": [
        "# Calculate number of rows and columns of raw data frame\n",
        "water_quality_df.shape"
      ],
      "metadata": {
        "colab": {
          "base_uri": "https://localhost:8080/"
        },
        "id": "u-lTSUtT9mTK",
        "outputId": "df7040ba-8c1a-4b19-cb42-b78c82aa11ac"
      },
      "execution_count": 27,
      "outputs": [
        {
          "output_type": "execute_result",
          "data": {
            "text/plain": [
              "(42540, 27)"
            ]
          },
          "metadata": {},
          "execution_count": 27
        }
      ]
    },
    {
      "cell_type": "code",
      "source": [
        "# Deterine which columns have no data, same value, no values, etc\n",
        "water_quality_df.nunique()"
      ],
      "metadata": {
        "colab": {
          "base_uri": "https://localhost:8080/"
        },
        "id": "Oed3tS9s9Vxe",
        "outputId": "80e0cb63-c4a8-4baa-bf5a-79bf994c37b5"
      },
      "execution_count": 28,
      "outputs": [
        {
          "output_type": "execute_result",
          "data": {
            "text/plain": [
              "State Code                                            1\n",
              "Year                                                 15\n",
              "Beach ID(Def.)                                       23\n",
              "Beach Name(Def.)                                     23\n",
              "StationID(Def.)                                      52\n",
              "Station Name (Def.)                                  52\n",
              "CountyName(Def.)                                      1\n",
              "Identifier(Def.)                                  28575\n",
              "StartDate(Def.)                                    1988\n",
              "StartTime(Def.)                                      41\n",
              "ZoneCode(Def.)                                        2\n",
              "ActivityTypeCode(Def.)                                1\n",
              "CharacteristicName(Def.)                              1\n",
              "Result ValueText(Def.)                                0\n",
              "ResultValue(Def.)                                  3006\n",
              "ResultMeasureUnit                                     3\n",
              "Result Comment(Def.)                                  0\n",
              "ActivityDepthValue(Def.)                              1\n",
              "ActivityDepthUnitCode(Def.)                           1\n",
              "ResultAnalyticalMethodIdentifier Context(Def.)        1\n",
              "ResultAnalyticalMethodIdentifier(Def.)                5\n",
              "ResultAnalyticalMethodName(Def.)                      3\n",
              "Sample CollectionMethod Identifier(Def.)              1\n",
              "Sample Collection Method Name(Def.)                   1\n",
              "Field Gear(Def.)                                      1\n",
              "AnalysisDateTime(Def.)                                0\n",
              "DetectionQuantitationLimit(Def.)                      1\n",
              "dtype: int64"
            ]
          },
          "metadata": {},
          "execution_count": 28
        }
      ]
    },
    {
      "cell_type": "code",
      "source": [
        "# Create a list of the columns that have no useful data\n",
        "water_quality_columns_to_drop =water_quality_df.nunique()[(water_quality_df.nunique()==1) | (water_quality_df.nunique()==0)].index"
      ],
      "metadata": {
        "id": "U78k8f0T97qW"
      },
      "execution_count": 29,
      "outputs": []
    },
    {
      "cell_type": "code",
      "source": [
        "# Drop the useless data columns from the data frame\n",
        "water_quality_df.drop(water_quality_columns_to_drop,1,inplace=True)"
      ],
      "metadata": {
        "colab": {
          "base_uri": "https://localhost:8080/"
        },
        "id": "-JFZFcKd9ak_",
        "outputId": "05799feb-ef80-4826-8e56-f0017fdee2b8"
      },
      "execution_count": 30,
      "outputs": [
        {
          "output_type": "stream",
          "name": "stderr",
          "text": [
            "/usr/local/lib/python3.7/dist-packages/ipykernel_launcher.py:2: FutureWarning: In a future version of pandas all arguments of DataFrame.drop except for the argument 'labels' will be keyword-only\n",
            "  \n"
          ]
        }
      ]
    },
    {
      "cell_type": "code",
      "source": [
        "# Review the new data frame. This is the data frame to load into database. Still needs, update column names, format StartDate to standard format.\n",
        "water_quality_df.head(2)"
      ],
      "metadata": {
        "colab": {
          "base_uri": "https://localhost:8080/",
          "height": 280
        },
        "id": "NHzfZO0l-y5d",
        "outputId": "a62f314d-a759-4d30-943c-62f7fb1cbca8"
      },
      "execution_count": 31,
      "outputs": [
        {
          "output_type": "execute_result",
          "data": {
            "text/plain": [
              "   Year Beach ID(Def.) Beach Name(Def.) StationID(Def.)  Station Name (Def.)  \\\n",
              "0  2021       TX974690    Jamaica Beach          GAL014  Jamaica Beach South   \n",
              "1  2021       TX974690    Jamaica Beach          GAL014  Jamaica Beach South   \n",
              "\n",
              "        Identifier(Def.) StartDate(Def.) StartTime(Def.) ZoneCode(Def.)  \\\n",
              "0  GAL014_20211227_90752       27-DEC-21     09:00:00 AM            CDT   \n",
              "1  GAL014_20211227_90752       27-DEC-21     09:00:00 AM            CDT   \n",
              "\n",
              "   ResultValue(Def.) ResultMeasureUnit ResultAnalyticalMethodIdentifier(Def.)  \\\n",
              "0               7.94         MPN/100ml                                  19299   \n",
              "1              20.00         MPN/100ml                                  19299   \n",
              "\n",
              "  ResultAnalyticalMethodName(Def.)  \n",
              "0                       ENTEROLERT  \n",
              "1                       ENTEROLERT  "
            ],
            "text/html": [
              "\n",
              "  <div id=\"df-86bed98f-66ab-4b0e-97a1-ca519a253a52\">\n",
              "    <div class=\"colab-df-container\">\n",
              "      <div>\n",
              "<style scoped>\n",
              "    .dataframe tbody tr th:only-of-type {\n",
              "        vertical-align: middle;\n",
              "    }\n",
              "\n",
              "    .dataframe tbody tr th {\n",
              "        vertical-align: top;\n",
              "    }\n",
              "\n",
              "    .dataframe thead th {\n",
              "        text-align: right;\n",
              "    }\n",
              "</style>\n",
              "<table border=\"1\" class=\"dataframe\">\n",
              "  <thead>\n",
              "    <tr style=\"text-align: right;\">\n",
              "      <th></th>\n",
              "      <th>Year</th>\n",
              "      <th>Beach ID(Def.)</th>\n",
              "      <th>Beach Name(Def.)</th>\n",
              "      <th>StationID(Def.)</th>\n",
              "      <th>Station Name (Def.)</th>\n",
              "      <th>Identifier(Def.)</th>\n",
              "      <th>StartDate(Def.)</th>\n",
              "      <th>StartTime(Def.)</th>\n",
              "      <th>ZoneCode(Def.)</th>\n",
              "      <th>ResultValue(Def.)</th>\n",
              "      <th>ResultMeasureUnit</th>\n",
              "      <th>ResultAnalyticalMethodIdentifier(Def.)</th>\n",
              "      <th>ResultAnalyticalMethodName(Def.)</th>\n",
              "    </tr>\n",
              "  </thead>\n",
              "  <tbody>\n",
              "    <tr>\n",
              "      <th>0</th>\n",
              "      <td>2021</td>\n",
              "      <td>TX974690</td>\n",
              "      <td>Jamaica Beach</td>\n",
              "      <td>GAL014</td>\n",
              "      <td>Jamaica Beach South</td>\n",
              "      <td>GAL014_20211227_90752</td>\n",
              "      <td>27-DEC-21</td>\n",
              "      <td>09:00:00 AM</td>\n",
              "      <td>CDT</td>\n",
              "      <td>7.94</td>\n",
              "      <td>MPN/100ml</td>\n",
              "      <td>19299</td>\n",
              "      <td>ENTEROLERT</td>\n",
              "    </tr>\n",
              "    <tr>\n",
              "      <th>1</th>\n",
              "      <td>2021</td>\n",
              "      <td>TX974690</td>\n",
              "      <td>Jamaica Beach</td>\n",
              "      <td>GAL014</td>\n",
              "      <td>Jamaica Beach South</td>\n",
              "      <td>GAL014_20211227_90752</td>\n",
              "      <td>27-DEC-21</td>\n",
              "      <td>09:00:00 AM</td>\n",
              "      <td>CDT</td>\n",
              "      <td>20.00</td>\n",
              "      <td>MPN/100ml</td>\n",
              "      <td>19299</td>\n",
              "      <td>ENTEROLERT</td>\n",
              "    </tr>\n",
              "  </tbody>\n",
              "</table>\n",
              "</div>\n",
              "      <button class=\"colab-df-convert\" onclick=\"convertToInteractive('df-86bed98f-66ab-4b0e-97a1-ca519a253a52')\"\n",
              "              title=\"Convert this dataframe to an interactive table.\"\n",
              "              style=\"display:none;\">\n",
              "        \n",
              "  <svg xmlns=\"http://www.w3.org/2000/svg\" height=\"24px\"viewBox=\"0 0 24 24\"\n",
              "       width=\"24px\">\n",
              "    <path d=\"M0 0h24v24H0V0z\" fill=\"none\"/>\n",
              "    <path d=\"M18.56 5.44l.94 2.06.94-2.06 2.06-.94-2.06-.94-.94-2.06-.94 2.06-2.06.94zm-11 1L8.5 8.5l.94-2.06 2.06-.94-2.06-.94L8.5 2.5l-.94 2.06-2.06.94zm10 10l.94 2.06.94-2.06 2.06-.94-2.06-.94-.94-2.06-.94 2.06-2.06.94z\"/><path d=\"M17.41 7.96l-1.37-1.37c-.4-.4-.92-.59-1.43-.59-.52 0-1.04.2-1.43.59L10.3 9.45l-7.72 7.72c-.78.78-.78 2.05 0 2.83L4 21.41c.39.39.9.59 1.41.59.51 0 1.02-.2 1.41-.59l7.78-7.78 2.81-2.81c.8-.78.8-2.07 0-2.86zM5.41 20L4 18.59l7.72-7.72 1.47 1.35L5.41 20z\"/>\n",
              "  </svg>\n",
              "      </button>\n",
              "      \n",
              "  <style>\n",
              "    .colab-df-container {\n",
              "      display:flex;\n",
              "      flex-wrap:wrap;\n",
              "      gap: 12px;\n",
              "    }\n",
              "\n",
              "    .colab-df-convert {\n",
              "      background-color: #E8F0FE;\n",
              "      border: none;\n",
              "      border-radius: 50%;\n",
              "      cursor: pointer;\n",
              "      display: none;\n",
              "      fill: #1967D2;\n",
              "      height: 32px;\n",
              "      padding: 0 0 0 0;\n",
              "      width: 32px;\n",
              "    }\n",
              "\n",
              "    .colab-df-convert:hover {\n",
              "      background-color: #E2EBFA;\n",
              "      box-shadow: 0px 1px 2px rgba(60, 64, 67, 0.3), 0px 1px 3px 1px rgba(60, 64, 67, 0.15);\n",
              "      fill: #174EA6;\n",
              "    }\n",
              "\n",
              "    [theme=dark] .colab-df-convert {\n",
              "      background-color: #3B4455;\n",
              "      fill: #D2E3FC;\n",
              "    }\n",
              "\n",
              "    [theme=dark] .colab-df-convert:hover {\n",
              "      background-color: #434B5C;\n",
              "      box-shadow: 0px 1px 3px 1px rgba(0, 0, 0, 0.15);\n",
              "      filter: drop-shadow(0px 1px 2px rgba(0, 0, 0, 0.3));\n",
              "      fill: #FFFFFF;\n",
              "    }\n",
              "  </style>\n",
              "\n",
              "      <script>\n",
              "        const buttonEl =\n",
              "          document.querySelector('#df-86bed98f-66ab-4b0e-97a1-ca519a253a52 button.colab-df-convert');\n",
              "        buttonEl.style.display =\n",
              "          google.colab.kernel.accessAllowed ? 'block' : 'none';\n",
              "\n",
              "        async function convertToInteractive(key) {\n",
              "          const element = document.querySelector('#df-86bed98f-66ab-4b0e-97a1-ca519a253a52');\n",
              "          const dataTable =\n",
              "            await google.colab.kernel.invokeFunction('convertToInteractive',\n",
              "                                                     [key], {});\n",
              "          if (!dataTable) return;\n",
              "\n",
              "          const docLinkHtml = 'Like what you see? Visit the ' +\n",
              "            '<a target=\"_blank\" href=https://colab.research.google.com/notebooks/data_table.ipynb>data table notebook</a>'\n",
              "            + ' to learn more about interactive tables.';\n",
              "          element.innerHTML = '';\n",
              "          dataTable['output_type'] = 'display_data';\n",
              "          await google.colab.output.renderOutput(dataTable, element);\n",
              "          const docLink = document.createElement('div');\n",
              "          docLink.innerHTML = docLinkHtml;\n",
              "          element.appendChild(docLink);\n",
              "        }\n",
              "      </script>\n",
              "    </div>\n",
              "  </div>\n",
              "  "
            ]
          },
          "metadata": {},
          "execution_count": 31
        }
      ]
    },
    {
      "cell_type": "code",
      "source": [
        "# Check the number of rows and columns of the \"cleaned\" data frame\n",
        "water_quality_df.shape"
      ],
      "metadata": {
        "colab": {
          "base_uri": "https://localhost:8080/"
        },
        "id": "CrXacWu3_Ye6",
        "outputId": "564bacec-463d-4b90-8070-6a8fb3c9b222"
      },
      "execution_count": 32,
      "outputs": [
        {
          "output_type": "execute_result",
          "data": {
            "text/plain": [
              "(42540, 13)"
            ]
          },
          "metadata": {},
          "execution_count": 32
        }
      ]
    },
    {
      "cell_type": "code",
      "source": [
        "# Inspect the number of unique values for each remaining column, inspect any that might be weird, shouldn't be unique etc.\n",
        "water_quality_df.nunique()"
      ],
      "metadata": {
        "colab": {
          "base_uri": "https://localhost:8080/"
        },
        "id": "IQvjBz1c_SdF",
        "outputId": "8612a696-328f-4565-d190-78badddab510"
      },
      "execution_count": 33,
      "outputs": [
        {
          "output_type": "execute_result",
          "data": {
            "text/plain": [
              "Year                                         15\n",
              "Beach ID(Def.)                               23\n",
              "Beach Name(Def.)                             23\n",
              "StationID(Def.)                              52\n",
              "Station Name (Def.)                          52\n",
              "Identifier(Def.)                          28575\n",
              "StartDate(Def.)                            1988\n",
              "StartTime(Def.)                              41\n",
              "ZoneCode(Def.)                                2\n",
              "ResultValue(Def.)                          3006\n",
              "ResultMeasureUnit                             3\n",
              "ResultAnalyticalMethodIdentifier(Def.)        5\n",
              "ResultAnalyticalMethodName(Def.)              3\n",
              "dtype: int64"
            ]
          },
          "metadata": {},
          "execution_count": 33
        }
      ]
    },
    {
      "cell_type": "code",
      "source": [
        "# Examen start times.\n",
        "water_quality_df[\"StartTime(Def.)\"].value_counts()"
      ],
      "metadata": {
        "colab": {
          "base_uri": "https://localhost:8080/"
        },
        "id": "fGKhIzXvKzmY",
        "outputId": "bad2260a-4b6b-4da0-d39f-9faf8bd1a0df"
      },
      "execution_count": 34,
      "outputs": [
        {
          "output_type": "execute_result",
          "data": {
            "text/plain": [
              "09:00:00 AM    26510\n",
              "08:00:00 AM     6431\n",
              "07:00:00 AM     3892\n",
              "06:00:00 AM     1944\n",
              "10:00:00 AM     1236\n",
              "08:30:00 AM      808\n",
              "09:30:00 AM      653\n",
              "11:00:00 AM      363\n",
              "05:00:00 AM      286\n",
              "07:30:00 AM      208\n",
              "12:00:00 PM       80\n",
              "10:30:00 AM       57\n",
              "01:00:00 PM       21\n",
              "06:30:00 AM        7\n",
              "11:30:00 AM        6\n",
              "07:40:00 AM        4\n",
              "07:50:00 AM        3\n",
              "02:00:00 PM        3\n",
              "05:30:00 AM        3\n",
              "10:15:00 AM        2\n",
              "08:08:00 AM        2\n",
              "03:00:00 PM        2\n",
              "09:42:00 AM        1\n",
              "09:45:00 AM        1\n",
              "09:35:00 AM        1\n",
              "09:33:00 AM        1\n",
              "10:25:00 AM        1\n",
              "09:06:00 AM        1\n",
              "09:09:00 AM        1\n",
              "09:26:00 AM        1\n",
              "09:20:00 AM        1\n",
              "09:15:00 AM        1\n",
              "09:48:00 AM        1\n",
              "09:03:00 AM        1\n",
              "12:45:00 PM        1\n",
              "09:51:00 AM        1\n",
              "10:05:00 AM        1\n",
              "10:07:00 AM        1\n",
              "10:10:00 AM        1\n",
              "10:02:00 AM        1\n",
              "09:38:00 AM        1\n",
              "Name: StartTime(Def.), dtype: int64"
            ]
          },
          "metadata": {},
          "execution_count": 34
        }
      ]
    },
    {
      "cell_type": "code",
      "source": [
        "# These units need to be all the same. They many not be needed for model training. Keep for our records. Units are the same unit, see website in the next markdown cell for more information\n",
        "water_quality_df[\"ResultMeasureUnit\"].value_counts()"
      ],
      "metadata": {
        "colab": {
          "base_uri": "https://localhost:8080/"
        },
        "id": "xkpz1F97AKeN",
        "outputId": "39b5df8c-e5f7-49e7-d322-785f2a114ebb"
      },
      "execution_count": 35,
      "outputs": [
        {
          "output_type": "execute_result",
          "data": {
            "text/plain": [
              "MPN/100ml    23186\n",
              "cfu/100ml    16175\n",
              "CFU           3179\n",
              "Name: ResultMeasureUnit, dtype: int64"
            ]
          },
          "metadata": {},
          "execution_count": 35
        }
      ]
    },
    {
      "cell_type": "markdown",
      "source": [
        "Note measurement units, they are the same units. https://www.researchgate.net/post/Is_there_a_way_to_convert_MPN_most_probable_number_to_CFU_colony_forming_unit#:~:text=The%20simple%20answer%20is%20that,is%20equal%20to%20one%20CFU."
      ],
      "metadata": {
        "id": "nIeTkIaxBiNt"
      }
    },
    {
      "cell_type": "code",
      "source": [
        "# what is zoneCode? Appears to indicate if time is winter or summer time\n",
        "water_quality_df[\"ZoneCode(Def.)\"].value_counts()"
      ],
      "metadata": {
        "colab": {
          "base_uri": "https://localhost:8080/"
        },
        "id": "YHr1X8eJBn2M",
        "outputId": "bc4a762a-c14d-406a-fc63-274d1a0b2355"
      },
      "execution_count": 36,
      "outputs": [
        {
          "output_type": "execute_result",
          "data": {
            "text/plain": [
              "CDT    36100\n",
              "CST     6440\n",
              "Name: ZoneCode(Def.), dtype: int64"
            ]
          },
          "metadata": {},
          "execution_count": 36
        }
      ]
    },
    {
      "cell_type": "markdown",
      "source": [
        "### Converting necessary Datatypes "
      ],
      "metadata": {
        "id": "XJot35GZz6Cg"
      }
    },
    {
      "cell_type": "code",
      "source": [
        "# Convert the column 'StartDate(Def.)' from object to datetime.\n",
        "water_quality_df[\"date\"]= water_quality_df[\"StartDate(Def.)\"].apply(lambda x:datetime.strptime(x,\"%d-%b-%y\"))\n",
        "\n",
        "# Shift column \"Date\" to first position\n",
        "first_column = water_quality_df.pop(\"date\")\n",
        "\n",
        "# Insert column using insert(position,column_name,first_column) function\n",
        "water_quality_df.insert(0, \"date\", first_column)\n",
        "\n",
        "# Drop the old column \"StartDate(Def.)\", which is now replaced by the column \"date\".\n",
        "water_quality_df = water_quality_df.drop(columns=[\"StartDate(Def.)\"])\n",
        "\n",
        "water_quality_df.head(2)"
      ],
      "metadata": {
        "colab": {
          "base_uri": "https://localhost:8080/",
          "height": 280
        },
        "id": "WgiE5cErIdF1",
        "outputId": "a54712a6-fabb-4a65-df65-1d60d6468296"
      },
      "execution_count": 37,
      "outputs": [
        {
          "output_type": "execute_result",
          "data": {
            "text/plain": [
              "        date  Year Beach ID(Def.) Beach Name(Def.) StationID(Def.)  \\\n",
              "0 2021-12-27  2021       TX974690    Jamaica Beach          GAL014   \n",
              "1 2021-12-27  2021       TX974690    Jamaica Beach          GAL014   \n",
              "\n",
              "   Station Name (Def.)       Identifier(Def.) StartTime(Def.) ZoneCode(Def.)  \\\n",
              "0  Jamaica Beach South  GAL014_20211227_90752     09:00:00 AM            CDT   \n",
              "1  Jamaica Beach South  GAL014_20211227_90752     09:00:00 AM            CDT   \n",
              "\n",
              "   ResultValue(Def.) ResultMeasureUnit ResultAnalyticalMethodIdentifier(Def.)  \\\n",
              "0               7.94         MPN/100ml                                  19299   \n",
              "1              20.00         MPN/100ml                                  19299   \n",
              "\n",
              "  ResultAnalyticalMethodName(Def.)  \n",
              "0                       ENTEROLERT  \n",
              "1                       ENTEROLERT  "
            ],
            "text/html": [
              "\n",
              "  <div id=\"df-7d5af40b-153a-489d-b582-c7320bbbc13d\">\n",
              "    <div class=\"colab-df-container\">\n",
              "      <div>\n",
              "<style scoped>\n",
              "    .dataframe tbody tr th:only-of-type {\n",
              "        vertical-align: middle;\n",
              "    }\n",
              "\n",
              "    .dataframe tbody tr th {\n",
              "        vertical-align: top;\n",
              "    }\n",
              "\n",
              "    .dataframe thead th {\n",
              "        text-align: right;\n",
              "    }\n",
              "</style>\n",
              "<table border=\"1\" class=\"dataframe\">\n",
              "  <thead>\n",
              "    <tr style=\"text-align: right;\">\n",
              "      <th></th>\n",
              "      <th>date</th>\n",
              "      <th>Year</th>\n",
              "      <th>Beach ID(Def.)</th>\n",
              "      <th>Beach Name(Def.)</th>\n",
              "      <th>StationID(Def.)</th>\n",
              "      <th>Station Name (Def.)</th>\n",
              "      <th>Identifier(Def.)</th>\n",
              "      <th>StartTime(Def.)</th>\n",
              "      <th>ZoneCode(Def.)</th>\n",
              "      <th>ResultValue(Def.)</th>\n",
              "      <th>ResultMeasureUnit</th>\n",
              "      <th>ResultAnalyticalMethodIdentifier(Def.)</th>\n",
              "      <th>ResultAnalyticalMethodName(Def.)</th>\n",
              "    </tr>\n",
              "  </thead>\n",
              "  <tbody>\n",
              "    <tr>\n",
              "      <th>0</th>\n",
              "      <td>2021-12-27</td>\n",
              "      <td>2021</td>\n",
              "      <td>TX974690</td>\n",
              "      <td>Jamaica Beach</td>\n",
              "      <td>GAL014</td>\n",
              "      <td>Jamaica Beach South</td>\n",
              "      <td>GAL014_20211227_90752</td>\n",
              "      <td>09:00:00 AM</td>\n",
              "      <td>CDT</td>\n",
              "      <td>7.94</td>\n",
              "      <td>MPN/100ml</td>\n",
              "      <td>19299</td>\n",
              "      <td>ENTEROLERT</td>\n",
              "    </tr>\n",
              "    <tr>\n",
              "      <th>1</th>\n",
              "      <td>2021-12-27</td>\n",
              "      <td>2021</td>\n",
              "      <td>TX974690</td>\n",
              "      <td>Jamaica Beach</td>\n",
              "      <td>GAL014</td>\n",
              "      <td>Jamaica Beach South</td>\n",
              "      <td>GAL014_20211227_90752</td>\n",
              "      <td>09:00:00 AM</td>\n",
              "      <td>CDT</td>\n",
              "      <td>20.00</td>\n",
              "      <td>MPN/100ml</td>\n",
              "      <td>19299</td>\n",
              "      <td>ENTEROLERT</td>\n",
              "    </tr>\n",
              "  </tbody>\n",
              "</table>\n",
              "</div>\n",
              "      <button class=\"colab-df-convert\" onclick=\"convertToInteractive('df-7d5af40b-153a-489d-b582-c7320bbbc13d')\"\n",
              "              title=\"Convert this dataframe to an interactive table.\"\n",
              "              style=\"display:none;\">\n",
              "        \n",
              "  <svg xmlns=\"http://www.w3.org/2000/svg\" height=\"24px\"viewBox=\"0 0 24 24\"\n",
              "       width=\"24px\">\n",
              "    <path d=\"M0 0h24v24H0V0z\" fill=\"none\"/>\n",
              "    <path d=\"M18.56 5.44l.94 2.06.94-2.06 2.06-.94-2.06-.94-.94-2.06-.94 2.06-2.06.94zm-11 1L8.5 8.5l.94-2.06 2.06-.94-2.06-.94L8.5 2.5l-.94 2.06-2.06.94zm10 10l.94 2.06.94-2.06 2.06-.94-2.06-.94-.94-2.06-.94 2.06-2.06.94z\"/><path d=\"M17.41 7.96l-1.37-1.37c-.4-.4-.92-.59-1.43-.59-.52 0-1.04.2-1.43.59L10.3 9.45l-7.72 7.72c-.78.78-.78 2.05 0 2.83L4 21.41c.39.39.9.59 1.41.59.51 0 1.02-.2 1.41-.59l7.78-7.78 2.81-2.81c.8-.78.8-2.07 0-2.86zM5.41 20L4 18.59l7.72-7.72 1.47 1.35L5.41 20z\"/>\n",
              "  </svg>\n",
              "      </button>\n",
              "      \n",
              "  <style>\n",
              "    .colab-df-container {\n",
              "      display:flex;\n",
              "      flex-wrap:wrap;\n",
              "      gap: 12px;\n",
              "    }\n",
              "\n",
              "    .colab-df-convert {\n",
              "      background-color: #E8F0FE;\n",
              "      border: none;\n",
              "      border-radius: 50%;\n",
              "      cursor: pointer;\n",
              "      display: none;\n",
              "      fill: #1967D2;\n",
              "      height: 32px;\n",
              "      padding: 0 0 0 0;\n",
              "      width: 32px;\n",
              "    }\n",
              "\n",
              "    .colab-df-convert:hover {\n",
              "      background-color: #E2EBFA;\n",
              "      box-shadow: 0px 1px 2px rgba(60, 64, 67, 0.3), 0px 1px 3px 1px rgba(60, 64, 67, 0.15);\n",
              "      fill: #174EA6;\n",
              "    }\n",
              "\n",
              "    [theme=dark] .colab-df-convert {\n",
              "      background-color: #3B4455;\n",
              "      fill: #D2E3FC;\n",
              "    }\n",
              "\n",
              "    [theme=dark] .colab-df-convert:hover {\n",
              "      background-color: #434B5C;\n",
              "      box-shadow: 0px 1px 3px 1px rgba(0, 0, 0, 0.15);\n",
              "      filter: drop-shadow(0px 1px 2px rgba(0, 0, 0, 0.3));\n",
              "      fill: #FFFFFF;\n",
              "    }\n",
              "  </style>\n",
              "\n",
              "      <script>\n",
              "        const buttonEl =\n",
              "          document.querySelector('#df-7d5af40b-153a-489d-b582-c7320bbbc13d button.colab-df-convert');\n",
              "        buttonEl.style.display =\n",
              "          google.colab.kernel.accessAllowed ? 'block' : 'none';\n",
              "\n",
              "        async function convertToInteractive(key) {\n",
              "          const element = document.querySelector('#df-7d5af40b-153a-489d-b582-c7320bbbc13d');\n",
              "          const dataTable =\n",
              "            await google.colab.kernel.invokeFunction('convertToInteractive',\n",
              "                                                     [key], {});\n",
              "          if (!dataTable) return;\n",
              "\n",
              "          const docLinkHtml = 'Like what you see? Visit the ' +\n",
              "            '<a target=\"_blank\" href=https://colab.research.google.com/notebooks/data_table.ipynb>data table notebook</a>'\n",
              "            + ' to learn more about interactive tables.';\n",
              "          element.innerHTML = '';\n",
              "          dataTable['output_type'] = 'display_data';\n",
              "          await google.colab.output.renderOutput(dataTable, element);\n",
              "          const docLink = document.createElement('div');\n",
              "          docLink.innerHTML = docLinkHtml;\n",
              "          element.appendChild(docLink);\n",
              "        }\n",
              "      </script>\n",
              "    </div>\n",
              "  </div>\n",
              "  "
            ]
          },
          "metadata": {},
          "execution_count": 37
        }
      ]
    },
    {
      "cell_type": "code",
      "source": [
        "# Check the datatypes to make sure the datime conversion was successful.\n",
        "water_quality_df.dtypes"
      ],
      "metadata": {
        "colab": {
          "base_uri": "https://localhost:8080/"
        },
        "id": "ATbzfP1ZqI_r",
        "outputId": "94c9a3c8-c5dc-4762-8ef3-9700f3065efc"
      },
      "execution_count": 38,
      "outputs": [
        {
          "output_type": "execute_result",
          "data": {
            "text/plain": [
              "date                                      datetime64[ns]\n",
              "Year                                               int64\n",
              "Beach ID(Def.)                                    object\n",
              "Beach Name(Def.)                                  object\n",
              "StationID(Def.)                                   object\n",
              "Station Name (Def.)                               object\n",
              "Identifier(Def.)                                  object\n",
              "StartTime(Def.)                                   object\n",
              "ZoneCode(Def.)                                    object\n",
              "ResultValue(Def.)                                float64\n",
              "ResultMeasureUnit                                 object\n",
              "ResultAnalyticalMethodIdentifier(Def.)            object\n",
              "ResultAnalyticalMethodName(Def.)                  object\n",
              "dtype: object"
            ]
          },
          "metadata": {},
          "execution_count": 38
        }
      ]
    },
    {
      "cell_type": "markdown",
      "source": [
        "### Renaming Columns to match database schema."
      ],
      "metadata": {
        "id": "U0Cn9I2IOW12"
      }
    },
    {
      "cell_type": "code",
      "source": [
        "# Renaming the columns to match the database schema.\n",
        "renamed_water_quality_df = water_quality_df .rename(columns={\"Year\":\"year\", \"Beach ID(Def.)\": \"beach_id\", \"Beach Name(Def.)\": \"beach_name\",\n",
        "                                                             \"StationID(Def.)\":\"station_id\", \"Station Name (Def.)\":\"station_name\",\n",
        "                                                             \"Identifier(Def.)\":\"identifier\", \"StartTime(Def.)\":\"start_time\", \"ZoneCode(Def.)\":\"zone_code\",\n",
        "                                                             \"ResultValue(Def.)\":\"bacteria_count\", \"ResultMeasureUnit\":\"result_measure_unit\",\n",
        "                                                             \"ResultAnalyticalMethodIdentifier(Def.)\":\"result_analytical_method_identifier\",\n",
        "                                                             \"ResultAnalyticalMethodName(Def.)\":\"result_analytical_method_name\"})\n",
        "                                                         \n",
        "                                                    \n",
        "\n",
        "renamed_water_quality_df.head(2)"
      ],
      "metadata": {
        "colab": {
          "base_uri": "https://localhost:8080/",
          "height": 211
        },
        "id": "BZS6tSFqOeV1",
        "outputId": "1821db24-5e10-41a4-d357-c0dedefb94a3"
      },
      "execution_count": 39,
      "outputs": [
        {
          "output_type": "execute_result",
          "data": {
            "text/plain": [
              "        date  year  beach_id     beach_name station_id         station_name  \\\n",
              "0 2021-12-27  2021  TX974690  Jamaica Beach     GAL014  Jamaica Beach South   \n",
              "1 2021-12-27  2021  TX974690  Jamaica Beach     GAL014  Jamaica Beach South   \n",
              "\n",
              "              identifier   start_time zone_code  bacteria_count  \\\n",
              "0  GAL014_20211227_90752  09:00:00 AM       CDT            7.94   \n",
              "1  GAL014_20211227_90752  09:00:00 AM       CDT           20.00   \n",
              "\n",
              "  result_measure_unit result_analytical_method_identifier  \\\n",
              "0           MPN/100ml                               19299   \n",
              "1           MPN/100ml                               19299   \n",
              "\n",
              "  result_analytical_method_name  \n",
              "0                    ENTEROLERT  \n",
              "1                    ENTEROLERT  "
            ],
            "text/html": [
              "\n",
              "  <div id=\"df-0adb50df-dbea-4b4f-a2c3-685e67d2f47d\">\n",
              "    <div class=\"colab-df-container\">\n",
              "      <div>\n",
              "<style scoped>\n",
              "    .dataframe tbody tr th:only-of-type {\n",
              "        vertical-align: middle;\n",
              "    }\n",
              "\n",
              "    .dataframe tbody tr th {\n",
              "        vertical-align: top;\n",
              "    }\n",
              "\n",
              "    .dataframe thead th {\n",
              "        text-align: right;\n",
              "    }\n",
              "</style>\n",
              "<table border=\"1\" class=\"dataframe\">\n",
              "  <thead>\n",
              "    <tr style=\"text-align: right;\">\n",
              "      <th></th>\n",
              "      <th>date</th>\n",
              "      <th>year</th>\n",
              "      <th>beach_id</th>\n",
              "      <th>beach_name</th>\n",
              "      <th>station_id</th>\n",
              "      <th>station_name</th>\n",
              "      <th>identifier</th>\n",
              "      <th>start_time</th>\n",
              "      <th>zone_code</th>\n",
              "      <th>bacteria_count</th>\n",
              "      <th>result_measure_unit</th>\n",
              "      <th>result_analytical_method_identifier</th>\n",
              "      <th>result_analytical_method_name</th>\n",
              "    </tr>\n",
              "  </thead>\n",
              "  <tbody>\n",
              "    <tr>\n",
              "      <th>0</th>\n",
              "      <td>2021-12-27</td>\n",
              "      <td>2021</td>\n",
              "      <td>TX974690</td>\n",
              "      <td>Jamaica Beach</td>\n",
              "      <td>GAL014</td>\n",
              "      <td>Jamaica Beach South</td>\n",
              "      <td>GAL014_20211227_90752</td>\n",
              "      <td>09:00:00 AM</td>\n",
              "      <td>CDT</td>\n",
              "      <td>7.94</td>\n",
              "      <td>MPN/100ml</td>\n",
              "      <td>19299</td>\n",
              "      <td>ENTEROLERT</td>\n",
              "    </tr>\n",
              "    <tr>\n",
              "      <th>1</th>\n",
              "      <td>2021-12-27</td>\n",
              "      <td>2021</td>\n",
              "      <td>TX974690</td>\n",
              "      <td>Jamaica Beach</td>\n",
              "      <td>GAL014</td>\n",
              "      <td>Jamaica Beach South</td>\n",
              "      <td>GAL014_20211227_90752</td>\n",
              "      <td>09:00:00 AM</td>\n",
              "      <td>CDT</td>\n",
              "      <td>20.00</td>\n",
              "      <td>MPN/100ml</td>\n",
              "      <td>19299</td>\n",
              "      <td>ENTEROLERT</td>\n",
              "    </tr>\n",
              "  </tbody>\n",
              "</table>\n",
              "</div>\n",
              "      <button class=\"colab-df-convert\" onclick=\"convertToInteractive('df-0adb50df-dbea-4b4f-a2c3-685e67d2f47d')\"\n",
              "              title=\"Convert this dataframe to an interactive table.\"\n",
              "              style=\"display:none;\">\n",
              "        \n",
              "  <svg xmlns=\"http://www.w3.org/2000/svg\" height=\"24px\"viewBox=\"0 0 24 24\"\n",
              "       width=\"24px\">\n",
              "    <path d=\"M0 0h24v24H0V0z\" fill=\"none\"/>\n",
              "    <path d=\"M18.56 5.44l.94 2.06.94-2.06 2.06-.94-2.06-.94-.94-2.06-.94 2.06-2.06.94zm-11 1L8.5 8.5l.94-2.06 2.06-.94-2.06-.94L8.5 2.5l-.94 2.06-2.06.94zm10 10l.94 2.06.94-2.06 2.06-.94-2.06-.94-.94-2.06-.94 2.06-2.06.94z\"/><path d=\"M17.41 7.96l-1.37-1.37c-.4-.4-.92-.59-1.43-.59-.52 0-1.04.2-1.43.59L10.3 9.45l-7.72 7.72c-.78.78-.78 2.05 0 2.83L4 21.41c.39.39.9.59 1.41.59.51 0 1.02-.2 1.41-.59l7.78-7.78 2.81-2.81c.8-.78.8-2.07 0-2.86zM5.41 20L4 18.59l7.72-7.72 1.47 1.35L5.41 20z\"/>\n",
              "  </svg>\n",
              "      </button>\n",
              "      \n",
              "  <style>\n",
              "    .colab-df-container {\n",
              "      display:flex;\n",
              "      flex-wrap:wrap;\n",
              "      gap: 12px;\n",
              "    }\n",
              "\n",
              "    .colab-df-convert {\n",
              "      background-color: #E8F0FE;\n",
              "      border: none;\n",
              "      border-radius: 50%;\n",
              "      cursor: pointer;\n",
              "      display: none;\n",
              "      fill: #1967D2;\n",
              "      height: 32px;\n",
              "      padding: 0 0 0 0;\n",
              "      width: 32px;\n",
              "    }\n",
              "\n",
              "    .colab-df-convert:hover {\n",
              "      background-color: #E2EBFA;\n",
              "      box-shadow: 0px 1px 2px rgba(60, 64, 67, 0.3), 0px 1px 3px 1px rgba(60, 64, 67, 0.15);\n",
              "      fill: #174EA6;\n",
              "    }\n",
              "\n",
              "    [theme=dark] .colab-df-convert {\n",
              "      background-color: #3B4455;\n",
              "      fill: #D2E3FC;\n",
              "    }\n",
              "\n",
              "    [theme=dark] .colab-df-convert:hover {\n",
              "      background-color: #434B5C;\n",
              "      box-shadow: 0px 1px 3px 1px rgba(0, 0, 0, 0.15);\n",
              "      filter: drop-shadow(0px 1px 2px rgba(0, 0, 0, 0.3));\n",
              "      fill: #FFFFFF;\n",
              "    }\n",
              "  </style>\n",
              "\n",
              "      <script>\n",
              "        const buttonEl =\n",
              "          document.querySelector('#df-0adb50df-dbea-4b4f-a2c3-685e67d2f47d button.colab-df-convert');\n",
              "        buttonEl.style.display =\n",
              "          google.colab.kernel.accessAllowed ? 'block' : 'none';\n",
              "\n",
              "        async function convertToInteractive(key) {\n",
              "          const element = document.querySelector('#df-0adb50df-dbea-4b4f-a2c3-685e67d2f47d');\n",
              "          const dataTable =\n",
              "            await google.colab.kernel.invokeFunction('convertToInteractive',\n",
              "                                                     [key], {});\n",
              "          if (!dataTable) return;\n",
              "\n",
              "          const docLinkHtml = 'Like what you see? Visit the ' +\n",
              "            '<a target=\"_blank\" href=https://colab.research.google.com/notebooks/data_table.ipynb>data table notebook</a>'\n",
              "            + ' to learn more about interactive tables.';\n",
              "          element.innerHTML = '';\n",
              "          dataTable['output_type'] = 'display_data';\n",
              "          await google.colab.output.renderOutput(dataTable, element);\n",
              "          const docLink = document.createElement('div');\n",
              "          docLink.innerHTML = docLinkHtml;\n",
              "          element.appendChild(docLink);\n",
              "        }\n",
              "      </script>\n",
              "    </div>\n",
              "  </div>\n",
              "  "
            ]
          },
          "metadata": {},
          "execution_count": 39
        }
      ]
    },
    {
      "cell_type": "markdown",
      "source": [
        "# Main Weather Station file"
      ],
      "metadata": {
        "id": "nSth4Vjkpee_"
      }
    },
    {
      "cell_type": "code",
      "source": [
        "# Bianca's path - Read beach_attributes from local gdrive location, MUST BE CHANGED TO MATCH YOUR FILE LOCATION!!!\n",
        "weather_station1_df= pd.read_csv(\"/content/drive/MyDrive/Data/WX Station/USW00012923.csv\",skiprows=1)\n",
        "weather_station1_df.head(2)"
      ],
      "metadata": {
        "id": "gTUoDbTRp3np",
        "colab": {
          "base_uri": "https://localhost:8080/",
          "height": 112
        },
        "outputId": "2df15586-c0b2-4c50-a59d-0079e6f1076a"
      },
      "execution_count": 40,
      "outputs": [
        {
          "output_type": "execute_result",
          "data": {
            "text/plain": [
              "         Date  TAVG (Degrees Fahrenheit)  TMAX (Degrees Fahrenheit)  \\\n",
              "0  1946-08-01                        NaN                       86.0   \n",
              "1  1946-08-02                        NaN                       80.0   \n",
              "\n",
              "   TMIN (Degrees Fahrenheit)  PRCP (Inches)  SNOW (Inches)  SNWD (Inches)  \n",
              "0                       77.0            0.0            0.0            0.0  \n",
              "1                       78.0            0.0            0.0            0.0  "
            ],
            "text/html": [
              "\n",
              "  <div id=\"df-2fbed4bb-061c-43c5-800b-369ce8cdcf66\">\n",
              "    <div class=\"colab-df-container\">\n",
              "      <div>\n",
              "<style scoped>\n",
              "    .dataframe tbody tr th:only-of-type {\n",
              "        vertical-align: middle;\n",
              "    }\n",
              "\n",
              "    .dataframe tbody tr th {\n",
              "        vertical-align: top;\n",
              "    }\n",
              "\n",
              "    .dataframe thead th {\n",
              "        text-align: right;\n",
              "    }\n",
              "</style>\n",
              "<table border=\"1\" class=\"dataframe\">\n",
              "  <thead>\n",
              "    <tr style=\"text-align: right;\">\n",
              "      <th></th>\n",
              "      <th>Date</th>\n",
              "      <th>TAVG (Degrees Fahrenheit)</th>\n",
              "      <th>TMAX (Degrees Fahrenheit)</th>\n",
              "      <th>TMIN (Degrees Fahrenheit)</th>\n",
              "      <th>PRCP (Inches)</th>\n",
              "      <th>SNOW (Inches)</th>\n",
              "      <th>SNWD (Inches)</th>\n",
              "    </tr>\n",
              "  </thead>\n",
              "  <tbody>\n",
              "    <tr>\n",
              "      <th>0</th>\n",
              "      <td>1946-08-01</td>\n",
              "      <td>NaN</td>\n",
              "      <td>86.0</td>\n",
              "      <td>77.0</td>\n",
              "      <td>0.0</td>\n",
              "      <td>0.0</td>\n",
              "      <td>0.0</td>\n",
              "    </tr>\n",
              "    <tr>\n",
              "      <th>1</th>\n",
              "      <td>1946-08-02</td>\n",
              "      <td>NaN</td>\n",
              "      <td>80.0</td>\n",
              "      <td>78.0</td>\n",
              "      <td>0.0</td>\n",
              "      <td>0.0</td>\n",
              "      <td>0.0</td>\n",
              "    </tr>\n",
              "  </tbody>\n",
              "</table>\n",
              "</div>\n",
              "      <button class=\"colab-df-convert\" onclick=\"convertToInteractive('df-2fbed4bb-061c-43c5-800b-369ce8cdcf66')\"\n",
              "              title=\"Convert this dataframe to an interactive table.\"\n",
              "              style=\"display:none;\">\n",
              "        \n",
              "  <svg xmlns=\"http://www.w3.org/2000/svg\" height=\"24px\"viewBox=\"0 0 24 24\"\n",
              "       width=\"24px\">\n",
              "    <path d=\"M0 0h24v24H0V0z\" fill=\"none\"/>\n",
              "    <path d=\"M18.56 5.44l.94 2.06.94-2.06 2.06-.94-2.06-.94-.94-2.06-.94 2.06-2.06.94zm-11 1L8.5 8.5l.94-2.06 2.06-.94-2.06-.94L8.5 2.5l-.94 2.06-2.06.94zm10 10l.94 2.06.94-2.06 2.06-.94-2.06-.94-.94-2.06-.94 2.06-2.06.94z\"/><path d=\"M17.41 7.96l-1.37-1.37c-.4-.4-.92-.59-1.43-.59-.52 0-1.04.2-1.43.59L10.3 9.45l-7.72 7.72c-.78.78-.78 2.05 0 2.83L4 21.41c.39.39.9.59 1.41.59.51 0 1.02-.2 1.41-.59l7.78-7.78 2.81-2.81c.8-.78.8-2.07 0-2.86zM5.41 20L4 18.59l7.72-7.72 1.47 1.35L5.41 20z\"/>\n",
              "  </svg>\n",
              "      </button>\n",
              "      \n",
              "  <style>\n",
              "    .colab-df-container {\n",
              "      display:flex;\n",
              "      flex-wrap:wrap;\n",
              "      gap: 12px;\n",
              "    }\n",
              "\n",
              "    .colab-df-convert {\n",
              "      background-color: #E8F0FE;\n",
              "      border: none;\n",
              "      border-radius: 50%;\n",
              "      cursor: pointer;\n",
              "      display: none;\n",
              "      fill: #1967D2;\n",
              "      height: 32px;\n",
              "      padding: 0 0 0 0;\n",
              "      width: 32px;\n",
              "    }\n",
              "\n",
              "    .colab-df-convert:hover {\n",
              "      background-color: #E2EBFA;\n",
              "      box-shadow: 0px 1px 2px rgba(60, 64, 67, 0.3), 0px 1px 3px 1px rgba(60, 64, 67, 0.15);\n",
              "      fill: #174EA6;\n",
              "    }\n",
              "\n",
              "    [theme=dark] .colab-df-convert {\n",
              "      background-color: #3B4455;\n",
              "      fill: #D2E3FC;\n",
              "    }\n",
              "\n",
              "    [theme=dark] .colab-df-convert:hover {\n",
              "      background-color: #434B5C;\n",
              "      box-shadow: 0px 1px 3px 1px rgba(0, 0, 0, 0.15);\n",
              "      filter: drop-shadow(0px 1px 2px rgba(0, 0, 0, 0.3));\n",
              "      fill: #FFFFFF;\n",
              "    }\n",
              "  </style>\n",
              "\n",
              "      <script>\n",
              "        const buttonEl =\n",
              "          document.querySelector('#df-2fbed4bb-061c-43c5-800b-369ce8cdcf66 button.colab-df-convert');\n",
              "        buttonEl.style.display =\n",
              "          google.colab.kernel.accessAllowed ? 'block' : 'none';\n",
              "\n",
              "        async function convertToInteractive(key) {\n",
              "          const element = document.querySelector('#df-2fbed4bb-061c-43c5-800b-369ce8cdcf66');\n",
              "          const dataTable =\n",
              "            await google.colab.kernel.invokeFunction('convertToInteractive',\n",
              "                                                     [key], {});\n",
              "          if (!dataTable) return;\n",
              "\n",
              "          const docLinkHtml = 'Like what you see? Visit the ' +\n",
              "            '<a target=\"_blank\" href=https://colab.research.google.com/notebooks/data_table.ipynb>data table notebook</a>'\n",
              "            + ' to learn more about interactive tables.';\n",
              "          element.innerHTML = '';\n",
              "          dataTable['output_type'] = 'display_data';\n",
              "          await google.colab.output.renderOutput(dataTable, element);\n",
              "          const docLink = document.createElement('div');\n",
              "          docLink.innerHTML = docLinkHtml;\n",
              "          element.appendChild(docLink);\n",
              "        }\n",
              "      </script>\n",
              "    </div>\n",
              "  </div>\n",
              "  "
            ]
          },
          "metadata": {},
          "execution_count": 40
        }
      ]
    },
    {
      "cell_type": "code",
      "source": [
        "# Drop null values.\n",
        "weather_station1_df.dropna()"
      ],
      "metadata": {
        "id": "DB9Kk36lp3eR",
        "colab": {
          "base_uri": "https://localhost:8080/",
          "height": 423
        },
        "outputId": "5cc46f19-d27f-4372-e352-936f6ab13c1e"
      },
      "execution_count": 41,
      "outputs": [
        {
          "output_type": "execute_result",
          "data": {
            "text/plain": [
              "             Date  TAVG (Degrees Fahrenheit)  TMAX (Degrees Fahrenheit)  \\\n",
              "10684  2005-03-06                       65.0                       67.0   \n",
              "10685  2005-03-07                       67.0                       71.0   \n",
              "10686  2005-03-08                       62.0                       66.0   \n",
              "10687  2005-03-09                       65.0                       74.0   \n",
              "10688  2005-03-10                       59.0                       68.0   \n",
              "...           ...                        ...                        ...   \n",
              "16978  2022-05-31                       86.0                       91.0   \n",
              "16979  2022-06-01                       86.0                       90.0   \n",
              "16980  2022-06-02                       85.0                       93.0   \n",
              "16981  2022-06-03                       83.0                       90.0   \n",
              "16982  2022-06-04                       83.0                       89.0   \n",
              "\n",
              "       TMIN (Degrees Fahrenheit)  PRCP (Inches)  SNOW (Inches)  SNWD (Inches)  \n",
              "10684                       62.0           0.00            0.0            0.0  \n",
              "10685                       63.0           1.67            0.0            0.0  \n",
              "10686                       57.0           0.00            0.0            0.0  \n",
              "10687                       55.0           0.00            0.0            0.0  \n",
              "10688                       50.0           0.00            0.0            0.0  \n",
              "...                          ...            ...            ...            ...  \n",
              "16978                       83.0           0.00            0.0            0.0  \n",
              "16979                       81.0           0.00            0.0            0.0  \n",
              "16980                       77.0           0.59            0.0            0.0  \n",
              "16981                       78.0           0.00            0.0            0.0  \n",
              "16982                       80.0           0.00            0.0            0.0  \n",
              "\n",
              "[5869 rows x 7 columns]"
            ],
            "text/html": [
              "\n",
              "  <div id=\"df-7a4d03fe-8d76-42b2-9782-f745df6fc124\">\n",
              "    <div class=\"colab-df-container\">\n",
              "      <div>\n",
              "<style scoped>\n",
              "    .dataframe tbody tr th:only-of-type {\n",
              "        vertical-align: middle;\n",
              "    }\n",
              "\n",
              "    .dataframe tbody tr th {\n",
              "        vertical-align: top;\n",
              "    }\n",
              "\n",
              "    .dataframe thead th {\n",
              "        text-align: right;\n",
              "    }\n",
              "</style>\n",
              "<table border=\"1\" class=\"dataframe\">\n",
              "  <thead>\n",
              "    <tr style=\"text-align: right;\">\n",
              "      <th></th>\n",
              "      <th>Date</th>\n",
              "      <th>TAVG (Degrees Fahrenheit)</th>\n",
              "      <th>TMAX (Degrees Fahrenheit)</th>\n",
              "      <th>TMIN (Degrees Fahrenheit)</th>\n",
              "      <th>PRCP (Inches)</th>\n",
              "      <th>SNOW (Inches)</th>\n",
              "      <th>SNWD (Inches)</th>\n",
              "    </tr>\n",
              "  </thead>\n",
              "  <tbody>\n",
              "    <tr>\n",
              "      <th>10684</th>\n",
              "      <td>2005-03-06</td>\n",
              "      <td>65.0</td>\n",
              "      <td>67.0</td>\n",
              "      <td>62.0</td>\n",
              "      <td>0.00</td>\n",
              "      <td>0.0</td>\n",
              "      <td>0.0</td>\n",
              "    </tr>\n",
              "    <tr>\n",
              "      <th>10685</th>\n",
              "      <td>2005-03-07</td>\n",
              "      <td>67.0</td>\n",
              "      <td>71.0</td>\n",
              "      <td>63.0</td>\n",
              "      <td>1.67</td>\n",
              "      <td>0.0</td>\n",
              "      <td>0.0</td>\n",
              "    </tr>\n",
              "    <tr>\n",
              "      <th>10686</th>\n",
              "      <td>2005-03-08</td>\n",
              "      <td>62.0</td>\n",
              "      <td>66.0</td>\n",
              "      <td>57.0</td>\n",
              "      <td>0.00</td>\n",
              "      <td>0.0</td>\n",
              "      <td>0.0</td>\n",
              "    </tr>\n",
              "    <tr>\n",
              "      <th>10687</th>\n",
              "      <td>2005-03-09</td>\n",
              "      <td>65.0</td>\n",
              "      <td>74.0</td>\n",
              "      <td>55.0</td>\n",
              "      <td>0.00</td>\n",
              "      <td>0.0</td>\n",
              "      <td>0.0</td>\n",
              "    </tr>\n",
              "    <tr>\n",
              "      <th>10688</th>\n",
              "      <td>2005-03-10</td>\n",
              "      <td>59.0</td>\n",
              "      <td>68.0</td>\n",
              "      <td>50.0</td>\n",
              "      <td>0.00</td>\n",
              "      <td>0.0</td>\n",
              "      <td>0.0</td>\n",
              "    </tr>\n",
              "    <tr>\n",
              "      <th>...</th>\n",
              "      <td>...</td>\n",
              "      <td>...</td>\n",
              "      <td>...</td>\n",
              "      <td>...</td>\n",
              "      <td>...</td>\n",
              "      <td>...</td>\n",
              "      <td>...</td>\n",
              "    </tr>\n",
              "    <tr>\n",
              "      <th>16978</th>\n",
              "      <td>2022-05-31</td>\n",
              "      <td>86.0</td>\n",
              "      <td>91.0</td>\n",
              "      <td>83.0</td>\n",
              "      <td>0.00</td>\n",
              "      <td>0.0</td>\n",
              "      <td>0.0</td>\n",
              "    </tr>\n",
              "    <tr>\n",
              "      <th>16979</th>\n",
              "      <td>2022-06-01</td>\n",
              "      <td>86.0</td>\n",
              "      <td>90.0</td>\n",
              "      <td>81.0</td>\n",
              "      <td>0.00</td>\n",
              "      <td>0.0</td>\n",
              "      <td>0.0</td>\n",
              "    </tr>\n",
              "    <tr>\n",
              "      <th>16980</th>\n",
              "      <td>2022-06-02</td>\n",
              "      <td>85.0</td>\n",
              "      <td>93.0</td>\n",
              "      <td>77.0</td>\n",
              "      <td>0.59</td>\n",
              "      <td>0.0</td>\n",
              "      <td>0.0</td>\n",
              "    </tr>\n",
              "    <tr>\n",
              "      <th>16981</th>\n",
              "      <td>2022-06-03</td>\n",
              "      <td>83.0</td>\n",
              "      <td>90.0</td>\n",
              "      <td>78.0</td>\n",
              "      <td>0.00</td>\n",
              "      <td>0.0</td>\n",
              "      <td>0.0</td>\n",
              "    </tr>\n",
              "    <tr>\n",
              "      <th>16982</th>\n",
              "      <td>2022-06-04</td>\n",
              "      <td>83.0</td>\n",
              "      <td>89.0</td>\n",
              "      <td>80.0</td>\n",
              "      <td>0.00</td>\n",
              "      <td>0.0</td>\n",
              "      <td>0.0</td>\n",
              "    </tr>\n",
              "  </tbody>\n",
              "</table>\n",
              "<p>5869 rows × 7 columns</p>\n",
              "</div>\n",
              "      <button class=\"colab-df-convert\" onclick=\"convertToInteractive('df-7a4d03fe-8d76-42b2-9782-f745df6fc124')\"\n",
              "              title=\"Convert this dataframe to an interactive table.\"\n",
              "              style=\"display:none;\">\n",
              "        \n",
              "  <svg xmlns=\"http://www.w3.org/2000/svg\" height=\"24px\"viewBox=\"0 0 24 24\"\n",
              "       width=\"24px\">\n",
              "    <path d=\"M0 0h24v24H0V0z\" fill=\"none\"/>\n",
              "    <path d=\"M18.56 5.44l.94 2.06.94-2.06 2.06-.94-2.06-.94-.94-2.06-.94 2.06-2.06.94zm-11 1L8.5 8.5l.94-2.06 2.06-.94-2.06-.94L8.5 2.5l-.94 2.06-2.06.94zm10 10l.94 2.06.94-2.06 2.06-.94-2.06-.94-.94-2.06-.94 2.06-2.06.94z\"/><path d=\"M17.41 7.96l-1.37-1.37c-.4-.4-.92-.59-1.43-.59-.52 0-1.04.2-1.43.59L10.3 9.45l-7.72 7.72c-.78.78-.78 2.05 0 2.83L4 21.41c.39.39.9.59 1.41.59.51 0 1.02-.2 1.41-.59l7.78-7.78 2.81-2.81c.8-.78.8-2.07 0-2.86zM5.41 20L4 18.59l7.72-7.72 1.47 1.35L5.41 20z\"/>\n",
              "  </svg>\n",
              "      </button>\n",
              "      \n",
              "  <style>\n",
              "    .colab-df-container {\n",
              "      display:flex;\n",
              "      flex-wrap:wrap;\n",
              "      gap: 12px;\n",
              "    }\n",
              "\n",
              "    .colab-df-convert {\n",
              "      background-color: #E8F0FE;\n",
              "      border: none;\n",
              "      border-radius: 50%;\n",
              "      cursor: pointer;\n",
              "      display: none;\n",
              "      fill: #1967D2;\n",
              "      height: 32px;\n",
              "      padding: 0 0 0 0;\n",
              "      width: 32px;\n",
              "    }\n",
              "\n",
              "    .colab-df-convert:hover {\n",
              "      background-color: #E2EBFA;\n",
              "      box-shadow: 0px 1px 2px rgba(60, 64, 67, 0.3), 0px 1px 3px 1px rgba(60, 64, 67, 0.15);\n",
              "      fill: #174EA6;\n",
              "    }\n",
              "\n",
              "    [theme=dark] .colab-df-convert {\n",
              "      background-color: #3B4455;\n",
              "      fill: #D2E3FC;\n",
              "    }\n",
              "\n",
              "    [theme=dark] .colab-df-convert:hover {\n",
              "      background-color: #434B5C;\n",
              "      box-shadow: 0px 1px 3px 1px rgba(0, 0, 0, 0.15);\n",
              "      filter: drop-shadow(0px 1px 2px rgba(0, 0, 0, 0.3));\n",
              "      fill: #FFFFFF;\n",
              "    }\n",
              "  </style>\n",
              "\n",
              "      <script>\n",
              "        const buttonEl =\n",
              "          document.querySelector('#df-7a4d03fe-8d76-42b2-9782-f745df6fc124 button.colab-df-convert');\n",
              "        buttonEl.style.display =\n",
              "          google.colab.kernel.accessAllowed ? 'block' : 'none';\n",
              "\n",
              "        async function convertToInteractive(key) {\n",
              "          const element = document.querySelector('#df-7a4d03fe-8d76-42b2-9782-f745df6fc124');\n",
              "          const dataTable =\n",
              "            await google.colab.kernel.invokeFunction('convertToInteractive',\n",
              "                                                     [key], {});\n",
              "          if (!dataTable) return;\n",
              "\n",
              "          const docLinkHtml = 'Like what you see? Visit the ' +\n",
              "            '<a target=\"_blank\" href=https://colab.research.google.com/notebooks/data_table.ipynb>data table notebook</a>'\n",
              "            + ' to learn more about interactive tables.';\n",
              "          element.innerHTML = '';\n",
              "          dataTable['output_type'] = 'display_data';\n",
              "          await google.colab.output.renderOutput(dataTable, element);\n",
              "          const docLink = document.createElement('div');\n",
              "          docLink.innerHTML = docLinkHtml;\n",
              "          element.appendChild(docLink);\n",
              "        }\n",
              "      </script>\n",
              "    </div>\n",
              "  </div>\n",
              "  "
            ]
          },
          "metadata": {},
          "execution_count": 41
        }
      ]
    },
    {
      "cell_type": "code",
      "source": [
        "# Check the data types on each column\n",
        "weather_station1_df.dtypes"
      ],
      "metadata": {
        "id": "uHfIF00As-Jk",
        "colab": {
          "base_uri": "https://localhost:8080/"
        },
        "outputId": "7de79298-ab34-4e2a-c000-0e7fe69b8aa5"
      },
      "execution_count": 42,
      "outputs": [
        {
          "output_type": "execute_result",
          "data": {
            "text/plain": [
              "Date                          object\n",
              "TAVG (Degrees Fahrenheit)    float64\n",
              "TMAX (Degrees Fahrenheit)    float64\n",
              "TMIN (Degrees Fahrenheit)    float64\n",
              "PRCP (Inches)                float64\n",
              "SNOW (Inches)                float64\n",
              "SNWD (Inches)                float64\n",
              "dtype: object"
            ]
          },
          "metadata": {},
          "execution_count": 42
        }
      ]
    },
    {
      "cell_type": "code",
      "source": [
        "# Convert the column \"Date\" from object to datetime.\n",
        "weather_station1_df[\"date\"]= weather_station1_df[\"Date\"].apply(lambda x:datetime.strptime(x,\"%Y-%m-%d\"))\n",
        "\n",
        "# Shift column \"Date\" to first position\n",
        "first_column = weather_station1_df.pop(\"date\")\n",
        "\n",
        "# Insert column using insert(position,column_name,first_column) function\n",
        "weather_station1_df.insert(0, \"date\", first_column)\n",
        "\n",
        "# Drop the old column \"StartDate(Def.)\", which is now replaced by the column \"date\".\n",
        "weather_station1_df = weather_station1_df.drop(columns=[\"Date\"])\n",
        "\n",
        "weather_station1_df.head(2)"
      ],
      "metadata": {
        "colab": {
          "base_uri": "https://localhost:8080/",
          "height": 112
        },
        "id": "xmcLJU_Kn6q9",
        "outputId": "fd7a92e6-6077-4915-b39b-e78a6ded55fb"
      },
      "execution_count": 43,
      "outputs": [
        {
          "output_type": "execute_result",
          "data": {
            "text/plain": [
              "        date  TAVG (Degrees Fahrenheit)  TMAX (Degrees Fahrenheit)  \\\n",
              "0 1946-08-01                        NaN                       86.0   \n",
              "1 1946-08-02                        NaN                       80.0   \n",
              "\n",
              "   TMIN (Degrees Fahrenheit)  PRCP (Inches)  SNOW (Inches)  SNWD (Inches)  \n",
              "0                       77.0            0.0            0.0            0.0  \n",
              "1                       78.0            0.0            0.0            0.0  "
            ],
            "text/html": [
              "\n",
              "  <div id=\"df-3d74fedb-19b8-4c72-b910-7025ba93de0d\">\n",
              "    <div class=\"colab-df-container\">\n",
              "      <div>\n",
              "<style scoped>\n",
              "    .dataframe tbody tr th:only-of-type {\n",
              "        vertical-align: middle;\n",
              "    }\n",
              "\n",
              "    .dataframe tbody tr th {\n",
              "        vertical-align: top;\n",
              "    }\n",
              "\n",
              "    .dataframe thead th {\n",
              "        text-align: right;\n",
              "    }\n",
              "</style>\n",
              "<table border=\"1\" class=\"dataframe\">\n",
              "  <thead>\n",
              "    <tr style=\"text-align: right;\">\n",
              "      <th></th>\n",
              "      <th>date</th>\n",
              "      <th>TAVG (Degrees Fahrenheit)</th>\n",
              "      <th>TMAX (Degrees Fahrenheit)</th>\n",
              "      <th>TMIN (Degrees Fahrenheit)</th>\n",
              "      <th>PRCP (Inches)</th>\n",
              "      <th>SNOW (Inches)</th>\n",
              "      <th>SNWD (Inches)</th>\n",
              "    </tr>\n",
              "  </thead>\n",
              "  <tbody>\n",
              "    <tr>\n",
              "      <th>0</th>\n",
              "      <td>1946-08-01</td>\n",
              "      <td>NaN</td>\n",
              "      <td>86.0</td>\n",
              "      <td>77.0</td>\n",
              "      <td>0.0</td>\n",
              "      <td>0.0</td>\n",
              "      <td>0.0</td>\n",
              "    </tr>\n",
              "    <tr>\n",
              "      <th>1</th>\n",
              "      <td>1946-08-02</td>\n",
              "      <td>NaN</td>\n",
              "      <td>80.0</td>\n",
              "      <td>78.0</td>\n",
              "      <td>0.0</td>\n",
              "      <td>0.0</td>\n",
              "      <td>0.0</td>\n",
              "    </tr>\n",
              "  </tbody>\n",
              "</table>\n",
              "</div>\n",
              "      <button class=\"colab-df-convert\" onclick=\"convertToInteractive('df-3d74fedb-19b8-4c72-b910-7025ba93de0d')\"\n",
              "              title=\"Convert this dataframe to an interactive table.\"\n",
              "              style=\"display:none;\">\n",
              "        \n",
              "  <svg xmlns=\"http://www.w3.org/2000/svg\" height=\"24px\"viewBox=\"0 0 24 24\"\n",
              "       width=\"24px\">\n",
              "    <path d=\"M0 0h24v24H0V0z\" fill=\"none\"/>\n",
              "    <path d=\"M18.56 5.44l.94 2.06.94-2.06 2.06-.94-2.06-.94-.94-2.06-.94 2.06-2.06.94zm-11 1L8.5 8.5l.94-2.06 2.06-.94-2.06-.94L8.5 2.5l-.94 2.06-2.06.94zm10 10l.94 2.06.94-2.06 2.06-.94-2.06-.94-.94-2.06-.94 2.06-2.06.94z\"/><path d=\"M17.41 7.96l-1.37-1.37c-.4-.4-.92-.59-1.43-.59-.52 0-1.04.2-1.43.59L10.3 9.45l-7.72 7.72c-.78.78-.78 2.05 0 2.83L4 21.41c.39.39.9.59 1.41.59.51 0 1.02-.2 1.41-.59l7.78-7.78 2.81-2.81c.8-.78.8-2.07 0-2.86zM5.41 20L4 18.59l7.72-7.72 1.47 1.35L5.41 20z\"/>\n",
              "  </svg>\n",
              "      </button>\n",
              "      \n",
              "  <style>\n",
              "    .colab-df-container {\n",
              "      display:flex;\n",
              "      flex-wrap:wrap;\n",
              "      gap: 12px;\n",
              "    }\n",
              "\n",
              "    .colab-df-convert {\n",
              "      background-color: #E8F0FE;\n",
              "      border: none;\n",
              "      border-radius: 50%;\n",
              "      cursor: pointer;\n",
              "      display: none;\n",
              "      fill: #1967D2;\n",
              "      height: 32px;\n",
              "      padding: 0 0 0 0;\n",
              "      width: 32px;\n",
              "    }\n",
              "\n",
              "    .colab-df-convert:hover {\n",
              "      background-color: #E2EBFA;\n",
              "      box-shadow: 0px 1px 2px rgba(60, 64, 67, 0.3), 0px 1px 3px 1px rgba(60, 64, 67, 0.15);\n",
              "      fill: #174EA6;\n",
              "    }\n",
              "\n",
              "    [theme=dark] .colab-df-convert {\n",
              "      background-color: #3B4455;\n",
              "      fill: #D2E3FC;\n",
              "    }\n",
              "\n",
              "    [theme=dark] .colab-df-convert:hover {\n",
              "      background-color: #434B5C;\n",
              "      box-shadow: 0px 1px 3px 1px rgba(0, 0, 0, 0.15);\n",
              "      filter: drop-shadow(0px 1px 2px rgba(0, 0, 0, 0.3));\n",
              "      fill: #FFFFFF;\n",
              "    }\n",
              "  </style>\n",
              "\n",
              "      <script>\n",
              "        const buttonEl =\n",
              "          document.querySelector('#df-3d74fedb-19b8-4c72-b910-7025ba93de0d button.colab-df-convert');\n",
              "        buttonEl.style.display =\n",
              "          google.colab.kernel.accessAllowed ? 'block' : 'none';\n",
              "\n",
              "        async function convertToInteractive(key) {\n",
              "          const element = document.querySelector('#df-3d74fedb-19b8-4c72-b910-7025ba93de0d');\n",
              "          const dataTable =\n",
              "            await google.colab.kernel.invokeFunction('convertToInteractive',\n",
              "                                                     [key], {});\n",
              "          if (!dataTable) return;\n",
              "\n",
              "          const docLinkHtml = 'Like what you see? Visit the ' +\n",
              "            '<a target=\"_blank\" href=https://colab.research.google.com/notebooks/data_table.ipynb>data table notebook</a>'\n",
              "            + ' to learn more about interactive tables.';\n",
              "          element.innerHTML = '';\n",
              "          dataTable['output_type'] = 'display_data';\n",
              "          await google.colab.output.renderOutput(dataTable, element);\n",
              "          const docLink = document.createElement('div');\n",
              "          docLink.innerHTML = docLinkHtml;\n",
              "          element.appendChild(docLink);\n",
              "        }\n",
              "      </script>\n",
              "    </div>\n",
              "  </div>\n",
              "  "
            ]
          },
          "metadata": {},
          "execution_count": 43
        }
      ]
    },
    {
      "cell_type": "code",
      "source": [
        "# Check the datatypes to make sure conversion happened.\n",
        "weather_station1_df.dtypes"
      ],
      "metadata": {
        "colab": {
          "base_uri": "https://localhost:8080/"
        },
        "id": "9WMjXqhhogn8",
        "outputId": "b8e93e26-5d87-48f0-b67a-1e32e679c060"
      },
      "execution_count": 44,
      "outputs": [
        {
          "output_type": "execute_result",
          "data": {
            "text/plain": [
              "date                         datetime64[ns]\n",
              "TAVG (Degrees Fahrenheit)           float64\n",
              "TMAX (Degrees Fahrenheit)           float64\n",
              "TMIN (Degrees Fahrenheit)           float64\n",
              "PRCP (Inches)                       float64\n",
              "SNOW (Inches)                       float64\n",
              "SNWD (Inches)                       float64\n",
              "dtype: object"
            ]
          },
          "metadata": {},
          "execution_count": 44
        }
      ]
    },
    {
      "cell_type": "code",
      "source": [
        "# Renaming the columns to match the database schema.\n",
        "renamed_weather_station1_df = weather_station1_df.rename(columns={\"date\":\"date1\", \"TAVG (Degrees Fahrenheit)\":\"avg_temp1\", \"TMAX (Degrees Fahrenheit)\":\"max_temp1\",\n",
        "                                                        \"TMIN (Degrees Fahrenheit)\":\"min_temp1\", \"PRCP (Inches)\":\"precipitation1\",\n",
        "                                                        \"SNOW (Inches)\":\"snowfall1\", \"SNWD (Inches)\":\"snow_depth1\"})\n",
        "\n",
        "renamed_weather_station1_df.head(2)"
      ],
      "metadata": {
        "id": "5t6Wm5i1tPhT",
        "colab": {
          "base_uri": "https://localhost:8080/",
          "height": 112
        },
        "outputId": "4423ace4-2699-4ad6-d498-3426e5947a69"
      },
      "execution_count": 45,
      "outputs": [
        {
          "output_type": "execute_result",
          "data": {
            "text/plain": [
              "       date1  avg_temp1  max_temp1  min_temp1  precipitation1  snowfall1  \\\n",
              "0 1946-08-01        NaN       86.0       77.0             0.0        0.0   \n",
              "1 1946-08-02        NaN       80.0       78.0             0.0        0.0   \n",
              "\n",
              "   snow_depth1  \n",
              "0          0.0  \n",
              "1          0.0  "
            ],
            "text/html": [
              "\n",
              "  <div id=\"df-7a8a0c21-8574-4432-a132-9f181991d633\">\n",
              "    <div class=\"colab-df-container\">\n",
              "      <div>\n",
              "<style scoped>\n",
              "    .dataframe tbody tr th:only-of-type {\n",
              "        vertical-align: middle;\n",
              "    }\n",
              "\n",
              "    .dataframe tbody tr th {\n",
              "        vertical-align: top;\n",
              "    }\n",
              "\n",
              "    .dataframe thead th {\n",
              "        text-align: right;\n",
              "    }\n",
              "</style>\n",
              "<table border=\"1\" class=\"dataframe\">\n",
              "  <thead>\n",
              "    <tr style=\"text-align: right;\">\n",
              "      <th></th>\n",
              "      <th>date1</th>\n",
              "      <th>avg_temp1</th>\n",
              "      <th>max_temp1</th>\n",
              "      <th>min_temp1</th>\n",
              "      <th>precipitation1</th>\n",
              "      <th>snowfall1</th>\n",
              "      <th>snow_depth1</th>\n",
              "    </tr>\n",
              "  </thead>\n",
              "  <tbody>\n",
              "    <tr>\n",
              "      <th>0</th>\n",
              "      <td>1946-08-01</td>\n",
              "      <td>NaN</td>\n",
              "      <td>86.0</td>\n",
              "      <td>77.0</td>\n",
              "      <td>0.0</td>\n",
              "      <td>0.0</td>\n",
              "      <td>0.0</td>\n",
              "    </tr>\n",
              "    <tr>\n",
              "      <th>1</th>\n",
              "      <td>1946-08-02</td>\n",
              "      <td>NaN</td>\n",
              "      <td>80.0</td>\n",
              "      <td>78.0</td>\n",
              "      <td>0.0</td>\n",
              "      <td>0.0</td>\n",
              "      <td>0.0</td>\n",
              "    </tr>\n",
              "  </tbody>\n",
              "</table>\n",
              "</div>\n",
              "      <button class=\"colab-df-convert\" onclick=\"convertToInteractive('df-7a8a0c21-8574-4432-a132-9f181991d633')\"\n",
              "              title=\"Convert this dataframe to an interactive table.\"\n",
              "              style=\"display:none;\">\n",
              "        \n",
              "  <svg xmlns=\"http://www.w3.org/2000/svg\" height=\"24px\"viewBox=\"0 0 24 24\"\n",
              "       width=\"24px\">\n",
              "    <path d=\"M0 0h24v24H0V0z\" fill=\"none\"/>\n",
              "    <path d=\"M18.56 5.44l.94 2.06.94-2.06 2.06-.94-2.06-.94-.94-2.06-.94 2.06-2.06.94zm-11 1L8.5 8.5l.94-2.06 2.06-.94-2.06-.94L8.5 2.5l-.94 2.06-2.06.94zm10 10l.94 2.06.94-2.06 2.06-.94-2.06-.94-.94-2.06-.94 2.06-2.06.94z\"/><path d=\"M17.41 7.96l-1.37-1.37c-.4-.4-.92-.59-1.43-.59-.52 0-1.04.2-1.43.59L10.3 9.45l-7.72 7.72c-.78.78-.78 2.05 0 2.83L4 21.41c.39.39.9.59 1.41.59.51 0 1.02-.2 1.41-.59l7.78-7.78 2.81-2.81c.8-.78.8-2.07 0-2.86zM5.41 20L4 18.59l7.72-7.72 1.47 1.35L5.41 20z\"/>\n",
              "  </svg>\n",
              "      </button>\n",
              "      \n",
              "  <style>\n",
              "    .colab-df-container {\n",
              "      display:flex;\n",
              "      flex-wrap:wrap;\n",
              "      gap: 12px;\n",
              "    }\n",
              "\n",
              "    .colab-df-convert {\n",
              "      background-color: #E8F0FE;\n",
              "      border: none;\n",
              "      border-radius: 50%;\n",
              "      cursor: pointer;\n",
              "      display: none;\n",
              "      fill: #1967D2;\n",
              "      height: 32px;\n",
              "      padding: 0 0 0 0;\n",
              "      width: 32px;\n",
              "    }\n",
              "\n",
              "    .colab-df-convert:hover {\n",
              "      background-color: #E2EBFA;\n",
              "      box-shadow: 0px 1px 2px rgba(60, 64, 67, 0.3), 0px 1px 3px 1px rgba(60, 64, 67, 0.15);\n",
              "      fill: #174EA6;\n",
              "    }\n",
              "\n",
              "    [theme=dark] .colab-df-convert {\n",
              "      background-color: #3B4455;\n",
              "      fill: #D2E3FC;\n",
              "    }\n",
              "\n",
              "    [theme=dark] .colab-df-convert:hover {\n",
              "      background-color: #434B5C;\n",
              "      box-shadow: 0px 1px 3px 1px rgba(0, 0, 0, 0.15);\n",
              "      filter: drop-shadow(0px 1px 2px rgba(0, 0, 0, 0.3));\n",
              "      fill: #FFFFFF;\n",
              "    }\n",
              "  </style>\n",
              "\n",
              "      <script>\n",
              "        const buttonEl =\n",
              "          document.querySelector('#df-7a8a0c21-8574-4432-a132-9f181991d633 button.colab-df-convert');\n",
              "        buttonEl.style.display =\n",
              "          google.colab.kernel.accessAllowed ? 'block' : 'none';\n",
              "\n",
              "        async function convertToInteractive(key) {\n",
              "          const element = document.querySelector('#df-7a8a0c21-8574-4432-a132-9f181991d633');\n",
              "          const dataTable =\n",
              "            await google.colab.kernel.invokeFunction('convertToInteractive',\n",
              "                                                     [key], {});\n",
              "          if (!dataTable) return;\n",
              "\n",
              "          const docLinkHtml = 'Like what you see? Visit the ' +\n",
              "            '<a target=\"_blank\" href=https://colab.research.google.com/notebooks/data_table.ipynb>data table notebook</a>'\n",
              "            + ' to learn more about interactive tables.';\n",
              "          element.innerHTML = '';\n",
              "          dataTable['output_type'] = 'display_data';\n",
              "          await google.colab.output.renderOutput(dataTable, element);\n",
              "          const docLink = document.createElement('div');\n",
              "          docLink.innerHTML = docLinkHtml;\n",
              "          element.appendChild(docLink);\n",
              "        }\n",
              "      </script>\n",
              "    </div>\n",
              "  </div>\n",
              "  "
            ]
          },
          "metadata": {},
          "execution_count": 45
        }
      ]
    },
    {
      "cell_type": "markdown",
      "source": [
        "# Save DFs to CSV files to be have cleaned data to explore on Tableau.\n"
      ],
      "metadata": {
        "id": "36wGg5oZsIc6"
      }
    },
    {
      "cell_type": "code",
      "source": [
        "# save \"renamed_beach_attr_df\" to a CSV file.\n",
        "renamed_beach_attr_df.to_csv('pre_cleaned_beach_attr.csv', index=False)"
      ],
      "metadata": {
        "id": "m0dwZsXwsH7l"
      },
      "execution_count": 46,
      "outputs": []
    },
    {
      "cell_type": "code",
      "source": [
        "# save \"renamed_water_quality_df\" to a CSV file.\n",
        "renamed_water_quality_df.to_csv('pre_cleaned_water_quality.csv', index=False)"
      ],
      "metadata": {
        "id": "wGdxYED2slVl"
      },
      "execution_count": 47,
      "outputs": []
    },
    {
      "cell_type": "code",
      "source": [
        "# save \"renamed_weather_station1\" to a CSV file.\n",
        "renamed_weather_station1_df.to_csv('pre_cleaned_weather_station1.csv', index=False)"
      ],
      "metadata": {
        "id": "pIFs_H8KtLkG"
      },
      "execution_count": 49,
      "outputs": []
    }
  ]
}